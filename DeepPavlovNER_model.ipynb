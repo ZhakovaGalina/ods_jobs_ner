{
  "cells": [
    {
      "cell_type": "code",
      "execution_count": null,
      "metadata": {
        "colab": {
          "base_uri": "https://localhost:8080/"
        },
        "id": "XHluvEk_vkRr",
        "outputId": "7095e294-3059-4cf5-c1b4-af876cbdde87"
      },
      "outputs": [
        {
          "output_type": "stream",
          "name": "stdout",
          "text": [
            "Mounted at /content/drive\n"
          ]
        }
      ],
      "source": [
        "from google.colab import drive\n",
        "drive.mount('/content/drive')"
      ]
    },
    {
      "cell_type": "code",
      "execution_count": null,
      "metadata": {
        "id": "T0ZZMSDHvnR_"
      },
      "outputs": [],
      "source": [
        "import pandas as pd\n",
        "import numpy as np"
      ]
    },
    {
      "cell_type": "code",
      "execution_count": null,
      "metadata": {
        "id": "2eAk5sUESX7h"
      },
      "outputs": [],
      "source": [
        "from deeppavlov import configs, build_model, train_model"
      ]
    },
    {
      "cell_type": "code",
      "execution_count": null,
      "metadata": {
        "id": "kaaNwZwGOudX"
      },
      "outputs": [],
      "source": [
        "from pathlib import Path"
      ]
    },
    {
      "cell_type": "code",
      "execution_count": null,
      "metadata": {
        "id": "v_h3cbcrOzjF"
      },
      "outputs": [],
      "source": [
        "config_path=Path('/content/drive/MyDrive/nlp/project/deep_pavlov/ner_ontonotes_bert_mult_torch.json')"
      ]
    },
    {
      "cell_type": "code",
      "execution_count": null,
      "metadata": {
        "colab": {
          "base_uri": "https://localhost:8080/",
          "height": 1000,
          "referenced_widgets": [
            "2f22f2be9c77415ab55eb94a1d12925f",
            "a3c6db2e6cc146d0984b35d8f2710ec4",
            "7141e4d1fe2047d09edef13dcc2da952",
            "fa2e52546c2740f58de0702321df229e",
            "307c57ac63644ee397fea038a9b28149",
            "2910f83f74a2492ebabe878189815266",
            "7ddebda2ce8c410e8bbc7a78aa4a5c89",
            "51152682d190486daa1fae19882c3197",
            "10f67d28bb4d44f9b2adb0eaec4f5f44",
            "0f543542a78c4d36a4370a8b703f1b0f",
            "5ce50fddff2241eeb0da70c5a6b07e87",
            "b3f66867beab48f49be5c4b58a477580",
            "5f503ce9344247508fbbf373d63ef239",
            "130ae85cbebd41b6ae4799b693391d27",
            "236f98b38335403d90109d6fd0257cf9",
            "1c6aa1e4fc2c473db90b6a9f96b27438",
            "aba961168b04464a83d98da730ca0fb5",
            "6a0528c56cfc476bb44490a79189b4f0",
            "b64619c0b8e9491ea6aea88285f3c8e8",
            "c035b3f0da8c4864919b26217d45ad14",
            "9778ab664ebd4ed9af7bd9d5a397cd3e",
            "b9fdb537c44944a3b607b998205797f5",
            "538f2bb10c08469f8e7a9935128f18c2",
            "5200a901598d452da988673bfc93e823",
            "86697232350b45ae8bfc7ebb05284adf",
            "d2c6a1f6ce9648c7b0ea6531c139bd0e",
            "c8540b408a4145aea1ced7e552553809",
            "3cf82388d2634c0f8ca3db8eb0eb2f23",
            "1a9ae06536844de1831f18493679869a",
            "34415ec63a284cd394a236f4c8e11ace",
            "afcc23ee0d1e4be7981075adee91cd65",
            "5652d366276b4840be7ce76b274480e0",
            "1d9a2e8dd9584e8eafb76a00702226b8",
            "4a9a0654a77246b89fec4e481c7c2282",
            "d09151f34c0a4ea4bbd56a4d57cca355",
            "8b65ca3979834379ac7ae56117610de5",
            "6793ee925c07496fababcd207e49e4a0",
            "0692c28bd242449b8faff805b375f620",
            "2785bb7b52e5477e978d8834576b080b",
            "646d5e3dcf6841c0ac7a0b8bb64d3c89",
            "c15ee1e8c9874939817931a7fedb77e7",
            "431df1acfe7c43b189650565d3c7149a",
            "9e5f7aa353054594b41603ee3779c1a1",
            "65310b9d5ce74eb8adc25cabb64d44be",
            "45fc8488d2284e9f89a65ea9b2e9ab8d",
            "6d702b91259747f5b34b5260f5653077",
            "2a598d09a61a4cb3a31125f50b4fed15",
            "87bfc9e1742b4ec7a2a53a928f574ede",
            "9c8f2860d62f41a0bc8207ad9ebc1408",
            "3f559029638346d4a3912789b5501991",
            "aabf8dd58b4147ff95060d567a343151",
            "3a2544ada3144439adc5c147a1cecdd7",
            "fbb2cc4828da4ac188f8bdf17a9dc5ba",
            "567d441750a2419083c7a0a9de3f8959",
            "f3b86f152d604d1399e7c53a5e16772e"
          ]
        },
        "id": "RGrZ3olEO4Wu",
        "outputId": "8ac39057-eb35-4354-fd4b-d6f4400e92f1"
      },
      "outputs": [
        {
          "output_type": "stream",
          "name": "stderr",
          "text": [
            "2022-05-22 10:37:41.506 INFO in 'deeppavlov.core.trainers.fit_trainer'['fit_trainer'] at line 68: TorchTrainer got additional init parameters ['pytest_max_batches', 'pytest_batch_size'] that will be ignored:\n",
            "/usr/local/lib/python3.7/dist-packages/sklearn/feature_extraction/image.py:167: DeprecationWarning: `np.int` is a deprecated alias for the builtin `int`. To silence this warning, use `int` by itself. Doing this will not modify any behavior and is safe. When replacing `np.int`, you may wish to use e.g. `np.int64` or `np.int32` to specify the precision. If you wish to review your current use, check the release note link for additional information.\n",
            "Deprecated in NumPy 1.20; for more details and guidance: https://numpy.org/devdocs/release/1.20.0-notes.html#deprecations\n",
            "  dtype=np.int):\n",
            "/usr/local/lib/python3.7/dist-packages/sklearn/linear_model/least_angle.py:30: DeprecationWarning: `np.float` is a deprecated alias for the builtin `float`. To silence this warning, use `float` by itself. Doing this will not modify any behavior and is safe. If you specifically wanted the numpy scalar type, use `np.float64` here.\n",
            "Deprecated in NumPy 1.20; for more details and guidance: https://numpy.org/devdocs/release/1.20.0-notes.html#deprecations\n",
            "  method='lar', copy_X=True, eps=np.finfo(np.float).eps,\n",
            "/usr/local/lib/python3.7/dist-packages/sklearn/linear_model/least_angle.py:167: DeprecationWarning: `np.float` is a deprecated alias for the builtin `float`. To silence this warning, use `float` by itself. Doing this will not modify any behavior and is safe. If you specifically wanted the numpy scalar type, use `np.float64` here.\n",
            "Deprecated in NumPy 1.20; for more details and guidance: https://numpy.org/devdocs/release/1.20.0-notes.html#deprecations\n",
            "  method='lar', copy_X=True, eps=np.finfo(np.float).eps,\n",
            "/usr/local/lib/python3.7/dist-packages/sklearn/linear_model/least_angle.py:284: DeprecationWarning: `np.float` is a deprecated alias for the builtin `float`. To silence this warning, use `float` by itself. Doing this will not modify any behavior and is safe. If you specifically wanted the numpy scalar type, use `np.float64` here.\n",
            "Deprecated in NumPy 1.20; for more details and guidance: https://numpy.org/devdocs/release/1.20.0-notes.html#deprecations\n",
            "  eps=np.finfo(np.float).eps, copy_Gram=True, verbose=0,\n",
            "/usr/local/lib/python3.7/dist-packages/sklearn/linear_model/least_angle.py:862: DeprecationWarning: `np.float` is a deprecated alias for the builtin `float`. To silence this warning, use `float` by itself. Doing this will not modify any behavior and is safe. If you specifically wanted the numpy scalar type, use `np.float64` here.\n",
            "Deprecated in NumPy 1.20; for more details and guidance: https://numpy.org/devdocs/release/1.20.0-notes.html#deprecations\n",
            "  eps=np.finfo(np.float).eps, copy_X=True, fit_path=True,\n",
            "/usr/local/lib/python3.7/dist-packages/sklearn/linear_model/least_angle.py:1101: DeprecationWarning: `np.float` is a deprecated alias for the builtin `float`. To silence this warning, use `float` by itself. Doing this will not modify any behavior and is safe. If you specifically wanted the numpy scalar type, use `np.float64` here.\n",
            "Deprecated in NumPy 1.20; for more details and guidance: https://numpy.org/devdocs/release/1.20.0-notes.html#deprecations\n",
            "  eps=np.finfo(np.float).eps, copy_X=True, fit_path=True,\n",
            "/usr/local/lib/python3.7/dist-packages/sklearn/linear_model/least_angle.py:1127: DeprecationWarning: `np.float` is a deprecated alias for the builtin `float`. To silence this warning, use `float` by itself. Doing this will not modify any behavior and is safe. If you specifically wanted the numpy scalar type, use `np.float64` here.\n",
            "Deprecated in NumPy 1.20; for more details and guidance: https://numpy.org/devdocs/release/1.20.0-notes.html#deprecations\n",
            "  eps=np.finfo(np.float).eps, positive=False):\n",
            "/usr/local/lib/python3.7/dist-packages/sklearn/linear_model/least_angle.py:1362: DeprecationWarning: `np.float` is a deprecated alias for the builtin `float`. To silence this warning, use `float` by itself. Doing this will not modify any behavior and is safe. If you specifically wanted the numpy scalar type, use `np.float64` here.\n",
            "Deprecated in NumPy 1.20; for more details and guidance: https://numpy.org/devdocs/release/1.20.0-notes.html#deprecations\n",
            "  max_n_alphas=1000, n_jobs=None, eps=np.finfo(np.float).eps,\n",
            "/usr/local/lib/python3.7/dist-packages/sklearn/linear_model/least_angle.py:1602: DeprecationWarning: `np.float` is a deprecated alias for the builtin `float`. To silence this warning, use `float` by itself. Doing this will not modify any behavior and is safe. If you specifically wanted the numpy scalar type, use `np.float64` here.\n",
            "Deprecated in NumPy 1.20; for more details and guidance: https://numpy.org/devdocs/release/1.20.0-notes.html#deprecations\n",
            "  max_n_alphas=1000, n_jobs=None, eps=np.finfo(np.float).eps,\n",
            "/usr/local/lib/python3.7/dist-packages/sklearn/linear_model/least_angle.py:1738: DeprecationWarning: `np.float` is a deprecated alias for the builtin `float`. To silence this warning, use `float` by itself. Doing this will not modify any behavior and is safe. If you specifically wanted the numpy scalar type, use `np.float64` here.\n",
            "Deprecated in NumPy 1.20; for more details and guidance: https://numpy.org/devdocs/release/1.20.0-notes.html#deprecations\n",
            "  eps=np.finfo(np.float).eps, copy_X=True, positive=False):\n",
            "[nltk_data] Downloading package punkt to /root/nltk_data...\n",
            "[nltk_data]   Unzipping tokenizers/punkt.zip.\n",
            "[nltk_data] Downloading package stopwords to /root/nltk_data...\n",
            "[nltk_data]   Unzipping corpora/stopwords.zip.\n",
            "[nltk_data] Downloading package perluniprops to /root/nltk_data...\n",
            "[nltk_data]   Unzipping misc/perluniprops.zip.\n",
            "[nltk_data] Downloading package nonbreaking_prefixes to\n",
            "[nltk_data]     /root/nltk_data...\n",
            "[nltk_data]   Unzipping corpora/nonbreaking_prefixes.zip.\n"
          ]
        },
        {
          "output_type": "display_data",
          "data": {
            "text/plain": [
              "Downloading:   0%|          | 0.00/29.0 [00:00<?, ?B/s]"
            ],
            "application/vnd.jupyter.widget-view+json": {
              "version_major": 2,
              "version_minor": 0,
              "model_id": "2f22f2be9c77415ab55eb94a1d12925f"
            }
          },
          "metadata": {}
        },
        {
          "output_type": "display_data",
          "data": {
            "text/plain": [
              "Downloading:   0%|          | 0.00/625 [00:00<?, ?B/s]"
            ],
            "application/vnd.jupyter.widget-view+json": {
              "version_major": 2,
              "version_minor": 0,
              "model_id": "b3f66867beab48f49be5c4b58a477580"
            }
          },
          "metadata": {}
        },
        {
          "output_type": "display_data",
          "data": {
            "text/plain": [
              "Downloading:   0%|          | 0.00/972k [00:00<?, ?B/s]"
            ],
            "application/vnd.jupyter.widget-view+json": {
              "version_major": 2,
              "version_minor": 0,
              "model_id": "538f2bb10c08469f8e7a9935128f18c2"
            }
          },
          "metadata": {}
        },
        {
          "output_type": "display_data",
          "data": {
            "text/plain": [
              "Downloading:   0%|          | 0.00/1.87M [00:00<?, ?B/s]"
            ],
            "application/vnd.jupyter.widget-view+json": {
              "version_major": 2,
              "version_minor": 0,
              "model_id": "4a9a0654a77246b89fec4e481c7c2282"
            }
          },
          "metadata": {}
        },
        {
          "output_type": "stream",
          "name": "stderr",
          "text": [
            "2022-05-22 10:37:55.155 INFO in 'deeppavlov.core.data.simple_vocab'['simple_vocab'] at line 101: [saving vocabulary to /content/drive/MyDrive/nlp/project/deep_pavlov/models/ner_ontonotes_bert_mult_torch4/bert-base-multilingual-cased/tag.dict]\n"
          ]
        },
        {
          "output_type": "display_data",
          "data": {
            "text/plain": [
              "Downloading:   0%|          | 0.00/681M [00:00<?, ?B/s]"
            ],
            "application/vnd.jupyter.widget-view+json": {
              "version_major": 2,
              "version_minor": 0,
              "model_id": "45fc8488d2284e9f89a65ea9b2e9ab8d"
            }
          },
          "metadata": {}
        },
        {
          "output_type": "stream",
          "name": "stderr",
          "text": [
            "Some weights of the model checkpoint at bert-base-multilingual-cased were not used when initializing BertForTokenClassification: ['cls.predictions.bias', 'cls.predictions.transform.LayerNorm.bias', 'cls.predictions.transform.LayerNorm.weight', 'cls.seq_relationship.weight', 'cls.predictions.transform.dense.bias', 'cls.predictions.decoder.weight', 'cls.predictions.transform.dense.weight', 'cls.seq_relationship.bias']\n",
            "- This IS expected if you are initializing BertForTokenClassification from the checkpoint of a model trained on another task or with another architecture (e.g. initializing a BertForSequenceClassification model from a BertForPreTraining model).\n",
            "- This IS NOT expected if you are initializing BertForTokenClassification from the checkpoint of a model that you expect to be exactly identical (initializing a BertForSequenceClassification model from a BertForSequenceClassification model).\n",
            "Some weights of BertForTokenClassification were not initialized from the model checkpoint at bert-base-multilingual-cased and are newly initialized: ['classifier.weight', 'classifier.bias']\n",
            "You should probably TRAIN this model on a down-stream task to be able to use it for predictions and inference.\n",
            "2022-05-22 10:38:27.82 INFO in 'deeppavlov.models.torch_bert.torch_transformers_sequence_tagger'['torch_transformers_sequence_tagger'] at line 360: Load path /content/drive/MyDrive/nlp/project/deep_pavlov/models/ner_ontonotes_bert_mult_torch4/bert-base-multilingual-cased/model is given.\n",
            "2022-05-22 10:38:27.85 INFO in 'deeppavlov.models.torch_bert.torch_transformers_sequence_tagger'['torch_transformers_sequence_tagger'] at line 377: Init from scratch. Load path /content/drive/MyDrive/nlp/project/deep_pavlov/models/ner_ontonotes_bert_mult_torch4/bert-base-multilingual-cased/model.pth.tar does not exist.\n",
            "2022-05-22 10:38:27.90 INFO in 'deeppavlov.core.models.torch_model'['torch_model'] at line 102: Model was successfully initialized! Model summary:\n",
            " BertForTokenClassification(\n",
            "  (bert): BertModel(\n",
            "    (embeddings): BertEmbeddings(\n",
            "      (word_embeddings): Embedding(119547, 768, padding_idx=0)\n",
            "      (position_embeddings): Embedding(512, 768)\n",
            "      (token_type_embeddings): Embedding(2, 768)\n",
            "      (LayerNorm): LayerNorm((768,), eps=1e-12, elementwise_affine=True)\n",
            "      (dropout): Dropout(p=0.1, inplace=False)\n",
            "    )\n",
            "    (encoder): BertEncoder(\n",
            "      (layer): ModuleList(\n",
            "        (0): BertLayer(\n",
            "          (attention): BertAttention(\n",
            "            (self): BertSelfAttention(\n",
            "              (query): Linear(in_features=768, out_features=768, bias=True)\n",
            "              (key): Linear(in_features=768, out_features=768, bias=True)\n",
            "              (value): Linear(in_features=768, out_features=768, bias=True)\n",
            "              (dropout): Dropout(p=0.1, inplace=False)\n",
            "            )\n",
            "            (output): BertSelfOutput(\n",
            "              (dense): Linear(in_features=768, out_features=768, bias=True)\n",
            "              (LayerNorm): LayerNorm((768,), eps=1e-12, elementwise_affine=True)\n",
            "              (dropout): Dropout(p=0.1, inplace=False)\n",
            "            )\n",
            "          )\n",
            "          (intermediate): BertIntermediate(\n",
            "            (dense): Linear(in_features=768, out_features=3072, bias=True)\n",
            "            (intermediate_act_fn): GELUActivation()\n",
            "          )\n",
            "          (output): BertOutput(\n",
            "            (dense): Linear(in_features=3072, out_features=768, bias=True)\n",
            "            (LayerNorm): LayerNorm((768,), eps=1e-12, elementwise_affine=True)\n",
            "            (dropout): Dropout(p=0.1, inplace=False)\n",
            "          )\n",
            "        )\n",
            "        (1): BertLayer(\n",
            "          (attention): BertAttention(\n",
            "            (self): BertSelfAttention(\n",
            "              (query): Linear(in_features=768, out_features=768, bias=True)\n",
            "              (key): Linear(in_features=768, out_features=768, bias=True)\n",
            "              (value): Linear(in_features=768, out_features=768, bias=True)\n",
            "              (dropout): Dropout(p=0.1, inplace=False)\n",
            "            )\n",
            "            (output): BertSelfOutput(\n",
            "              (dense): Linear(in_features=768, out_features=768, bias=True)\n",
            "              (LayerNorm): LayerNorm((768,), eps=1e-12, elementwise_affine=True)\n",
            "              (dropout): Dropout(p=0.1, inplace=False)\n",
            "            )\n",
            "          )\n",
            "          (intermediate): BertIntermediate(\n",
            "            (dense): Linear(in_features=768, out_features=3072, bias=True)\n",
            "            (intermediate_act_fn): GELUActivation()\n",
            "          )\n",
            "          (output): BertOutput(\n",
            "            (dense): Linear(in_features=3072, out_features=768, bias=True)\n",
            "            (LayerNorm): LayerNorm((768,), eps=1e-12, elementwise_affine=True)\n",
            "            (dropout): Dropout(p=0.1, inplace=False)\n",
            "          )\n",
            "        )\n",
            "        (2): BertLayer(\n",
            "          (attention): BertAttention(\n",
            "            (self): BertSelfAttention(\n",
            "              (query): Linear(in_features=768, out_features=768, bias=True)\n",
            "              (key): Linear(in_features=768, out_features=768, bias=True)\n",
            "              (value): Linear(in_features=768, out_features=768, bias=True)\n",
            "              (dropout): Dropout(p=0.1, inplace=False)\n",
            "            )\n",
            "            (output): BertSelfOutput(\n",
            "              (dense): Linear(in_features=768, out_features=768, bias=True)\n",
            "              (LayerNorm): LayerNorm((768,), eps=1e-12, elementwise_affine=True)\n",
            "              (dropout): Dropout(p=0.1, inplace=False)\n",
            "            )\n",
            "          )\n",
            "          (intermediate): BertIntermediate(\n",
            "            (dense): Linear(in_features=768, out_features=3072, bias=True)\n",
            "            (intermediate_act_fn): GELUActivation()\n",
            "          )\n",
            "          (output): BertOutput(\n",
            "            (dense): Linear(in_features=3072, out_features=768, bias=True)\n",
            "            (LayerNorm): LayerNorm((768,), eps=1e-12, elementwise_affine=True)\n",
            "            (dropout): Dropout(p=0.1, inplace=False)\n",
            "          )\n",
            "        )\n",
            "        (3): BertLayer(\n",
            "          (attention): BertAttention(\n",
            "            (self): BertSelfAttention(\n",
            "              (query): Linear(in_features=768, out_features=768, bias=True)\n",
            "              (key): Linear(in_features=768, out_features=768, bias=True)\n",
            "              (value): Linear(in_features=768, out_features=768, bias=True)\n",
            "              (dropout): Dropout(p=0.1, inplace=False)\n",
            "            )\n",
            "            (output): BertSelfOutput(\n",
            "              (dense): Linear(in_features=768, out_features=768, bias=True)\n",
            "              (LayerNorm): LayerNorm((768,), eps=1e-12, elementwise_affine=True)\n",
            "              (dropout): Dropout(p=0.1, inplace=False)\n",
            "            )\n",
            "          )\n",
            "          (intermediate): BertIntermediate(\n",
            "            (dense): Linear(in_features=768, out_features=3072, bias=True)\n",
            "            (intermediate_act_fn): GELUActivation()\n",
            "          )\n",
            "          (output): BertOutput(\n",
            "            (dense): Linear(in_features=3072, out_features=768, bias=True)\n",
            "            (LayerNorm): LayerNorm((768,), eps=1e-12, elementwise_affine=True)\n",
            "            (dropout): Dropout(p=0.1, inplace=False)\n",
            "          )\n",
            "        )\n",
            "        (4): BertLayer(\n",
            "          (attention): BertAttention(\n",
            "            (self): BertSelfAttention(\n",
            "              (query): Linear(in_features=768, out_features=768, bias=True)\n",
            "              (key): Linear(in_features=768, out_features=768, bias=True)\n",
            "              (value): Linear(in_features=768, out_features=768, bias=True)\n",
            "              (dropout): Dropout(p=0.1, inplace=False)\n",
            "            )\n",
            "            (output): BertSelfOutput(\n",
            "              (dense): Linear(in_features=768, out_features=768, bias=True)\n",
            "              (LayerNorm): LayerNorm((768,), eps=1e-12, elementwise_affine=True)\n",
            "              (dropout): Dropout(p=0.1, inplace=False)\n",
            "            )\n",
            "          )\n",
            "          (intermediate): BertIntermediate(\n",
            "            (dense): Linear(in_features=768, out_features=3072, bias=True)\n",
            "            (intermediate_act_fn): GELUActivation()\n",
            "          )\n",
            "          (output): BertOutput(\n",
            "            (dense): Linear(in_features=3072, out_features=768, bias=True)\n",
            "            (LayerNorm): LayerNorm((768,), eps=1e-12, elementwise_affine=True)\n",
            "            (dropout): Dropout(p=0.1, inplace=False)\n",
            "          )\n",
            "        )\n",
            "        (5): BertLayer(\n",
            "          (attention): BertAttention(\n",
            "            (self): BertSelfAttention(\n",
            "              (query): Linear(in_features=768, out_features=768, bias=True)\n",
            "              (key): Linear(in_features=768, out_features=768, bias=True)\n",
            "              (value): Linear(in_features=768, out_features=768, bias=True)\n",
            "              (dropout): Dropout(p=0.1, inplace=False)\n",
            "            )\n",
            "            (output): BertSelfOutput(\n",
            "              (dense): Linear(in_features=768, out_features=768, bias=True)\n",
            "              (LayerNorm): LayerNorm((768,), eps=1e-12, elementwise_affine=True)\n",
            "              (dropout): Dropout(p=0.1, inplace=False)\n",
            "            )\n",
            "          )\n",
            "          (intermediate): BertIntermediate(\n",
            "            (dense): Linear(in_features=768, out_features=3072, bias=True)\n",
            "            (intermediate_act_fn): GELUActivation()\n",
            "          )\n",
            "          (output): BertOutput(\n",
            "            (dense): Linear(in_features=3072, out_features=768, bias=True)\n",
            "            (LayerNorm): LayerNorm((768,), eps=1e-12, elementwise_affine=True)\n",
            "            (dropout): Dropout(p=0.1, inplace=False)\n",
            "          )\n",
            "        )\n",
            "        (6): BertLayer(\n",
            "          (attention): BertAttention(\n",
            "            (self): BertSelfAttention(\n",
            "              (query): Linear(in_features=768, out_features=768, bias=True)\n",
            "              (key): Linear(in_features=768, out_features=768, bias=True)\n",
            "              (value): Linear(in_features=768, out_features=768, bias=True)\n",
            "              (dropout): Dropout(p=0.1, inplace=False)\n",
            "            )\n",
            "            (output): BertSelfOutput(\n",
            "              (dense): Linear(in_features=768, out_features=768, bias=True)\n",
            "              (LayerNorm): LayerNorm((768,), eps=1e-12, elementwise_affine=True)\n",
            "              (dropout): Dropout(p=0.1, inplace=False)\n",
            "            )\n",
            "          )\n",
            "          (intermediate): BertIntermediate(\n",
            "            (dense): Linear(in_features=768, out_features=3072, bias=True)\n",
            "            (intermediate_act_fn): GELUActivation()\n",
            "          )\n",
            "          (output): BertOutput(\n",
            "            (dense): Linear(in_features=3072, out_features=768, bias=True)\n",
            "            (LayerNorm): LayerNorm((768,), eps=1e-12, elementwise_affine=True)\n",
            "            (dropout): Dropout(p=0.1, inplace=False)\n",
            "          )\n",
            "        )\n",
            "        (7): BertLayer(\n",
            "          (attention): BertAttention(\n",
            "            (self): BertSelfAttention(\n",
            "              (query): Linear(in_features=768, out_features=768, bias=True)\n",
            "              (key): Linear(in_features=768, out_features=768, bias=True)\n",
            "              (value): Linear(in_features=768, out_features=768, bias=True)\n",
            "              (dropout): Dropout(p=0.1, inplace=False)\n",
            "            )\n",
            "            (output): BertSelfOutput(\n",
            "              (dense): Linear(in_features=768, out_features=768, bias=True)\n",
            "              (LayerNorm): LayerNorm((768,), eps=1e-12, elementwise_affine=True)\n",
            "              (dropout): Dropout(p=0.1, inplace=False)\n",
            "            )\n",
            "          )\n",
            "          (intermediate): BertIntermediate(\n",
            "            (dense): Linear(in_features=768, out_features=3072, bias=True)\n",
            "            (intermediate_act_fn): GELUActivation()\n",
            "          )\n",
            "          (output): BertOutput(\n",
            "            (dense): Linear(in_features=3072, out_features=768, bias=True)\n",
            "            (LayerNorm): LayerNorm((768,), eps=1e-12, elementwise_affine=True)\n",
            "            (dropout): Dropout(p=0.1, inplace=False)\n",
            "          )\n",
            "        )\n",
            "        (8): BertLayer(\n",
            "          (attention): BertAttention(\n",
            "            (self): BertSelfAttention(\n",
            "              (query): Linear(in_features=768, out_features=768, bias=True)\n",
            "              (key): Linear(in_features=768, out_features=768, bias=True)\n",
            "              (value): Linear(in_features=768, out_features=768, bias=True)\n",
            "              (dropout): Dropout(p=0.1, inplace=False)\n",
            "            )\n",
            "            (output): BertSelfOutput(\n",
            "              (dense): Linear(in_features=768, out_features=768, bias=True)\n",
            "              (LayerNorm): LayerNorm((768,), eps=1e-12, elementwise_affine=True)\n",
            "              (dropout): Dropout(p=0.1, inplace=False)\n",
            "            )\n",
            "          )\n",
            "          (intermediate): BertIntermediate(\n",
            "            (dense): Linear(in_features=768, out_features=3072, bias=True)\n",
            "            (intermediate_act_fn): GELUActivation()\n",
            "          )\n",
            "          (output): BertOutput(\n",
            "            (dense): Linear(in_features=3072, out_features=768, bias=True)\n",
            "            (LayerNorm): LayerNorm((768,), eps=1e-12, elementwise_affine=True)\n",
            "            (dropout): Dropout(p=0.1, inplace=False)\n",
            "          )\n",
            "        )\n",
            "        (9): BertLayer(\n",
            "          (attention): BertAttention(\n",
            "            (self): BertSelfAttention(\n",
            "              (query): Linear(in_features=768, out_features=768, bias=True)\n",
            "              (key): Linear(in_features=768, out_features=768, bias=True)\n",
            "              (value): Linear(in_features=768, out_features=768, bias=True)\n",
            "              (dropout): Dropout(p=0.1, inplace=False)\n",
            "            )\n",
            "            (output): BertSelfOutput(\n",
            "              (dense): Linear(in_features=768, out_features=768, bias=True)\n",
            "              (LayerNorm): LayerNorm((768,), eps=1e-12, elementwise_affine=True)\n",
            "              (dropout): Dropout(p=0.1, inplace=False)\n",
            "            )\n",
            "          )\n",
            "          (intermediate): BertIntermediate(\n",
            "            (dense): Linear(in_features=768, out_features=3072, bias=True)\n",
            "            (intermediate_act_fn): GELUActivation()\n",
            "          )\n",
            "          (output): BertOutput(\n",
            "            (dense): Linear(in_features=3072, out_features=768, bias=True)\n",
            "            (LayerNorm): LayerNorm((768,), eps=1e-12, elementwise_affine=True)\n",
            "            (dropout): Dropout(p=0.1, inplace=False)\n",
            "          )\n",
            "        )\n",
            "        (10): BertLayer(\n",
            "          (attention): BertAttention(\n",
            "            (self): BertSelfAttention(\n",
            "              (query): Linear(in_features=768, out_features=768, bias=True)\n",
            "              (key): Linear(in_features=768, out_features=768, bias=True)\n",
            "              (value): Linear(in_features=768, out_features=768, bias=True)\n",
            "              (dropout): Dropout(p=0.1, inplace=False)\n",
            "            )\n",
            "            (output): BertSelfOutput(\n",
            "              (dense): Linear(in_features=768, out_features=768, bias=True)\n",
            "              (LayerNorm): LayerNorm((768,), eps=1e-12, elementwise_affine=True)\n",
            "              (dropout): Dropout(p=0.1, inplace=False)\n",
            "            )\n",
            "          )\n",
            "          (intermediate): BertIntermediate(\n",
            "            (dense): Linear(in_features=768, out_features=3072, bias=True)\n",
            "            (intermediate_act_fn): GELUActivation()\n",
            "          )\n",
            "          (output): BertOutput(\n",
            "            (dense): Linear(in_features=3072, out_features=768, bias=True)\n",
            "            (LayerNorm): LayerNorm((768,), eps=1e-12, elementwise_affine=True)\n",
            "            (dropout): Dropout(p=0.1, inplace=False)\n",
            "          )\n",
            "        )\n",
            "        (11): BertLayer(\n",
            "          (attention): BertAttention(\n",
            "            (self): BertSelfAttention(\n",
            "              (query): Linear(in_features=768, out_features=768, bias=True)\n",
            "              (key): Linear(in_features=768, out_features=768, bias=True)\n",
            "              (value): Linear(in_features=768, out_features=768, bias=True)\n",
            "              (dropout): Dropout(p=0.1, inplace=False)\n",
            "            )\n",
            "            (output): BertSelfOutput(\n",
            "              (dense): Linear(in_features=768, out_features=768, bias=True)\n",
            "              (LayerNorm): LayerNorm((768,), eps=1e-12, elementwise_affine=True)\n",
            "              (dropout): Dropout(p=0.1, inplace=False)\n",
            "            )\n",
            "          )\n",
            "          (intermediate): BertIntermediate(\n",
            "            (dense): Linear(in_features=768, out_features=3072, bias=True)\n",
            "            (intermediate_act_fn): GELUActivation()\n",
            "          )\n",
            "          (output): BertOutput(\n",
            "            (dense): Linear(in_features=3072, out_features=768, bias=True)\n",
            "            (LayerNorm): LayerNorm((768,), eps=1e-12, elementwise_affine=True)\n",
            "            (dropout): Dropout(p=0.1, inplace=False)\n",
            "          )\n",
            "        )\n",
            "      )\n",
            "    )\n",
            "  )\n",
            "  (dropout): Dropout(p=0.1, inplace=False)\n",
            "  (classifier): Linear(in_features=768, out_features=9, bias=True)\n",
            ")\n",
            "2022-05-22 10:38:32.537 INFO in 'deeppavlov.core.trainers.nn_trainer'['nn_trainer'] at line 199: Initial best ner_f1 of 0.1474\n"
          ]
        },
        {
          "output_type": "stream",
          "name": "stdout",
          "text": [
            "{\"valid\": {\"eval_examples_count\": 1522, \"metrics\": {\"ner_f1\": 0.1474, \"ner_token_f1\": 1.3256}, \"time_spent\": \"0:00:06\", \"epochs_done\": 0, \"batches_seen\": 0, \"train_examples_seen\": 0, \"impatience\": 0, \"patience_limit\": 100}}\n",
            "{\"train\": {\"eval_examples_count\": 10, \"metrics\": {\"ner_f1\": 0, \"ner_token_f1\": 0}, \"time_spent\": \"0:00:09\", \"epochs_done\": 0, \"batches_seen\": 20, \"train_examples_seen\": 200, \"loss\": 0.4082758810836822}}\n"
          ]
        },
        {
          "output_type": "stream",
          "name": "stderr",
          "text": [
            "2022-05-22 10:38:40.707 INFO in 'deeppavlov.core.trainers.nn_trainer'['nn_trainer'] at line 212: Did not improve on the ner_f1 of 0.1474\n"
          ]
        },
        {
          "output_type": "stream",
          "name": "stdout",
          "text": [
            "{\"valid\": {\"eval_examples_count\": 1522, \"metrics\": {\"ner_f1\": 0, \"ner_token_f1\": 0}, \"time_spent\": \"0:00:14\", \"epochs_done\": 0, \"batches_seen\": 20, \"train_examples_seen\": 200, \"impatience\": 1, \"patience_limit\": 100}}\n",
            "{\"train\": {\"eval_examples_count\": 10, \"metrics\": {\"ner_f1\": 0, \"ner_token_f1\": 0}, \"time_spent\": \"0:00:17\", \"epochs_done\": 0, \"batches_seen\": 40, \"train_examples_seen\": 400, \"loss\": 0.1207446884829551}}\n"
          ]
        },
        {
          "output_type": "stream",
          "name": "stderr",
          "text": [
            "2022-05-22 10:38:48.787 INFO in 'deeppavlov.core.trainers.nn_trainer'['nn_trainer'] at line 212: Did not improve on the ner_f1 of 0.1474\n"
          ]
        },
        {
          "output_type": "stream",
          "name": "stdout",
          "text": [
            "{\"valid\": {\"eval_examples_count\": 1522, \"metrics\": {\"ner_f1\": 0, \"ner_token_f1\": 0}, \"time_spent\": \"0:00:22\", \"epochs_done\": 0, \"batches_seen\": 40, \"train_examples_seen\": 400, \"impatience\": 2, \"patience_limit\": 100}}\n",
            "{\"train\": {\"eval_examples_count\": 10, \"metrics\": {\"ner_f1\": 0, \"ner_token_f1\": 0}, \"time_spent\": \"0:00:26\", \"epochs_done\": 0, \"batches_seen\": 60, \"train_examples_seen\": 600, \"loss\": 0.08540371945127845}}\n"
          ]
        },
        {
          "output_type": "stream",
          "name": "stderr",
          "text": [
            "2022-05-22 10:38:57.86 INFO in 'deeppavlov.core.trainers.nn_trainer'['nn_trainer'] at line 212: Did not improve on the ner_f1 of 0.1474\n"
          ]
        },
        {
          "output_type": "stream",
          "name": "stdout",
          "text": [
            "{\"valid\": {\"eval_examples_count\": 1522, \"metrics\": {\"ner_f1\": 0, \"ner_token_f1\": 0}, \"time_spent\": \"0:00:30\", \"epochs_done\": 0, \"batches_seen\": 60, \"train_examples_seen\": 600, \"impatience\": 3, \"patience_limit\": 100}}\n",
            "{\"train\": {\"eval_examples_count\": 10, \"metrics\": {\"ner_f1\": 0, \"ner_token_f1\": 0}, \"time_spent\": \"0:00:34\", \"epochs_done\": 0, \"batches_seen\": 80, \"train_examples_seen\": 800, \"loss\": 0.1607745062094182}}\n"
          ]
        },
        {
          "output_type": "stream",
          "name": "stderr",
          "text": [
            "2022-05-22 10:39:05.177 INFO in 'deeppavlov.core.trainers.nn_trainer'['nn_trainer'] at line 212: Did not improve on the ner_f1 of 0.1474\n"
          ]
        },
        {
          "output_type": "stream",
          "name": "stdout",
          "text": [
            "{\"valid\": {\"eval_examples_count\": 1522, \"metrics\": {\"ner_f1\": 0, \"ner_token_f1\": 0}, \"time_spent\": \"0:00:39\", \"epochs_done\": 0, \"batches_seen\": 80, \"train_examples_seen\": 800, \"impatience\": 4, \"patience_limit\": 100}}\n",
            "{\"train\": {\"eval_examples_count\": 10, \"metrics\": {\"ner_f1\": 0, \"ner_token_f1\": 0}, \"time_spent\": \"0:00:42\", \"epochs_done\": 0, \"batches_seen\": 100, \"train_examples_seen\": 1000, \"loss\": 0.10384661299176515}}\n"
          ]
        },
        {
          "output_type": "stream",
          "name": "stderr",
          "text": [
            "2022-05-22 10:39:13.424 INFO in 'deeppavlov.core.trainers.nn_trainer'['nn_trainer'] at line 212: Did not improve on the ner_f1 of 0.1474\n"
          ]
        },
        {
          "output_type": "stream",
          "name": "stdout",
          "text": [
            "{\"valid\": {\"eval_examples_count\": 1522, \"metrics\": {\"ner_f1\": 0, \"ner_token_f1\": 0}, \"time_spent\": \"0:00:47\", \"epochs_done\": 0, \"batches_seen\": 100, \"train_examples_seen\": 1000, \"impatience\": 5, \"patience_limit\": 100}}\n",
            "{\"train\": {\"eval_examples_count\": 10, \"metrics\": {\"ner_f1\": 0, \"ner_token_f1\": 0}, \"time_spent\": \"0:00:50\", \"epochs_done\": 0, \"batches_seen\": 120, \"train_examples_seen\": 1200, \"loss\": 0.06310407704440876}}\n"
          ]
        },
        {
          "output_type": "stream",
          "name": "stderr",
          "text": [
            "2022-05-22 10:39:21.665 INFO in 'deeppavlov.core.trainers.nn_trainer'['nn_trainer'] at line 207: Improved best ner_f1 from 0.1474 to 1.8809\n",
            "2022-05-22 10:39:21.666 INFO in 'deeppavlov.core.trainers.nn_trainer'['nn_trainer'] at line 209: Saving model\n",
            "2022-05-22 10:39:21.674 INFO in 'deeppavlov.core.models.torch_model'['torch_model'] at line 195: Saving model to /content/drive/MyDrive/nlp/project/deep_pavlov/models/ner_ontonotes_bert_mult_torch4/bert-base-multilingual-cased/model.pth.tar.\n"
          ]
        },
        {
          "output_type": "stream",
          "name": "stdout",
          "text": [
            "{\"valid\": {\"eval_examples_count\": 1522, \"metrics\": {\"ner_f1\": 1.8809, \"ner_token_f1\": 9.9125}, \"time_spent\": \"0:00:55\", \"epochs_done\": 0, \"batches_seen\": 120, \"train_examples_seen\": 1200, \"impatience\": 0, \"patience_limit\": 100}}\n",
            "{\"train\": {\"eval_examples_count\": 10, \"metrics\": {\"ner_f1\": 0, \"ner_token_f1\": 0}, \"time_spent\": \"0:01:09\", \"epochs_done\": 0, \"batches_seen\": 140, \"train_examples_seen\": 1400, \"loss\": 0.05384825736982748}}\n"
          ]
        },
        {
          "output_type": "stream",
          "name": "stderr",
          "text": [
            "2022-05-22 10:39:40.955 INFO in 'deeppavlov.core.trainers.nn_trainer'['nn_trainer'] at line 207: Improved best ner_f1 from 1.8809 to 10.7843\n",
            "2022-05-22 10:39:40.956 INFO in 'deeppavlov.core.trainers.nn_trainer'['nn_trainer'] at line 209: Saving model\n",
            "2022-05-22 10:39:40.961 INFO in 'deeppavlov.core.models.torch_model'['torch_model'] at line 195: Saving model to /content/drive/MyDrive/nlp/project/deep_pavlov/models/ner_ontonotes_bert_mult_torch4/bert-base-multilingual-cased/model.pth.tar.\n"
          ]
        },
        {
          "output_type": "stream",
          "name": "stdout",
          "text": [
            "{\"valid\": {\"eval_examples_count\": 1522, \"metrics\": {\"ner_f1\": 10.7843, \"ner_token_f1\": 48.5019}, \"time_spent\": \"0:01:14\", \"epochs_done\": 0, \"batches_seen\": 140, \"train_examples_seen\": 1400, \"impatience\": 0, \"patience_limit\": 100}}\n",
            "{\"train\": {\"eval_examples_count\": 10, \"metrics\": {\"ner_f1\": 100.0, \"ner_token_f1\": 100.0}, \"time_spent\": \"0:01:28\", \"epochs_done\": 0, \"batches_seen\": 160, \"train_examples_seen\": 1600, \"loss\": 0.06122274262597784}}\n"
          ]
        },
        {
          "output_type": "stream",
          "name": "stderr",
          "text": [
            "2022-05-22 10:40:00.106 INFO in 'deeppavlov.core.trainers.nn_trainer'['nn_trainer'] at line 207: Improved best ner_f1 from 10.7843 to 16.7883\n",
            "2022-05-22 10:40:00.111 INFO in 'deeppavlov.core.trainers.nn_trainer'['nn_trainer'] at line 209: Saving model\n",
            "2022-05-22 10:40:00.120 INFO in 'deeppavlov.core.models.torch_model'['torch_model'] at line 195: Saving model to /content/drive/MyDrive/nlp/project/deep_pavlov/models/ner_ontonotes_bert_mult_torch4/bert-base-multilingual-cased/model.pth.tar.\n"
          ]
        },
        {
          "output_type": "stream",
          "name": "stdout",
          "text": [
            "{\"valid\": {\"eval_examples_count\": 1522, \"metrics\": {\"ner_f1\": 16.7883, \"ner_token_f1\": 47.1338}, \"time_spent\": \"0:01:34\", \"epochs_done\": 0, \"batches_seen\": 160, \"train_examples_seen\": 1600, \"impatience\": 0, \"patience_limit\": 100}}\n",
            "{\"train\": {\"eval_examples_count\": 10, \"metrics\": {\"ner_f1\": 0, \"ner_token_f1\": 44.4444}, \"time_spent\": \"0:01:48\", \"epochs_done\": 0, \"batches_seen\": 180, \"train_examples_seen\": 1800, \"loss\": 0.04177662168513052}}\n"
          ]
        },
        {
          "output_type": "stream",
          "name": "stderr",
          "text": [
            "2022-05-22 10:40:21.483 INFO in 'deeppavlov.core.trainers.nn_trainer'['nn_trainer'] at line 207: Improved best ner_f1 from 16.7883 to 25.2396\n",
            "2022-05-22 10:40:21.485 INFO in 'deeppavlov.core.trainers.nn_trainer'['nn_trainer'] at line 209: Saving model\n",
            "2022-05-22 10:40:21.495 INFO in 'deeppavlov.core.models.torch_model'['torch_model'] at line 195: Saving model to /content/drive/MyDrive/nlp/project/deep_pavlov/models/ner_ontonotes_bert_mult_torch4/bert-base-multilingual-cased/model.pth.tar.\n"
          ]
        },
        {
          "output_type": "stream",
          "name": "stdout",
          "text": [
            "{\"valid\": {\"eval_examples_count\": 1522, \"metrics\": {\"ner_f1\": 25.2396, \"ner_token_f1\": 52.1008}, \"time_spent\": \"0:01:55\", \"epochs_done\": 0, \"batches_seen\": 180, \"train_examples_seen\": 1800, \"impatience\": 0, \"patience_limit\": 100}}\n",
            "{\"train\": {\"eval_examples_count\": 10, \"metrics\": {\"ner_f1\": 0, \"ner_token_f1\": 0}, \"time_spent\": \"0:02:09\", \"epochs_done\": 0, \"batches_seen\": 200, \"train_examples_seen\": 2000, \"loss\": 0.032841473974986005}}\n"
          ]
        },
        {
          "output_type": "stream",
          "name": "stderr",
          "text": [
            "2022-05-22 10:40:41.821 INFO in 'deeppavlov.core.trainers.nn_trainer'['nn_trainer'] at line 207: Improved best ner_f1 from 25.2396 to 28.6184\n",
            "2022-05-22 10:40:41.823 INFO in 'deeppavlov.core.trainers.nn_trainer'['nn_trainer'] at line 209: Saving model\n",
            "2022-05-22 10:40:41.832 INFO in 'deeppavlov.core.models.torch_model'['torch_model'] at line 195: Saving model to /content/drive/MyDrive/nlp/project/deep_pavlov/models/ner_ontonotes_bert_mult_torch4/bert-base-multilingual-cased/model.pth.tar.\n"
          ]
        },
        {
          "output_type": "stream",
          "name": "stdout",
          "text": [
            "{\"valid\": {\"eval_examples_count\": 1522, \"metrics\": {\"ner_f1\": 28.6184, \"ner_token_f1\": 53.81}, \"time_spent\": \"0:02:15\", \"epochs_done\": 0, \"batches_seen\": 200, \"train_examples_seen\": 2000, \"impatience\": 0, \"patience_limit\": 100}}\n",
            "{\"train\": {\"eval_examples_count\": 10, \"metrics\": {\"ner_f1\": 0, \"ner_token_f1\": 66.6667}, \"time_spent\": \"0:02:29\", \"epochs_done\": 0, \"batches_seen\": 220, \"train_examples_seen\": 2200, \"loss\": 0.03118228386156261}}\n"
          ]
        },
        {
          "output_type": "stream",
          "name": "stderr",
          "text": [
            "2022-05-22 10:41:02.645 INFO in 'deeppavlov.core.trainers.nn_trainer'['nn_trainer'] at line 212: Did not improve on the ner_f1 of 28.6184\n"
          ]
        },
        {
          "output_type": "stream",
          "name": "stdout",
          "text": [
            "{\"valid\": {\"eval_examples_count\": 1522, \"metrics\": {\"ner_f1\": 23.1729, \"ner_token_f1\": 52.9931}, \"time_spent\": \"0:02:36\", \"epochs_done\": 0, \"batches_seen\": 220, \"train_examples_seen\": 2200, \"impatience\": 1, \"patience_limit\": 100}}\n",
            "{\"train\": {\"eval_examples_count\": 10, \"metrics\": {\"ner_f1\": 0, \"ner_token_f1\": 0}, \"time_spent\": \"0:02:40\", \"epochs_done\": 0, \"batches_seen\": 240, \"train_examples_seen\": 2400, \"loss\": 0.05031429976224899}}\n"
          ]
        },
        {
          "output_type": "stream",
          "name": "stderr",
          "text": [
            "2022-05-22 10:41:12.967 INFO in 'deeppavlov.core.trainers.nn_trainer'['nn_trainer'] at line 207: Improved best ner_f1 from 28.6184 to 33.2773\n",
            "2022-05-22 10:41:12.968 INFO in 'deeppavlov.core.trainers.nn_trainer'['nn_trainer'] at line 209: Saving model\n",
            "2022-05-22 10:41:12.975 INFO in 'deeppavlov.core.models.torch_model'['torch_model'] at line 195: Saving model to /content/drive/MyDrive/nlp/project/deep_pavlov/models/ner_ontonotes_bert_mult_torch4/bert-base-multilingual-cased/model.pth.tar.\n"
          ]
        },
        {
          "output_type": "stream",
          "name": "stdout",
          "text": [
            "{\"valid\": {\"eval_examples_count\": 1522, \"metrics\": {\"ner_f1\": 33.2773, \"ner_token_f1\": 61.1159}, \"time_spent\": \"0:02:46\", \"epochs_done\": 0, \"batches_seen\": 240, \"train_examples_seen\": 2400, \"impatience\": 0, \"patience_limit\": 100}}\n",
            "{\"train\": {\"eval_examples_count\": 10, \"metrics\": {\"ner_f1\": 0, \"ner_token_f1\": 0}, \"time_spent\": \"0:03:01\", \"epochs_done\": 0, \"batches_seen\": 260, \"train_examples_seen\": 2600, \"loss\": 0.033096485192072575}}\n"
          ]
        },
        {
          "output_type": "stream",
          "name": "stderr",
          "text": [
            "2022-05-22 10:41:33.325 INFO in 'deeppavlov.core.trainers.nn_trainer'['nn_trainer'] at line 212: Did not improve on the ner_f1 of 33.2773\n"
          ]
        },
        {
          "output_type": "stream",
          "name": "stdout",
          "text": [
            "{\"valid\": {\"eval_examples_count\": 1522, \"metrics\": {\"ner_f1\": 26.4249, \"ner_token_f1\": 62.9659}, \"time_spent\": \"0:03:07\", \"epochs_done\": 0, \"batches_seen\": 260, \"train_examples_seen\": 2600, \"impatience\": 1, \"patience_limit\": 100}}\n",
            "{\"train\": {\"eval_examples_count\": 10, \"metrics\": {\"ner_f1\": 0, \"ner_token_f1\": 88.8889}, \"time_spent\": \"0:03:10\", \"epochs_done\": 0, \"batches_seen\": 280, \"train_examples_seen\": 2800, \"loss\": 0.04810379829723388}}\n"
          ]
        },
        {
          "output_type": "stream",
          "name": "stderr",
          "text": [
            "2022-05-22 10:41:44.266 INFO in 'deeppavlov.core.trainers.nn_trainer'['nn_trainer'] at line 212: Did not improve on the ner_f1 of 33.2773\n"
          ]
        },
        {
          "output_type": "stream",
          "name": "stdout",
          "text": [
            "{\"valid\": {\"eval_examples_count\": 1522, \"metrics\": {\"ner_f1\": 29.2063, \"ner_token_f1\": 59.2871}, \"time_spent\": \"0:03:18\", \"epochs_done\": 0, \"batches_seen\": 280, \"train_examples_seen\": 2800, \"impatience\": 2, \"patience_limit\": 100}}\n",
            "{\"train\": {\"eval_examples_count\": 10, \"metrics\": {\"ner_f1\": 22.2222, \"ner_token_f1\": 36.3636}, \"time_spent\": \"0:03:21\", \"epochs_done\": 0, \"batches_seen\": 300, \"train_examples_seen\": 3000, \"loss\": 0.04591180296847597}}\n"
          ]
        },
        {
          "output_type": "stream",
          "name": "stderr",
          "text": [
            "2022-05-22 10:41:53.681 INFO in 'deeppavlov.core.trainers.nn_trainer'['nn_trainer'] at line 207: Improved best ner_f1 from 33.2773 to 37.7644\n",
            "2022-05-22 10:41:53.682 INFO in 'deeppavlov.core.trainers.nn_trainer'['nn_trainer'] at line 209: Saving model\n",
            "2022-05-22 10:41:53.690 INFO in 'deeppavlov.core.models.torch_model'['torch_model'] at line 195: Saving model to /content/drive/MyDrive/nlp/project/deep_pavlov/models/ner_ontonotes_bert_mult_torch4/bert-base-multilingual-cased/model.pth.tar.\n"
          ]
        },
        {
          "output_type": "stream",
          "name": "stdout",
          "text": [
            "{\"valid\": {\"eval_examples_count\": 1522, \"metrics\": {\"ner_f1\": 37.7644, \"ner_token_f1\": 65.6201}, \"time_spent\": \"0:03:27\", \"epochs_done\": 0, \"batches_seen\": 300, \"train_examples_seen\": 3000, \"impatience\": 0, \"patience_limit\": 100}}\n",
            "{\"train\": {\"eval_examples_count\": 10, \"metrics\": {\"ner_f1\": 0, \"ner_token_f1\": 0}, \"time_spent\": \"0:03:41\", \"epochs_done\": 0, \"batches_seen\": 320, \"train_examples_seen\": 3200, \"loss\": 0.057008051345474084}}\n"
          ]
        },
        {
          "output_type": "stream",
          "name": "stderr",
          "text": [
            "2022-05-22 10:42:12.652 INFO in 'deeppavlov.core.trainers.nn_trainer'['nn_trainer'] at line 212: Did not improve on the ner_f1 of 37.7644\n"
          ]
        },
        {
          "output_type": "stream",
          "name": "stdout",
          "text": [
            "{\"valid\": {\"eval_examples_count\": 1522, \"metrics\": {\"ner_f1\": 32.9412, \"ner_token_f1\": 53.995}, \"time_spent\": \"0:03:46\", \"epochs_done\": 0, \"batches_seen\": 320, \"train_examples_seen\": 3200, \"impatience\": 1, \"patience_limit\": 100}}\n",
            "{\"train\": {\"eval_examples_count\": 10, \"metrics\": {\"ner_f1\": 0, \"ner_token_f1\": 80.0}, \"time_spent\": \"0:03:49\", \"epochs_done\": 0, \"batches_seen\": 340, \"train_examples_seen\": 3400, \"loss\": 0.05836667653929908}}\n"
          ]
        },
        {
          "output_type": "stream",
          "name": "stderr",
          "text": [
            "2022-05-22 10:42:21.91 INFO in 'deeppavlov.core.trainers.nn_trainer'['nn_trainer'] at line 212: Did not improve on the ner_f1 of 37.7644\n"
          ]
        },
        {
          "output_type": "stream",
          "name": "stdout",
          "text": [
            "{\"valid\": {\"eval_examples_count\": 1522, \"metrics\": {\"ner_f1\": 34.8018, \"ner_token_f1\": 48.6081}, \"time_spent\": \"0:03:54\", \"epochs_done\": 0, \"batches_seen\": 340, \"train_examples_seen\": 3400, \"impatience\": 2, \"patience_limit\": 100}}\n",
            "{\"train\": {\"eval_examples_count\": 10, \"metrics\": {\"ner_f1\": 0, \"ner_token_f1\": 0}, \"time_spent\": \"0:03:58\", \"epochs_done\": 0, \"batches_seen\": 360, \"train_examples_seen\": 3600, \"loss\": 0.042866584824514574}}\n"
          ]
        },
        {
          "output_type": "stream",
          "name": "stderr",
          "text": [
            "2022-05-22 10:42:29.724 INFO in 'deeppavlov.core.trainers.nn_trainer'['nn_trainer'] at line 207: Improved best ner_f1 from 37.7644 to 38.6555\n",
            "2022-05-22 10:42:29.725 INFO in 'deeppavlov.core.trainers.nn_trainer'['nn_trainer'] at line 209: Saving model\n",
            "2022-05-22 10:42:29.730 INFO in 'deeppavlov.core.models.torch_model'['torch_model'] at line 195: Saving model to /content/drive/MyDrive/nlp/project/deep_pavlov/models/ner_ontonotes_bert_mult_torch4/bert-base-multilingual-cased/model.pth.tar.\n"
          ]
        },
        {
          "output_type": "stream",
          "name": "stdout",
          "text": [
            "{\"valid\": {\"eval_examples_count\": 1522, \"metrics\": {\"ner_f1\": 38.6555, \"ner_token_f1\": 62.7592}, \"time_spent\": \"0:04:03\", \"epochs_done\": 0, \"batches_seen\": 360, \"train_examples_seen\": 3600, \"impatience\": 0, \"patience_limit\": 100}}\n",
            "{\"train\": {\"eval_examples_count\": 10, \"metrics\": {\"ner_f1\": 40.0, \"ner_token_f1\": 88.8889}, \"time_spent\": \"0:04:17\", \"epochs_done\": 0, \"batches_seen\": 380, \"train_examples_seen\": 3800, \"loss\": 0.03372798992495518}}\n"
          ]
        },
        {
          "output_type": "stream",
          "name": "stderr",
          "text": [
            "2022-05-22 10:42:48.576 INFO in 'deeppavlov.core.trainers.nn_trainer'['nn_trainer'] at line 207: Improved best ner_f1 from 38.6555 to 48.3395\n",
            "2022-05-22 10:42:48.577 INFO in 'deeppavlov.core.trainers.nn_trainer'['nn_trainer'] at line 209: Saving model\n",
            "2022-05-22 10:42:48.580 INFO in 'deeppavlov.core.models.torch_model'['torch_model'] at line 195: Saving model to /content/drive/MyDrive/nlp/project/deep_pavlov/models/ner_ontonotes_bert_mult_torch4/bert-base-multilingual-cased/model.pth.tar.\n"
          ]
        },
        {
          "output_type": "stream",
          "name": "stdout",
          "text": [
            "{\"valid\": {\"eval_examples_count\": 1522, \"metrics\": {\"ner_f1\": 48.3395, \"ner_token_f1\": 63.0798}, \"time_spent\": \"0:04:22\", \"epochs_done\": 0, \"batches_seen\": 380, \"train_examples_seen\": 3800, \"impatience\": 0, \"patience_limit\": 100}}\n",
            "{\"train\": {\"eval_examples_count\": 10, \"metrics\": {\"ner_f1\": 0, \"ner_token_f1\": 22.2222}, \"time_spent\": \"0:04:36\", \"epochs_done\": 0, \"batches_seen\": 400, \"train_examples_seen\": 4000, \"loss\": 0.024587296831305137}}\n"
          ]
        },
        {
          "output_type": "stream",
          "name": "stderr",
          "text": [
            "2022-05-22 10:43:07.373 INFO in 'deeppavlov.core.trainers.nn_trainer'['nn_trainer'] at line 212: Did not improve on the ner_f1 of 48.3395\n"
          ]
        },
        {
          "output_type": "stream",
          "name": "stdout",
          "text": [
            "{\"valid\": {\"eval_examples_count\": 1522, \"metrics\": {\"ner_f1\": 27.7473, \"ner_token_f1\": 65.6871}, \"time_spent\": \"0:04:41\", \"epochs_done\": 0, \"batches_seen\": 400, \"train_examples_seen\": 4000, \"impatience\": 1, \"patience_limit\": 100}}\n",
            "{\"train\": {\"eval_examples_count\": 10, \"metrics\": {\"ner_f1\": 0, \"ner_token_f1\": 100.0}, \"time_spent\": \"0:04:44\", \"epochs_done\": 0, \"batches_seen\": 420, \"train_examples_seen\": 4200, \"loss\": 0.05293191577657126}}\n"
          ]
        },
        {
          "output_type": "stream",
          "name": "stderr",
          "text": [
            "2022-05-22 10:43:15.911 INFO in 'deeppavlov.core.trainers.nn_trainer'['nn_trainer'] at line 212: Did not improve on the ner_f1 of 48.3395\n"
          ]
        },
        {
          "output_type": "stream",
          "name": "stdout",
          "text": [
            "{\"valid\": {\"eval_examples_count\": 1522, \"metrics\": {\"ner_f1\": 32.7957, \"ner_token_f1\": 64.1189}, \"time_spent\": \"0:04:49\", \"epochs_done\": 0, \"batches_seen\": 420, \"train_examples_seen\": 4200, \"impatience\": 2, \"patience_limit\": 100}}\n",
            "{\"train\": {\"eval_examples_count\": 10, \"metrics\": {\"ner_f1\": 100.0, \"ner_token_f1\": 100.0}, \"time_spent\": \"0:04:53\", \"epochs_done\": 0, \"batches_seen\": 440, \"train_examples_seen\": 4400, \"loss\": 0.043350202456349504}}\n"
          ]
        },
        {
          "output_type": "stream",
          "name": "stderr",
          "text": [
            "2022-05-22 10:43:24.357 INFO in 'deeppavlov.core.trainers.nn_trainer'['nn_trainer'] at line 212: Did not improve on the ner_f1 of 48.3395\n"
          ]
        },
        {
          "output_type": "stream",
          "name": "stdout",
          "text": [
            "{\"valid\": {\"eval_examples_count\": 1522, \"metrics\": {\"ner_f1\": 41.4784, \"ner_token_f1\": 59.6708}, \"time_spent\": \"0:04:58\", \"epochs_done\": 0, \"batches_seen\": 440, \"train_examples_seen\": 4400, \"impatience\": 3, \"patience_limit\": 100}}\n",
            "{\"train\": {\"eval_examples_count\": 10, \"metrics\": {\"ner_f1\": 0, \"ner_token_f1\": 0}, \"time_spent\": \"0:05:01\", \"epochs_done\": 0, \"batches_seen\": 460, \"train_examples_seen\": 4600, \"loss\": 0.028096292278496547}}\n"
          ]
        },
        {
          "output_type": "stream",
          "name": "stderr",
          "text": [
            "2022-05-22 10:43:33.62 INFO in 'deeppavlov.core.trainers.nn_trainer'['nn_trainer'] at line 212: Did not improve on the ner_f1 of 48.3395\n"
          ]
        },
        {
          "output_type": "stream",
          "name": "stdout",
          "text": [
            "{\"valid\": {\"eval_examples_count\": 1522, \"metrics\": {\"ner_f1\": 42.5595, \"ner_token_f1\": 68.3109}, \"time_spent\": \"0:05:06\", \"epochs_done\": 0, \"batches_seen\": 460, \"train_examples_seen\": 4600, \"impatience\": 4, \"patience_limit\": 100}}\n",
            "{\"train\": {\"eval_examples_count\": 10, \"metrics\": {\"ner_f1\": 0, \"ner_token_f1\": 0}, \"time_spent\": \"0:05:10\", \"epochs_done\": 0, \"batches_seen\": 480, \"train_examples_seen\": 4800, \"loss\": 0.047150507976766676}}\n"
          ]
        },
        {
          "output_type": "stream",
          "name": "stderr",
          "text": [
            "2022-05-22 10:43:41.709 INFO in 'deeppavlov.core.trainers.nn_trainer'['nn_trainer'] at line 212: Did not improve on the ner_f1 of 48.3395\n"
          ]
        },
        {
          "output_type": "stream",
          "name": "stdout",
          "text": [
            "{\"valid\": {\"eval_examples_count\": 1522, \"metrics\": {\"ner_f1\": 43.4911, \"ner_token_f1\": 69.6387}, \"time_spent\": \"0:05:15\", \"epochs_done\": 0, \"batches_seen\": 480, \"train_examples_seen\": 4800, \"impatience\": 5, \"patience_limit\": 100}}\n",
            "{\"train\": {\"eval_examples_count\": 10, \"metrics\": {\"ner_f1\": 66.6667, \"ner_token_f1\": 66.6667}, \"time_spent\": \"0:05:18\", \"epochs_done\": 0, \"batches_seen\": 500, \"train_examples_seen\": 5000, \"loss\": 0.02993654871825129}}\n"
          ]
        },
        {
          "output_type": "stream",
          "name": "stderr",
          "text": [
            "2022-05-22 10:43:50.210 INFO in 'deeppavlov.core.trainers.nn_trainer'['nn_trainer'] at line 212: Did not improve on the ner_f1 of 48.3395\n"
          ]
        },
        {
          "output_type": "stream",
          "name": "stdout",
          "text": [
            "{\"valid\": {\"eval_examples_count\": 1522, \"metrics\": {\"ner_f1\": 38.4279, \"ner_token_f1\": 68.7601}, \"time_spent\": \"0:05:24\", \"epochs_done\": 0, \"batches_seen\": 500, \"train_examples_seen\": 5000, \"impatience\": 6, \"patience_limit\": 100}}\n",
            "{\"train\": {\"eval_examples_count\": 10, \"metrics\": {\"ner_f1\": 0, \"ner_token_f1\": 0}, \"time_spent\": \"0:05:27\", \"epochs_done\": 0, \"batches_seen\": 520, \"train_examples_seen\": 5200, \"loss\": 0.03542129384004511}}\n"
          ]
        },
        {
          "output_type": "stream",
          "name": "stderr",
          "text": [
            "2022-05-22 10:44:00.224 INFO in 'deeppavlov.core.trainers.nn_trainer'['nn_trainer'] at line 212: Did not improve on the ner_f1 of 48.3395\n"
          ]
        },
        {
          "output_type": "stream",
          "name": "stdout",
          "text": [
            "{\"valid\": {\"eval_examples_count\": 1522, \"metrics\": {\"ner_f1\": 43.2432, \"ner_token_f1\": 68.2182}, \"time_spent\": \"0:05:34\", \"epochs_done\": 0, \"batches_seen\": 520, \"train_examples_seen\": 5200, \"impatience\": 7, \"patience_limit\": 100}}\n",
            "{\"train\": {\"eval_examples_count\": 10, \"metrics\": {\"ner_f1\": 25.0, \"ner_token_f1\": 82.3529}, \"time_spent\": \"0:05:37\", \"epochs_done\": 0, \"batches_seen\": 540, \"train_examples_seen\": 5400, \"loss\": 0.02787511795759201}}\n"
          ]
        },
        {
          "output_type": "stream",
          "name": "stderr",
          "text": [
            "2022-05-22 10:44:10.359 INFO in 'deeppavlov.core.trainers.nn_trainer'['nn_trainer'] at line 212: Did not improve on the ner_f1 of 48.3395\n"
          ]
        },
        {
          "output_type": "stream",
          "name": "stdout",
          "text": [
            "{\"valid\": {\"eval_examples_count\": 1522, \"metrics\": {\"ner_f1\": 47.9005, \"ner_token_f1\": 67.5784}, \"time_spent\": \"0:05:44\", \"epochs_done\": 0, \"batches_seen\": 540, \"train_examples_seen\": 5400, \"impatience\": 8, \"patience_limit\": 100}}\n",
            "{\"train\": {\"eval_examples_count\": 10, \"metrics\": {\"ner_f1\": 100.0, \"ner_token_f1\": 100.0}, \"time_spent\": \"0:05:47\", \"epochs_done\": 0, \"batches_seen\": 560, \"train_examples_seen\": 5600, \"loss\": 0.03904773426183965}}\n"
          ]
        },
        {
          "output_type": "stream",
          "name": "stderr",
          "text": [
            "2022-05-22 10:44:18.887 INFO in 'deeppavlov.core.trainers.nn_trainer'['nn_trainer'] at line 212: Did not improve on the ner_f1 of 48.3395\n"
          ]
        },
        {
          "output_type": "stream",
          "name": "stdout",
          "text": [
            "{\"valid\": {\"eval_examples_count\": 1522, \"metrics\": {\"ner_f1\": 37.8698, \"ner_token_f1\": 61.6076}, \"time_spent\": \"0:05:52\", \"epochs_done\": 0, \"batches_seen\": 560, \"train_examples_seen\": 5600, \"impatience\": 9, \"patience_limit\": 100}}\n",
            "{\"train\": {\"eval_examples_count\": 10, \"metrics\": {\"ner_f1\": 100.0, \"ner_token_f1\": 100.0}, \"time_spent\": \"0:05:56\", \"epochs_done\": 0, \"batches_seen\": 580, \"train_examples_seen\": 5800, \"loss\": 0.03007064560952131}}\n"
          ]
        },
        {
          "output_type": "stream",
          "name": "stderr",
          "text": [
            "2022-05-22 10:44:27.737 INFO in 'deeppavlov.core.trainers.nn_trainer'['nn_trainer'] at line 212: Did not improve on the ner_f1 of 48.3395\n"
          ]
        },
        {
          "output_type": "stream",
          "name": "stdout",
          "text": [
            "{\"valid\": {\"eval_examples_count\": 1522, \"metrics\": {\"ner_f1\": 44.9111, \"ner_token_f1\": 65.7143}, \"time_spent\": \"0:06:01\", \"epochs_done\": 0, \"batches_seen\": 580, \"train_examples_seen\": 5800, \"impatience\": 10, \"patience_limit\": 100}}\n",
            "{\"train\": {\"eval_examples_count\": 10, \"metrics\": {\"ner_f1\": 0, \"ner_token_f1\": 0}, \"time_spent\": \"0:06:04\", \"epochs_done\": 0, \"batches_seen\": 600, \"train_examples_seen\": 6000, \"loss\": 0.024041175820457283}}\n"
          ]
        },
        {
          "output_type": "stream",
          "name": "stderr",
          "text": [
            "2022-05-22 10:44:36.254 INFO in 'deeppavlov.core.trainers.nn_trainer'['nn_trainer'] at line 212: Did not improve on the ner_f1 of 48.3395\n"
          ]
        },
        {
          "output_type": "stream",
          "name": "stdout",
          "text": [
            "{\"valid\": {\"eval_examples_count\": 1522, \"metrics\": {\"ner_f1\": 37.1831, \"ner_token_f1\": 68.824}, \"time_spent\": \"0:06:10\", \"epochs_done\": 0, \"batches_seen\": 600, \"train_examples_seen\": 6000, \"impatience\": 11, \"patience_limit\": 100}}\n",
            "{\"train\": {\"eval_examples_count\": 10, \"metrics\": {\"ner_f1\": 66.6667, \"ner_token_f1\": 33.3333}, \"time_spent\": \"0:06:13\", \"epochs_done\": 0, \"batches_seen\": 620, \"train_examples_seen\": 6200, \"loss\": 0.03305397116637323}}\n"
          ]
        },
        {
          "output_type": "stream",
          "name": "stderr",
          "text": [
            "2022-05-22 10:44:44.774 INFO in 'deeppavlov.core.trainers.nn_trainer'['nn_trainer'] at line 212: Did not improve on the ner_f1 of 48.3395\n"
          ]
        },
        {
          "output_type": "stream",
          "name": "stdout",
          "text": [
            "{\"valid\": {\"eval_examples_count\": 1522, \"metrics\": {\"ner_f1\": 46.3918, \"ner_token_f1\": 66.6667}, \"time_spent\": \"0:06:18\", \"epochs_done\": 0, \"batches_seen\": 620, \"train_examples_seen\": 6200, \"impatience\": 12, \"patience_limit\": 100}}\n",
            "{\"train\": {\"eval_examples_count\": 10, \"metrics\": {\"ner_f1\": 0, \"ner_token_f1\": 0}, \"time_spent\": \"0:06:22\", \"epochs_done\": 0, \"batches_seen\": 640, \"train_examples_seen\": 6400, \"loss\": 0.04585185317555442}}\n"
          ]
        },
        {
          "output_type": "stream",
          "name": "stderr",
          "text": [
            "2022-05-22 10:44:53.346 INFO in 'deeppavlov.core.trainers.nn_trainer'['nn_trainer'] at line 207: Improved best ner_f1 from 48.3395 to 51.7179\n",
            "2022-05-22 10:44:53.348 INFO in 'deeppavlov.core.trainers.nn_trainer'['nn_trainer'] at line 209: Saving model\n",
            "2022-05-22 10:44:53.353 INFO in 'deeppavlov.core.models.torch_model'['torch_model'] at line 195: Saving model to /content/drive/MyDrive/nlp/project/deep_pavlov/models/ner_ontonotes_bert_mult_torch4/bert-base-multilingual-cased/model.pth.tar.\n"
          ]
        },
        {
          "output_type": "stream",
          "name": "stdout",
          "text": [
            "{\"valid\": {\"eval_examples_count\": 1522, \"metrics\": {\"ner_f1\": 51.7179, \"ner_token_f1\": 65.7386}, \"time_spent\": \"0:06:27\", \"epochs_done\": 0, \"batches_seen\": 640, \"train_examples_seen\": 6400, \"impatience\": 0, \"patience_limit\": 100}}\n",
            "{\"train\": {\"eval_examples_count\": 10, \"metrics\": {\"ner_f1\": 100.0, \"ner_token_f1\": 100.0}, \"time_spent\": \"0:06:40\", \"epochs_done\": 0, \"batches_seen\": 660, \"train_examples_seen\": 6600, \"loss\": 0.03039448181516491}}\n"
          ]
        },
        {
          "output_type": "stream",
          "name": "stderr",
          "text": [
            "2022-05-22 10:45:11.877 INFO in 'deeppavlov.core.trainers.nn_trainer'['nn_trainer'] at line 212: Did not improve on the ner_f1 of 51.7179\n"
          ]
        },
        {
          "output_type": "stream",
          "name": "stdout",
          "text": [
            "{\"valid\": {\"eval_examples_count\": 1522, \"metrics\": {\"ner_f1\": 43.7401, \"ner_token_f1\": 70.2655}, \"time_spent\": \"0:06:45\", \"epochs_done\": 0, \"batches_seen\": 660, \"train_examples_seen\": 6600, \"impatience\": 1, \"patience_limit\": 100}}\n",
            "{\"train\": {\"eval_examples_count\": 10, \"metrics\": {\"ner_f1\": 20.0, \"ner_token_f1\": 58.8235}, \"time_spent\": \"0:06:49\", \"epochs_done\": 0, \"batches_seen\": 680, \"train_examples_seen\": 6800, \"loss\": 0.03056594253575895}}\n"
          ]
        },
        {
          "output_type": "stream",
          "name": "stderr",
          "text": [
            "2022-05-22 10:45:20.486 INFO in 'deeppavlov.core.trainers.nn_trainer'['nn_trainer'] at line 212: Did not improve on the ner_f1 of 51.7179\n"
          ]
        },
        {
          "output_type": "stream",
          "name": "stdout",
          "text": [
            "{\"valid\": {\"eval_examples_count\": 1522, \"metrics\": {\"ner_f1\": 41.6, \"ner_token_f1\": 70.4906}, \"time_spent\": \"0:06:54\", \"epochs_done\": 0, \"batches_seen\": 680, \"train_examples_seen\": 6800, \"impatience\": 2, \"patience_limit\": 100}}\n",
            "{\"train\": {\"eval_examples_count\": 10, \"metrics\": {\"ner_f1\": 0, \"ner_token_f1\": 63.1579}, \"time_spent\": \"0:06:57\", \"epochs_done\": 0, \"batches_seen\": 700, \"train_examples_seen\": 7000, \"loss\": 0.04494670507265255}}\n"
          ]
        },
        {
          "output_type": "stream",
          "name": "stderr",
          "text": [
            "2022-05-22 10:45:28.802 INFO in 'deeppavlov.core.trainers.nn_trainer'['nn_trainer'] at line 212: Did not improve on the ner_f1 of 51.7179\n"
          ]
        },
        {
          "output_type": "stream",
          "name": "stdout",
          "text": [
            "{\"valid\": {\"eval_examples_count\": 1522, \"metrics\": {\"ner_f1\": 47.7966, \"ner_token_f1\": 68.701}, \"time_spent\": \"0:07:02\", \"epochs_done\": 0, \"batches_seen\": 700, \"train_examples_seen\": 7000, \"impatience\": 3, \"patience_limit\": 100}}\n",
            "{\"train\": {\"eval_examples_count\": 10, \"metrics\": {\"ner_f1\": 0, \"ner_token_f1\": 0}, \"time_spent\": \"0:07:05\", \"epochs_done\": 0, \"batches_seen\": 720, \"train_examples_seen\": 7200, \"loss\": 0.03691123306343798}}\n"
          ]
        },
        {
          "output_type": "stream",
          "name": "stderr",
          "text": [
            "2022-05-22 10:45:37.201 INFO in 'deeppavlov.core.trainers.nn_trainer'['nn_trainer'] at line 212: Did not improve on the ner_f1 of 51.7179\n"
          ]
        },
        {
          "output_type": "stream",
          "name": "stdout",
          "text": [
            "{\"valid\": {\"eval_examples_count\": 1522, \"metrics\": {\"ner_f1\": 43.52, \"ner_token_f1\": 69.4974}, \"time_spent\": \"0:07:11\", \"epochs_done\": 0, \"batches_seen\": 720, \"train_examples_seen\": 7200, \"impatience\": 4, \"patience_limit\": 100}}\n",
            "{\"train\": {\"eval_examples_count\": 10, \"metrics\": {\"ner_f1\": 0, \"ner_token_f1\": 0}, \"time_spent\": \"0:07:14\", \"epochs_done\": 0, \"batches_seen\": 740, \"train_examples_seen\": 7400, \"loss\": 0.029509227655944416}}\n"
          ]
        },
        {
          "output_type": "stream",
          "name": "stderr",
          "text": [
            "2022-05-22 10:45:45.639 INFO in 'deeppavlov.core.trainers.nn_trainer'['nn_trainer'] at line 207: Improved best ner_f1 from 51.7179 to 54.2553\n",
            "2022-05-22 10:45:45.640 INFO in 'deeppavlov.core.trainers.nn_trainer'['nn_trainer'] at line 209: Saving model\n",
            "2022-05-22 10:45:45.647 INFO in 'deeppavlov.core.models.torch_model'['torch_model'] at line 195: Saving model to /content/drive/MyDrive/nlp/project/deep_pavlov/models/ner_ontonotes_bert_mult_torch4/bert-base-multilingual-cased/model.pth.tar.\n"
          ]
        },
        {
          "output_type": "stream",
          "name": "stdout",
          "text": [
            "{\"valid\": {\"eval_examples_count\": 1522, \"metrics\": {\"ner_f1\": 54.2553, \"ner_token_f1\": 71.5008}, \"time_spent\": \"0:07:19\", \"epochs_done\": 0, \"batches_seen\": 740, \"train_examples_seen\": 7400, \"impatience\": 0, \"patience_limit\": 100}}\n",
            "{\"train\": {\"eval_examples_count\": 10, \"metrics\": {\"ner_f1\": 0, \"ner_token_f1\": 0}, \"time_spent\": \"0:07:33\", \"epochs_done\": 0, \"batches_seen\": 760, \"train_examples_seen\": 7600, \"loss\": 0.012760740496742074}}\n"
          ]
        },
        {
          "output_type": "stream",
          "name": "stderr",
          "text": [
            "2022-05-22 10:46:04.795 INFO in 'deeppavlov.core.trainers.nn_trainer'['nn_trainer'] at line 212: Did not improve on the ner_f1 of 54.2553\n"
          ]
        },
        {
          "output_type": "stream",
          "name": "stdout",
          "text": [
            "{\"valid\": {\"eval_examples_count\": 1522, \"metrics\": {\"ner_f1\": 53.0075, \"ner_token_f1\": 69.7674}, \"time_spent\": \"0:07:38\", \"epochs_done\": 0, \"batches_seen\": 760, \"train_examples_seen\": 7600, \"impatience\": 1, \"patience_limit\": 100}}\n",
            "{\"train\": {\"eval_examples_count\": 10, \"metrics\": {\"ner_f1\": 100.0, \"ner_token_f1\": 100.0}, \"time_spent\": \"0:07:41\", \"epochs_done\": 0, \"batches_seen\": 780, \"train_examples_seen\": 7800, \"loss\": 0.046415560238529}}\n"
          ]
        },
        {
          "output_type": "stream",
          "name": "stderr",
          "text": [
            "2022-05-22 10:46:13.328 INFO in 'deeppavlov.core.trainers.nn_trainer'['nn_trainer'] at line 212: Did not improve on the ner_f1 of 54.2553\n"
          ]
        },
        {
          "output_type": "stream",
          "name": "stdout",
          "text": [
            "{\"valid\": {\"eval_examples_count\": 1522, \"metrics\": {\"ner_f1\": 48.4018, \"ner_token_f1\": 73.7179}, \"time_spent\": \"0:07:47\", \"epochs_done\": 0, \"batches_seen\": 780, \"train_examples_seen\": 7800, \"impatience\": 2, \"patience_limit\": 100}}\n",
            "{\"train\": {\"eval_examples_count\": 10, \"metrics\": {\"ner_f1\": 0, \"ner_token_f1\": 0}, \"time_spent\": \"0:07:50\", \"epochs_done\": 0, \"batches_seen\": 800, \"train_examples_seen\": 8000, \"loss\": 0.030478872280218637}}\n"
          ]
        },
        {
          "output_type": "stream",
          "name": "stderr",
          "text": [
            "2022-05-22 10:46:22.604 INFO in 'deeppavlov.core.trainers.nn_trainer'['nn_trainer'] at line 207: Improved best ner_f1 from 54.2553 to 57.1429\n",
            "2022-05-22 10:46:22.606 INFO in 'deeppavlov.core.trainers.nn_trainer'['nn_trainer'] at line 209: Saving model\n",
            "2022-05-22 10:46:22.616 INFO in 'deeppavlov.core.models.torch_model'['torch_model'] at line 195: Saving model to /content/drive/MyDrive/nlp/project/deep_pavlov/models/ner_ontonotes_bert_mult_torch4/bert-base-multilingual-cased/model.pth.tar.\n"
          ]
        },
        {
          "output_type": "stream",
          "name": "stdout",
          "text": [
            "{\"valid\": {\"eval_examples_count\": 1522, \"metrics\": {\"ner_f1\": 57.1429, \"ner_token_f1\": 66.2942}, \"time_spent\": \"0:07:56\", \"epochs_done\": 0, \"batches_seen\": 800, \"train_examples_seen\": 8000, \"impatience\": 0, \"patience_limit\": 100}}\n",
            "{\"train\": {\"eval_examples_count\": 10, \"metrics\": {\"ner_f1\": 0, \"ner_token_f1\": 0}, \"time_spent\": \"0:08:10\", \"epochs_done\": 0, \"batches_seen\": 820, \"train_examples_seen\": 8200, \"loss\": 0.04202415041509085}}\n"
          ]
        },
        {
          "output_type": "stream",
          "name": "stderr",
          "text": [
            "2022-05-22 10:46:42.804 INFO in 'deeppavlov.core.trainers.nn_trainer'['nn_trainer'] at line 212: Did not improve on the ner_f1 of 57.1429\n"
          ]
        },
        {
          "output_type": "stream",
          "name": "stdout",
          "text": [
            "{\"valid\": {\"eval_examples_count\": 1522, \"metrics\": {\"ner_f1\": 53.1056, \"ner_token_f1\": 71.1507}, \"time_spent\": \"0:08:16\", \"epochs_done\": 0, \"batches_seen\": 820, \"train_examples_seen\": 8200, \"impatience\": 1, \"patience_limit\": 100}}\n",
            "{\"train\": {\"eval_examples_count\": 10, \"metrics\": {\"ner_f1\": 0, \"ner_token_f1\": 0}, \"time_spent\": \"0:08:20\", \"epochs_done\": 0, \"batches_seen\": 840, \"train_examples_seen\": 8400, \"loss\": 0.03011792759352829}}\n"
          ]
        },
        {
          "output_type": "stream",
          "name": "stderr",
          "text": [
            "2022-05-22 10:46:53.340 INFO in 'deeppavlov.core.trainers.nn_trainer'['nn_trainer'] at line 207: Improved best ner_f1 from 57.1429 to 61.9863\n",
            "2022-05-22 10:46:53.343 INFO in 'deeppavlov.core.trainers.nn_trainer'['nn_trainer'] at line 209: Saving model\n",
            "2022-05-22 10:46:53.349 INFO in 'deeppavlov.core.models.torch_model'['torch_model'] at line 195: Saving model to /content/drive/MyDrive/nlp/project/deep_pavlov/models/ner_ontonotes_bert_mult_torch4/bert-base-multilingual-cased/model.pth.tar.\n"
          ]
        },
        {
          "output_type": "stream",
          "name": "stdout",
          "text": [
            "{\"valid\": {\"eval_examples_count\": 1522, \"metrics\": {\"ner_f1\": 61.9863, \"ner_token_f1\": 73.107}, \"time_spent\": \"0:08:27\", \"epochs_done\": 0, \"batches_seen\": 840, \"train_examples_seen\": 8400, \"impatience\": 0, \"patience_limit\": 100}}\n",
            "{\"train\": {\"eval_examples_count\": 10, \"metrics\": {\"ner_f1\": 50.0, \"ner_token_f1\": 12.5}, \"time_spent\": \"0:08:40\", \"epochs_done\": 0, \"batches_seen\": 860, \"train_examples_seen\": 8600, \"loss\": 0.026014309488527943}}\n"
          ]
        },
        {
          "output_type": "stream",
          "name": "stderr",
          "text": [
            "2022-05-22 10:47:12.624 INFO in 'deeppavlov.core.trainers.nn_trainer'['nn_trainer'] at line 212: Did not improve on the ner_f1 of 61.9863\n"
          ]
        },
        {
          "output_type": "stream",
          "name": "stdout",
          "text": [
            "{\"valid\": {\"eval_examples_count\": 1522, \"metrics\": {\"ner_f1\": 57.5937, \"ner_token_f1\": 61.43}, \"time_spent\": \"0:08:46\", \"epochs_done\": 0, \"batches_seen\": 860, \"train_examples_seen\": 8600, \"impatience\": 1, \"patience_limit\": 100}}\n",
            "{\"train\": {\"eval_examples_count\": 10, \"metrics\": {\"ner_f1\": 66.6667, \"ner_token_f1\": 50.0}, \"time_spent\": \"0:08:49\", \"epochs_done\": 0, \"batches_seen\": 880, \"train_examples_seen\": 8800, \"loss\": 0.03331725252501201}}\n"
          ]
        },
        {
          "output_type": "stream",
          "name": "stderr",
          "text": [
            "2022-05-22 10:47:21.994 INFO in 'deeppavlov.core.trainers.nn_trainer'['nn_trainer'] at line 212: Did not improve on the ner_f1 of 61.9863\n"
          ]
        },
        {
          "output_type": "stream",
          "name": "stdout",
          "text": [
            "{\"valid\": {\"eval_examples_count\": 1522, \"metrics\": {\"ner_f1\": 55.7983, \"ner_token_f1\": 69.6429}, \"time_spent\": \"0:08:55\", \"epochs_done\": 0, \"batches_seen\": 880, \"train_examples_seen\": 8800, \"impatience\": 2, \"patience_limit\": 100}}\n",
            "{\"train\": {\"eval_examples_count\": 10, \"metrics\": {\"ner_f1\": 0, \"ner_token_f1\": 0}, \"time_spent\": \"0:08:59\", \"epochs_done\": 0, \"batches_seen\": 900, \"train_examples_seen\": 9000, \"loss\": 0.04179208793793805}}\n"
          ]
        },
        {
          "output_type": "stream",
          "name": "stderr",
          "text": [
            "2022-05-22 10:47:31.343 INFO in 'deeppavlov.core.trainers.nn_trainer'['nn_trainer'] at line 212: Did not improve on the ner_f1 of 61.9863\n"
          ]
        },
        {
          "output_type": "stream",
          "name": "stdout",
          "text": [
            "{\"valid\": {\"eval_examples_count\": 1522, \"metrics\": {\"ner_f1\": 54.6713, \"ner_token_f1\": 70.8551}, \"time_spent\": \"0:09:05\", \"epochs_done\": 0, \"batches_seen\": 900, \"train_examples_seen\": 9000, \"impatience\": 3, \"patience_limit\": 100}}\n",
            "{\"train\": {\"eval_examples_count\": 10, \"metrics\": {\"ner_f1\": 0, \"ner_token_f1\": 100.0}, \"time_spent\": \"0:09:08\", \"epochs_done\": 0, \"batches_seen\": 920, \"train_examples_seen\": 9200, \"loss\": 0.04134286414482631}}\n"
          ]
        },
        {
          "output_type": "stream",
          "name": "stderr",
          "text": [
            "2022-05-22 10:47:40.21 INFO in 'deeppavlov.core.trainers.nn_trainer'['nn_trainer'] at line 212: Did not improve on the ner_f1 of 61.9863\n"
          ]
        },
        {
          "output_type": "stream",
          "name": "stdout",
          "text": [
            "{\"valid\": {\"eval_examples_count\": 1522, \"metrics\": {\"ner_f1\": 50.6757, \"ner_token_f1\": 68.582}, \"time_spent\": \"0:09:13\", \"epochs_done\": 0, \"batches_seen\": 920, \"train_examples_seen\": 9200, \"impatience\": 4, \"patience_limit\": 100}}\n",
            "{\"train\": {\"eval_examples_count\": 10, \"metrics\": {\"ner_f1\": 0, \"ner_token_f1\": 0}, \"time_spent\": \"0:09:17\", \"epochs_done\": 0, \"batches_seen\": 940, \"train_examples_seen\": 9400, \"loss\": 0.011022717253945302}}\n"
          ]
        },
        {
          "output_type": "stream",
          "name": "stderr",
          "text": [
            "2022-05-22 10:47:48.754 INFO in 'deeppavlov.core.trainers.nn_trainer'['nn_trainer'] at line 212: Did not improve on the ner_f1 of 61.9863\n"
          ]
        },
        {
          "output_type": "stream",
          "name": "stdout",
          "text": [
            "{\"valid\": {\"eval_examples_count\": 1522, \"metrics\": {\"ner_f1\": 52.7778, \"ner_token_f1\": 68.1901}, \"time_spent\": \"0:09:22\", \"epochs_done\": 0, \"batches_seen\": 940, \"train_examples_seen\": 9400, \"impatience\": 5, \"patience_limit\": 100}}\n",
            "{\"train\": {\"eval_examples_count\": 10, \"metrics\": {\"ner_f1\": 0, \"ner_token_f1\": 0}, \"time_spent\": \"0:09:26\", \"epochs_done\": 0, \"batches_seen\": 960, \"train_examples_seen\": 9600, \"loss\": 0.017901001281279603}}\n"
          ]
        },
        {
          "output_type": "stream",
          "name": "stderr",
          "text": [
            "2022-05-22 10:47:57.465 INFO in 'deeppavlov.core.trainers.nn_trainer'['nn_trainer'] at line 212: Did not improve on the ner_f1 of 61.9863\n"
          ]
        },
        {
          "output_type": "stream",
          "name": "stdout",
          "text": [
            "{\"valid\": {\"eval_examples_count\": 1522, \"metrics\": {\"ner_f1\": 52.0801, \"ner_token_f1\": 74.0377}, \"time_spent\": \"0:09:31\", \"epochs_done\": 0, \"batches_seen\": 960, \"train_examples_seen\": 9600, \"impatience\": 6, \"patience_limit\": 100}}\n",
            "{\"train\": {\"eval_examples_count\": 10, \"metrics\": {\"ner_f1\": 100.0, \"ner_token_f1\": 100.0}, \"time_spent\": \"0:09:34\", \"epochs_done\": 0, \"batches_seen\": 980, \"train_examples_seen\": 9800, \"loss\": 0.030305669948575087}}\n"
          ]
        },
        {
          "output_type": "stream",
          "name": "stderr",
          "text": [
            "2022-05-22 10:48:06.110 INFO in 'deeppavlov.core.trainers.nn_trainer'['nn_trainer'] at line 212: Did not improve on the ner_f1 of 61.9863\n"
          ]
        },
        {
          "output_type": "stream",
          "name": "stdout",
          "text": [
            "{\"valid\": {\"eval_examples_count\": 1522, \"metrics\": {\"ner_f1\": 52.6316, \"ner_token_f1\": 70.5073}, \"time_spent\": \"0:09:40\", \"epochs_done\": 0, \"batches_seen\": 980, \"train_examples_seen\": 9800, \"impatience\": 7, \"patience_limit\": 100}}\n",
            "{\"train\": {\"eval_examples_count\": 10, \"metrics\": {\"ner_f1\": 0, \"ner_token_f1\": 0}, \"time_spent\": \"0:09:43\", \"epochs_done\": 0, \"batches_seen\": 1000, \"train_examples_seen\": 10000, \"loss\": 0.03964452753425576}}\n"
          ]
        },
        {
          "output_type": "stream",
          "name": "stderr",
          "text": [
            "2022-05-22 10:48:14.675 INFO in 'deeppavlov.core.trainers.nn_trainer'['nn_trainer'] at line 212: Did not improve on the ner_f1 of 61.9863\n"
          ]
        },
        {
          "output_type": "stream",
          "name": "stdout",
          "text": [
            "{\"valid\": {\"eval_examples_count\": 1522, \"metrics\": {\"ner_f1\": 53.3333, \"ner_token_f1\": 69.0712}, \"time_spent\": \"0:09:48\", \"epochs_done\": 0, \"batches_seen\": 1000, \"train_examples_seen\": 10000, \"impatience\": 8, \"patience_limit\": 100}}\n",
            "{\"train\": {\"eval_examples_count\": 10, \"metrics\": {\"ner_f1\": 0, \"ner_token_f1\": 0}, \"time_spent\": \"0:09:52\", \"epochs_done\": 0, \"batches_seen\": 1020, \"train_examples_seen\": 10200, \"loss\": 0.024559045513160526}}\n"
          ]
        },
        {
          "output_type": "stream",
          "name": "stderr",
          "text": [
            "2022-05-22 10:48:23.426 INFO in 'deeppavlov.core.trainers.nn_trainer'['nn_trainer'] at line 212: Did not improve on the ner_f1 of 61.9863\n"
          ]
        },
        {
          "output_type": "stream",
          "name": "stdout",
          "text": [
            "{\"valid\": {\"eval_examples_count\": 1522, \"metrics\": {\"ner_f1\": 56.4706, \"ner_token_f1\": 61.9718}, \"time_spent\": \"0:09:57\", \"epochs_done\": 0, \"batches_seen\": 1020, \"train_examples_seen\": 10200, \"impatience\": 9, \"patience_limit\": 100}}\n",
            "{\"train\": {\"eval_examples_count\": 10, \"metrics\": {\"ner_f1\": 75.0, \"ner_token_f1\": 85.7143}, \"time_spent\": \"0:10:00\", \"epochs_done\": 0, \"batches_seen\": 1040, \"train_examples_seen\": 10400, \"loss\": 0.02559628559392877}}\n"
          ]
        },
        {
          "output_type": "stream",
          "name": "stderr",
          "text": [
            "2022-05-22 10:48:32.5 INFO in 'deeppavlov.core.trainers.nn_trainer'['nn_trainer'] at line 212: Did not improve on the ner_f1 of 61.9863\n"
          ]
        },
        {
          "output_type": "stream",
          "name": "stdout",
          "text": [
            "{\"valid\": {\"eval_examples_count\": 1522, \"metrics\": {\"ner_f1\": 53.3951, \"ner_token_f1\": 71.3584}, \"time_spent\": \"0:10:05\", \"epochs_done\": 0, \"batches_seen\": 1040, \"train_examples_seen\": 10400, \"impatience\": 10, \"patience_limit\": 100}}\n",
            "{\"train\": {\"eval_examples_count\": 10, \"metrics\": {\"ner_f1\": 100.0, \"ner_token_f1\": 100.0}, \"time_spent\": \"0:10:09\", \"epochs_done\": 0, \"batches_seen\": 1060, \"train_examples_seen\": 10600, \"loss\": 0.053633122057362925}}\n"
          ]
        },
        {
          "output_type": "stream",
          "name": "stderr",
          "text": [
            "2022-05-22 10:48:40.915 INFO in 'deeppavlov.core.trainers.nn_trainer'['nn_trainer'] at line 212: Did not improve on the ner_f1 of 61.9863\n"
          ]
        },
        {
          "output_type": "stream",
          "name": "stdout",
          "text": [
            "{\"valid\": {\"eval_examples_count\": 1522, \"metrics\": {\"ner_f1\": 54.8336, \"ner_token_f1\": 70.7952}, \"time_spent\": \"0:10:14\", \"epochs_done\": 0, \"batches_seen\": 1060, \"train_examples_seen\": 10600, \"impatience\": 11, \"patience_limit\": 100}}\n",
            "{\"train\": {\"eval_examples_count\": 10, \"metrics\": {\"ner_f1\": 0, \"ner_token_f1\": 0}, \"time_spent\": \"0:10:17\", \"epochs_done\": 0, \"batches_seen\": 1080, \"train_examples_seen\": 10800, \"loss\": 0.024846604131744242}}\n"
          ]
        },
        {
          "output_type": "stream",
          "name": "stderr",
          "text": [
            "2022-05-22 10:48:49.298 INFO in 'deeppavlov.core.trainers.nn_trainer'['nn_trainer'] at line 212: Did not improve on the ner_f1 of 61.9863\n"
          ]
        },
        {
          "output_type": "stream",
          "name": "stdout",
          "text": [
            "{\"valid\": {\"eval_examples_count\": 1522, \"metrics\": {\"ner_f1\": 50.6422, \"ner_token_f1\": 65.4743}, \"time_spent\": \"0:10:23\", \"epochs_done\": 0, \"batches_seen\": 1080, \"train_examples_seen\": 10800, \"impatience\": 12, \"patience_limit\": 100}}\n",
            "{\"train\": {\"eval_examples_count\": 10, \"metrics\": {\"ner_f1\": 85.7143, \"ner_token_f1\": 93.3333}, \"time_spent\": \"0:10:26\", \"epochs_done\": 0, \"batches_seen\": 1100, \"train_examples_seen\": 11000, \"loss\": 0.030796723076491617}}\n"
          ]
        },
        {
          "output_type": "stream",
          "name": "stderr",
          "text": [
            "2022-05-22 10:48:57.728 INFO in 'deeppavlov.core.trainers.nn_trainer'['nn_trainer'] at line 212: Did not improve on the ner_f1 of 61.9863\n"
          ]
        },
        {
          "output_type": "stream",
          "name": "stdout",
          "text": [
            "{\"valid\": {\"eval_examples_count\": 1522, \"metrics\": {\"ner_f1\": 52.5038, \"ner_token_f1\": 73.1343}, \"time_spent\": \"0:10:31\", \"epochs_done\": 0, \"batches_seen\": 1100, \"train_examples_seen\": 11000, \"impatience\": 13, \"patience_limit\": 100}}\n",
            "{\"train\": {\"eval_examples_count\": 10, \"metrics\": {\"ner_f1\": 0, \"ner_token_f1\": 85.7143}, \"time_spent\": \"0:10:34\", \"epochs_done\": 0, \"batches_seen\": 1120, \"train_examples_seen\": 11200, \"loss\": 0.02281302877672715}}\n"
          ]
        },
        {
          "output_type": "stream",
          "name": "stderr",
          "text": [
            "2022-05-22 10:49:06.251 INFO in 'deeppavlov.core.trainers.nn_trainer'['nn_trainer'] at line 212: Did not improve on the ner_f1 of 61.9863\n"
          ]
        },
        {
          "output_type": "stream",
          "name": "stdout",
          "text": [
            "{\"valid\": {\"eval_examples_count\": 1522, \"metrics\": {\"ner_f1\": 55.9068, \"ner_token_f1\": 72.2813}, \"time_spent\": \"0:10:40\", \"epochs_done\": 0, \"batches_seen\": 1120, \"train_examples_seen\": 11200, \"impatience\": 14, \"patience_limit\": 100}}\n",
            "{\"train\": {\"eval_examples_count\": 10, \"metrics\": {\"ner_f1\": 100.0, \"ner_token_f1\": 100.0}, \"time_spent\": \"0:10:43\", \"epochs_done\": 0, \"batches_seen\": 1140, \"train_examples_seen\": 11400, \"loss\": 0.046495105353824326}}\n"
          ]
        },
        {
          "output_type": "stream",
          "name": "stderr",
          "text": [
            "2022-05-22 10:49:14.992 INFO in 'deeppavlov.core.trainers.nn_trainer'['nn_trainer'] at line 212: Did not improve on the ner_f1 of 61.9863\n"
          ]
        },
        {
          "output_type": "stream",
          "name": "stdout",
          "text": [
            "{\"valid\": {\"eval_examples_count\": 1522, \"metrics\": {\"ner_f1\": 57.6857, \"ner_token_f1\": 71.4783}, \"time_spent\": \"0:10:48\", \"epochs_done\": 0, \"batches_seen\": 1140, \"train_examples_seen\": 11400, \"impatience\": 15, \"patience_limit\": 100}}\n",
            "{\"train\": {\"eval_examples_count\": 10, \"metrics\": {\"ner_f1\": 100.0, \"ner_token_f1\": 100.0}, \"time_spent\": \"0:10:52\", \"epochs_done\": 0, \"batches_seen\": 1160, \"train_examples_seen\": 11600, \"loss\": 0.02970740202727029}}\n"
          ]
        },
        {
          "output_type": "stream",
          "name": "stderr",
          "text": [
            "2022-05-22 10:49:23.590 INFO in 'deeppavlov.core.trainers.nn_trainer'['nn_trainer'] at line 212: Did not improve on the ner_f1 of 61.9863\n"
          ]
        },
        {
          "output_type": "stream",
          "name": "stdout",
          "text": [
            "{\"valid\": {\"eval_examples_count\": 1522, \"metrics\": {\"ner_f1\": 58.0848, \"ner_token_f1\": 75.4887}, \"time_spent\": \"0:10:57\", \"epochs_done\": 0, \"batches_seen\": 1160, \"train_examples_seen\": 11600, \"impatience\": 16, \"patience_limit\": 100}}\n",
            "{\"train\": {\"eval_examples_count\": 10, \"metrics\": {\"ner_f1\": 40.0, \"ner_token_f1\": 60.0}, \"time_spent\": \"0:11:00\", \"epochs_done\": 0, \"batches_seen\": 1180, \"train_examples_seen\": 11800, \"loss\": 0.015352429139602464}}\n"
          ]
        },
        {
          "output_type": "stream",
          "name": "stderr",
          "text": [
            "2022-05-22 10:49:32.129 INFO in 'deeppavlov.core.trainers.nn_trainer'['nn_trainer'] at line 212: Did not improve on the ner_f1 of 61.9863\n"
          ]
        },
        {
          "output_type": "stream",
          "name": "stdout",
          "text": [
            "{\"valid\": {\"eval_examples_count\": 1522, \"metrics\": {\"ner_f1\": 60.4575, \"ner_token_f1\": 73.3825}, \"time_spent\": \"0:11:06\", \"epochs_done\": 0, \"batches_seen\": 1180, \"train_examples_seen\": 11800, \"impatience\": 17, \"patience_limit\": 100}}\n",
            "{\"train\": {\"eval_examples_count\": 10, \"metrics\": {\"ner_f1\": 0, \"ner_token_f1\": 0}, \"time_spent\": \"0:11:09\", \"epochs_done\": 0, \"batches_seen\": 1200, \"train_examples_seen\": 12000, \"loss\": 0.02772640468174359}}\n"
          ]
        },
        {
          "output_type": "stream",
          "name": "stderr",
          "text": [
            "2022-05-22 10:49:41.81 INFO in 'deeppavlov.core.trainers.nn_trainer'['nn_trainer'] at line 212: Did not improve on the ner_f1 of 61.9863\n"
          ]
        },
        {
          "output_type": "stream",
          "name": "stdout",
          "text": [
            "{\"valid\": {\"eval_examples_count\": 1522, \"metrics\": {\"ner_f1\": 40.1515, \"ner_token_f1\": 68.4791}, \"time_spent\": \"0:11:14\", \"epochs_done\": 0, \"batches_seen\": 1200, \"train_examples_seen\": 12000, \"impatience\": 18, \"patience_limit\": 100}}\n",
            "{\"train\": {\"eval_examples_count\": 10, \"metrics\": {\"ner_f1\": 0, \"ner_token_f1\": 100.0}, \"time_spent\": \"0:11:18\", \"epochs_done\": 0, \"batches_seen\": 1220, \"train_examples_seen\": 12200, \"loss\": 0.028620359730848578}}\n"
          ]
        },
        {
          "output_type": "stream",
          "name": "stderr",
          "text": [
            "2022-05-22 10:49:49.762 INFO in 'deeppavlov.core.trainers.nn_trainer'['nn_trainer'] at line 212: Did not improve on the ner_f1 of 61.9863\n"
          ]
        },
        {
          "output_type": "stream",
          "name": "stdout",
          "text": [
            "{\"valid\": {\"eval_examples_count\": 1522, \"metrics\": {\"ner_f1\": 57.6923, \"ner_token_f1\": 74.4849}, \"time_spent\": \"0:11:23\", \"epochs_done\": 0, \"batches_seen\": 1220, \"train_examples_seen\": 12200, \"impatience\": 19, \"patience_limit\": 100}}\n",
            "{\"train\": {\"eval_examples_count\": 10, \"metrics\": {\"ner_f1\": 100.0, \"ner_token_f1\": 100.0}, \"time_spent\": \"0:11:27\", \"epochs_done\": 0, \"batches_seen\": 1240, \"train_examples_seen\": 12400, \"loss\": 0.023316170320322273}}\n"
          ]
        },
        {
          "output_type": "stream",
          "name": "stderr",
          "text": [
            "2022-05-22 10:49:58.445 INFO in 'deeppavlov.core.trainers.nn_trainer'['nn_trainer'] at line 212: Did not improve on the ner_f1 of 61.9863\n"
          ]
        },
        {
          "output_type": "stream",
          "name": "stdout",
          "text": [
            "{\"valid\": {\"eval_examples_count\": 1522, \"metrics\": {\"ner_f1\": 56.1224, \"ner_token_f1\": 72.5835}, \"time_spent\": \"0:11:32\", \"epochs_done\": 0, \"batches_seen\": 1240, \"train_examples_seen\": 12400, \"impatience\": 20, \"patience_limit\": 100}}\n",
            "{\"train\": {\"eval_examples_count\": 10, \"metrics\": {\"ner_f1\": 100.0, \"ner_token_f1\": 100.0}, \"time_spent\": \"0:11:35\", \"epochs_done\": 0, \"batches_seen\": 1260, \"train_examples_seen\": 12600, \"loss\": 0.016714275415142765}}\n"
          ]
        },
        {
          "output_type": "stream",
          "name": "stderr",
          "text": [
            "2022-05-22 10:50:07.937 INFO in 'deeppavlov.core.trainers.nn_trainer'['nn_trainer'] at line 212: Did not improve on the ner_f1 of 61.9863\n"
          ]
        },
        {
          "output_type": "stream",
          "name": "stdout",
          "text": [
            "{\"valid\": {\"eval_examples_count\": 1522, \"metrics\": {\"ner_f1\": 57.4324, \"ner_token_f1\": 70.5474}, \"time_spent\": \"0:11:41\", \"epochs_done\": 0, \"batches_seen\": 1260, \"train_examples_seen\": 12600, \"impatience\": 21, \"patience_limit\": 100}}\n",
            "{\"train\": {\"eval_examples_count\": 10, \"metrics\": {\"ner_f1\": 100.0, \"ner_token_f1\": 100.0}, \"time_spent\": \"0:11:45\", \"epochs_done\": 0, \"batches_seen\": 1280, \"train_examples_seen\": 12800, \"loss\": 0.036351560441835316}}\n"
          ]
        },
        {
          "output_type": "stream",
          "name": "stderr",
          "text": [
            "2022-05-22 10:50:18.332 INFO in 'deeppavlov.core.trainers.nn_trainer'['nn_trainer'] at line 212: Did not improve on the ner_f1 of 61.9863\n"
          ]
        },
        {
          "output_type": "stream",
          "name": "stdout",
          "text": [
            "{\"valid\": {\"eval_examples_count\": 1522, \"metrics\": {\"ner_f1\": 56.4885, \"ner_token_f1\": 74.0909}, \"time_spent\": \"0:11:52\", \"epochs_done\": 0, \"batches_seen\": 1280, \"train_examples_seen\": 12800, \"impatience\": 22, \"patience_limit\": 100}}\n",
            "{\"train\": {\"eval_examples_count\": 10, \"metrics\": {\"ner_f1\": 0, \"ner_token_f1\": 0}, \"time_spent\": \"0:11:55\", \"epochs_done\": 0, \"batches_seen\": 1300, \"train_examples_seen\": 13000, \"loss\": 0.040952548530185595}}\n"
          ]
        },
        {
          "output_type": "stream",
          "name": "stderr",
          "text": [
            "2022-05-22 10:50:27.103 INFO in 'deeppavlov.core.trainers.nn_trainer'['nn_trainer'] at line 212: Did not improve on the ner_f1 of 61.9863\n"
          ]
        },
        {
          "output_type": "stream",
          "name": "stdout",
          "text": [
            "{\"valid\": {\"eval_examples_count\": 1522, \"metrics\": {\"ner_f1\": 56.0137, \"ner_token_f1\": 68.3805}, \"time_spent\": \"0:12:01\", \"epochs_done\": 0, \"batches_seen\": 1300, \"train_examples_seen\": 13000, \"impatience\": 23, \"patience_limit\": 100}}\n",
            "{\"train\": {\"eval_examples_count\": 10, \"metrics\": {\"ner_f1\": 100.0, \"ner_token_f1\": 100.0}, \"time_spent\": \"0:12:04\", \"epochs_done\": 0, \"batches_seen\": 1320, \"train_examples_seen\": 13200, \"loss\": 0.031295010849135}}\n"
          ]
        },
        {
          "output_type": "stream",
          "name": "stderr",
          "text": [
            "2022-05-22 10:50:35.695 INFO in 'deeppavlov.core.trainers.nn_trainer'['nn_trainer'] at line 212: Did not improve on the ner_f1 of 61.9863\n"
          ]
        },
        {
          "output_type": "stream",
          "name": "stdout",
          "text": [
            "{\"valid\": {\"eval_examples_count\": 1522, \"metrics\": {\"ner_f1\": 53.9051, \"ner_token_f1\": 74.7678}, \"time_spent\": \"0:12:09\", \"epochs_done\": 0, \"batches_seen\": 1320, \"train_examples_seen\": 13200, \"impatience\": 24, \"patience_limit\": 100}}\n",
            "{\"train\": {\"eval_examples_count\": 10, \"metrics\": {\"ner_f1\": 0, \"ner_token_f1\": 0}, \"time_spent\": \"0:12:12\", \"epochs_done\": 1, \"batches_seen\": 1340, \"train_examples_seen\": 13395, \"loss\": 0.03723552247975022}}\n"
          ]
        },
        {
          "output_type": "stream",
          "name": "stderr",
          "text": [
            "2022-05-22 10:50:44.356 INFO in 'deeppavlov.core.trainers.nn_trainer'['nn_trainer'] at line 212: Did not improve on the ner_f1 of 61.9863\n"
          ]
        },
        {
          "output_type": "stream",
          "name": "stdout",
          "text": [
            "{\"valid\": {\"eval_examples_count\": 1522, \"metrics\": {\"ner_f1\": 56.25, \"ner_token_f1\": 75.2636}, \"time_spent\": \"0:12:18\", \"epochs_done\": 1, \"batches_seen\": 1340, \"train_examples_seen\": 13395, \"impatience\": 25, \"patience_limit\": 100}}\n",
            "{\"train\": {\"eval_examples_count\": 10, \"metrics\": {\"ner_f1\": 100.0, \"ner_token_f1\": 100.0}, \"time_spent\": \"0:12:21\", \"epochs_done\": 1, \"batches_seen\": 1360, \"train_examples_seen\": 13595, \"loss\": 0.017565406458743382}}\n"
          ]
        },
        {
          "output_type": "stream",
          "name": "stderr",
          "text": [
            "2022-05-22 10:50:53.206 INFO in 'deeppavlov.core.trainers.nn_trainer'['nn_trainer'] at line 212: Did not improve on the ner_f1 of 61.9863\n"
          ]
        },
        {
          "output_type": "stream",
          "name": "stdout",
          "text": [
            "{\"valid\": {\"eval_examples_count\": 1522, \"metrics\": {\"ner_f1\": 58.9512, \"ner_token_f1\": 72.4664}, \"time_spent\": \"0:12:27\", \"epochs_done\": 1, \"batches_seen\": 1360, \"train_examples_seen\": 13595, \"impatience\": 26, \"patience_limit\": 100}}\n",
            "{\"train\": {\"eval_examples_count\": 10, \"metrics\": {\"ner_f1\": 100.0, \"ner_token_f1\": 100.0}, \"time_spent\": \"0:12:30\", \"epochs_done\": 1, \"batches_seen\": 1380, \"train_examples_seen\": 13795, \"loss\": 0.043750222171365746}}\n"
          ]
        },
        {
          "output_type": "stream",
          "name": "stderr",
          "text": [
            "2022-05-22 10:51:01.774 INFO in 'deeppavlov.core.trainers.nn_trainer'['nn_trainer'] at line 212: Did not improve on the ner_f1 of 61.9863\n"
          ]
        },
        {
          "output_type": "stream",
          "name": "stdout",
          "text": [
            "{\"valid\": {\"eval_examples_count\": 1522, \"metrics\": {\"ner_f1\": 57.4257, \"ner_token_f1\": 75.0988}, \"time_spent\": \"0:12:35\", \"epochs_done\": 1, \"batches_seen\": 1380, \"train_examples_seen\": 13795, \"impatience\": 27, \"patience_limit\": 100}}\n",
            "{\"train\": {\"eval_examples_count\": 10, \"metrics\": {\"ner_f1\": 0, \"ner_token_f1\": 0}, \"time_spent\": \"0:12:38\", \"epochs_done\": 1, \"batches_seen\": 1400, \"train_examples_seen\": 13995, \"loss\": 0.01791201994928997}}\n"
          ]
        },
        {
          "output_type": "stream",
          "name": "stderr",
          "text": [
            "2022-05-22 10:51:10.285 INFO in 'deeppavlov.core.trainers.nn_trainer'['nn_trainer'] at line 212: Did not improve on the ner_f1 of 61.9863\n"
          ]
        },
        {
          "output_type": "stream",
          "name": "stdout",
          "text": [
            "{\"valid\": {\"eval_examples_count\": 1522, \"metrics\": {\"ner_f1\": 52.3659, \"ner_token_f1\": 74.9164}, \"time_spent\": \"0:12:44\", \"epochs_done\": 1, \"batches_seen\": 1400, \"train_examples_seen\": 13995, \"impatience\": 28, \"patience_limit\": 100}}\n",
            "{\"train\": {\"eval_examples_count\": 10, \"metrics\": {\"ner_f1\": 33.3333, \"ner_token_f1\": 60.0}, \"time_spent\": \"0:12:47\", \"epochs_done\": 1, \"batches_seen\": 1420, \"train_examples_seen\": 14195, \"loss\": 0.02241667365815374}}\n"
          ]
        },
        {
          "output_type": "stream",
          "name": "stderr",
          "text": [
            "2022-05-22 10:51:18.911 INFO in 'deeppavlov.core.trainers.nn_trainer'['nn_trainer'] at line 212: Did not improve on the ner_f1 of 61.9863\n"
          ]
        },
        {
          "output_type": "stream",
          "name": "stdout",
          "text": [
            "{\"valid\": {\"eval_examples_count\": 1522, \"metrics\": {\"ner_f1\": 61.194, \"ner_token_f1\": 69.403}, \"time_spent\": \"0:12:52\", \"epochs_done\": 1, \"batches_seen\": 1420, \"train_examples_seen\": 14195, \"impatience\": 29, \"patience_limit\": 100}}\n",
            "{\"train\": {\"eval_examples_count\": 10, \"metrics\": {\"ner_f1\": 0, \"ner_token_f1\": 0}, \"time_spent\": \"0:12:56\", \"epochs_done\": 1, \"batches_seen\": 1440, \"train_examples_seen\": 14395, \"loss\": 0.025327649432438194}}\n"
          ]
        },
        {
          "output_type": "stream",
          "name": "stderr",
          "text": [
            "2022-05-22 10:51:27.534 INFO in 'deeppavlov.core.trainers.nn_trainer'['nn_trainer'] at line 207: Improved best ner_f1 from 61.9863 to 63.9033\n",
            "2022-05-22 10:51:27.535 INFO in 'deeppavlov.core.trainers.nn_trainer'['nn_trainer'] at line 209: Saving model\n",
            "2022-05-22 10:51:27.538 INFO in 'deeppavlov.core.models.torch_model'['torch_model'] at line 195: Saving model to /content/drive/MyDrive/nlp/project/deep_pavlov/models/ner_ontonotes_bert_mult_torch4/bert-base-multilingual-cased/model.pth.tar.\n"
          ]
        },
        {
          "output_type": "stream",
          "name": "stdout",
          "text": [
            "{\"valid\": {\"eval_examples_count\": 1522, \"metrics\": {\"ner_f1\": 63.9033, \"ner_token_f1\": 73.4793}, \"time_spent\": \"0:13:01\", \"epochs_done\": 1, \"batches_seen\": 1440, \"train_examples_seen\": 14395, \"impatience\": 0, \"patience_limit\": 100}}\n",
            "{\"train\": {\"eval_examples_count\": 10, \"metrics\": {\"ner_f1\": 100.0, \"ner_token_f1\": 100.0}, \"time_spent\": \"0:13:15\", \"epochs_done\": 1, \"batches_seen\": 1460, \"train_examples_seen\": 14595, \"loss\": 0.012843892395176226}}\n"
          ]
        },
        {
          "output_type": "stream",
          "name": "stderr",
          "text": [
            "2022-05-22 10:51:46.720 INFO in 'deeppavlov.core.trainers.nn_trainer'['nn_trainer'] at line 212: Did not improve on the ner_f1 of 63.9033\n"
          ]
        },
        {
          "output_type": "stream",
          "name": "stdout",
          "text": [
            "{\"valid\": {\"eval_examples_count\": 1522, \"metrics\": {\"ner_f1\": 59.7484, \"ner_token_f1\": 70.1585}, \"time_spent\": \"0:13:20\", \"epochs_done\": 1, \"batches_seen\": 1460, \"train_examples_seen\": 14595, \"impatience\": 1, \"patience_limit\": 100}}\n",
            "{\"train\": {\"eval_examples_count\": 10, \"metrics\": {\"ner_f1\": 0, \"ner_token_f1\": 0}, \"time_spent\": \"0:13:23\", \"epochs_done\": 1, \"batches_seen\": 1480, \"train_examples_seen\": 14795, \"loss\": 0.03791162270936184}}\n"
          ]
        },
        {
          "output_type": "stream",
          "name": "stderr",
          "text": [
            "2022-05-22 10:51:55.320 INFO in 'deeppavlov.core.trainers.nn_trainer'['nn_trainer'] at line 212: Did not improve on the ner_f1 of 63.9033\n"
          ]
        },
        {
          "output_type": "stream",
          "name": "stdout",
          "text": [
            "{\"valid\": {\"eval_examples_count\": 1522, \"metrics\": {\"ner_f1\": 56.6828, \"ner_token_f1\": 71.248}, \"time_spent\": \"0:13:29\", \"epochs_done\": 1, \"batches_seen\": 1480, \"train_examples_seen\": 14795, \"impatience\": 2, \"patience_limit\": 100}}\n",
            "{\"train\": {\"eval_examples_count\": 10, \"metrics\": {\"ner_f1\": 100.0, \"ner_token_f1\": 100.0}, \"time_spent\": \"0:13:32\", \"epochs_done\": 1, \"batches_seen\": 1500, \"train_examples_seen\": 14995, \"loss\": 0.012361168364441255}}\n"
          ]
        },
        {
          "output_type": "stream",
          "name": "stderr",
          "text": [
            "2022-05-22 10:52:04.32 INFO in 'deeppavlov.core.trainers.nn_trainer'['nn_trainer'] at line 212: Did not improve on the ner_f1 of 63.9033\n"
          ]
        },
        {
          "output_type": "stream",
          "name": "stdout",
          "text": [
            "{\"valid\": {\"eval_examples_count\": 1522, \"metrics\": {\"ner_f1\": 53.0885, \"ner_token_f1\": 71.5035}, \"time_spent\": \"0:13:37\", \"epochs_done\": 1, \"batches_seen\": 1500, \"train_examples_seen\": 14995, \"impatience\": 3, \"patience_limit\": 100}}\n",
            "{\"train\": {\"eval_examples_count\": 10, \"metrics\": {\"ner_f1\": 0, \"ner_token_f1\": 40.0}, \"time_spent\": \"0:13:41\", \"epochs_done\": 1, \"batches_seen\": 1520, \"train_examples_seen\": 15195, \"loss\": 0.014453508071164833}}\n"
          ]
        },
        {
          "output_type": "stream",
          "name": "stderr",
          "text": [
            "2022-05-22 10:52:12.579 INFO in 'deeppavlov.core.trainers.nn_trainer'['nn_trainer'] at line 212: Did not improve on the ner_f1 of 63.9033\n"
          ]
        },
        {
          "output_type": "stream",
          "name": "stdout",
          "text": [
            "{\"valid\": {\"eval_examples_count\": 1522, \"metrics\": {\"ner_f1\": 56.5972, \"ner_token_f1\": 71.4777}, \"time_spent\": \"0:13:46\", \"epochs_done\": 1, \"batches_seen\": 1520, \"train_examples_seen\": 15195, \"impatience\": 4, \"patience_limit\": 100}}\n",
            "{\"train\": {\"eval_examples_count\": 10, \"metrics\": {\"ner_f1\": 100.0, \"ner_token_f1\": 100.0}, \"time_spent\": \"0:13:49\", \"epochs_done\": 1, \"batches_seen\": 1540, \"train_examples_seen\": 15395, \"loss\": 0.01803947405423969}}\n"
          ]
        },
        {
          "output_type": "stream",
          "name": "stderr",
          "text": [
            "2022-05-22 10:52:21.243 INFO in 'deeppavlov.core.trainers.nn_trainer'['nn_trainer'] at line 212: Did not improve on the ner_f1 of 63.9033\n"
          ]
        },
        {
          "output_type": "stream",
          "name": "stdout",
          "text": [
            "{\"valid\": {\"eval_examples_count\": 1522, \"metrics\": {\"ner_f1\": 58.6207, \"ner_token_f1\": 74.7994}, \"time_spent\": \"0:13:55\", \"epochs_done\": 1, \"batches_seen\": 1540, \"train_examples_seen\": 15395, \"impatience\": 5, \"patience_limit\": 100}}\n",
            "{\"train\": {\"eval_examples_count\": 10, \"metrics\": {\"ner_f1\": 75.0, \"ner_token_f1\": 83.3333}, \"time_spent\": \"0:13:58\", \"epochs_done\": 1, \"batches_seen\": 1560, \"train_examples_seen\": 15595, \"loss\": 0.024535079805355055}}\n"
          ]
        },
        {
          "output_type": "stream",
          "name": "stderr",
          "text": [
            "2022-05-22 10:52:29.891 INFO in 'deeppavlov.core.trainers.nn_trainer'['nn_trainer'] at line 212: Did not improve on the ner_f1 of 63.9033\n"
          ]
        },
        {
          "output_type": "stream",
          "name": "stdout",
          "text": [
            "{\"valid\": {\"eval_examples_count\": 1522, \"metrics\": {\"ner_f1\": 60.781, \"ner_token_f1\": 74.5763}, \"time_spent\": \"0:14:03\", \"epochs_done\": 1, \"batches_seen\": 1560, \"train_examples_seen\": 15595, \"impatience\": 6, \"patience_limit\": 100}}\n",
            "{\"train\": {\"eval_examples_count\": 10, \"metrics\": {\"ner_f1\": 0, \"ner_token_f1\": 0}, \"time_spent\": \"0:14:07\", \"epochs_done\": 1, \"batches_seen\": 1580, \"train_examples_seen\": 15795, \"loss\": 0.013144117417687085}}\n"
          ]
        },
        {
          "output_type": "stream",
          "name": "stderr",
          "text": [
            "2022-05-22 10:52:39.687 INFO in 'deeppavlov.core.trainers.nn_trainer'['nn_trainer'] at line 212: Did not improve on the ner_f1 of 63.9033\n"
          ]
        },
        {
          "output_type": "stream",
          "name": "stdout",
          "text": [
            "{\"valid\": {\"eval_examples_count\": 1522, \"metrics\": {\"ner_f1\": 61.4334, \"ner_token_f1\": 72.7144}, \"time_spent\": \"0:14:13\", \"epochs_done\": 1, \"batches_seen\": 1580, \"train_examples_seen\": 15795, \"impatience\": 7, \"patience_limit\": 100}}\n",
            "{\"train\": {\"eval_examples_count\": 10, \"metrics\": {\"ner_f1\": 0, \"ner_token_f1\": 0}, \"time_spent\": \"0:14:17\", \"epochs_done\": 1, \"batches_seen\": 1600, \"train_examples_seen\": 15995, \"loss\": 0.018258424371742875}}\n"
          ]
        },
        {
          "output_type": "stream",
          "name": "stderr",
          "text": [
            "2022-05-22 10:52:49.577 INFO in 'deeppavlov.core.trainers.nn_trainer'['nn_trainer'] at line 212: Did not improve on the ner_f1 of 63.9033\n"
          ]
        },
        {
          "output_type": "stream",
          "name": "stdout",
          "text": [
            "{\"valid\": {\"eval_examples_count\": 1522, \"metrics\": {\"ner_f1\": 58.8235, \"ner_token_f1\": 76.1261}, \"time_spent\": \"0:14:23\", \"epochs_done\": 1, \"batches_seen\": 1600, \"train_examples_seen\": 15995, \"impatience\": 8, \"patience_limit\": 100}}\n",
            "{\"train\": {\"eval_examples_count\": 10, \"metrics\": {\"ner_f1\": 100.0, \"ner_token_f1\": 100.0}, \"time_spent\": \"0:14:26\", \"epochs_done\": 1, \"batches_seen\": 1620, \"train_examples_seen\": 16195, \"loss\": 0.024323770957562375}}\n"
          ]
        },
        {
          "output_type": "stream",
          "name": "stderr",
          "text": [
            "2022-05-22 10:52:58.335 INFO in 'deeppavlov.core.trainers.nn_trainer'['nn_trainer'] at line 212: Did not improve on the ner_f1 of 63.9033\n"
          ]
        },
        {
          "output_type": "stream",
          "name": "stdout",
          "text": [
            "{\"valid\": {\"eval_examples_count\": 1522, \"metrics\": {\"ner_f1\": 56.5289, \"ner_token_f1\": 74.4186}, \"time_spent\": \"0:14:32\", \"epochs_done\": 1, \"batches_seen\": 1620, \"train_examples_seen\": 16195, \"impatience\": 9, \"patience_limit\": 100}}\n",
            "{\"train\": {\"eval_examples_count\": 10, \"metrics\": {\"ner_f1\": 0, \"ner_token_f1\": 0}, \"time_spent\": \"0:14:35\", \"epochs_done\": 1, \"batches_seen\": 1640, \"train_examples_seen\": 16395, \"loss\": 0.014376161323161796}}\n"
          ]
        },
        {
          "output_type": "stream",
          "name": "stderr",
          "text": [
            "2022-05-22 10:53:07.36 INFO in 'deeppavlov.core.trainers.nn_trainer'['nn_trainer'] at line 212: Did not improve on the ner_f1 of 63.9033\n"
          ]
        },
        {
          "output_type": "stream",
          "name": "stdout",
          "text": [
            "{\"valid\": {\"eval_examples_count\": 1522, \"metrics\": {\"ner_f1\": 54.8726, \"ner_token_f1\": 75.2164}, \"time_spent\": \"0:14:40\", \"epochs_done\": 1, \"batches_seen\": 1640, \"train_examples_seen\": 16395, \"impatience\": 10, \"patience_limit\": 100}}\n",
            "{\"train\": {\"eval_examples_count\": 10, \"metrics\": {\"ner_f1\": 0, \"ner_token_f1\": 0}, \"time_spent\": \"0:14:44\", \"epochs_done\": 1, \"batches_seen\": 1660, \"train_examples_seen\": 16595, \"loss\": 0.029345715953968465}}\n"
          ]
        },
        {
          "output_type": "stream",
          "name": "stderr",
          "text": [
            "2022-05-22 10:53:15.621 INFO in 'deeppavlov.core.trainers.nn_trainer'['nn_trainer'] at line 212: Did not improve on the ner_f1 of 63.9033\n"
          ]
        },
        {
          "output_type": "stream",
          "name": "stdout",
          "text": [
            "{\"valid\": {\"eval_examples_count\": 1522, \"metrics\": {\"ner_f1\": 54.6326, \"ner_token_f1\": 74.5468}, \"time_spent\": \"0:14:49\", \"epochs_done\": 1, \"batches_seen\": 1660, \"train_examples_seen\": 16595, \"impatience\": 11, \"patience_limit\": 100}}\n",
            "{\"train\": {\"eval_examples_count\": 10, \"metrics\": {\"ner_f1\": 0, \"ner_token_f1\": 0}, \"time_spent\": \"0:14:52\", \"epochs_done\": 1, \"batches_seen\": 1680, \"train_examples_seen\": 16795, \"loss\": 0.020584200028679334}}\n"
          ]
        },
        {
          "output_type": "stream",
          "name": "stderr",
          "text": [
            "2022-05-22 10:53:24.204 INFO in 'deeppavlov.core.trainers.nn_trainer'['nn_trainer'] at line 212: Did not improve on the ner_f1 of 63.9033\n"
          ]
        },
        {
          "output_type": "stream",
          "name": "stdout",
          "text": [
            "{\"valid\": {\"eval_examples_count\": 1522, \"metrics\": {\"ner_f1\": 60.0, \"ner_token_f1\": 75.975}, \"time_spent\": \"0:14:58\", \"epochs_done\": 1, \"batches_seen\": 1680, \"train_examples_seen\": 16795, \"impatience\": 12, \"patience_limit\": 100}}\n",
            "{\"train\": {\"eval_examples_count\": 10, \"metrics\": {\"ner_f1\": 66.6667, \"ner_token_f1\": 57.1429}, \"time_spent\": \"0:15:01\", \"epochs_done\": 1, \"batches_seen\": 1700, \"train_examples_seen\": 16995, \"loss\": 0.02984311940745101}}\n"
          ]
        },
        {
          "output_type": "stream",
          "name": "stderr",
          "text": [
            "2022-05-22 10:53:33.125 INFO in 'deeppavlov.core.trainers.nn_trainer'['nn_trainer'] at line 212: Did not improve on the ner_f1 of 63.9033\n"
          ]
        },
        {
          "output_type": "stream",
          "name": "stdout",
          "text": [
            "{\"valid\": {\"eval_examples_count\": 1522, \"metrics\": {\"ner_f1\": 59.5506, \"ner_token_f1\": 70.3097}, \"time_spent\": \"0:15:07\", \"epochs_done\": 1, \"batches_seen\": 1700, \"train_examples_seen\": 16995, \"impatience\": 13, \"patience_limit\": 100}}\n",
            "{\"train\": {\"eval_examples_count\": 10, \"metrics\": {\"ner_f1\": 100.0, \"ner_token_f1\": 100.0}, \"time_spent\": \"0:15:10\", \"epochs_done\": 1, \"batches_seen\": 1720, \"train_examples_seen\": 17195, \"loss\": 0.015688403669628315}}\n"
          ]
        },
        {
          "output_type": "stream",
          "name": "stderr",
          "text": [
            "2022-05-22 10:53:41.576 INFO in 'deeppavlov.core.trainers.nn_trainer'['nn_trainer'] at line 212: Did not improve on the ner_f1 of 63.9033\n"
          ]
        },
        {
          "output_type": "stream",
          "name": "stdout",
          "text": [
            "{\"valid\": {\"eval_examples_count\": 1522, \"metrics\": {\"ner_f1\": 60.274, \"ner_token_f1\": 71.73}, \"time_spent\": \"0:15:15\", \"epochs_done\": 1, \"batches_seen\": 1720, \"train_examples_seen\": 17195, \"impatience\": 14, \"patience_limit\": 100}}\n",
            "{\"train\": {\"eval_examples_count\": 10, \"metrics\": {\"ner_f1\": 40.0, \"ner_token_f1\": 100.0}, \"time_spent\": \"0:15:18\", \"epochs_done\": 1, \"batches_seen\": 1740, \"train_examples_seen\": 17395, \"loss\": 0.01567486858693883}}\n"
          ]
        },
        {
          "output_type": "stream",
          "name": "stderr",
          "text": [
            "2022-05-22 10:53:50.387 INFO in 'deeppavlov.core.trainers.nn_trainer'['nn_trainer'] at line 212: Did not improve on the ner_f1 of 63.9033\n"
          ]
        },
        {
          "output_type": "stream",
          "name": "stdout",
          "text": [
            "{\"valid\": {\"eval_examples_count\": 1522, \"metrics\": {\"ner_f1\": 58.7031, \"ner_token_f1\": 72.994}, \"time_spent\": \"0:15:24\", \"epochs_done\": 1, \"batches_seen\": 1740, \"train_examples_seen\": 17395, \"impatience\": 15, \"patience_limit\": 100}}\n",
            "{\"train\": {\"eval_examples_count\": 10, \"metrics\": {\"ner_f1\": 0, \"ner_token_f1\": 0}, \"time_spent\": \"0:15:27\", \"epochs_done\": 1, \"batches_seen\": 1760, \"train_examples_seen\": 17595, \"loss\": 0.023423515199829124}}\n"
          ]
        },
        {
          "output_type": "stream",
          "name": "stderr",
          "text": [
            "2022-05-22 10:53:59.155 INFO in 'deeppavlov.core.trainers.nn_trainer'['nn_trainer'] at line 212: Did not improve on the ner_f1 of 63.9033\n"
          ]
        },
        {
          "output_type": "stream",
          "name": "stdout",
          "text": [
            "{\"valid\": {\"eval_examples_count\": 1522, \"metrics\": {\"ner_f1\": 57.0048, \"ner_token_f1\": 73.54}, \"time_spent\": \"0:15:33\", \"epochs_done\": 1, \"batches_seen\": 1760, \"train_examples_seen\": 17595, \"impatience\": 16, \"patience_limit\": 100}}\n",
            "{\"train\": {\"eval_examples_count\": 10, \"metrics\": {\"ner_f1\": 100.0, \"ner_token_f1\": 100.0}, \"time_spent\": \"0:15:36\", \"epochs_done\": 1, \"batches_seen\": 1780, \"train_examples_seen\": 17795, \"loss\": 0.01345163463629433}}\n"
          ]
        },
        {
          "output_type": "stream",
          "name": "stderr",
          "text": [
            "2022-05-22 10:54:08.15 INFO in 'deeppavlov.core.trainers.nn_trainer'['nn_trainer'] at line 212: Did not improve on the ner_f1 of 63.9033\n"
          ]
        },
        {
          "output_type": "stream",
          "name": "stdout",
          "text": [
            "{\"valid\": {\"eval_examples_count\": 1522, \"metrics\": {\"ner_f1\": 60.2329, \"ner_token_f1\": 73.8278}, \"time_spent\": \"0:15:41\", \"epochs_done\": 1, \"batches_seen\": 1780, \"train_examples_seen\": 17795, \"impatience\": 17, \"patience_limit\": 100}}\n",
            "{\"train\": {\"eval_examples_count\": 10, \"metrics\": {\"ner_f1\": 100.0, \"ner_token_f1\": 100.0}, \"time_spent\": \"0:15:45\", \"epochs_done\": 1, \"batches_seen\": 1800, \"train_examples_seen\": 17995, \"loss\": 0.019014677035738715}}\n"
          ]
        },
        {
          "output_type": "stream",
          "name": "stderr",
          "text": [
            "2022-05-22 10:54:16.660 INFO in 'deeppavlov.core.trainers.nn_trainer'['nn_trainer'] at line 212: Did not improve on the ner_f1 of 63.9033\n"
          ]
        },
        {
          "output_type": "stream",
          "name": "stdout",
          "text": [
            "{\"valid\": {\"eval_examples_count\": 1522, \"metrics\": {\"ner_f1\": 56.5079, \"ner_token_f1\": 75.0422}, \"time_spent\": \"0:15:50\", \"epochs_done\": 1, \"batches_seen\": 1800, \"train_examples_seen\": 17995, \"impatience\": 18, \"patience_limit\": 100}}\n",
            "{\"train\": {\"eval_examples_count\": 10, \"metrics\": {\"ner_f1\": 100.0, \"ner_token_f1\": 100.0}, \"time_spent\": \"0:15:53\", \"epochs_done\": 1, \"batches_seen\": 1820, \"train_examples_seen\": 18195, \"loss\": 0.01730116738108336}}\n"
          ]
        },
        {
          "output_type": "stream",
          "name": "stderr",
          "text": [
            "2022-05-22 10:54:25.271 INFO in 'deeppavlov.core.trainers.nn_trainer'['nn_trainer'] at line 212: Did not improve on the ner_f1 of 63.9033\n"
          ]
        },
        {
          "output_type": "stream",
          "name": "stdout",
          "text": [
            "{\"valid\": {\"eval_examples_count\": 1522, \"metrics\": {\"ner_f1\": 54.698, \"ner_token_f1\": 72.5424}, \"time_spent\": \"0:15:59\", \"epochs_done\": 1, \"batches_seen\": 1820, \"train_examples_seen\": 18195, \"impatience\": 19, \"patience_limit\": 100}}\n",
            "{\"train\": {\"eval_examples_count\": 10, \"metrics\": {\"ner_f1\": 66.6667, \"ner_token_f1\": 87.5}, \"time_spent\": \"0:16:02\", \"epochs_done\": 1, \"batches_seen\": 1840, \"train_examples_seen\": 18395, \"loss\": 0.03418668839585735}}\n"
          ]
        },
        {
          "output_type": "stream",
          "name": "stderr",
          "text": [
            "2022-05-22 10:54:33.822 INFO in 'deeppavlov.core.trainers.nn_trainer'['nn_trainer'] at line 212: Did not improve on the ner_f1 of 63.9033\n"
          ]
        },
        {
          "output_type": "stream",
          "name": "stdout",
          "text": [
            "{\"valid\": {\"eval_examples_count\": 1522, \"metrics\": {\"ner_f1\": 60.1246, \"ner_token_f1\": 74.552}, \"time_spent\": \"0:16:07\", \"epochs_done\": 1, \"batches_seen\": 1840, \"train_examples_seen\": 18395, \"impatience\": 20, \"patience_limit\": 100}}\n",
            "{\"train\": {\"eval_examples_count\": 10, \"metrics\": {\"ner_f1\": 80.0, \"ner_token_f1\": 96.2963}, \"time_spent\": \"0:16:11\", \"epochs_done\": 1, \"batches_seen\": 1860, \"train_examples_seen\": 18595, \"loss\": 0.025204945112636778}}\n"
          ]
        },
        {
          "output_type": "stream",
          "name": "stderr",
          "text": [
            "2022-05-22 10:54:42.671 INFO in 'deeppavlov.core.trainers.nn_trainer'['nn_trainer'] at line 212: Did not improve on the ner_f1 of 63.9033\n"
          ]
        },
        {
          "output_type": "stream",
          "name": "stdout",
          "text": [
            "{\"valid\": {\"eval_examples_count\": 1522, \"metrics\": {\"ner_f1\": 58.954, \"ner_token_f1\": 75.6928}, \"time_spent\": \"0:16:16\", \"epochs_done\": 1, \"batches_seen\": 1860, \"train_examples_seen\": 18595, \"impatience\": 21, \"patience_limit\": 100}}\n",
            "{\"train\": {\"eval_examples_count\": 10, \"metrics\": {\"ner_f1\": 100.0, \"ner_token_f1\": 100.0}, \"time_spent\": \"0:16:19\", \"epochs_done\": 1, \"batches_seen\": 1880, \"train_examples_seen\": 18795, \"loss\": 0.02866913704565377}}\n"
          ]
        },
        {
          "output_type": "stream",
          "name": "stderr",
          "text": [
            "2022-05-22 10:54:51.278 INFO in 'deeppavlov.core.trainers.nn_trainer'['nn_trainer'] at line 207: Improved best ner_f1 from 63.9033 to 64.7154\n",
            "2022-05-22 10:54:51.282 INFO in 'deeppavlov.core.trainers.nn_trainer'['nn_trainer'] at line 209: Saving model\n",
            "2022-05-22 10:54:51.286 INFO in 'deeppavlov.core.models.torch_model'['torch_model'] at line 195: Saving model to /content/drive/MyDrive/nlp/project/deep_pavlov/models/ner_ontonotes_bert_mult_torch4/bert-base-multilingual-cased/model.pth.tar.\n"
          ]
        },
        {
          "output_type": "stream",
          "name": "stdout",
          "text": [
            "{\"valid\": {\"eval_examples_count\": 1522, \"metrics\": {\"ner_f1\": 64.7154, \"ner_token_f1\": 74.901}, \"time_spent\": \"0:16:25\", \"epochs_done\": 1, \"batches_seen\": 1880, \"train_examples_seen\": 18795, \"impatience\": 0, \"patience_limit\": 100}}\n",
            "{\"train\": {\"eval_examples_count\": 10, \"metrics\": {\"ner_f1\": 100.0, \"ner_token_f1\": 100.0}, \"time_spent\": \"0:16:39\", \"epochs_done\": 1, \"batches_seen\": 1900, \"train_examples_seen\": 18995, \"loss\": 0.013902228413644479}}\n"
          ]
        },
        {
          "output_type": "stream",
          "name": "stderr",
          "text": [
            "2022-05-22 10:55:12.114 INFO in 'deeppavlov.core.trainers.nn_trainer'['nn_trainer'] at line 212: Did not improve on the ner_f1 of 64.7154\n"
          ]
        },
        {
          "output_type": "stream",
          "name": "stdout",
          "text": [
            "{\"valid\": {\"eval_examples_count\": 1522, \"metrics\": {\"ner_f1\": 62.1795, \"ner_token_f1\": 74.4906}, \"time_spent\": \"0:16:46\", \"epochs_done\": 1, \"batches_seen\": 1900, \"train_examples_seen\": 18995, \"impatience\": 1, \"patience_limit\": 100}}\n",
            "{\"train\": {\"eval_examples_count\": 10, \"metrics\": {\"ner_f1\": 100.0, \"ner_token_f1\": 100.0}, \"time_spent\": \"0:16:50\", \"epochs_done\": 1, \"batches_seen\": 1920, \"train_examples_seen\": 19195, \"loss\": 0.01342027320570196}}\n"
          ]
        },
        {
          "output_type": "stream",
          "name": "stderr",
          "text": [
            "2022-05-22 10:55:23.271 INFO in 'deeppavlov.core.trainers.nn_trainer'['nn_trainer'] at line 212: Did not improve on the ner_f1 of 64.7154\n"
          ]
        },
        {
          "output_type": "stream",
          "name": "stdout",
          "text": [
            "{\"valid\": {\"eval_examples_count\": 1522, \"metrics\": {\"ner_f1\": 62.7451, \"ner_token_f1\": 72.7425}, \"time_spent\": \"0:16:57\", \"epochs_done\": 1, \"batches_seen\": 1920, \"train_examples_seen\": 19195, \"impatience\": 2, \"patience_limit\": 100}}\n",
            "{\"train\": {\"eval_examples_count\": 10, \"metrics\": {\"ner_f1\": 20.0, \"ner_token_f1\": 84.8485}, \"time_spent\": \"0:17:00\", \"epochs_done\": 1, \"batches_seen\": 1940, \"train_examples_seen\": 19395, \"loss\": 0.029067553768254584}}\n"
          ]
        },
        {
          "output_type": "stream",
          "name": "stderr",
          "text": [
            "2022-05-22 10:55:32.71 INFO in 'deeppavlov.core.trainers.nn_trainer'['nn_trainer'] at line 212: Did not improve on the ner_f1 of 64.7154\n"
          ]
        },
        {
          "output_type": "stream",
          "name": "stdout",
          "text": [
            "{\"valid\": {\"eval_examples_count\": 1522, \"metrics\": {\"ner_f1\": 62.0438, \"ner_token_f1\": 74.2411}, \"time_spent\": \"0:17:05\", \"epochs_done\": 1, \"batches_seen\": 1940, \"train_examples_seen\": 19395, \"impatience\": 3, \"patience_limit\": 100}}\n",
            "{\"train\": {\"eval_examples_count\": 10, \"metrics\": {\"ner_f1\": 100.0, \"ner_token_f1\": 100.0}, \"time_spent\": \"0:17:09\", \"epochs_done\": 1, \"batches_seen\": 1960, \"train_examples_seen\": 19595, \"loss\": 0.02773515746521298}}\n"
          ]
        },
        {
          "output_type": "stream",
          "name": "stderr",
          "text": [
            "2022-05-22 10:55:40.752 INFO in 'deeppavlov.core.trainers.nn_trainer'['nn_trainer'] at line 212: Did not improve on the ner_f1 of 64.7154\n"
          ]
        },
        {
          "output_type": "stream",
          "name": "stdout",
          "text": [
            "{\"valid\": {\"eval_examples_count\": 1522, \"metrics\": {\"ner_f1\": 55.7166, \"ner_token_f1\": 72.2388}, \"time_spent\": \"0:17:14\", \"epochs_done\": 1, \"batches_seen\": 1960, \"train_examples_seen\": 19595, \"impatience\": 4, \"patience_limit\": 100}}\n",
            "{\"train\": {\"eval_examples_count\": 10, \"metrics\": {\"ner_f1\": 0, \"ner_token_f1\": 100.0}, \"time_spent\": \"0:17:17\", \"epochs_done\": 1, \"batches_seen\": 1980, \"train_examples_seen\": 19795, \"loss\": 0.0266745011031162}}\n"
          ]
        },
        {
          "output_type": "stream",
          "name": "stderr",
          "text": [
            "2022-05-22 10:55:49.573 INFO in 'deeppavlov.core.trainers.nn_trainer'['nn_trainer'] at line 212: Did not improve on the ner_f1 of 64.7154\n"
          ]
        },
        {
          "output_type": "stream",
          "name": "stdout",
          "text": [
            "{\"valid\": {\"eval_examples_count\": 1522, \"metrics\": {\"ner_f1\": 61.3718, \"ner_token_f1\": 73.0838}, \"time_spent\": \"0:17:23\", \"epochs_done\": 1, \"batches_seen\": 1980, \"train_examples_seen\": 19795, \"impatience\": 5, \"patience_limit\": 100}}\n",
            "{\"train\": {\"eval_examples_count\": 10, \"metrics\": {\"ner_f1\": 100.0, \"ner_token_f1\": 100.0}, \"time_spent\": \"0:17:26\", \"epochs_done\": 1, \"batches_seen\": 2000, \"train_examples_seen\": 19995, \"loss\": 0.012353048785007559}}\n"
          ]
        },
        {
          "output_type": "stream",
          "name": "stderr",
          "text": [
            "2022-05-22 10:55:58.160 INFO in 'deeppavlov.core.trainers.nn_trainer'['nn_trainer'] at line 207: Improved best ner_f1 from 64.7154 to 64.7746\n",
            "2022-05-22 10:55:58.161 INFO in 'deeppavlov.core.trainers.nn_trainer'['nn_trainer'] at line 209: Saving model\n",
            "2022-05-22 10:55:58.164 INFO in 'deeppavlov.core.models.torch_model'['torch_model'] at line 195: Saving model to /content/drive/MyDrive/nlp/project/deep_pavlov/models/ner_ontonotes_bert_mult_torch4/bert-base-multilingual-cased/model.pth.tar.\n"
          ]
        },
        {
          "output_type": "stream",
          "name": "stdout",
          "text": [
            "{\"valid\": {\"eval_examples_count\": 1522, \"metrics\": {\"ner_f1\": 64.7746, \"ner_token_f1\": 75.2941}, \"time_spent\": \"0:17:32\", \"epochs_done\": 1, \"batches_seen\": 2000, \"train_examples_seen\": 19995, \"impatience\": 0, \"patience_limit\": 100}}\n",
            "{\"train\": {\"eval_examples_count\": 10, \"metrics\": {\"ner_f1\": 0, \"ner_token_f1\": 0}, \"time_spent\": \"0:17:46\", \"epochs_done\": 1, \"batches_seen\": 2020, \"train_examples_seen\": 20195, \"loss\": 0.024676378641015618}}\n"
          ]
        },
        {
          "output_type": "stream",
          "name": "stderr",
          "text": [
            "2022-05-22 10:56:17.452 INFO in 'deeppavlov.core.trainers.nn_trainer'['nn_trainer'] at line 212: Did not improve on the ner_f1 of 64.7746\n"
          ]
        },
        {
          "output_type": "stream",
          "name": "stdout",
          "text": [
            "{\"valid\": {\"eval_examples_count\": 1522, \"metrics\": {\"ner_f1\": 62.8664, \"ner_token_f1\": 75.5486}, \"time_spent\": \"0:17:51\", \"epochs_done\": 1, \"batches_seen\": 2020, \"train_examples_seen\": 20195, \"impatience\": 1, \"patience_limit\": 100}}\n",
            "{\"train\": {\"eval_examples_count\": 10, \"metrics\": {\"ner_f1\": 0, \"ner_token_f1\": 0}, \"time_spent\": \"0:17:54\", \"epochs_done\": 1, \"batches_seen\": 2040, \"train_examples_seen\": 20395, \"loss\": 0.014274856168049155}}\n"
          ]
        },
        {
          "output_type": "stream",
          "name": "stderr",
          "text": [
            "2022-05-22 10:56:25.988 INFO in 'deeppavlov.core.trainers.nn_trainer'['nn_trainer'] at line 212: Did not improve on the ner_f1 of 64.7746\n"
          ]
        },
        {
          "output_type": "stream",
          "name": "stdout",
          "text": [
            "{\"valid\": {\"eval_examples_count\": 1522, \"metrics\": {\"ner_f1\": 62.1931, \"ner_token_f1\": 75.9305}, \"time_spent\": \"0:17:59\", \"epochs_done\": 1, \"batches_seen\": 2040, \"train_examples_seen\": 20395, \"impatience\": 2, \"patience_limit\": 100}}\n",
            "{\"train\": {\"eval_examples_count\": 10, \"metrics\": {\"ner_f1\": 100.0, \"ner_token_f1\": 100.0}, \"time_spent\": \"0:18:03\", \"epochs_done\": 1, \"batches_seen\": 2060, \"train_examples_seen\": 20595, \"loss\": 0.0077969714846403805}}\n"
          ]
        },
        {
          "output_type": "stream",
          "name": "stderr",
          "text": [
            "2022-05-22 10:56:34.815 INFO in 'deeppavlov.core.trainers.nn_trainer'['nn_trainer'] at line 212: Did not improve on the ner_f1 of 64.7746\n"
          ]
        },
        {
          "output_type": "stream",
          "name": "stdout",
          "text": [
            "{\"valid\": {\"eval_examples_count\": 1522, \"metrics\": {\"ner_f1\": 63.228, \"ner_token_f1\": 75.3527}, \"time_spent\": \"0:18:08\", \"epochs_done\": 1, \"batches_seen\": 2060, \"train_examples_seen\": 20595, \"impatience\": 3, \"patience_limit\": 100}}\n",
            "{\"train\": {\"eval_examples_count\": 10, \"metrics\": {\"ner_f1\": 0, \"ner_token_f1\": 0}, \"time_spent\": \"0:18:12\", \"epochs_done\": 1, \"batches_seen\": 2080, \"train_examples_seen\": 20795, \"loss\": 0.02871430757077178}}\n"
          ]
        },
        {
          "output_type": "stream",
          "name": "stderr",
          "text": [
            "2022-05-22 10:56:43.415 INFO in 'deeppavlov.core.trainers.nn_trainer'['nn_trainer'] at line 212: Did not improve on the ner_f1 of 64.7746\n"
          ]
        },
        {
          "output_type": "stream",
          "name": "stdout",
          "text": [
            "{\"valid\": {\"eval_examples_count\": 1522, \"metrics\": {\"ner_f1\": 61.9718, \"ner_token_f1\": 76.2481}, \"time_spent\": \"0:18:17\", \"epochs_done\": 1, \"batches_seen\": 2080, \"train_examples_seen\": 20795, \"impatience\": 4, \"patience_limit\": 100}}\n",
            "{\"train\": {\"eval_examples_count\": 10, \"metrics\": {\"ner_f1\": 22.2222, \"ner_token_f1\": 85.7143}, \"time_spent\": \"0:18:20\", \"epochs_done\": 1, \"batches_seen\": 2100, \"train_examples_seen\": 20995, \"loss\": 0.022861023087170907}}\n"
          ]
        },
        {
          "output_type": "stream",
          "name": "stderr",
          "text": [
            "2022-05-22 10:56:52.143 INFO in 'deeppavlov.core.trainers.nn_trainer'['nn_trainer'] at line 212: Did not improve on the ner_f1 of 64.7746\n"
          ]
        },
        {
          "output_type": "stream",
          "name": "stdout",
          "text": [
            "{\"valid\": {\"eval_examples_count\": 1522, \"metrics\": {\"ner_f1\": 63.4441, \"ner_token_f1\": 75.1186}, \"time_spent\": \"0:18:26\", \"epochs_done\": 1, \"batches_seen\": 2100, \"train_examples_seen\": 20995, \"impatience\": 5, \"patience_limit\": 100}}\n",
            "{\"train\": {\"eval_examples_count\": 10, \"metrics\": {\"ner_f1\": 100.0, \"ner_token_f1\": 100.0}, \"time_spent\": \"0:18:29\", \"epochs_done\": 1, \"batches_seen\": 2120, \"train_examples_seen\": 21195, \"loss\": 0.012262511819426437}}\n"
          ]
        },
        {
          "output_type": "stream",
          "name": "stderr",
          "text": [
            "2022-05-22 10:57:00.627 INFO in 'deeppavlov.core.trainers.nn_trainer'['nn_trainer'] at line 207: Improved best ner_f1 from 64.7746 to 65.7487\n",
            "2022-05-22 10:57:00.628 INFO in 'deeppavlov.core.trainers.nn_trainer'['nn_trainer'] at line 209: Saving model\n",
            "2022-05-22 10:57:00.631 INFO in 'deeppavlov.core.models.torch_model'['torch_model'] at line 195: Saving model to /content/drive/MyDrive/nlp/project/deep_pavlov/models/ner_ontonotes_bert_mult_torch4/bert-base-multilingual-cased/model.pth.tar.\n"
          ]
        },
        {
          "output_type": "stream",
          "name": "stdout",
          "text": [
            "{\"valid\": {\"eval_examples_count\": 1522, \"metrics\": {\"ner_f1\": 65.7487, \"ner_token_f1\": 74.6148}, \"time_spent\": \"0:18:34\", \"epochs_done\": 1, \"batches_seen\": 2120, \"train_examples_seen\": 21195, \"impatience\": 0, \"patience_limit\": 100}}\n",
            "{\"train\": {\"eval_examples_count\": 10, \"metrics\": {\"ner_f1\": 100.0, \"ner_token_f1\": 100.0}, \"time_spent\": \"0:18:48\", \"epochs_done\": 1, \"batches_seen\": 2140, \"train_examples_seen\": 21395, \"loss\": 0.02490993167302804}}\n"
          ]
        },
        {
          "output_type": "stream",
          "name": "stderr",
          "text": [
            "2022-05-22 10:57:19.557 INFO in 'deeppavlov.core.trainers.nn_trainer'['nn_trainer'] at line 212: Did not improve on the ner_f1 of 65.7487\n"
          ]
        },
        {
          "output_type": "stream",
          "name": "stdout",
          "text": [
            "{\"valid\": {\"eval_examples_count\": 1522, \"metrics\": {\"ner_f1\": 65.4362, \"ner_token_f1\": 76.4331}, \"time_spent\": \"0:18:53\", \"epochs_done\": 1, \"batches_seen\": 2140, \"train_examples_seen\": 21395, \"impatience\": 1, \"patience_limit\": 100}}\n",
            "{\"train\": {\"eval_examples_count\": 10, \"metrics\": {\"ner_f1\": 20.0, \"ner_token_f1\": 100.0}, \"time_spent\": \"0:18:56\", \"epochs_done\": 1, \"batches_seen\": 2160, \"train_examples_seen\": 21595, \"loss\": 0.03377611865871586}}\n"
          ]
        },
        {
          "output_type": "stream",
          "name": "stderr",
          "text": [
            "2022-05-22 10:57:28.557 INFO in 'deeppavlov.core.trainers.nn_trainer'['nn_trainer'] at line 212: Did not improve on the ner_f1 of 65.7487\n"
          ]
        },
        {
          "output_type": "stream",
          "name": "stdout",
          "text": [
            "{\"valid\": {\"eval_examples_count\": 1522, \"metrics\": {\"ner_f1\": 55.7185, \"ner_token_f1\": 74.6951}, \"time_spent\": \"0:19:02\", \"epochs_done\": 1, \"batches_seen\": 2160, \"train_examples_seen\": 21595, \"impatience\": 2, \"patience_limit\": 100}}\n",
            "{\"train\": {\"eval_examples_count\": 10, \"metrics\": {\"ner_f1\": 100.0, \"ner_token_f1\": 100.0}, \"time_spent\": \"0:19:06\", \"epochs_done\": 1, \"batches_seen\": 2180, \"train_examples_seen\": 21795, \"loss\": 0.017887711011280772}}\n"
          ]
        },
        {
          "output_type": "stream",
          "name": "stderr",
          "text": [
            "2022-05-22 10:57:39.669 INFO in 'deeppavlov.core.trainers.nn_trainer'['nn_trainer'] at line 212: Did not improve on the ner_f1 of 65.7487\n"
          ]
        },
        {
          "output_type": "stream",
          "name": "stdout",
          "text": [
            "{\"valid\": {\"eval_examples_count\": 1522, \"metrics\": {\"ner_f1\": 57.6105, \"ner_token_f1\": 74.6244}, \"time_spent\": \"0:19:13\", \"epochs_done\": 1, \"batches_seen\": 2180, \"train_examples_seen\": 21795, \"impatience\": 3, \"patience_limit\": 100}}\n",
            "{\"train\": {\"eval_examples_count\": 10, \"metrics\": {\"ner_f1\": 100.0, \"ner_token_f1\": 100.0}, \"time_spent\": \"0:19:17\", \"epochs_done\": 1, \"batches_seen\": 2200, \"train_examples_seen\": 21995, \"loss\": 0.027498630811169277}}\n"
          ]
        },
        {
          "output_type": "stream",
          "name": "stderr",
          "text": [
            "2022-05-22 10:57:49.384 INFO in 'deeppavlov.core.trainers.nn_trainer'['nn_trainer'] at line 212: Did not improve on the ner_f1 of 65.7487\n"
          ]
        },
        {
          "output_type": "stream",
          "name": "stdout",
          "text": [
            "{\"valid\": {\"eval_examples_count\": 1522, \"metrics\": {\"ner_f1\": 61.0272, \"ner_token_f1\": 75.7957}, \"time_spent\": \"0:19:23\", \"epochs_done\": 1, \"batches_seen\": 2200, \"train_examples_seen\": 21995, \"impatience\": 4, \"patience_limit\": 100}}\n",
            "{\"train\": {\"eval_examples_count\": 10, \"metrics\": {\"ner_f1\": 0, \"ner_token_f1\": 0}, \"time_spent\": \"0:19:26\", \"epochs_done\": 1, \"batches_seen\": 2220, \"train_examples_seen\": 22195, \"loss\": 0.02560254942436586}}\n"
          ]
        },
        {
          "output_type": "stream",
          "name": "stderr",
          "text": [
            "2022-05-22 10:57:57.955 INFO in 'deeppavlov.core.trainers.nn_trainer'['nn_trainer'] at line 212: Did not improve on the ner_f1 of 65.7487\n"
          ]
        },
        {
          "output_type": "stream",
          "name": "stdout",
          "text": [
            "{\"valid\": {\"eval_examples_count\": 1522, \"metrics\": {\"ner_f1\": 64.6302, \"ner_token_f1\": 77.0968}, \"time_spent\": \"0:19:31\", \"epochs_done\": 1, \"batches_seen\": 2220, \"train_examples_seen\": 22195, \"impatience\": 5, \"patience_limit\": 100}}\n",
            "{\"train\": {\"eval_examples_count\": 10, \"metrics\": {\"ner_f1\": 50.0, \"ner_token_f1\": 20.0}, \"time_spent\": \"0:19:35\", \"epochs_done\": 1, \"batches_seen\": 2240, \"train_examples_seen\": 22395, \"loss\": 0.033886387772508894}}\n"
          ]
        },
        {
          "output_type": "stream",
          "name": "stderr",
          "text": [
            "2022-05-22 10:58:06.436 INFO in 'deeppavlov.core.trainers.nn_trainer'['nn_trainer'] at line 212: Did not improve on the ner_f1 of 65.7487\n"
          ]
        },
        {
          "output_type": "stream",
          "name": "stdout",
          "text": [
            "{\"valid\": {\"eval_examples_count\": 1522, \"metrics\": {\"ner_f1\": 64.375, \"ner_token_f1\": 75.0355}, \"time_spent\": \"0:19:40\", \"epochs_done\": 1, \"batches_seen\": 2240, \"train_examples_seen\": 22395, \"impatience\": 6, \"patience_limit\": 100}}\n",
            "{\"train\": {\"eval_examples_count\": 10, \"metrics\": {\"ner_f1\": 0, \"ner_token_f1\": 0}, \"time_spent\": \"0:19:43\", \"epochs_done\": 1, \"batches_seen\": 2260, \"train_examples_seen\": 22595, \"loss\": 0.021110923323431053}}\n"
          ]
        },
        {
          "output_type": "stream",
          "name": "stderr",
          "text": [
            "2022-05-22 10:58:15.14 INFO in 'deeppavlov.core.trainers.nn_trainer'['nn_trainer'] at line 212: Did not improve on the ner_f1 of 65.7487\n"
          ]
        },
        {
          "output_type": "stream",
          "name": "stdout",
          "text": [
            "{\"valid\": {\"eval_examples_count\": 1522, \"metrics\": {\"ner_f1\": 59.4128, \"ner_token_f1\": 72.2615}, \"time_spent\": \"0:19:48\", \"epochs_done\": 1, \"batches_seen\": 2260, \"train_examples_seen\": 22595, \"impatience\": 7, \"patience_limit\": 100}}\n",
            "{\"train\": {\"eval_examples_count\": 10, \"metrics\": {\"ner_f1\": 100.0, \"ner_token_f1\": 100.0}, \"time_spent\": \"0:19:52\", \"epochs_done\": 1, \"batches_seen\": 2280, \"train_examples_seen\": 22795, \"loss\": 0.024322452619526303}}\n"
          ]
        },
        {
          "output_type": "stream",
          "name": "stderr",
          "text": [
            "2022-05-22 10:58:23.652 INFO in 'deeppavlov.core.trainers.nn_trainer'['nn_trainer'] at line 212: Did not improve on the ner_f1 of 65.7487\n"
          ]
        },
        {
          "output_type": "stream",
          "name": "stdout",
          "text": [
            "{\"valid\": {\"eval_examples_count\": 1522, \"metrics\": {\"ner_f1\": 57.5563, \"ner_token_f1\": 73.7546}, \"time_spent\": \"0:19:57\", \"epochs_done\": 1, \"batches_seen\": 2280, \"train_examples_seen\": 22795, \"impatience\": 8, \"patience_limit\": 100}}\n",
            "{\"train\": {\"eval_examples_count\": 10, \"metrics\": {\"ner_f1\": 0, \"ner_token_f1\": 0}, \"time_spent\": \"0:20:00\", \"epochs_done\": 1, \"batches_seen\": 2300, \"train_examples_seen\": 22995, \"loss\": 0.01145385053823702}}\n"
          ]
        },
        {
          "output_type": "stream",
          "name": "stderr",
          "text": [
            "2022-05-22 10:58:32.293 INFO in 'deeppavlov.core.trainers.nn_trainer'['nn_trainer'] at line 212: Did not improve on the ner_f1 of 65.7487\n"
          ]
        },
        {
          "output_type": "stream",
          "name": "stdout",
          "text": [
            "{\"valid\": {\"eval_examples_count\": 1522, \"metrics\": {\"ner_f1\": 64.539, \"ner_token_f1\": 73.4728}, \"time_spent\": \"0:20:06\", \"epochs_done\": 1, \"batches_seen\": 2300, \"train_examples_seen\": 22995, \"impatience\": 9, \"patience_limit\": 100}}\n",
            "{\"train\": {\"eval_examples_count\": 10, \"metrics\": {\"ner_f1\": 100.0, \"ner_token_f1\": 100.0}, \"time_spent\": \"0:20:09\", \"epochs_done\": 1, \"batches_seen\": 2320, \"train_examples_seen\": 23195, \"loss\": 0.02258213752284064}}\n"
          ]
        },
        {
          "output_type": "stream",
          "name": "stderr",
          "text": [
            "2022-05-22 10:58:40.847 INFO in 'deeppavlov.core.trainers.nn_trainer'['nn_trainer'] at line 212: Did not improve on the ner_f1 of 65.7487\n"
          ]
        },
        {
          "output_type": "stream",
          "name": "stdout",
          "text": [
            "{\"valid\": {\"eval_examples_count\": 1522, \"metrics\": {\"ner_f1\": 65.1007, \"ner_token_f1\": 75.4373}, \"time_spent\": \"0:20:14\", \"epochs_done\": 1, \"batches_seen\": 2320, \"train_examples_seen\": 23195, \"impatience\": 10, \"patience_limit\": 100}}\n",
            "{\"train\": {\"eval_examples_count\": 10, \"metrics\": {\"ner_f1\": 100.0, \"ner_token_f1\": 100.0}, \"time_spent\": \"0:20:18\", \"epochs_done\": 1, \"batches_seen\": 2340, \"train_examples_seen\": 23395, \"loss\": 0.025171671152929776}}\n"
          ]
        },
        {
          "output_type": "stream",
          "name": "stderr",
          "text": [
            "2022-05-22 10:58:49.524 INFO in 'deeppavlov.core.trainers.nn_trainer'['nn_trainer'] at line 212: Did not improve on the ner_f1 of 65.7487\n"
          ]
        },
        {
          "output_type": "stream",
          "name": "stdout",
          "text": [
            "{\"valid\": {\"eval_examples_count\": 1522, \"metrics\": {\"ner_f1\": 64.7841, \"ner_token_f1\": 75.9135}, \"time_spent\": \"0:20:23\", \"epochs_done\": 1, \"batches_seen\": 2340, \"train_examples_seen\": 23395, \"impatience\": 11, \"patience_limit\": 100}}\n",
            "{\"train\": {\"eval_examples_count\": 10, \"metrics\": {\"ner_f1\": 0, \"ner_token_f1\": 80.0}, \"time_spent\": \"0:20:26\", \"epochs_done\": 1, \"batches_seen\": 2360, \"train_examples_seen\": 23595, \"loss\": 0.012104741427174303}}\n"
          ]
        },
        {
          "output_type": "stream",
          "name": "stderr",
          "text": [
            "2022-05-22 10:58:58.174 INFO in 'deeppavlov.core.trainers.nn_trainer'['nn_trainer'] at line 212: Did not improve on the ner_f1 of 65.7487\n"
          ]
        },
        {
          "output_type": "stream",
          "name": "stdout",
          "text": [
            "{\"valid\": {\"eval_examples_count\": 1522, \"metrics\": {\"ner_f1\": 59.2705, \"ner_token_f1\": 70.931}, \"time_spent\": \"0:20:32\", \"epochs_done\": 1, \"batches_seen\": 2360, \"train_examples_seen\": 23595, \"impatience\": 12, \"patience_limit\": 100}}\n",
            "{\"train\": {\"eval_examples_count\": 10, \"metrics\": {\"ner_f1\": 0, \"ner_token_f1\": 0}, \"time_spent\": \"0:20:35\", \"epochs_done\": 1, \"batches_seen\": 2380, \"train_examples_seen\": 23795, \"loss\": 0.031882781914464434}}\n"
          ]
        },
        {
          "output_type": "stream",
          "name": "stderr",
          "text": [
            "2022-05-22 10:59:06.853 INFO in 'deeppavlov.core.trainers.nn_trainer'['nn_trainer'] at line 212: Did not improve on the ner_f1 of 65.7487\n"
          ]
        },
        {
          "output_type": "stream",
          "name": "stdout",
          "text": [
            "{\"valid\": {\"eval_examples_count\": 1522, \"metrics\": {\"ner_f1\": 63.6054, \"ner_token_f1\": 74.2387}, \"time_spent\": \"0:20:40\", \"epochs_done\": 1, \"batches_seen\": 2380, \"train_examples_seen\": 23795, \"impatience\": 13, \"patience_limit\": 100}}\n",
            "{\"train\": {\"eval_examples_count\": 10, \"metrics\": {\"ner_f1\": 0, \"ner_token_f1\": 0}, \"time_spent\": \"0:20:43\", \"epochs_done\": 1, \"batches_seen\": 2400, \"train_examples_seen\": 23995, \"loss\": 0.028447440018499037}}\n"
          ]
        },
        {
          "output_type": "stream",
          "name": "stderr",
          "text": [
            "2022-05-22 10:59:15.409 INFO in 'deeppavlov.core.trainers.nn_trainer'['nn_trainer'] at line 212: Did not improve on the ner_f1 of 65.7487\n"
          ]
        },
        {
          "output_type": "stream",
          "name": "stdout",
          "text": [
            "{\"valid\": {\"eval_examples_count\": 1522, \"metrics\": {\"ner_f1\": 57.0136, \"ner_token_f1\": 72.2498}, \"time_spent\": \"0:20:49\", \"epochs_done\": 1, \"batches_seen\": 2400, \"train_examples_seen\": 23995, \"impatience\": 14, \"patience_limit\": 100}}\n",
            "{\"train\": {\"eval_examples_count\": 10, \"metrics\": {\"ner_f1\": 50.0, \"ner_token_f1\": 93.3333}, \"time_spent\": \"0:20:52\", \"epochs_done\": 1, \"batches_seen\": 2420, \"train_examples_seen\": 24195, \"loss\": 0.01778075026013539}}\n"
          ]
        },
        {
          "output_type": "stream",
          "name": "stderr",
          "text": [
            "2022-05-22 10:59:24.89 INFO in 'deeppavlov.core.trainers.nn_trainer'['nn_trainer'] at line 207: Improved best ner_f1 from 65.7487 to 66.3212\n",
            "2022-05-22 10:59:24.90 INFO in 'deeppavlov.core.trainers.nn_trainer'['nn_trainer'] at line 209: Saving model\n",
            "2022-05-22 10:59:24.101 INFO in 'deeppavlov.core.models.torch_model'['torch_model'] at line 195: Saving model to /content/drive/MyDrive/nlp/project/deep_pavlov/models/ner_ontonotes_bert_mult_torch4/bert-base-multilingual-cased/model.pth.tar.\n"
          ]
        },
        {
          "output_type": "stream",
          "name": "stdout",
          "text": [
            "{\"valid\": {\"eval_examples_count\": 1522, \"metrics\": {\"ner_f1\": 66.3212, \"ner_token_f1\": 73.6364}, \"time_spent\": \"0:20:57\", \"epochs_done\": 1, \"batches_seen\": 2420, \"train_examples_seen\": 24195, \"impatience\": 0, \"patience_limit\": 100}}\n",
            "{\"train\": {\"eval_examples_count\": 10, \"metrics\": {\"ner_f1\": 0, \"ner_token_f1\": 0}, \"time_spent\": \"0:21:11\", \"epochs_done\": 1, \"batches_seen\": 2440, \"train_examples_seen\": 24395, \"loss\": 0.029765398841846036}}\n"
          ]
        },
        {
          "output_type": "stream",
          "name": "stderr",
          "text": [
            "2022-05-22 10:59:42.779 INFO in 'deeppavlov.core.trainers.nn_trainer'['nn_trainer'] at line 212: Did not improve on the ner_f1 of 66.3212\n"
          ]
        },
        {
          "output_type": "stream",
          "name": "stdout",
          "text": [
            "{\"valid\": {\"eval_examples_count\": 1522, \"metrics\": {\"ner_f1\": 65.2308, \"ner_token_f1\": 75.2762}, \"time_spent\": \"0:21:16\", \"epochs_done\": 1, \"batches_seen\": 2440, \"train_examples_seen\": 24395, \"impatience\": 1, \"patience_limit\": 100}}\n",
            "{\"train\": {\"eval_examples_count\": 10, \"metrics\": {\"ner_f1\": 100.0, \"ner_token_f1\": 100.0}, \"time_spent\": \"0:21:19\", \"epochs_done\": 1, \"batches_seen\": 2460, \"train_examples_seen\": 24595, \"loss\": 0.009929767872381489}}\n"
          ]
        },
        {
          "output_type": "stream",
          "name": "stderr",
          "text": [
            "2022-05-22 10:59:51.787 INFO in 'deeppavlov.core.trainers.nn_trainer'['nn_trainer'] at line 212: Did not improve on the ner_f1 of 66.3212\n"
          ]
        },
        {
          "output_type": "stream",
          "name": "stdout",
          "text": [
            "{\"valid\": {\"eval_examples_count\": 1522, \"metrics\": {\"ner_f1\": 60.9351, \"ner_token_f1\": 74.6725}, \"time_spent\": \"0:21:25\", \"epochs_done\": 1, \"batches_seen\": 2460, \"train_examples_seen\": 24595, \"impatience\": 2, \"patience_limit\": 100}}\n",
            "{\"train\": {\"eval_examples_count\": 10, \"metrics\": {\"ner_f1\": 0, \"ner_token_f1\": 0}, \"time_spent\": \"0:21:29\", \"epochs_done\": 1, \"batches_seen\": 2480, \"train_examples_seen\": 24795, \"loss\": 0.016398877972824265}}\n"
          ]
        },
        {
          "output_type": "stream",
          "name": "stderr",
          "text": [
            "2022-05-22 11:00:02.452 INFO in 'deeppavlov.core.trainers.nn_trainer'['nn_trainer'] at line 212: Did not improve on the ner_f1 of 66.3212\n"
          ]
        },
        {
          "output_type": "stream",
          "name": "stdout",
          "text": [
            "{\"valid\": {\"eval_examples_count\": 1522, \"metrics\": {\"ner_f1\": 61.3208, \"ner_token_f1\": 75.0579}, \"time_spent\": \"0:21:36\", \"epochs_done\": 1, \"batches_seen\": 2480, \"train_examples_seen\": 24795, \"impatience\": 3, \"patience_limit\": 100}}\n",
            "{\"train\": {\"eval_examples_count\": 10, \"metrics\": {\"ner_f1\": 0, \"ner_token_f1\": 66.6667}, \"time_spent\": \"0:21:40\", \"epochs_done\": 1, \"batches_seen\": 2500, \"train_examples_seen\": 24995, \"loss\": 0.01697303937326069}}\n"
          ]
        },
        {
          "output_type": "stream",
          "name": "stderr",
          "text": [
            "2022-05-22 11:00:11.987 INFO in 'deeppavlov.core.trainers.nn_trainer'['nn_trainer'] at line 212: Did not improve on the ner_f1 of 66.3212\n"
          ]
        },
        {
          "output_type": "stream",
          "name": "stdout",
          "text": [
            "{\"valid\": {\"eval_examples_count\": 1522, \"metrics\": {\"ner_f1\": 64.2623, \"ner_token_f1\": 73.6364}, \"time_spent\": \"0:21:45\", \"epochs_done\": 1, \"batches_seen\": 2500, \"train_examples_seen\": 24995, \"impatience\": 4, \"patience_limit\": 100}}\n",
            "{\"train\": {\"eval_examples_count\": 10, \"metrics\": {\"ner_f1\": 100.0, \"ner_token_f1\": 100.0}, \"time_spent\": \"0:21:49\", \"epochs_done\": 1, \"batches_seen\": 2520, \"train_examples_seen\": 25195, \"loss\": 0.01655527581460774}}\n"
          ]
        },
        {
          "output_type": "stream",
          "name": "stderr",
          "text": [
            "2022-05-22 11:00:20.698 INFO in 'deeppavlov.core.trainers.nn_trainer'['nn_trainer'] at line 212: Did not improve on the ner_f1 of 66.3212\n"
          ]
        },
        {
          "output_type": "stream",
          "name": "stdout",
          "text": [
            "{\"valid\": {\"eval_examples_count\": 1522, \"metrics\": {\"ner_f1\": 64.7709, \"ner_token_f1\": 75.3741}, \"time_spent\": \"0:21:54\", \"epochs_done\": 1, \"batches_seen\": 2520, \"train_examples_seen\": 25195, \"impatience\": 5, \"patience_limit\": 100}}\n",
            "{\"train\": {\"eval_examples_count\": 10, \"metrics\": {\"ner_f1\": 0, \"ner_token_f1\": 0}, \"time_spent\": \"0:21:57\", \"epochs_done\": 1, \"batches_seen\": 2540, \"train_examples_seen\": 25395, \"loss\": 0.033572438897681425}}\n"
          ]
        },
        {
          "output_type": "stream",
          "name": "stderr",
          "text": [
            "2022-05-22 11:00:29.265 INFO in 'deeppavlov.core.trainers.nn_trainer'['nn_trainer'] at line 212: Did not improve on the ner_f1 of 66.3212\n"
          ]
        },
        {
          "output_type": "stream",
          "name": "stdout",
          "text": [
            "{\"valid\": {\"eval_examples_count\": 1522, \"metrics\": {\"ner_f1\": 65.1391, \"ner_token_f1\": 76.292}, \"time_spent\": \"0:22:03\", \"epochs_done\": 1, \"batches_seen\": 2540, \"train_examples_seen\": 25395, \"impatience\": 6, \"patience_limit\": 100}}\n",
            "{\"train\": {\"eval_examples_count\": 10, \"metrics\": {\"ner_f1\": 100.0, \"ner_token_f1\": 100.0}, \"time_spent\": \"0:22:06\", \"epochs_done\": 1, \"batches_seen\": 2560, \"train_examples_seen\": 25595, \"loss\": 0.020747786661377176}}\n"
          ]
        },
        {
          "output_type": "stream",
          "name": "stderr",
          "text": [
            "2022-05-22 11:00:37.914 INFO in 'deeppavlov.core.trainers.nn_trainer'['nn_trainer'] at line 207: Improved best ner_f1 from 66.3212 to 67.474\n",
            "2022-05-22 11:00:37.915 INFO in 'deeppavlov.core.trainers.nn_trainer'['nn_trainer'] at line 209: Saving model\n",
            "2022-05-22 11:00:37.919 INFO in 'deeppavlov.core.models.torch_model'['torch_model'] at line 195: Saving model to /content/drive/MyDrive/nlp/project/deep_pavlov/models/ner_ontonotes_bert_mult_torch4/bert-base-multilingual-cased/model.pth.tar.\n"
          ]
        },
        {
          "output_type": "stream",
          "name": "stdout",
          "text": [
            "{\"valid\": {\"eval_examples_count\": 1522, \"metrics\": {\"ner_f1\": 67.474, \"ner_token_f1\": 75.616}, \"time_spent\": \"0:22:11\", \"epochs_done\": 1, \"batches_seen\": 2560, \"train_examples_seen\": 25595, \"impatience\": 0, \"patience_limit\": 100}}\n",
            "{\"train\": {\"eval_examples_count\": 10, \"metrics\": {\"ner_f1\": 25.0, \"ner_token_f1\": 80.0}, \"time_spent\": \"0:22:25\", \"epochs_done\": 1, \"batches_seen\": 2580, \"train_examples_seen\": 25795, \"loss\": 0.0135382482825662}}\n"
          ]
        },
        {
          "output_type": "stream",
          "name": "stderr",
          "text": [
            "2022-05-22 11:00:56.803 INFO in 'deeppavlov.core.trainers.nn_trainer'['nn_trainer'] at line 212: Did not improve on the ner_f1 of 67.474\n"
          ]
        },
        {
          "output_type": "stream",
          "name": "stdout",
          "text": [
            "{\"valid\": {\"eval_examples_count\": 1522, \"metrics\": {\"ner_f1\": 60.0, \"ner_token_f1\": 71.7292}, \"time_spent\": \"0:22:30\", \"epochs_done\": 1, \"batches_seen\": 2580, \"train_examples_seen\": 25795, \"impatience\": 1, \"patience_limit\": 100}}\n",
            "{\"train\": {\"eval_examples_count\": 10, \"metrics\": {\"ner_f1\": 100.0, \"ner_token_f1\": 100.0}, \"time_spent\": \"0:22:34\", \"epochs_done\": 1, \"batches_seen\": 2600, \"train_examples_seen\": 25995, \"loss\": 0.01612529837730108}}\n"
          ]
        },
        {
          "output_type": "stream",
          "name": "stderr",
          "text": [
            "2022-05-22 11:01:05.581 INFO in 'deeppavlov.core.trainers.nn_trainer'['nn_trainer'] at line 212: Did not improve on the ner_f1 of 67.474\n"
          ]
        },
        {
          "output_type": "stream",
          "name": "stdout",
          "text": [
            "{\"valid\": {\"eval_examples_count\": 1522, \"metrics\": {\"ner_f1\": 54.519, \"ner_token_f1\": 77.2657}, \"time_spent\": \"0:22:39\", \"epochs_done\": 1, \"batches_seen\": 2600, \"train_examples_seen\": 25995, \"impatience\": 2, \"patience_limit\": 100}}\n",
            "{\"train\": {\"eval_examples_count\": 10, \"metrics\": {\"ner_f1\": 100.0, \"ner_token_f1\": 100.0}, \"time_spent\": \"0:22:42\", \"epochs_done\": 1, \"batches_seen\": 2620, \"train_examples_seen\": 26195, \"loss\": 0.012193078550626523}}\n"
          ]
        },
        {
          "output_type": "stream",
          "name": "stderr",
          "text": [
            "2022-05-22 11:01:14.63 INFO in 'deeppavlov.core.trainers.nn_trainer'['nn_trainer'] at line 212: Did not improve on the ner_f1 of 67.474\n"
          ]
        },
        {
          "output_type": "stream",
          "name": "stdout",
          "text": [
            "{\"valid\": {\"eval_examples_count\": 1522, \"metrics\": {\"ner_f1\": 59.2025, \"ner_token_f1\": 75.6839}, \"time_spent\": \"0:22:47\", \"epochs_done\": 1, \"batches_seen\": 2620, \"train_examples_seen\": 26195, \"impatience\": 3, \"patience_limit\": 100}}\n",
            "{\"train\": {\"eval_examples_count\": 10, \"metrics\": {\"ner_f1\": 0, \"ner_token_f1\": 0}, \"time_spent\": \"0:22:51\", \"epochs_done\": 1, \"batches_seen\": 2640, \"train_examples_seen\": 26395, \"loss\": 0.01751874534311355}}\n"
          ]
        },
        {
          "output_type": "stream",
          "name": "stderr",
          "text": [
            "2022-05-22 11:01:22.883 INFO in 'deeppavlov.core.trainers.nn_trainer'['nn_trainer'] at line 212: Did not improve on the ner_f1 of 67.474\n"
          ]
        },
        {
          "output_type": "stream",
          "name": "stdout",
          "text": [
            "{\"valid\": {\"eval_examples_count\": 1522, \"metrics\": {\"ner_f1\": 66.782, \"ner_token_f1\": 76.0943}, \"time_spent\": \"0:22:56\", \"epochs_done\": 1, \"batches_seen\": 2640, \"train_examples_seen\": 26395, \"impatience\": 4, \"patience_limit\": 100}}\n",
            "{\"train\": {\"eval_examples_count\": 10, \"metrics\": {\"ner_f1\": 85.7143, \"ner_token_f1\": 80.0}, \"time_spent\": \"0:23:00\", \"epochs_done\": 2, \"batches_seen\": 2660, \"train_examples_seen\": 26590, \"loss\": 0.01748460818635067}}\n"
          ]
        },
        {
          "output_type": "stream",
          "name": "stderr",
          "text": [
            "2022-05-22 11:01:31.738 INFO in 'deeppavlov.core.trainers.nn_trainer'['nn_trainer'] at line 212: Did not improve on the ner_f1 of 67.474\n"
          ]
        },
        {
          "output_type": "stream",
          "name": "stdout",
          "text": [
            "{\"valid\": {\"eval_examples_count\": 1522, \"metrics\": {\"ner_f1\": 65.2597, \"ner_token_f1\": 75.1506}, \"time_spent\": \"0:23:05\", \"epochs_done\": 2, \"batches_seen\": 2660, \"train_examples_seen\": 26590, \"impatience\": 5, \"patience_limit\": 100}}\n",
            "{\"train\": {\"eval_examples_count\": 10, \"metrics\": {\"ner_f1\": 100.0, \"ner_token_f1\": 100.0}, \"time_spent\": \"0:23:08\", \"epochs_done\": 2, \"batches_seen\": 2680, \"train_examples_seen\": 26790, \"loss\": 0.008404452897957526}}\n"
          ]
        },
        {
          "output_type": "stream",
          "name": "stderr",
          "text": [
            "2022-05-22 11:01:40.400 INFO in 'deeppavlov.core.trainers.nn_trainer'['nn_trainer'] at line 207: Improved best ner_f1 from 67.474 to 67.8992\n",
            "2022-05-22 11:01:40.402 INFO in 'deeppavlov.core.trainers.nn_trainer'['nn_trainer'] at line 209: Saving model\n",
            "2022-05-22 11:01:40.404 INFO in 'deeppavlov.core.models.torch_model'['torch_model'] at line 195: Saving model to /content/drive/MyDrive/nlp/project/deep_pavlov/models/ner_ontonotes_bert_mult_torch4/bert-base-multilingual-cased/model.pth.tar.\n"
          ]
        },
        {
          "output_type": "stream",
          "name": "stdout",
          "text": [
            "{\"valid\": {\"eval_examples_count\": 1522, \"metrics\": {\"ner_f1\": 67.8992, \"ner_token_f1\": 75.0572}, \"time_spent\": \"0:23:14\", \"epochs_done\": 2, \"batches_seen\": 2680, \"train_examples_seen\": 26790, \"impatience\": 0, \"patience_limit\": 100}}\n",
            "{\"train\": {\"eval_examples_count\": 10, \"metrics\": {\"ner_f1\": 100.0, \"ner_token_f1\": 100.0}, \"time_spent\": \"0:23:27\", \"epochs_done\": 2, \"batches_seen\": 2700, \"train_examples_seen\": 26990, \"loss\": 0.004248879578881315}}\n"
          ]
        },
        {
          "output_type": "stream",
          "name": "stderr",
          "text": [
            "2022-05-22 11:01:59.51 INFO in 'deeppavlov.core.trainers.nn_trainer'['nn_trainer'] at line 212: Did not improve on the ner_f1 of 67.8992\n"
          ]
        },
        {
          "output_type": "stream",
          "name": "stdout",
          "text": [
            "{\"valid\": {\"eval_examples_count\": 1522, \"metrics\": {\"ner_f1\": 67.4699, \"ner_token_f1\": 76.2987}, \"time_spent\": \"0:23:32\", \"epochs_done\": 2, \"batches_seen\": 2700, \"train_examples_seen\": 26990, \"impatience\": 1, \"patience_limit\": 100}}\n",
            "{\"train\": {\"eval_examples_count\": 10, \"metrics\": {\"ner_f1\": 100.0, \"ner_token_f1\": 100.0}, \"time_spent\": \"0:23:36\", \"epochs_done\": 2, \"batches_seen\": 2720, \"train_examples_seen\": 27190, \"loss\": 0.014808730049844598}}\n"
          ]
        },
        {
          "output_type": "stream",
          "name": "stderr",
          "text": [
            "2022-05-22 11:02:07.559 INFO in 'deeppavlov.core.trainers.nn_trainer'['nn_trainer'] at line 212: Did not improve on the ner_f1 of 67.8992\n"
          ]
        },
        {
          "output_type": "stream",
          "name": "stdout",
          "text": [
            "{\"valid\": {\"eval_examples_count\": 1522, \"metrics\": {\"ner_f1\": 67.0, \"ner_token_f1\": 75.1648}, \"time_spent\": \"0:23:41\", \"epochs_done\": 2, \"batches_seen\": 2720, \"train_examples_seen\": 27190, \"impatience\": 2, \"patience_limit\": 100}}\n",
            "{\"train\": {\"eval_examples_count\": 10, \"metrics\": {\"ner_f1\": 0, \"ner_token_f1\": 0}, \"time_spent\": \"0:23:44\", \"epochs_done\": 2, \"batches_seen\": 2740, \"train_examples_seen\": 27390, \"loss\": 0.00972095544275362}}\n"
          ]
        },
        {
          "output_type": "stream",
          "name": "stderr",
          "text": [
            "2022-05-22 11:02:16.234 INFO in 'deeppavlov.core.trainers.nn_trainer'['nn_trainer'] at line 212: Did not improve on the ner_f1 of 67.8992\n"
          ]
        },
        {
          "output_type": "stream",
          "name": "stdout",
          "text": [
            "{\"valid\": {\"eval_examples_count\": 1522, \"metrics\": {\"ner_f1\": 67.4267, \"ner_token_f1\": 75.1868}, \"time_spent\": \"0:23:50\", \"epochs_done\": 2, \"batches_seen\": 2740, \"train_examples_seen\": 27390, \"impatience\": 3, \"patience_limit\": 100}}\n",
            "{\"train\": {\"eval_examples_count\": 10, \"metrics\": {\"ner_f1\": 40.0, \"ner_token_f1\": 28.5714}, \"time_spent\": \"0:23:53\", \"epochs_done\": 2, \"batches_seen\": 2760, \"train_examples_seen\": 27590, \"loss\": 0.013896957803081023}}\n"
          ]
        },
        {
          "output_type": "stream",
          "name": "stderr",
          "text": [
            "2022-05-22 11:02:25.830 INFO in 'deeppavlov.core.trainers.nn_trainer'['nn_trainer'] at line 212: Did not improve on the ner_f1 of 67.8992\n"
          ]
        },
        {
          "output_type": "stream",
          "name": "stdout",
          "text": [
            "{\"valid\": {\"eval_examples_count\": 1522, \"metrics\": {\"ner_f1\": 66.1157, \"ner_token_f1\": 76.8526}, \"time_spent\": \"0:23:59\", \"epochs_done\": 2, \"batches_seen\": 2760, \"train_examples_seen\": 27590, \"impatience\": 4, \"patience_limit\": 100}}\n",
            "{\"train\": {\"eval_examples_count\": 10, \"metrics\": {\"ner_f1\": 50.0, \"ner_token_f1\": 40.0}, \"time_spent\": \"0:24:03\", \"epochs_done\": 2, \"batches_seen\": 2780, \"train_examples_seen\": 27790, \"loss\": 0.009174058733697166}}\n"
          ]
        },
        {
          "output_type": "stream",
          "name": "stderr",
          "text": [
            "2022-05-22 11:02:35.483 INFO in 'deeppavlov.core.trainers.nn_trainer'['nn_trainer'] at line 212: Did not improve on the ner_f1 of 67.8992\n"
          ]
        },
        {
          "output_type": "stream",
          "name": "stdout",
          "text": [
            "{\"valid\": {\"eval_examples_count\": 1522, \"metrics\": {\"ner_f1\": 66.7832, \"ner_token_f1\": 76.214}, \"time_spent\": \"0:24:09\", \"epochs_done\": 2, \"batches_seen\": 2780, \"train_examples_seen\": 27790, \"impatience\": 5, \"patience_limit\": 100}}\n",
            "{\"train\": {\"eval_examples_count\": 10, \"metrics\": {\"ner_f1\": 0, \"ner_token_f1\": 0}, \"time_spent\": \"0:24:12\", \"epochs_done\": 2, \"batches_seen\": 2800, \"train_examples_seen\": 27990, \"loss\": 0.02020426946983207}}\n"
          ]
        },
        {
          "output_type": "stream",
          "name": "stderr",
          "text": [
            "2022-05-22 11:02:43.949 INFO in 'deeppavlov.core.trainers.nn_trainer'['nn_trainer'] at line 212: Did not improve on the ner_f1 of 67.8992\n"
          ]
        },
        {
          "output_type": "stream",
          "name": "stdout",
          "text": [
            "{\"valid\": {\"eval_examples_count\": 1522, \"metrics\": {\"ner_f1\": 66.4384, \"ner_token_f1\": 76.2058}, \"time_spent\": \"0:24:17\", \"epochs_done\": 2, \"batches_seen\": 2800, \"train_examples_seen\": 27990, \"impatience\": 6, \"patience_limit\": 100}}\n",
            "{\"train\": {\"eval_examples_count\": 10, \"metrics\": {\"ner_f1\": 100.0, \"ner_token_f1\": 100.0}, \"time_spent\": \"0:24:21\", \"epochs_done\": 2, \"batches_seen\": 2820, \"train_examples_seen\": 28190, \"loss\": 0.010882799816317856}}\n"
          ]
        },
        {
          "output_type": "stream",
          "name": "stderr",
          "text": [
            "2022-05-22 11:02:52.434 INFO in 'deeppavlov.core.trainers.nn_trainer'['nn_trainer'] at line 212: Did not improve on the ner_f1 of 67.8992\n"
          ]
        },
        {
          "output_type": "stream",
          "name": "stdout",
          "text": [
            "{\"valid\": {\"eval_examples_count\": 1522, \"metrics\": {\"ner_f1\": 64.0, \"ner_token_f1\": 71.3385}, \"time_spent\": \"0:24:26\", \"epochs_done\": 2, \"batches_seen\": 2820, \"train_examples_seen\": 28190, \"impatience\": 7, \"patience_limit\": 100}}\n",
            "{\"train\": {\"eval_examples_count\": 10, \"metrics\": {\"ner_f1\": 100.0, \"ner_token_f1\": 100.0}, \"time_spent\": \"0:24:29\", \"epochs_done\": 2, \"batches_seen\": 2840, \"train_examples_seen\": 28390, \"loss\": 0.021231316225748743}}\n"
          ]
        },
        {
          "output_type": "stream",
          "name": "stderr",
          "text": [
            "2022-05-22 11:03:00.773 INFO in 'deeppavlov.core.trainers.nn_trainer'['nn_trainer'] at line 207: Improved best ner_f1 from 67.8992 to 69.5205\n",
            "2022-05-22 11:03:00.774 INFO in 'deeppavlov.core.trainers.nn_trainer'['nn_trainer'] at line 209: Saving model\n",
            "2022-05-22 11:03:00.778 INFO in 'deeppavlov.core.models.torch_model'['torch_model'] at line 195: Saving model to /content/drive/MyDrive/nlp/project/deep_pavlov/models/ner_ontonotes_bert_mult_torch4/bert-base-multilingual-cased/model.pth.tar.\n"
          ]
        },
        {
          "output_type": "stream",
          "name": "stdout",
          "text": [
            "{\"valid\": {\"eval_examples_count\": 1522, \"metrics\": {\"ner_f1\": 69.5205, \"ner_token_f1\": 74.024}, \"time_spent\": \"0:24:34\", \"epochs_done\": 2, \"batches_seen\": 2840, \"train_examples_seen\": 28390, \"impatience\": 0, \"patience_limit\": 100}}\n",
            "{\"train\": {\"eval_examples_count\": 10, \"metrics\": {\"ner_f1\": 100.0, \"ner_token_f1\": 100.0}, \"time_spent\": \"0:24:48\", \"epochs_done\": 2, \"batches_seen\": 2860, \"train_examples_seen\": 28590, \"loss\": 0.028335908216104145}}\n"
          ]
        },
        {
          "output_type": "stream",
          "name": "stderr",
          "text": [
            "2022-05-22 11:03:20.100 INFO in 'deeppavlov.core.trainers.nn_trainer'['nn_trainer'] at line 212: Did not improve on the ner_f1 of 69.5205\n"
          ]
        },
        {
          "output_type": "stream",
          "name": "stdout",
          "text": [
            "{\"valid\": {\"eval_examples_count\": 1522, \"metrics\": {\"ner_f1\": 64.9007, \"ner_token_f1\": 74.7913}, \"time_spent\": \"0:24:54\", \"epochs_done\": 2, \"batches_seen\": 2860, \"train_examples_seen\": 28590, \"impatience\": 1, \"patience_limit\": 100}}\n",
            "{\"train\": {\"eval_examples_count\": 10, \"metrics\": {\"ner_f1\": 0, \"ner_token_f1\": 0}, \"time_spent\": \"0:24:57\", \"epochs_done\": 2, \"batches_seen\": 2880, \"train_examples_seen\": 28790, \"loss\": 0.008289407068514266}}\n"
          ]
        },
        {
          "output_type": "stream",
          "name": "stderr",
          "text": [
            "2022-05-22 11:03:28.953 INFO in 'deeppavlov.core.trainers.nn_trainer'['nn_trainer'] at line 212: Did not improve on the ner_f1 of 69.5205\n"
          ]
        },
        {
          "output_type": "stream",
          "name": "stdout",
          "text": [
            "{\"valid\": {\"eval_examples_count\": 1522, \"metrics\": {\"ner_f1\": 63.711, \"ner_token_f1\": 74.5895}, \"time_spent\": \"0:25:02\", \"epochs_done\": 2, \"batches_seen\": 2880, \"train_examples_seen\": 28790, \"impatience\": 2, \"patience_limit\": 100}}\n",
            "{\"train\": {\"eval_examples_count\": 10, \"metrics\": {\"ner_f1\": 0, \"ner_token_f1\": 0}, \"time_spent\": \"0:25:06\", \"epochs_done\": 2, \"batches_seen\": 2900, \"train_examples_seen\": 28990, \"loss\": 0.006263756755288341}}\n"
          ]
        },
        {
          "output_type": "stream",
          "name": "stderr",
          "text": [
            "2022-05-22 11:03:37.624 INFO in 'deeppavlov.core.trainers.nn_trainer'['nn_trainer'] at line 212: Did not improve on the ner_f1 of 69.5205\n"
          ]
        },
        {
          "output_type": "stream",
          "name": "stdout",
          "text": [
            "{\"valid\": {\"eval_examples_count\": 1522, \"metrics\": {\"ner_f1\": 68.9046, \"ner_token_f1\": 74.4262}, \"time_spent\": \"0:25:11\", \"epochs_done\": 2, \"batches_seen\": 2900, \"train_examples_seen\": 28990, \"impatience\": 3, \"patience_limit\": 100}}\n",
            "{\"train\": {\"eval_examples_count\": 10, \"metrics\": {\"ner_f1\": 75.0, \"ner_token_f1\": 90.9091}, \"time_spent\": \"0:25:14\", \"epochs_done\": 2, \"batches_seen\": 2920, \"train_examples_seen\": 29190, \"loss\": 0.02870150002054288}}\n"
          ]
        },
        {
          "output_type": "stream",
          "name": "stderr",
          "text": [
            "2022-05-22 11:03:46.219 INFO in 'deeppavlov.core.trainers.nn_trainer'['nn_trainer'] at line 212: Did not improve on the ner_f1 of 69.5205\n"
          ]
        },
        {
          "output_type": "stream",
          "name": "stdout",
          "text": [
            "{\"valid\": {\"eval_examples_count\": 1522, \"metrics\": {\"ner_f1\": 61.0687, \"ner_token_f1\": 74.0943}, \"time_spent\": \"0:25:20\", \"epochs_done\": 2, \"batches_seen\": 2920, \"train_examples_seen\": 29190, \"impatience\": 4, \"patience_limit\": 100}}\n",
            "{\"train\": {\"eval_examples_count\": 10, \"metrics\": {\"ner_f1\": 66.6667, \"ner_token_f1\": 33.3333}, \"time_spent\": \"0:25:23\", \"epochs_done\": 2, \"batches_seen\": 2940, \"train_examples_seen\": 29390, \"loss\": 0.008686747113097226}}\n"
          ]
        },
        {
          "output_type": "stream",
          "name": "stderr",
          "text": [
            "2022-05-22 11:03:54.770 INFO in 'deeppavlov.core.trainers.nn_trainer'['nn_trainer'] at line 212: Did not improve on the ner_f1 of 69.5205\n"
          ]
        },
        {
          "output_type": "stream",
          "name": "stdout",
          "text": [
            "{\"valid\": {\"eval_examples_count\": 1522, \"metrics\": {\"ner_f1\": 64.2089, \"ner_token_f1\": 75.5961}, \"time_spent\": \"0:25:28\", \"epochs_done\": 2, \"batches_seen\": 2940, \"train_examples_seen\": 29390, \"impatience\": 5, \"patience_limit\": 100}}\n",
            "{\"train\": {\"eval_examples_count\": 10, \"metrics\": {\"ner_f1\": 0, \"ner_token_f1\": 100.0}, \"time_spent\": \"0:25:32\", \"epochs_done\": 2, \"batches_seen\": 2960, \"train_examples_seen\": 29590, \"loss\": 0.013324510630627628}}\n"
          ]
        },
        {
          "output_type": "stream",
          "name": "stderr",
          "text": [
            "2022-05-22 11:04:03.439 INFO in 'deeppavlov.core.trainers.nn_trainer'['nn_trainer'] at line 212: Did not improve on the ner_f1 of 69.5205\n"
          ]
        },
        {
          "output_type": "stream",
          "name": "stdout",
          "text": [
            "{\"valid\": {\"eval_examples_count\": 1522, \"metrics\": {\"ner_f1\": 65.9271, \"ner_token_f1\": 76.0057}, \"time_spent\": \"0:25:37\", \"epochs_done\": 2, \"batches_seen\": 2960, \"train_examples_seen\": 29590, \"impatience\": 6, \"patience_limit\": 100}}\n",
            "{\"train\": {\"eval_examples_count\": 10, \"metrics\": {\"ner_f1\": 100.0, \"ner_token_f1\": 100.0}, \"time_spent\": \"0:25:40\", \"epochs_done\": 2, \"batches_seen\": 2980, \"train_examples_seen\": 29790, \"loss\": 0.009724718885263429}}\n"
          ]
        },
        {
          "output_type": "stream",
          "name": "stderr",
          "text": [
            "2022-05-22 11:04:12.110 INFO in 'deeppavlov.core.trainers.nn_trainer'['nn_trainer'] at line 207: Improved best ner_f1 from 69.5205 to 69.8795\n",
            "2022-05-22 11:04:12.111 INFO in 'deeppavlov.core.trainers.nn_trainer'['nn_trainer'] at line 209: Saving model\n",
            "2022-05-22 11:04:12.119 INFO in 'deeppavlov.core.models.torch_model'['torch_model'] at line 195: Saving model to /content/drive/MyDrive/nlp/project/deep_pavlov/models/ner_ontonotes_bert_mult_torch4/bert-base-multilingual-cased/model.pth.tar.\n"
          ]
        },
        {
          "output_type": "stream",
          "name": "stdout",
          "text": [
            "{\"valid\": {\"eval_examples_count\": 1522, \"metrics\": {\"ner_f1\": 69.8795, \"ner_token_f1\": 74.9606}, \"time_spent\": \"0:25:46\", \"epochs_done\": 2, \"batches_seen\": 2980, \"train_examples_seen\": 29790, \"impatience\": 0, \"patience_limit\": 100}}\n",
            "{\"train\": {\"eval_examples_count\": 10, \"metrics\": {\"ner_f1\": 66.6667, \"ner_token_f1\": 66.6667}, \"time_spent\": \"0:25:59\", \"epochs_done\": 2, \"batches_seen\": 3000, \"train_examples_seen\": 29990, \"loss\": 0.024001825338200434}}\n"
          ]
        },
        {
          "output_type": "stream",
          "name": "stderr",
          "text": [
            "2022-05-22 11:04:31.285 INFO in 'deeppavlov.core.trainers.nn_trainer'['nn_trainer'] at line 212: Did not improve on the ner_f1 of 69.8795\n"
          ]
        },
        {
          "output_type": "stream",
          "name": "stdout",
          "text": [
            "{\"valid\": {\"eval_examples_count\": 1522, \"metrics\": {\"ner_f1\": 68.3502, \"ner_token_f1\": 75.1262}, \"time_spent\": \"0:26:05\", \"epochs_done\": 2, \"batches_seen\": 3000, \"train_examples_seen\": 29990, \"impatience\": 1, \"patience_limit\": 100}}\n",
            "{\"train\": {\"eval_examples_count\": 10, \"metrics\": {\"ner_f1\": 0, \"ner_token_f1\": 0}, \"time_spent\": \"0:26:08\", \"epochs_done\": 2, \"batches_seen\": 3020, \"train_examples_seen\": 30190, \"loss\": 0.014462112358160084}}\n"
          ]
        },
        {
          "output_type": "stream",
          "name": "stderr",
          "text": [
            "2022-05-22 11:04:40.153 INFO in 'deeppavlov.core.trainers.nn_trainer'['nn_trainer'] at line 212: Did not improve on the ner_f1 of 69.8795\n"
          ]
        },
        {
          "output_type": "stream",
          "name": "stdout",
          "text": [
            "{\"valid\": {\"eval_examples_count\": 1522, \"metrics\": {\"ner_f1\": 62.9457, \"ner_token_f1\": 72.1689}, \"time_spent\": \"0:26:14\", \"epochs_done\": 2, \"batches_seen\": 3020, \"train_examples_seen\": 30190, \"impatience\": 2, \"patience_limit\": 100}}\n",
            "{\"train\": {\"eval_examples_count\": 10, \"metrics\": {\"ner_f1\": 100.0, \"ner_token_f1\": 100.0}, \"time_spent\": \"0:26:17\", \"epochs_done\": 2, \"batches_seen\": 3040, \"train_examples_seen\": 30390, \"loss\": 0.018818156067936798}}\n"
          ]
        },
        {
          "output_type": "stream",
          "name": "stderr",
          "text": [
            "2022-05-22 11:04:49.966 INFO in 'deeppavlov.core.trainers.nn_trainer'['nn_trainer'] at line 212: Did not improve on the ner_f1 of 69.8795\n"
          ]
        },
        {
          "output_type": "stream",
          "name": "stdout",
          "text": [
            "{\"valid\": {\"eval_examples_count\": 1522, \"metrics\": {\"ner_f1\": 66.4407, \"ner_token_f1\": 75.3086}, \"time_spent\": \"0:26:23\", \"epochs_done\": 2, \"batches_seen\": 3040, \"train_examples_seen\": 30390, \"impatience\": 3, \"patience_limit\": 100}}\n",
            "{\"train\": {\"eval_examples_count\": 10, \"metrics\": {\"ner_f1\": 0, \"ner_token_f1\": 75.0}, \"time_spent\": \"0:26:27\", \"epochs_done\": 2, \"batches_seen\": 3060, \"train_examples_seen\": 30590, \"loss\": 0.012089453276712448}}\n"
          ]
        },
        {
          "output_type": "stream",
          "name": "stderr",
          "text": [
            "2022-05-22 11:04:59.321 INFO in 'deeppavlov.core.trainers.nn_trainer'['nn_trainer'] at line 212: Did not improve on the ner_f1 of 69.8795\n"
          ]
        },
        {
          "output_type": "stream",
          "name": "stdout",
          "text": [
            "{\"valid\": {\"eval_examples_count\": 1522, \"metrics\": {\"ner_f1\": 62.9349, \"ner_token_f1\": 75.9657}, \"time_spent\": \"0:26:33\", \"epochs_done\": 2, \"batches_seen\": 3060, \"train_examples_seen\": 30590, \"impatience\": 4, \"patience_limit\": 100}}\n",
            "{\"train\": {\"eval_examples_count\": 10, \"metrics\": {\"ner_f1\": 80.0, \"ner_token_f1\": 85.7143}, \"time_spent\": \"0:26:36\", \"epochs_done\": 2, \"batches_seen\": 3080, \"train_examples_seen\": 30790, \"loss\": 0.015476224499070667}}\n"
          ]
        },
        {
          "output_type": "stream",
          "name": "stderr",
          "text": [
            "2022-05-22 11:05:07.963 INFO in 'deeppavlov.core.trainers.nn_trainer'['nn_trainer'] at line 212: Did not improve on the ner_f1 of 69.8795\n"
          ]
        },
        {
          "output_type": "stream",
          "name": "stdout",
          "text": [
            "{\"valid\": {\"eval_examples_count\": 1522, \"metrics\": {\"ner_f1\": 63.9456, \"ner_token_f1\": 72.3051}, \"time_spent\": \"0:26:41\", \"epochs_done\": 2, \"batches_seen\": 3080, \"train_examples_seen\": 30790, \"impatience\": 5, \"patience_limit\": 100}}\n",
            "{\"train\": {\"eval_examples_count\": 10, \"metrics\": {\"ner_f1\": 0, \"ner_token_f1\": 0}, \"time_spent\": \"0:26:45\", \"epochs_done\": 2, \"batches_seen\": 3100, \"train_examples_seen\": 30990, \"loss\": 0.01575667906436138}}\n"
          ]
        },
        {
          "output_type": "stream",
          "name": "stderr",
          "text": [
            "2022-05-22 11:05:16.485 INFO in 'deeppavlov.core.trainers.nn_trainer'['nn_trainer'] at line 212: Did not improve on the ner_f1 of 69.8795\n"
          ]
        },
        {
          "output_type": "stream",
          "name": "stdout",
          "text": [
            "{\"valid\": {\"eval_examples_count\": 1522, \"metrics\": {\"ner_f1\": 62.442, \"ner_token_f1\": 74.6648}, \"time_spent\": \"0:26:50\", \"epochs_done\": 2, \"batches_seen\": 3100, \"train_examples_seen\": 30990, \"impatience\": 6, \"patience_limit\": 100}}\n",
            "{\"train\": {\"eval_examples_count\": 10, \"metrics\": {\"ner_f1\": 100.0, \"ner_token_f1\": 100.0}, \"time_spent\": \"0:26:53\", \"epochs_done\": 2, \"batches_seen\": 3120, \"train_examples_seen\": 31190, \"loss\": 0.006502075789467199}}\n"
          ]
        },
        {
          "output_type": "stream",
          "name": "stderr",
          "text": [
            "2022-05-22 11:05:25.33 INFO in 'deeppavlov.core.trainers.nn_trainer'['nn_trainer'] at line 212: Did not improve on the ner_f1 of 69.8795\n"
          ]
        },
        {
          "output_type": "stream",
          "name": "stdout",
          "text": [
            "{\"valid\": {\"eval_examples_count\": 1522, \"metrics\": {\"ner_f1\": 62.9139, \"ner_token_f1\": 77.114}, \"time_spent\": \"0:26:58\", \"epochs_done\": 2, \"batches_seen\": 3120, \"train_examples_seen\": 31190, \"impatience\": 7, \"patience_limit\": 100}}\n",
            "{\"train\": {\"eval_examples_count\": 10, \"metrics\": {\"ner_f1\": 88.8889, \"ner_token_f1\": 90.0}, \"time_spent\": \"0:27:02\", \"epochs_done\": 2, \"batches_seen\": 3140, \"train_examples_seen\": 31390, \"loss\": 0.019039443713700165}}\n"
          ]
        },
        {
          "output_type": "stream",
          "name": "stderr",
          "text": [
            "2022-05-22 11:05:33.753 INFO in 'deeppavlov.core.trainers.nn_trainer'['nn_trainer'] at line 212: Did not improve on the ner_f1 of 69.8795\n"
          ]
        },
        {
          "output_type": "stream",
          "name": "stdout",
          "text": [
            "{\"valid\": {\"eval_examples_count\": 1522, \"metrics\": {\"ner_f1\": 64.2361, \"ner_token_f1\": 76.2053}, \"time_spent\": \"0:27:07\", \"epochs_done\": 2, \"batches_seen\": 3140, \"train_examples_seen\": 31390, \"impatience\": 8, \"patience_limit\": 100}}\n",
            "{\"train\": {\"eval_examples_count\": 10, \"metrics\": {\"ner_f1\": 80.0, \"ner_token_f1\": 75.0}, \"time_spent\": \"0:27:11\", \"epochs_done\": 2, \"batches_seen\": 3160, \"train_examples_seen\": 31590, \"loss\": 0.008710818181134528}}\n"
          ]
        },
        {
          "output_type": "stream",
          "name": "stderr",
          "text": [
            "2022-05-22 11:05:42.414 INFO in 'deeppavlov.core.trainers.nn_trainer'['nn_trainer'] at line 212: Did not improve on the ner_f1 of 69.8795\n"
          ]
        },
        {
          "output_type": "stream",
          "name": "stdout",
          "text": [
            "{\"valid\": {\"eval_examples_count\": 1522, \"metrics\": {\"ner_f1\": 64.8734, \"ner_token_f1\": 76.298}, \"time_spent\": \"0:27:16\", \"epochs_done\": 2, \"batches_seen\": 3160, \"train_examples_seen\": 31590, \"impatience\": 9, \"patience_limit\": 100}}\n",
            "{\"train\": {\"eval_examples_count\": 10, \"metrics\": {\"ner_f1\": 0, \"ner_token_f1\": 0}, \"time_spent\": \"0:27:19\", \"epochs_done\": 2, \"batches_seen\": 3180, \"train_examples_seen\": 31790, \"loss\": 0.017864785087294877}}\n"
          ]
        },
        {
          "output_type": "stream",
          "name": "stderr",
          "text": [
            "2022-05-22 11:05:51.63 INFO in 'deeppavlov.core.trainers.nn_trainer'['nn_trainer'] at line 212: Did not improve on the ner_f1 of 69.8795\n"
          ]
        },
        {
          "output_type": "stream",
          "name": "stdout",
          "text": [
            "{\"valid\": {\"eval_examples_count\": 1522, \"metrics\": {\"ner_f1\": 69.5804, \"ner_token_f1\": 75.7155}, \"time_spent\": \"0:27:24\", \"epochs_done\": 2, \"batches_seen\": 3180, \"train_examples_seen\": 31790, \"impatience\": 10, \"patience_limit\": 100}}\n",
            "{\"train\": {\"eval_examples_count\": 10, \"metrics\": {\"ner_f1\": 40.0, \"ner_token_f1\": 100.0}, \"time_spent\": \"0:27:28\", \"epochs_done\": 2, \"batches_seen\": 3200, \"train_examples_seen\": 31990, \"loss\": 0.021705678196303778}}\n"
          ]
        },
        {
          "output_type": "stream",
          "name": "stderr",
          "text": [
            "2022-05-22 11:06:00.11 INFO in 'deeppavlov.core.trainers.nn_trainer'['nn_trainer'] at line 212: Did not improve on the ner_f1 of 69.8795\n"
          ]
        },
        {
          "output_type": "stream",
          "name": "stdout",
          "text": [
            "{\"valid\": {\"eval_examples_count\": 1522, \"metrics\": {\"ner_f1\": 60.4938, \"ner_token_f1\": 70.7517}, \"time_spent\": \"0:27:33\", \"epochs_done\": 2, \"batches_seen\": 3200, \"train_examples_seen\": 31990, \"impatience\": 11, \"patience_limit\": 100}}\n",
            "{\"train\": {\"eval_examples_count\": 10, \"metrics\": {\"ner_f1\": 0, \"ner_token_f1\": 0}, \"time_spent\": \"0:27:37\", \"epochs_done\": 2, \"batches_seen\": 3220, \"train_examples_seen\": 32190, \"loss\": 0.013742710853694006}}\n"
          ]
        },
        {
          "output_type": "stream",
          "name": "stderr",
          "text": [
            "2022-05-22 11:06:08.637 INFO in 'deeppavlov.core.trainers.nn_trainer'['nn_trainer'] at line 212: Did not improve on the ner_f1 of 69.8795\n"
          ]
        },
        {
          "output_type": "stream",
          "name": "stdout",
          "text": [
            "{\"valid\": {\"eval_examples_count\": 1522, \"metrics\": {\"ner_f1\": 66.242, \"ner_token_f1\": 73.913}, \"time_spent\": \"0:27:42\", \"epochs_done\": 2, \"batches_seen\": 3220, \"train_examples_seen\": 32190, \"impatience\": 12, \"patience_limit\": 100}}\n",
            "{\"train\": {\"eval_examples_count\": 10, \"metrics\": {\"ner_f1\": 0, \"ner_token_f1\": 0}, \"time_spent\": \"0:27:45\", \"epochs_done\": 2, \"batches_seen\": 3240, \"train_examples_seen\": 32390, \"loss\": 0.011978835077388793}}\n"
          ]
        },
        {
          "output_type": "stream",
          "name": "stderr",
          "text": [
            "2022-05-22 11:06:17.263 INFO in 'deeppavlov.core.trainers.nn_trainer'['nn_trainer'] at line 212: Did not improve on the ner_f1 of 69.8795\n"
          ]
        },
        {
          "output_type": "stream",
          "name": "stdout",
          "text": [
            "{\"valid\": {\"eval_examples_count\": 1522, \"metrics\": {\"ner_f1\": 67.2026, \"ner_token_f1\": 75.2673}, \"time_spent\": \"0:27:51\", \"epochs_done\": 2, \"batches_seen\": 3240, \"train_examples_seen\": 32390, \"impatience\": 13, \"patience_limit\": 100}}\n",
            "{\"train\": {\"eval_examples_count\": 10, \"metrics\": {\"ner_f1\": 0, \"ner_token_f1\": 0}, \"time_spent\": \"0:27:54\", \"epochs_done\": 2, \"batches_seen\": 3260, \"train_examples_seen\": 32590, \"loss\": 0.01266779500474513}}\n"
          ]
        },
        {
          "output_type": "stream",
          "name": "stderr",
          "text": [
            "2022-05-22 11:06:25.899 INFO in 'deeppavlov.core.trainers.nn_trainer'['nn_trainer'] at line 212: Did not improve on the ner_f1 of 69.8795\n"
          ]
        },
        {
          "output_type": "stream",
          "name": "stdout",
          "text": [
            "{\"valid\": {\"eval_examples_count\": 1522, \"metrics\": {\"ner_f1\": 66.7774, \"ner_token_f1\": 75.3516}, \"time_spent\": \"0:27:59\", \"epochs_done\": 2, \"batches_seen\": 3260, \"train_examples_seen\": 32590, \"impatience\": 14, \"patience_limit\": 100}}\n",
            "{\"train\": {\"eval_examples_count\": 10, \"metrics\": {\"ner_f1\": 88.8889, \"ner_token_f1\": 90.9091}, \"time_spent\": \"0:28:03\", \"epochs_done\": 2, \"batches_seen\": 3280, \"train_examples_seen\": 32790, \"loss\": 0.02137809955747798}}\n"
          ]
        },
        {
          "output_type": "stream",
          "name": "stderr",
          "text": [
            "2022-05-22 11:06:34.478 INFO in 'deeppavlov.core.trainers.nn_trainer'['nn_trainer'] at line 212: Did not improve on the ner_f1 of 69.8795\n"
          ]
        },
        {
          "output_type": "stream",
          "name": "stdout",
          "text": [
            "{\"valid\": {\"eval_examples_count\": 1522, \"metrics\": {\"ner_f1\": 68.6411, \"ner_token_f1\": 76.0399}, \"time_spent\": \"0:28:08\", \"epochs_done\": 2, \"batches_seen\": 3280, \"train_examples_seen\": 32790, \"impatience\": 15, \"patience_limit\": 100}}\n",
            "{\"train\": {\"eval_examples_count\": 10, \"metrics\": {\"ner_f1\": 80.0, \"ner_token_f1\": 95.2381}, \"time_spent\": \"0:28:11\", \"epochs_done\": 2, \"batches_seen\": 3300, \"train_examples_seen\": 32990, \"loss\": 0.031995838282091425}}\n"
          ]
        },
        {
          "output_type": "stream",
          "name": "stderr",
          "text": [
            "2022-05-22 11:06:43.82 INFO in 'deeppavlov.core.trainers.nn_trainer'['nn_trainer'] at line 212: Did not improve on the ner_f1 of 69.8795\n"
          ]
        },
        {
          "output_type": "stream",
          "name": "stdout",
          "text": [
            "{\"valid\": {\"eval_examples_count\": 1522, \"metrics\": {\"ner_f1\": 67.3981, \"ner_token_f1\": 76.7223}, \"time_spent\": \"0:28:16\", \"epochs_done\": 2, \"batches_seen\": 3300, \"train_examples_seen\": 32990, \"impatience\": 16, \"patience_limit\": 100}}\n",
            "{\"train\": {\"eval_examples_count\": 10, \"metrics\": {\"ner_f1\": 100.0, \"ner_token_f1\": 100.0}, \"time_spent\": \"0:28:20\", \"epochs_done\": 2, \"batches_seen\": 3320, \"train_examples_seen\": 33190, \"loss\": 0.012454610261920606}}\n"
          ]
        },
        {
          "output_type": "stream",
          "name": "stderr",
          "text": [
            "2022-05-22 11:06:51.690 INFO in 'deeppavlov.core.trainers.nn_trainer'['nn_trainer'] at line 212: Did not improve on the ner_f1 of 69.8795\n"
          ]
        },
        {
          "output_type": "stream",
          "name": "stdout",
          "text": [
            "{\"valid\": {\"eval_examples_count\": 1522, \"metrics\": {\"ner_f1\": 65.1376, \"ner_token_f1\": 76.8354}, \"time_spent\": \"0:28:25\", \"epochs_done\": 2, \"batches_seen\": 3320, \"train_examples_seen\": 33190, \"impatience\": 17, \"patience_limit\": 100}}\n",
            "{\"train\": {\"eval_examples_count\": 10, \"metrics\": {\"ner_f1\": 100.0, \"ner_token_f1\": 100.0}, \"time_spent\": \"0:28:29\", \"epochs_done\": 2, \"batches_seen\": 3340, \"train_examples_seen\": 33390, \"loss\": 0.014699273371661548}}\n"
          ]
        },
        {
          "output_type": "stream",
          "name": "stderr",
          "text": [
            "2022-05-22 11:07:00.519 INFO in 'deeppavlov.core.trainers.nn_trainer'['nn_trainer'] at line 212: Did not improve on the ner_f1 of 69.8795\n"
          ]
        },
        {
          "output_type": "stream",
          "name": "stdout",
          "text": [
            "{\"valid\": {\"eval_examples_count\": 1522, \"metrics\": {\"ner_f1\": 67.84, \"ner_token_f1\": 76.9784}, \"time_spent\": \"0:28:34\", \"epochs_done\": 2, \"batches_seen\": 3340, \"train_examples_seen\": 33390, \"impatience\": 18, \"patience_limit\": 100}}\n",
            "{\"train\": {\"eval_examples_count\": 10, \"metrics\": {\"ner_f1\": 0, \"ner_token_f1\": 0}, \"time_spent\": \"0:28:37\", \"epochs_done\": 2, \"batches_seen\": 3360, \"train_examples_seen\": 33590, \"loss\": 0.010611064663680735}}\n"
          ]
        },
        {
          "output_type": "stream",
          "name": "stderr",
          "text": [
            "2022-05-22 11:07:10.216 INFO in 'deeppavlov.core.trainers.nn_trainer'['nn_trainer'] at line 212: Did not improve on the ner_f1 of 69.8795\n"
          ]
        },
        {
          "output_type": "stream",
          "name": "stdout",
          "text": [
            "{\"valid\": {\"eval_examples_count\": 1522, \"metrics\": {\"ner_f1\": 63.1083, \"ner_token_f1\": 74.7346}, \"time_spent\": \"0:28:44\", \"epochs_done\": 2, \"batches_seen\": 3360, \"train_examples_seen\": 33590, \"impatience\": 19, \"patience_limit\": 100}}\n",
            "{\"train\": {\"eval_examples_count\": 10, \"metrics\": {\"ner_f1\": 100.0, \"ner_token_f1\": 100.0}, \"time_spent\": \"0:28:47\", \"epochs_done\": 2, \"batches_seen\": 3380, \"train_examples_seen\": 33790, \"loss\": 0.010716594647237798}}\n"
          ]
        },
        {
          "output_type": "stream",
          "name": "stderr",
          "text": [
            "2022-05-22 11:07:19.683 INFO in 'deeppavlov.core.trainers.nn_trainer'['nn_trainer'] at line 212: Did not improve on the ner_f1 of 69.8795\n"
          ]
        },
        {
          "output_type": "stream",
          "name": "stdout",
          "text": [
            "{\"valid\": {\"eval_examples_count\": 1522, \"metrics\": {\"ner_f1\": 61.1465, \"ner_token_f1\": 73.523}, \"time_spent\": \"0:28:53\", \"epochs_done\": 2, \"batches_seen\": 3380, \"train_examples_seen\": 33790, \"impatience\": 20, \"patience_limit\": 100}}\n",
            "{\"train\": {\"eval_examples_count\": 10, \"metrics\": {\"ner_f1\": 0, \"ner_token_f1\": 0}, \"time_spent\": \"0:28:57\", \"epochs_done\": 2, \"batches_seen\": 3400, \"train_examples_seen\": 33990, \"loss\": 0.01517054658033885}}\n"
          ]
        },
        {
          "output_type": "stream",
          "name": "stderr",
          "text": [
            "2022-05-22 11:07:28.744 INFO in 'deeppavlov.core.trainers.nn_trainer'['nn_trainer'] at line 212: Did not improve on the ner_f1 of 69.8795\n"
          ]
        },
        {
          "output_type": "stream",
          "name": "stdout",
          "text": [
            "{\"valid\": {\"eval_examples_count\": 1522, \"metrics\": {\"ner_f1\": 59.0909, \"ner_token_f1\": 75.4875}, \"time_spent\": \"0:29:02\", \"epochs_done\": 2, \"batches_seen\": 3400, \"train_examples_seen\": 33990, \"impatience\": 21, \"patience_limit\": 100}}\n",
            "{\"train\": {\"eval_examples_count\": 10, \"metrics\": {\"ner_f1\": 0, \"ner_token_f1\": 0}, \"time_spent\": \"0:29:06\", \"epochs_done\": 2, \"batches_seen\": 3420, \"train_examples_seen\": 34190, \"loss\": 0.006382386963377939}}\n"
          ]
        },
        {
          "output_type": "stream",
          "name": "stderr",
          "text": [
            "2022-05-22 11:07:37.442 INFO in 'deeppavlov.core.trainers.nn_trainer'['nn_trainer'] at line 212: Did not improve on the ner_f1 of 69.8795\n"
          ]
        },
        {
          "output_type": "stream",
          "name": "stdout",
          "text": [
            "{\"valid\": {\"eval_examples_count\": 1522, \"metrics\": {\"ner_f1\": 63.3452, \"ner_token_f1\": 76.3867}, \"time_spent\": \"0:29:11\", \"epochs_done\": 2, \"batches_seen\": 3420, \"train_examples_seen\": 34190, \"impatience\": 22, \"patience_limit\": 100}}\n",
            "{\"train\": {\"eval_examples_count\": 10, \"metrics\": {\"ner_f1\": 0, \"ner_token_f1\": 0}, \"time_spent\": \"0:29:14\", \"epochs_done\": 2, \"batches_seen\": 3440, \"train_examples_seen\": 34390, \"loss\": 0.016408116026650533}}\n"
          ]
        },
        {
          "output_type": "stream",
          "name": "stderr",
          "text": [
            "2022-05-22 11:07:46.153 INFO in 'deeppavlov.core.trainers.nn_trainer'['nn_trainer'] at line 212: Did not improve on the ner_f1 of 69.8795\n"
          ]
        },
        {
          "output_type": "stream",
          "name": "stdout",
          "text": [
            "{\"valid\": {\"eval_examples_count\": 1522, \"metrics\": {\"ner_f1\": 58.8997, \"ner_token_f1\": 77.085}, \"time_spent\": \"0:29:20\", \"epochs_done\": 2, \"batches_seen\": 3440, \"train_examples_seen\": 34390, \"impatience\": 23, \"patience_limit\": 100}}\n",
            "{\"train\": {\"eval_examples_count\": 10, \"metrics\": {\"ner_f1\": 50.0, \"ner_token_f1\": 94.1176}, \"time_spent\": \"0:29:23\", \"epochs_done\": 2, \"batches_seen\": 3460, \"train_examples_seen\": 34590, \"loss\": 0.017204281721569716}}\n"
          ]
        },
        {
          "output_type": "stream",
          "name": "stderr",
          "text": [
            "2022-05-22 11:07:54.679 INFO in 'deeppavlov.core.trainers.nn_trainer'['nn_trainer'] at line 212: Did not improve on the ner_f1 of 69.8795\n"
          ]
        },
        {
          "output_type": "stream",
          "name": "stdout",
          "text": [
            "{\"valid\": {\"eval_examples_count\": 1522, \"metrics\": {\"ner_f1\": 62.2084, \"ner_token_f1\": 74.6685}, \"time_spent\": \"0:29:28\", \"epochs_done\": 2, \"batches_seen\": 3460, \"train_examples_seen\": 34590, \"impatience\": 24, \"patience_limit\": 100}}\n",
            "{\"train\": {\"eval_examples_count\": 10, \"metrics\": {\"ner_f1\": 0, \"ner_token_f1\": 0}, \"time_spent\": \"0:29:32\", \"epochs_done\": 2, \"batches_seen\": 3480, \"train_examples_seen\": 34790, \"loss\": 0.007850512280856491}}\n"
          ]
        },
        {
          "output_type": "stream",
          "name": "stderr",
          "text": [
            "2022-05-22 11:08:03.469 INFO in 'deeppavlov.core.trainers.nn_trainer'['nn_trainer'] at line 212: Did not improve on the ner_f1 of 69.8795\n"
          ]
        },
        {
          "output_type": "stream",
          "name": "stdout",
          "text": [
            "{\"valid\": {\"eval_examples_count\": 1522, \"metrics\": {\"ner_f1\": 66.6667, \"ner_token_f1\": 75.707}, \"time_spent\": \"0:29:37\", \"epochs_done\": 2, \"batches_seen\": 3480, \"train_examples_seen\": 34790, \"impatience\": 25, \"patience_limit\": 100}}\n",
            "{\"train\": {\"eval_examples_count\": 10, \"metrics\": {\"ner_f1\": 100.0, \"ner_token_f1\": 100.0}, \"time_spent\": \"0:29:40\", \"epochs_done\": 2, \"batches_seen\": 3500, \"train_examples_seen\": 34990, \"loss\": 0.008652843119125463}}\n"
          ]
        },
        {
          "output_type": "stream",
          "name": "stderr",
          "text": [
            "2022-05-22 11:08:12.93 INFO in 'deeppavlov.core.trainers.nn_trainer'['nn_trainer'] at line 212: Did not improve on the ner_f1 of 69.8795\n"
          ]
        },
        {
          "output_type": "stream",
          "name": "stdout",
          "text": [
            "{\"valid\": {\"eval_examples_count\": 1522, \"metrics\": {\"ner_f1\": 64.9446, \"ner_token_f1\": 74.8518}, \"time_spent\": \"0:29:45\", \"epochs_done\": 2, \"batches_seen\": 3500, \"train_examples_seen\": 34990, \"impatience\": 26, \"patience_limit\": 100}}\n",
            "{\"train\": {\"eval_examples_count\": 10, \"metrics\": {\"ner_f1\": 57.1429, \"ner_token_f1\": 88.8889}, \"time_spent\": \"0:29:49\", \"epochs_done\": 2, \"batches_seen\": 3520, \"train_examples_seen\": 35190, \"loss\": 0.014176015722478041}}\n"
          ]
        },
        {
          "output_type": "stream",
          "name": "stderr",
          "text": [
            "2022-05-22 11:08:20.841 INFO in 'deeppavlov.core.trainers.nn_trainer'['nn_trainer'] at line 212: Did not improve on the ner_f1 of 69.8795\n"
          ]
        },
        {
          "output_type": "stream",
          "name": "stdout",
          "text": [
            "{\"valid\": {\"eval_examples_count\": 1522, \"metrics\": {\"ner_f1\": 61.1354, \"ner_token_f1\": 72.7873}, \"time_spent\": \"0:29:54\", \"epochs_done\": 2, \"batches_seen\": 3520, \"train_examples_seen\": 35190, \"impatience\": 27, \"patience_limit\": 100}}\n",
            "{\"train\": {\"eval_examples_count\": 10, \"metrics\": {\"ner_f1\": 0, \"ner_token_f1\": 0}, \"time_spent\": \"0:29:58\", \"epochs_done\": 2, \"batches_seen\": 3540, \"train_examples_seen\": 35390, \"loss\": 0.013011107717466075}}\n"
          ]
        },
        {
          "output_type": "stream",
          "name": "stderr",
          "text": [
            "2022-05-22 11:08:29.719 INFO in 'deeppavlov.core.trainers.nn_trainer'['nn_trainer'] at line 212: Did not improve on the ner_f1 of 69.8795\n"
          ]
        },
        {
          "output_type": "stream",
          "name": "stdout",
          "text": [
            "{\"valid\": {\"eval_examples_count\": 1522, \"metrics\": {\"ner_f1\": 65.2529, \"ner_token_f1\": 77.4241}, \"time_spent\": \"0:30:03\", \"epochs_done\": 2, \"batches_seen\": 3540, \"train_examples_seen\": 35390, \"impatience\": 28, \"patience_limit\": 100}}\n",
            "{\"train\": {\"eval_examples_count\": 10, \"metrics\": {\"ner_f1\": 0, \"ner_token_f1\": 0}, \"time_spent\": \"0:30:06\", \"epochs_done\": 2, \"batches_seen\": 3560, \"train_examples_seen\": 35590, \"loss\": 0.011625916687262362}}\n"
          ]
        },
        {
          "output_type": "stream",
          "name": "stderr",
          "text": [
            "2022-05-22 11:08:38.421 INFO in 'deeppavlov.core.trainers.nn_trainer'['nn_trainer'] at line 212: Did not improve on the ner_f1 of 69.8795\n"
          ]
        },
        {
          "output_type": "stream",
          "name": "stdout",
          "text": [
            "{\"valid\": {\"eval_examples_count\": 1522, \"metrics\": {\"ner_f1\": 63.6215, \"ner_token_f1\": 77.1581}, \"time_spent\": \"0:30:12\", \"epochs_done\": 2, \"batches_seen\": 3560, \"train_examples_seen\": 35590, \"impatience\": 29, \"patience_limit\": 100}}\n",
            "{\"train\": {\"eval_examples_count\": 10, \"metrics\": {\"ner_f1\": 100.0, \"ner_token_f1\": 100.0}, \"time_spent\": \"0:30:15\", \"epochs_done\": 2, \"batches_seen\": 3580, \"train_examples_seen\": 35790, \"loss\": 0.021300453050207578}}\n"
          ]
        },
        {
          "output_type": "stream",
          "name": "stderr",
          "text": [
            "2022-05-22 11:08:47.390 INFO in 'deeppavlov.core.trainers.nn_trainer'['nn_trainer'] at line 212: Did not improve on the ner_f1 of 69.8795\n",
            "2022-05-22 11:08:47.391 INFO in 'deeppavlov.core.models.torch_model'['torch_model'] at line 223: ----------Current LR is decreased in 1.5 times----------\n",
            "Some weights of the model checkpoint at bert-base-multilingual-cased were not used when initializing BertForTokenClassification: ['cls.predictions.bias', 'cls.predictions.transform.LayerNorm.bias', 'cls.predictions.transform.LayerNorm.weight', 'cls.seq_relationship.weight', 'cls.predictions.transform.dense.bias', 'cls.predictions.decoder.weight', 'cls.predictions.transform.dense.weight', 'cls.seq_relationship.bias']\n",
            "- This IS expected if you are initializing BertForTokenClassification from the checkpoint of a model trained on another task or with another architecture (e.g. initializing a BertForSequenceClassification model from a BertForPreTraining model).\n",
            "- This IS NOT expected if you are initializing BertForTokenClassification from the checkpoint of a model that you expect to be exactly identical (initializing a BertForSequenceClassification model from a BertForSequenceClassification model).\n",
            "Some weights of BertForTokenClassification were not initialized from the model checkpoint at bert-base-multilingual-cased and are newly initialized: ['classifier.weight', 'classifier.bias']\n",
            "You should probably TRAIN this model on a down-stream task to be able to use it for predictions and inference.\n",
            "2022-05-22 11:08:53.494 INFO in 'deeppavlov.models.torch_bert.torch_transformers_sequence_tagger'['torch_transformers_sequence_tagger'] at line 360: Load path /content/drive/MyDrive/nlp/project/deep_pavlov/models/ner_ontonotes_bert_mult_torch4/bert-base-multilingual-cased/model is given.\n",
            "2022-05-22 11:08:53.592 INFO in 'deeppavlov.models.torch_bert.torch_transformers_sequence_tagger'['torch_transformers_sequence_tagger'] at line 367: Load path /content/drive/MyDrive/nlp/project/deep_pavlov/models/ner_ontonotes_bert_mult_torch4/bert-base-multilingual-cased/model.pth.tar exists.\n",
            "2022-05-22 11:08:53.593 INFO in 'deeppavlov.models.torch_bert.torch_transformers_sequence_tagger'['torch_transformers_sequence_tagger'] at line 368: Initializing `TorchTransformersSequenceTagger` from saved.\n",
            "2022-05-22 11:08:53.593 INFO in 'deeppavlov.models.torch_bert.torch_transformers_sequence_tagger'['torch_transformers_sequence_tagger'] at line 371: Loading weights from /content/drive/MyDrive/nlp/project/deep_pavlov/models/ner_ontonotes_bert_mult_torch4/bert-base-multilingual-cased/model.pth.tar.\n"
          ]
        },
        {
          "output_type": "stream",
          "name": "stdout",
          "text": [
            "{\"valid\": {\"eval_examples_count\": 1522, \"metrics\": {\"ner_f1\": 63.3758, \"ner_token_f1\": 74.7906}, \"time_spent\": \"0:30:21\", \"epochs_done\": 2, \"batches_seen\": 3580, \"train_examples_seen\": 35790, \"impatience\": 30, \"patience_limit\": 100}}\n",
            "{\"train\": {\"eval_examples_count\": 10, \"metrics\": {\"ner_f1\": 40.0, \"ner_token_f1\": 66.6667}, \"time_spent\": \"0:30:34\", \"epochs_done\": 2, \"batches_seen\": 3600, \"train_examples_seen\": 35990, \"loss\": 0.014975098813010845}}\n"
          ]
        },
        {
          "output_type": "stream",
          "name": "stderr",
          "text": [
            "2022-05-22 11:09:05.525 INFO in 'deeppavlov.core.trainers.nn_trainer'['nn_trainer'] at line 212: Did not improve on the ner_f1 of 69.8795\n"
          ]
        },
        {
          "output_type": "stream",
          "name": "stdout",
          "text": [
            "{\"valid\": {\"eval_examples_count\": 1522, \"metrics\": {\"ner_f1\": 64.1766, \"ner_token_f1\": 74.981}, \"time_spent\": \"0:30:39\", \"epochs_done\": 2, \"batches_seen\": 3600, \"train_examples_seen\": 35990, \"impatience\": 31, \"patience_limit\": 100}}\n",
            "{\"train\": {\"eval_examples_count\": 10, \"metrics\": {\"ner_f1\": 100.0, \"ner_token_f1\": 100.0}, \"time_spent\": \"0:30:42\", \"epochs_done\": 2, \"batches_seen\": 3620, \"train_examples_seen\": 36190, \"loss\": 0.018929473900425365}}\n"
          ]
        },
        {
          "output_type": "stream",
          "name": "stderr",
          "text": [
            "2022-05-22 11:09:14.102 INFO in 'deeppavlov.core.trainers.nn_trainer'['nn_trainer'] at line 212: Did not improve on the ner_f1 of 69.8795\n"
          ]
        },
        {
          "output_type": "stream",
          "name": "stdout",
          "text": [
            "{\"valid\": {\"eval_examples_count\": 1522, \"metrics\": {\"ner_f1\": 57.0447, \"ner_token_f1\": 74.9058}, \"time_spent\": \"0:30:48\", \"epochs_done\": 2, \"batches_seen\": 3620, \"train_examples_seen\": 36190, \"impatience\": 32, \"patience_limit\": 100}}\n",
            "{\"train\": {\"eval_examples_count\": 10, \"metrics\": {\"ner_f1\": 100.0, \"ner_token_f1\": 100.0}, \"time_spent\": \"0:30:51\", \"epochs_done\": 2, \"batches_seen\": 3640, \"train_examples_seen\": 36390, \"loss\": 0.013418321374047082}}\n"
          ]
        },
        {
          "output_type": "stream",
          "name": "stderr",
          "text": [
            "2022-05-22 11:09:22.720 INFO in 'deeppavlov.core.trainers.nn_trainer'['nn_trainer'] at line 212: Did not improve on the ner_f1 of 69.8795\n"
          ]
        },
        {
          "output_type": "stream",
          "name": "stdout",
          "text": [
            "{\"valid\": {\"eval_examples_count\": 1522, \"metrics\": {\"ner_f1\": 59.5674, \"ner_token_f1\": 76.3359}, \"time_spent\": \"0:30:56\", \"epochs_done\": 2, \"batches_seen\": 3640, \"train_examples_seen\": 36390, \"impatience\": 33, \"patience_limit\": 100}}\n",
            "{\"train\": {\"eval_examples_count\": 10, \"metrics\": {\"ner_f1\": 0, \"ner_token_f1\": 0}, \"time_spent\": \"0:30:59\", \"epochs_done\": 2, \"batches_seen\": 3660, \"train_examples_seen\": 36590, \"loss\": 0.01540582845955214}}\n"
          ]
        },
        {
          "output_type": "stream",
          "name": "stderr",
          "text": [
            "2022-05-22 11:09:31.344 INFO in 'deeppavlov.core.trainers.nn_trainer'['nn_trainer'] at line 212: Did not improve on the ner_f1 of 69.8795\n"
          ]
        },
        {
          "output_type": "stream",
          "name": "stdout",
          "text": [
            "{\"valid\": {\"eval_examples_count\": 1522, \"metrics\": {\"ner_f1\": 66.2045, \"ner_token_f1\": 73.493}, \"time_spent\": \"0:31:05\", \"epochs_done\": 2, \"batches_seen\": 3660, \"train_examples_seen\": 36590, \"impatience\": 34, \"patience_limit\": 100}}\n",
            "{\"train\": {\"eval_examples_count\": 10, \"metrics\": {\"ner_f1\": 88.8889, \"ner_token_f1\": 97.2973}, \"time_spent\": \"0:31:08\", \"epochs_done\": 2, \"batches_seen\": 3680, \"train_examples_seen\": 36790, \"loss\": 0.017751145798683865}}\n"
          ]
        },
        {
          "output_type": "stream",
          "name": "stderr",
          "text": [
            "2022-05-22 11:09:40.860 INFO in 'deeppavlov.core.trainers.nn_trainer'['nn_trainer'] at line 212: Did not improve on the ner_f1 of 69.8795\n"
          ]
        },
        {
          "output_type": "stream",
          "name": "stdout",
          "text": [
            "{\"valid\": {\"eval_examples_count\": 1522, \"metrics\": {\"ner_f1\": 67.0017, \"ner_token_f1\": 74.5914}, \"time_spent\": \"0:31:14\", \"epochs_done\": 2, \"batches_seen\": 3680, \"train_examples_seen\": 36790, \"impatience\": 35, \"patience_limit\": 100}}\n",
            "{\"train\": {\"eval_examples_count\": 10, \"metrics\": {\"ner_f1\": 100.0, \"ner_token_f1\": 100.0}, \"time_spent\": \"0:31:18\", \"epochs_done\": 2, \"batches_seen\": 3700, \"train_examples_seen\": 36990, \"loss\": 0.01969302021097974}}\n"
          ]
        },
        {
          "output_type": "stream",
          "name": "stderr",
          "text": [
            "2022-05-22 11:09:50.405 INFO in 'deeppavlov.core.trainers.nn_trainer'['nn_trainer'] at line 212: Did not improve on the ner_f1 of 69.8795\n"
          ]
        },
        {
          "output_type": "stream",
          "name": "stdout",
          "text": [
            "{\"valid\": {\"eval_examples_count\": 1522, \"metrics\": {\"ner_f1\": 63.6054, \"ner_token_f1\": 75.0207}, \"time_spent\": \"0:31:24\", \"epochs_done\": 2, \"batches_seen\": 3700, \"train_examples_seen\": 36990, \"impatience\": 36, \"patience_limit\": 100}}\n",
            "{\"train\": {\"eval_examples_count\": 10, \"metrics\": {\"ner_f1\": 100.0, \"ner_token_f1\": 100.0}, \"time_spent\": \"0:31:28\", \"epochs_done\": 2, \"batches_seen\": 3720, \"train_examples_seen\": 37190, \"loss\": 0.004827787491012714}}\n"
          ]
        },
        {
          "output_type": "stream",
          "name": "stderr",
          "text": [
            "2022-05-22 11:09:59.560 INFO in 'deeppavlov.core.trainers.nn_trainer'['nn_trainer'] at line 212: Did not improve on the ner_f1 of 69.8795\n"
          ]
        },
        {
          "output_type": "stream",
          "name": "stdout",
          "text": [
            "{\"valid\": {\"eval_examples_count\": 1522, \"metrics\": {\"ner_f1\": 63.4146, \"ner_token_f1\": 77.2691}, \"time_spent\": \"0:31:33\", \"epochs_done\": 2, \"batches_seen\": 3720, \"train_examples_seen\": 37190, \"impatience\": 37, \"patience_limit\": 100}}\n",
            "{\"train\": {\"eval_examples_count\": 10, \"metrics\": {\"ner_f1\": 100.0, \"ner_token_f1\": 100.0}, \"time_spent\": \"0:31:36\", \"epochs_done\": 2, \"batches_seen\": 3740, \"train_examples_seen\": 37390, \"loss\": 0.018777729415887734}}\n"
          ]
        },
        {
          "output_type": "stream",
          "name": "stderr",
          "text": [
            "2022-05-22 11:10:08.157 INFO in 'deeppavlov.core.trainers.nn_trainer'['nn_trainer'] at line 207: Improved best ner_f1 from 69.8795 to 70.3518\n",
            "2022-05-22 11:10:08.158 INFO in 'deeppavlov.core.trainers.nn_trainer'['nn_trainer'] at line 209: Saving model\n",
            "2022-05-22 11:10:08.170 INFO in 'deeppavlov.core.models.torch_model'['torch_model'] at line 195: Saving model to /content/drive/MyDrive/nlp/project/deep_pavlov/models/ner_ontonotes_bert_mult_torch4/bert-base-multilingual-cased/model.pth.tar.\n"
          ]
        },
        {
          "output_type": "stream",
          "name": "stdout",
          "text": [
            "{\"valid\": {\"eval_examples_count\": 1522, \"metrics\": {\"ner_f1\": 70.3518, \"ner_token_f1\": 77.095}, \"time_spent\": \"0:31:42\", \"epochs_done\": 2, \"batches_seen\": 3740, \"train_examples_seen\": 37390, \"impatience\": 0, \"patience_limit\": 100}}\n",
            "{\"train\": {\"eval_examples_count\": 10, \"metrics\": {\"ner_f1\": 40.0, \"ner_token_f1\": 59.4595}, \"time_spent\": \"0:31:56\", \"epochs_done\": 2, \"batches_seen\": 3760, \"train_examples_seen\": 37590, \"loss\": 0.00562131120605045}}\n"
          ]
        },
        {
          "output_type": "stream",
          "name": "stderr",
          "text": [
            "2022-05-22 11:10:27.803 INFO in 'deeppavlov.core.trainers.nn_trainer'['nn_trainer'] at line 207: Improved best ner_f1 from 70.3518 to 72.1368\n",
            "2022-05-22 11:10:27.805 INFO in 'deeppavlov.core.trainers.nn_trainer'['nn_trainer'] at line 209: Saving model\n",
            "2022-05-22 11:10:27.815 INFO in 'deeppavlov.core.models.torch_model'['torch_model'] at line 195: Saving model to /content/drive/MyDrive/nlp/project/deep_pavlov/models/ner_ontonotes_bert_mult_torch4/bert-base-multilingual-cased/model.pth.tar.\n"
          ]
        },
        {
          "output_type": "stream",
          "name": "stdout",
          "text": [
            "{\"valid\": {\"eval_examples_count\": 1522, \"metrics\": {\"ner_f1\": 72.1368, \"ner_token_f1\": 76.5612}, \"time_spent\": \"0:32:01\", \"epochs_done\": 2, \"batches_seen\": 3760, \"train_examples_seen\": 37590, \"impatience\": 0, \"patience_limit\": 100}}\n",
            "{\"train\": {\"eval_examples_count\": 10, \"metrics\": {\"ner_f1\": 40.0, \"ner_token_f1\": 85.7143}, \"time_spent\": \"0:32:15\", \"epochs_done\": 2, \"batches_seen\": 3780, \"train_examples_seen\": 37790, \"loss\": 0.012135900678913458}}\n"
          ]
        },
        {
          "output_type": "stream",
          "name": "stderr",
          "text": [
            "2022-05-22 11:10:47.246 INFO in 'deeppavlov.core.trainers.nn_trainer'['nn_trainer'] at line 212: Did not improve on the ner_f1 of 72.1368\n"
          ]
        },
        {
          "output_type": "stream",
          "name": "stdout",
          "text": [
            "{\"valid\": {\"eval_examples_count\": 1522, \"metrics\": {\"ner_f1\": 63.2258, \"ner_token_f1\": 75.2347}, \"time_spent\": \"0:32:21\", \"epochs_done\": 2, \"batches_seen\": 3780, \"train_examples_seen\": 37790, \"impatience\": 1, \"patience_limit\": 100}}\n",
            "{\"train\": {\"eval_examples_count\": 10, \"metrics\": {\"ner_f1\": 100.0, \"ner_token_f1\": 100.0}, \"time_spent\": \"0:32:24\", \"epochs_done\": 2, \"batches_seen\": 3800, \"train_examples_seen\": 37990, \"loss\": 0.013572260568980709}}\n"
          ]
        },
        {
          "output_type": "stream",
          "name": "stderr",
          "text": [
            "2022-05-22 11:10:55.757 INFO in 'deeppavlov.core.trainers.nn_trainer'['nn_trainer'] at line 212: Did not improve on the ner_f1 of 72.1368\n"
          ]
        },
        {
          "output_type": "stream",
          "name": "stdout",
          "text": [
            "{\"valid\": {\"eval_examples_count\": 1522, \"metrics\": {\"ner_f1\": 66.4537, \"ner_token_f1\": 74.2702}, \"time_spent\": \"0:32:29\", \"epochs_done\": 2, \"batches_seen\": 3800, \"train_examples_seen\": 37990, \"impatience\": 2, \"patience_limit\": 100}}\n",
            "{\"train\": {\"eval_examples_count\": 10, \"metrics\": {\"ner_f1\": 0, \"ner_token_f1\": 0}, \"time_spent\": \"0:32:32\", \"epochs_done\": 2, \"batches_seen\": 3820, \"train_examples_seen\": 38190, \"loss\": 0.013273940647923154}}\n"
          ]
        },
        {
          "output_type": "stream",
          "name": "stderr",
          "text": [
            "2022-05-22 11:11:04.233 INFO in 'deeppavlov.core.trainers.nn_trainer'['nn_trainer'] at line 212: Did not improve on the ner_f1 of 72.1368\n"
          ]
        },
        {
          "output_type": "stream",
          "name": "stdout",
          "text": [
            "{\"valid\": {\"eval_examples_count\": 1522, \"metrics\": {\"ner_f1\": 64.1892, \"ner_token_f1\": 76.259}, \"time_spent\": \"0:32:38\", \"epochs_done\": 2, \"batches_seen\": 3820, \"train_examples_seen\": 38190, \"impatience\": 3, \"patience_limit\": 100}}\n",
            "{\"train\": {\"eval_examples_count\": 10, \"metrics\": {\"ner_f1\": 100.0, \"ner_token_f1\": 100.0}, \"time_spent\": \"0:32:41\", \"epochs_done\": 2, \"batches_seen\": 3840, \"train_examples_seen\": 38390, \"loss\": 0.011269926360546379}}\n"
          ]
        },
        {
          "output_type": "stream",
          "name": "stderr",
          "text": [
            "2022-05-22 11:11:12.843 INFO in 'deeppavlov.core.trainers.nn_trainer'['nn_trainer'] at line 212: Did not improve on the ner_f1 of 72.1368\n"
          ]
        },
        {
          "output_type": "stream",
          "name": "stdout",
          "text": [
            "{\"valid\": {\"eval_examples_count\": 1522, \"metrics\": {\"ner_f1\": 65.2666, \"ner_token_f1\": 76.6929}, \"time_spent\": \"0:32:46\", \"epochs_done\": 2, \"batches_seen\": 3840, \"train_examples_seen\": 38390, \"impatience\": 4, \"patience_limit\": 100}}\n",
            "{\"train\": {\"eval_examples_count\": 10, \"metrics\": {\"ner_f1\": 0, \"ner_token_f1\": 0}, \"time_spent\": \"0:32:49\", \"epochs_done\": 2, \"batches_seen\": 3860, \"train_examples_seen\": 38590, \"loss\": 0.013516580728173721}}\n"
          ]
        },
        {
          "output_type": "stream",
          "name": "stderr",
          "text": [
            "2022-05-22 11:11:21.241 INFO in 'deeppavlov.core.trainers.nn_trainer'['nn_trainer'] at line 212: Did not improve on the ner_f1 of 72.1368\n"
          ]
        },
        {
          "output_type": "stream",
          "name": "stdout",
          "text": [
            "{\"valid\": {\"eval_examples_count\": 1522, \"metrics\": {\"ner_f1\": 67.7165, \"ner_token_f1\": 76.1281}, \"time_spent\": \"0:32:55\", \"epochs_done\": 2, \"batches_seen\": 3860, \"train_examples_seen\": 38590, \"impatience\": 5, \"patience_limit\": 100}}\n",
            "{\"train\": {\"eval_examples_count\": 10, \"metrics\": {\"ner_f1\": 100.0, \"ner_token_f1\": 100.0}, \"time_spent\": \"0:32:58\", \"epochs_done\": 2, \"batches_seen\": 3880, \"train_examples_seen\": 38790, \"loss\": 0.024794032359204722}}\n"
          ]
        },
        {
          "output_type": "stream",
          "name": "stderr",
          "text": [
            "2022-05-22 11:11:29.737 INFO in 'deeppavlov.core.trainers.nn_trainer'['nn_trainer'] at line 212: Did not improve on the ner_f1 of 72.1368\n"
          ]
        },
        {
          "output_type": "stream",
          "name": "stdout",
          "text": [
            "{\"valid\": {\"eval_examples_count\": 1522, \"metrics\": {\"ner_f1\": 67.52, \"ner_token_f1\": 76.4192}, \"time_spent\": \"0:33:03\", \"epochs_done\": 2, \"batches_seen\": 3880, \"train_examples_seen\": 38790, \"impatience\": 6, \"patience_limit\": 100}}\n",
            "{\"train\": {\"eval_examples_count\": 10, \"metrics\": {\"ner_f1\": 100.0, \"ner_token_f1\": 100.0}, \"time_spent\": \"0:33:06\", \"epochs_done\": 2, \"batches_seen\": 3900, \"train_examples_seen\": 38990, \"loss\": 0.023626653055180212}}\n"
          ]
        },
        {
          "output_type": "stream",
          "name": "stderr",
          "text": [
            "2022-05-22 11:11:38.388 INFO in 'deeppavlov.core.trainers.nn_trainer'['nn_trainer'] at line 212: Did not improve on the ner_f1 of 72.1368\n"
          ]
        },
        {
          "output_type": "stream",
          "name": "stdout",
          "text": [
            "{\"valid\": {\"eval_examples_count\": 1522, \"metrics\": {\"ner_f1\": 65.4424, \"ner_token_f1\": 76.7926}, \"time_spent\": \"0:33:12\", \"epochs_done\": 2, \"batches_seen\": 3900, \"train_examples_seen\": 38990, \"impatience\": 7, \"patience_limit\": 100}}\n",
            "{\"train\": {\"eval_examples_count\": 10, \"metrics\": {\"ner_f1\": 100.0, \"ner_token_f1\": 100.0}, \"time_spent\": \"0:33:15\", \"epochs_done\": 2, \"batches_seen\": 3920, \"train_examples_seen\": 39190, \"loss\": 0.012691874181473394}}\n"
          ]
        },
        {
          "output_type": "stream",
          "name": "stderr",
          "text": [
            "2022-05-22 11:11:47.73 INFO in 'deeppavlov.core.trainers.nn_trainer'['nn_trainer'] at line 212: Did not improve on the ner_f1 of 72.1368\n"
          ]
        },
        {
          "output_type": "stream",
          "name": "stdout",
          "text": [
            "{\"valid\": {\"eval_examples_count\": 1522, \"metrics\": {\"ner_f1\": 64.8734, \"ner_token_f1\": 76.4275}, \"time_spent\": \"0:33:20\", \"epochs_done\": 2, \"batches_seen\": 3920, \"train_examples_seen\": 39190, \"impatience\": 8, \"patience_limit\": 100}}\n",
            "{\"train\": {\"eval_examples_count\": 10, \"metrics\": {\"ner_f1\": 85.7143, \"ner_token_f1\": 83.3333}, \"time_spent\": \"0:33:24\", \"epochs_done\": 2, \"batches_seen\": 3940, \"train_examples_seen\": 39390, \"loss\": 0.014545368540711933}}\n"
          ]
        },
        {
          "output_type": "stream",
          "name": "stderr",
          "text": [
            "2022-05-22 11:11:55.791 INFO in 'deeppavlov.core.trainers.nn_trainer'['nn_trainer'] at line 212: Did not improve on the ner_f1 of 72.1368\n"
          ]
        },
        {
          "output_type": "stream",
          "name": "stdout",
          "text": [
            "{\"valid\": {\"eval_examples_count\": 1522, \"metrics\": {\"ner_f1\": 67.4961, \"ner_token_f1\": 76.2771}, \"time_spent\": \"0:33:29\", \"epochs_done\": 2, \"batches_seen\": 3940, \"train_examples_seen\": 39390, \"impatience\": 9, \"patience_limit\": 100}}\n",
            "{\"train\": {\"eval_examples_count\": 10, \"metrics\": {\"ner_f1\": 0, \"ner_token_f1\": 0}, \"time_spent\": \"0:33:33\", \"epochs_done\": 2, \"batches_seen\": 3960, \"train_examples_seen\": 39590, \"loss\": 0.010390595969147398}}\n"
          ]
        },
        {
          "output_type": "stream",
          "name": "stderr",
          "text": [
            "2022-05-22 11:12:05.468 INFO in 'deeppavlov.core.trainers.nn_trainer'['nn_trainer'] at line 212: Did not improve on the ner_f1 of 72.1368\n"
          ]
        },
        {
          "output_type": "stream",
          "name": "stdout",
          "text": [
            "{\"valid\": {\"eval_examples_count\": 1522, \"metrics\": {\"ner_f1\": 67.6236, \"ner_token_f1\": 76.5522}, \"time_spent\": \"0:33:39\", \"epochs_done\": 2, \"batches_seen\": 3960, \"train_examples_seen\": 39590, \"impatience\": 10, \"patience_limit\": 100}}\n",
            "{\"train\": {\"eval_examples_count\": 10, \"metrics\": {\"ner_f1\": 100.0, \"ner_token_f1\": 100.0}, \"time_spent\": \"0:33:42\", \"epochs_done\": 2, \"batches_seen\": 3980, \"train_examples_seen\": 39790, \"loss\": 0.014002346219785976}}\n"
          ]
        },
        {
          "output_type": "stream",
          "name": "stderr",
          "text": [
            "2022-05-22 11:12:15.331 INFO in 'deeppavlov.core.trainers.nn_trainer'['nn_trainer'] at line 212: Did not improve on the ner_f1 of 72.1368\n"
          ]
        },
        {
          "output_type": "stream",
          "name": "stdout",
          "text": [
            "{\"valid\": {\"eval_examples_count\": 1522, \"metrics\": {\"ner_f1\": 68.4211, \"ner_token_f1\": 76.3744}, \"time_spent\": \"0:33:49\", \"epochs_done\": 2, \"batches_seen\": 3980, \"train_examples_seen\": 39790, \"impatience\": 11, \"patience_limit\": 100}}\n",
            "{\"train\": {\"eval_examples_count\": 10, \"metrics\": {\"ner_f1\": 0, \"ner_token_f1\": 0}, \"time_spent\": \"0:33:52\", \"epochs_done\": 3, \"batches_seen\": 4000, \"train_examples_seen\": 39985, \"loss\": 0.015811753667367156}}\n"
          ]
        },
        {
          "output_type": "stream",
          "name": "stderr",
          "text": [
            "2022-05-22 11:12:24.42 INFO in 'deeppavlov.core.trainers.nn_trainer'['nn_trainer'] at line 212: Did not improve on the ner_f1 of 72.1368\n"
          ]
        },
        {
          "output_type": "stream",
          "name": "stdout",
          "text": [
            "{\"valid\": {\"eval_examples_count\": 1522, \"metrics\": {\"ner_f1\": 67.4304, \"ner_token_f1\": 77.0393}, \"time_spent\": \"0:33:57\", \"epochs_done\": 3, \"batches_seen\": 4000, \"train_examples_seen\": 39985, \"impatience\": 12, \"patience_limit\": 100}}\n",
            "{\"train\": {\"eval_examples_count\": 10, \"metrics\": {\"ner_f1\": 100.0, \"ner_token_f1\": 100.0}, \"time_spent\": \"0:34:01\", \"epochs_done\": 3, \"batches_seen\": 4020, \"train_examples_seen\": 40185, \"loss\": 0.008425259268551599}}\n"
          ]
        },
        {
          "output_type": "stream",
          "name": "stderr",
          "text": [
            "2022-05-22 11:12:32.888 INFO in 'deeppavlov.core.trainers.nn_trainer'['nn_trainer'] at line 212: Did not improve on the ner_f1 of 72.1368\n"
          ]
        },
        {
          "output_type": "stream",
          "name": "stdout",
          "text": [
            "{\"valid\": {\"eval_examples_count\": 1522, \"metrics\": {\"ner_f1\": 68.3871, \"ner_token_f1\": 76.5799}, \"time_spent\": \"0:34:06\", \"epochs_done\": 3, \"batches_seen\": 4020, \"train_examples_seen\": 40185, \"impatience\": 13, \"patience_limit\": 100}}\n",
            "{\"train\": {\"eval_examples_count\": 10, \"metrics\": {\"ner_f1\": 100.0, \"ner_token_f1\": 100.0}, \"time_spent\": \"0:34:10\", \"epochs_done\": 3, \"batches_seen\": 4040, \"train_examples_seen\": 40385, \"loss\": 0.00975691278836166}}\n"
          ]
        },
        {
          "output_type": "stream",
          "name": "stderr",
          "text": [
            "2022-05-22 11:12:41.508 INFO in 'deeppavlov.core.trainers.nn_trainer'['nn_trainer'] at line 212: Did not improve on the ner_f1 of 72.1368\n"
          ]
        },
        {
          "output_type": "stream",
          "name": "stdout",
          "text": [
            "{\"valid\": {\"eval_examples_count\": 1522, \"metrics\": {\"ner_f1\": 71.2146, \"ner_token_f1\": 76.4618}, \"time_spent\": \"0:34:15\", \"epochs_done\": 3, \"batches_seen\": 4040, \"train_examples_seen\": 40385, \"impatience\": 14, \"patience_limit\": 100}}\n",
            "{\"train\": {\"eval_examples_count\": 10, \"metrics\": {\"ner_f1\": 0, \"ner_token_f1\": 0}, \"time_spent\": \"0:34:18\", \"epochs_done\": 3, \"batches_seen\": 4060, \"train_examples_seen\": 40585, \"loss\": 0.012543924825149589}}\n"
          ]
        },
        {
          "output_type": "stream",
          "name": "stderr",
          "text": [
            "2022-05-22 11:12:50.138 INFO in 'deeppavlov.core.trainers.nn_trainer'['nn_trainer'] at line 212: Did not improve on the ner_f1 of 72.1368\n"
          ]
        },
        {
          "output_type": "stream",
          "name": "stdout",
          "text": [
            "{\"valid\": {\"eval_examples_count\": 1522, \"metrics\": {\"ner_f1\": 68.9103, \"ner_token_f1\": 76.6176}, \"time_spent\": \"0:34:24\", \"epochs_done\": 3, \"batches_seen\": 4060, \"train_examples_seen\": 40585, \"impatience\": 15, \"patience_limit\": 100}}\n",
            "{\"train\": {\"eval_examples_count\": 10, \"metrics\": {\"ner_f1\": 85.7143, \"ner_token_f1\": 95.6522}, \"time_spent\": \"0:34:27\", \"epochs_done\": 3, \"batches_seen\": 4080, \"train_examples_seen\": 40785, \"loss\": 0.01915095029908116}}\n"
          ]
        },
        {
          "output_type": "stream",
          "name": "stderr",
          "text": [
            "2022-05-22 11:12:59.98 INFO in 'deeppavlov.core.trainers.nn_trainer'['nn_trainer'] at line 212: Did not improve on the ner_f1 of 72.1368\n"
          ]
        },
        {
          "output_type": "stream",
          "name": "stdout",
          "text": [
            "{\"valid\": {\"eval_examples_count\": 1522, \"metrics\": {\"ner_f1\": 68.1739, \"ner_token_f1\": 75.6674}, \"time_spent\": \"0:34:33\", \"epochs_done\": 3, \"batches_seen\": 4080, \"train_examples_seen\": 40785, \"impatience\": 16, \"patience_limit\": 100}}\n",
            "{\"train\": {\"eval_examples_count\": 10, \"metrics\": {\"ner_f1\": 100.0, \"ner_token_f1\": 100.0}, \"time_spent\": \"0:34:36\", \"epochs_done\": 3, \"batches_seen\": 4100, \"train_examples_seen\": 40985, \"loss\": 0.010370533406239701}}\n"
          ]
        },
        {
          "output_type": "stream",
          "name": "stderr",
          "text": [
            "2022-05-22 11:13:07.773 INFO in 'deeppavlov.core.trainers.nn_trainer'['nn_trainer'] at line 212: Did not improve on the ner_f1 of 72.1368\n"
          ]
        },
        {
          "output_type": "stream",
          "name": "stdout",
          "text": [
            "{\"valid\": {\"eval_examples_count\": 1522, \"metrics\": {\"ner_f1\": 67.6667, \"ner_token_f1\": 76.0646}, \"time_spent\": \"0:34:41\", \"epochs_done\": 3, \"batches_seen\": 4100, \"train_examples_seen\": 40985, \"impatience\": 17, \"patience_limit\": 100}}\n",
            "{\"train\": {\"eval_examples_count\": 10, \"metrics\": {\"ner_f1\": 0, \"ner_token_f1\": 0}, \"time_spent\": \"0:34:44\", \"epochs_done\": 3, \"batches_seen\": 4120, \"train_examples_seen\": 41185, \"loss\": 0.008679921229122556}}\n"
          ]
        },
        {
          "output_type": "stream",
          "name": "stderr",
          "text": [
            "2022-05-22 11:13:16.329 INFO in 'deeppavlov.core.trainers.nn_trainer'['nn_trainer'] at line 212: Did not improve on the ner_f1 of 72.1368\n"
          ]
        },
        {
          "output_type": "stream",
          "name": "stdout",
          "text": [
            "{\"valid\": {\"eval_examples_count\": 1522, \"metrics\": {\"ner_f1\": 65.4206, \"ner_token_f1\": 76.6225}, \"time_spent\": \"0:34:50\", \"epochs_done\": 3, \"batches_seen\": 4120, \"train_examples_seen\": 41185, \"impatience\": 18, \"patience_limit\": 100}}\n",
            "{\"train\": {\"eval_examples_count\": 10, \"metrics\": {\"ner_f1\": 0, \"ner_token_f1\": 0}, \"time_spent\": \"0:34:53\", \"epochs_done\": 3, \"batches_seen\": 4140, \"train_examples_seen\": 41385, \"loss\": 0.008439566972083413}}\n"
          ]
        },
        {
          "output_type": "stream",
          "name": "stderr",
          "text": [
            "2022-05-22 11:13:24.949 INFO in 'deeppavlov.core.trainers.nn_trainer'['nn_trainer'] at line 212: Did not improve on the ner_f1 of 72.1368\n"
          ]
        },
        {
          "output_type": "stream",
          "name": "stdout",
          "text": [
            "{\"valid\": {\"eval_examples_count\": 1522, \"metrics\": {\"ner_f1\": 65.4147, \"ner_token_f1\": 75.8669}, \"time_spent\": \"0:34:58\", \"epochs_done\": 3, \"batches_seen\": 4140, \"train_examples_seen\": 41385, \"impatience\": 19, \"patience_limit\": 100}}\n",
            "{\"train\": {\"eval_examples_count\": 10, \"metrics\": {\"ner_f1\": 0, \"ner_token_f1\": 0}, \"time_spent\": \"0:35:02\", \"epochs_done\": 3, \"batches_seen\": 4160, \"train_examples_seen\": 41585, \"loss\": 0.01117569107664167}}\n"
          ]
        },
        {
          "output_type": "stream",
          "name": "stderr",
          "text": [
            "2022-05-22 11:13:33.724 INFO in 'deeppavlov.core.trainers.nn_trainer'['nn_trainer'] at line 212: Did not improve on the ner_f1 of 72.1368\n"
          ]
        },
        {
          "output_type": "stream",
          "name": "stdout",
          "text": [
            "{\"valid\": {\"eval_examples_count\": 1522, \"metrics\": {\"ner_f1\": 67.8024, \"ner_token_f1\": 76.9483}, \"time_spent\": \"0:35:07\", \"epochs_done\": 3, \"batches_seen\": 4160, \"train_examples_seen\": 41585, \"impatience\": 20, \"patience_limit\": 100}}\n",
            "{\"train\": {\"eval_examples_count\": 10, \"metrics\": {\"ner_f1\": 54.5455, \"ner_token_f1\": 81.0811}, \"time_spent\": \"0:35:10\", \"epochs_done\": 3, \"batches_seen\": 4180, \"train_examples_seen\": 41785, \"loss\": 0.02116993198142154}}\n"
          ]
        },
        {
          "output_type": "stream",
          "name": "stderr",
          "text": [
            "2022-05-22 11:13:42.372 INFO in 'deeppavlov.core.trainers.nn_trainer'['nn_trainer'] at line 212: Did not improve on the ner_f1 of 72.1368\n"
          ]
        },
        {
          "output_type": "stream",
          "name": "stdout",
          "text": [
            "{\"valid\": {\"eval_examples_count\": 1522, \"metrics\": {\"ner_f1\": 69.9187, \"ner_token_f1\": 78.7833}, \"time_spent\": \"0:35:16\", \"epochs_done\": 3, \"batches_seen\": 4180, \"train_examples_seen\": 41785, \"impatience\": 21, \"patience_limit\": 100}}\n",
            "{\"train\": {\"eval_examples_count\": 10, \"metrics\": {\"ner_f1\": 0, \"ner_token_f1\": 0}, \"time_spent\": \"0:35:19\", \"epochs_done\": 3, \"batches_seen\": 4200, \"train_examples_seen\": 41985, \"loss\": 0.01554932332910539}}\n"
          ]
        },
        {
          "output_type": "stream",
          "name": "stderr",
          "text": [
            "2022-05-22 11:13:50.873 INFO in 'deeppavlov.core.trainers.nn_trainer'['nn_trainer'] at line 212: Did not improve on the ner_f1 of 72.1368\n"
          ]
        },
        {
          "output_type": "stream",
          "name": "stdout",
          "text": [
            "{\"valid\": {\"eval_examples_count\": 1522, \"metrics\": {\"ner_f1\": 70.4362, \"ner_token_f1\": 76.6262}, \"time_spent\": \"0:35:24\", \"epochs_done\": 3, \"batches_seen\": 4200, \"train_examples_seen\": 41985, \"impatience\": 22, \"patience_limit\": 100}}\n",
            "{\"train\": {\"eval_examples_count\": 10, \"metrics\": {\"ner_f1\": 100.0, \"ner_token_f1\": 100.0}, \"time_spent\": \"0:35:28\", \"epochs_done\": 3, \"batches_seen\": 4220, \"train_examples_seen\": 42185, \"loss\": 0.007937934117217082}}\n"
          ]
        },
        {
          "output_type": "stream",
          "name": "stderr",
          "text": [
            "2022-05-22 11:13:59.436 INFO in 'deeppavlov.core.trainers.nn_trainer'['nn_trainer'] at line 212: Did not improve on the ner_f1 of 72.1368\n"
          ]
        },
        {
          "output_type": "stream",
          "name": "stdout",
          "text": [
            "{\"valid\": {\"eval_examples_count\": 1522, \"metrics\": {\"ner_f1\": 68.3938, \"ner_token_f1\": 78.5137}, \"time_spent\": \"0:35:33\", \"epochs_done\": 3, \"batches_seen\": 4220, \"train_examples_seen\": 42185, \"impatience\": 23, \"patience_limit\": 100}}\n",
            "{\"train\": {\"eval_examples_count\": 10, \"metrics\": {\"ner_f1\": 100.0, \"ner_token_f1\": 100.0}, \"time_spent\": \"0:35:36\", \"epochs_done\": 3, \"batches_seen\": 4240, \"train_examples_seen\": 42385, \"loss\": 0.004377993132220581}}\n"
          ]
        },
        {
          "output_type": "stream",
          "name": "stderr",
          "text": [
            "2022-05-22 11:14:08.212 INFO in 'deeppavlov.core.trainers.nn_trainer'['nn_trainer'] at line 212: Did not improve on the ner_f1 of 72.1368\n"
          ]
        },
        {
          "output_type": "stream",
          "name": "stdout",
          "text": [
            "{\"valid\": {\"eval_examples_count\": 1522, \"metrics\": {\"ner_f1\": 71.6612, \"ner_token_f1\": 79.9399}, \"time_spent\": \"0:35:42\", \"epochs_done\": 3, \"batches_seen\": 4240, \"train_examples_seen\": 42385, \"impatience\": 24, \"patience_limit\": 100}}\n",
            "{\"train\": {\"eval_examples_count\": 10, \"metrics\": {\"ner_f1\": 0, \"ner_token_f1\": 0}, \"time_spent\": \"0:35:45\", \"epochs_done\": 3, \"batches_seen\": 4260, \"train_examples_seen\": 42585, \"loss\": 0.007315589923746302}}\n"
          ]
        },
        {
          "output_type": "stream",
          "name": "stderr",
          "text": [
            "2022-05-22 11:14:16.690 INFO in 'deeppavlov.core.trainers.nn_trainer'['nn_trainer'] at line 212: Did not improve on the ner_f1 of 72.1368\n"
          ]
        },
        {
          "output_type": "stream",
          "name": "stdout",
          "text": [
            "{\"valid\": {\"eval_examples_count\": 1522, \"metrics\": {\"ner_f1\": 70.1695, \"ner_token_f1\": 78.9929}, \"time_spent\": \"0:35:50\", \"epochs_done\": 3, \"batches_seen\": 4260, \"train_examples_seen\": 42585, \"impatience\": 25, \"patience_limit\": 100}}\n",
            "{\"train\": {\"eval_examples_count\": 10, \"metrics\": {\"ner_f1\": 0, \"ner_token_f1\": 0}, \"time_spent\": \"0:35:53\", \"epochs_done\": 3, \"batches_seen\": 4280, \"train_examples_seen\": 42785, \"loss\": 0.017282704160970754}}\n"
          ]
        },
        {
          "output_type": "stream",
          "name": "stderr",
          "text": [
            "2022-05-22 11:14:25.352 INFO in 'deeppavlov.core.trainers.nn_trainer'['nn_trainer'] at line 212: Did not improve on the ner_f1 of 72.1368\n"
          ]
        },
        {
          "output_type": "stream",
          "name": "stdout",
          "text": [
            "{\"valid\": {\"eval_examples_count\": 1522, \"metrics\": {\"ner_f1\": 68.2692, \"ner_token_f1\": 78.2542}, \"time_spent\": \"0:35:59\", \"epochs_done\": 3, \"batches_seen\": 4280, \"train_examples_seen\": 42785, \"impatience\": 26, \"patience_limit\": 100}}\n",
            "{\"train\": {\"eval_examples_count\": 10, \"metrics\": {\"ner_f1\": 66.6667, \"ner_token_f1\": 96.2963}, \"time_spent\": \"0:36:02\", \"epochs_done\": 3, \"batches_seen\": 4300, \"train_examples_seen\": 42985, \"loss\": 0.01375618398451479}}\n"
          ]
        },
        {
          "output_type": "stream",
          "name": "stderr",
          "text": [
            "2022-05-22 11:14:34.437 INFO in 'deeppavlov.core.trainers.nn_trainer'['nn_trainer'] at line 212: Did not improve on the ner_f1 of 72.1368\n"
          ]
        },
        {
          "output_type": "stream",
          "name": "stdout",
          "text": [
            "{\"valid\": {\"eval_examples_count\": 1522, \"metrics\": {\"ner_f1\": 65.8462, \"ner_token_f1\": 75.3042}, \"time_spent\": \"0:36:08\", \"epochs_done\": 3, \"batches_seen\": 4300, \"train_examples_seen\": 42985, \"impatience\": 27, \"patience_limit\": 100}}\n",
            "{\"train\": {\"eval_examples_count\": 10, \"metrics\": {\"ner_f1\": 100.0, \"ner_token_f1\": 100.0}, \"time_spent\": \"0:36:11\", \"epochs_done\": 3, \"batches_seen\": 4320, \"train_examples_seen\": 43185, \"loss\": 0.012823398174077738}}\n"
          ]
        },
        {
          "output_type": "stream",
          "name": "stderr",
          "text": [
            "2022-05-22 11:14:43.832 INFO in 'deeppavlov.core.trainers.nn_trainer'['nn_trainer'] at line 212: Did not improve on the ner_f1 of 72.1368\n"
          ]
        },
        {
          "output_type": "stream",
          "name": "stdout",
          "text": [
            "{\"valid\": {\"eval_examples_count\": 1522, \"metrics\": {\"ner_f1\": 64.6248, \"ner_token_f1\": 74.1935}, \"time_spent\": \"0:36:17\", \"epochs_done\": 3, \"batches_seen\": 4320, \"train_examples_seen\": 43185, \"impatience\": 28, \"patience_limit\": 100}}\n",
            "{\"train\": {\"eval_examples_count\": 10, \"metrics\": {\"ner_f1\": 0, \"ner_token_f1\": 0}, \"time_spent\": \"0:36:21\", \"epochs_done\": 3, \"batches_seen\": 4340, \"train_examples_seen\": 43385, \"loss\": 0.013060943224991206}}\n"
          ]
        },
        {
          "output_type": "stream",
          "name": "stderr",
          "text": [
            "2022-05-22 11:14:53.310 INFO in 'deeppavlov.core.trainers.nn_trainer'['nn_trainer'] at line 212: Did not improve on the ner_f1 of 72.1368\n"
          ]
        },
        {
          "output_type": "stream",
          "name": "stdout",
          "text": [
            "{\"valid\": {\"eval_examples_count\": 1522, \"metrics\": {\"ner_f1\": 67.4419, \"ner_token_f1\": 75.9474}, \"time_spent\": \"0:36:27\", \"epochs_done\": 3, \"batches_seen\": 4340, \"train_examples_seen\": 43385, \"impatience\": 29, \"patience_limit\": 100}}\n",
            "{\"train\": {\"eval_examples_count\": 10, \"metrics\": {\"ner_f1\": 100.0, \"ner_token_f1\": 100.0}, \"time_spent\": \"0:36:30\", \"epochs_done\": 3, \"batches_seen\": 4360, \"train_examples_seen\": 43585, \"loss\": 0.021053801547532204}}\n"
          ]
        },
        {
          "output_type": "stream",
          "name": "stderr",
          "text": [
            "2022-05-22 11:15:02.260 INFO in 'deeppavlov.core.trainers.nn_trainer'['nn_trainer'] at line 212: Did not improve on the ner_f1 of 72.1368\n",
            "2022-05-22 11:15:02.262 INFO in 'deeppavlov.core.models.torch_model'['torch_model'] at line 223: ----------Current LR is decreased in 1.5 times----------\n",
            "Some weights of the model checkpoint at bert-base-multilingual-cased were not used when initializing BertForTokenClassification: ['cls.predictions.bias', 'cls.predictions.transform.LayerNorm.bias', 'cls.predictions.transform.LayerNorm.weight', 'cls.seq_relationship.weight', 'cls.predictions.transform.dense.bias', 'cls.predictions.decoder.weight', 'cls.predictions.transform.dense.weight', 'cls.seq_relationship.bias']\n",
            "- This IS expected if you are initializing BertForTokenClassification from the checkpoint of a model trained on another task or with another architecture (e.g. initializing a BertForSequenceClassification model from a BertForPreTraining model).\n",
            "- This IS NOT expected if you are initializing BertForTokenClassification from the checkpoint of a model that you expect to be exactly identical (initializing a BertForSequenceClassification model from a BertForSequenceClassification model).\n",
            "Some weights of BertForTokenClassification were not initialized from the model checkpoint at bert-base-multilingual-cased and are newly initialized: ['classifier.weight', 'classifier.bias']\n",
            "You should probably TRAIN this model on a down-stream task to be able to use it for predictions and inference.\n",
            "2022-05-22 11:15:08.178 INFO in 'deeppavlov.models.torch_bert.torch_transformers_sequence_tagger'['torch_transformers_sequence_tagger'] at line 360: Load path /content/drive/MyDrive/nlp/project/deep_pavlov/models/ner_ontonotes_bert_mult_torch4/bert-base-multilingual-cased/model is given.\n",
            "2022-05-22 11:15:08.284 INFO in 'deeppavlov.models.torch_bert.torch_transformers_sequence_tagger'['torch_transformers_sequence_tagger'] at line 367: Load path /content/drive/MyDrive/nlp/project/deep_pavlov/models/ner_ontonotes_bert_mult_torch4/bert-base-multilingual-cased/model.pth.tar exists.\n",
            "2022-05-22 11:15:08.287 INFO in 'deeppavlov.models.torch_bert.torch_transformers_sequence_tagger'['torch_transformers_sequence_tagger'] at line 368: Initializing `TorchTransformersSequenceTagger` from saved.\n",
            "2022-05-22 11:15:08.289 INFO in 'deeppavlov.models.torch_bert.torch_transformers_sequence_tagger'['torch_transformers_sequence_tagger'] at line 371: Loading weights from /content/drive/MyDrive/nlp/project/deep_pavlov/models/ner_ontonotes_bert_mult_torch4/bert-base-multilingual-cased/model.pth.tar.\n"
          ]
        },
        {
          "output_type": "stream",
          "name": "stdout",
          "text": [
            "{\"valid\": {\"eval_examples_count\": 1522, \"metrics\": {\"ner_f1\": 67.0017, \"ner_token_f1\": 75.3601}, \"time_spent\": \"0:36:36\", \"epochs_done\": 3, \"batches_seen\": 4360, \"train_examples_seen\": 43585, \"impatience\": 30, \"patience_limit\": 100}}\n",
            "{\"train\": {\"eval_examples_count\": 10, \"metrics\": {\"ner_f1\": 0, \"ner_token_f1\": 0}, \"time_spent\": \"0:36:48\", \"epochs_done\": 3, \"batches_seen\": 4380, \"train_examples_seen\": 43785, \"loss\": 0.008381356031895848}}\n"
          ]
        },
        {
          "output_type": "stream",
          "name": "stderr",
          "text": [
            "2022-05-22 11:15:20.270 INFO in 'deeppavlov.core.trainers.nn_trainer'['nn_trainer'] at line 212: Did not improve on the ner_f1 of 72.1368\n"
          ]
        },
        {
          "output_type": "stream",
          "name": "stdout",
          "text": [
            "{\"valid\": {\"eval_examples_count\": 1522, \"metrics\": {\"ner_f1\": 71.5753, \"ner_token_f1\": 76.5232}, \"time_spent\": \"0:36:54\", \"epochs_done\": 3, \"batches_seen\": 4380, \"train_examples_seen\": 43785, \"impatience\": 31, \"patience_limit\": 100}}\n",
            "{\"train\": {\"eval_examples_count\": 10, \"metrics\": {\"ner_f1\": 100.0, \"ner_token_f1\": 100.0}, \"time_spent\": \"0:36:57\", \"epochs_done\": 3, \"batches_seen\": 4400, \"train_examples_seen\": 43985, \"loss\": 0.009233952155045699}}\n"
          ]
        },
        {
          "output_type": "stream",
          "name": "stderr",
          "text": [
            "2022-05-22 11:15:28.796 INFO in 'deeppavlov.core.trainers.nn_trainer'['nn_trainer'] at line 212: Did not improve on the ner_f1 of 72.1368\n"
          ]
        },
        {
          "output_type": "stream",
          "name": "stdout",
          "text": [
            "{\"valid\": {\"eval_examples_count\": 1522, \"metrics\": {\"ner_f1\": 68.5315, \"ner_token_f1\": 76.8602}, \"time_spent\": \"0:37:02\", \"epochs_done\": 3, \"batches_seen\": 4400, \"train_examples_seen\": 43985, \"impatience\": 32, \"patience_limit\": 100}}\n",
            "{\"train\": {\"eval_examples_count\": 10, \"metrics\": {\"ner_f1\": 0, \"ner_token_f1\": 0}, \"time_spent\": \"0:37:06\", \"epochs_done\": 3, \"batches_seen\": 4420, \"train_examples_seen\": 44185, \"loss\": 0.008405385849619052}}\n"
          ]
        },
        {
          "output_type": "stream",
          "name": "stderr",
          "text": [
            "2022-05-22 11:15:37.706 INFO in 'deeppavlov.core.trainers.nn_trainer'['nn_trainer'] at line 212: Did not improve on the ner_f1 of 72.1368\n"
          ]
        },
        {
          "output_type": "stream",
          "name": "stdout",
          "text": [
            "{\"valid\": {\"eval_examples_count\": 1522, \"metrics\": {\"ner_f1\": 66.9887, \"ner_token_f1\": 75.1793}, \"time_spent\": \"0:37:11\", \"epochs_done\": 3, \"batches_seen\": 4420, \"train_examples_seen\": 44185, \"impatience\": 33, \"patience_limit\": 100}}\n",
            "{\"train\": {\"eval_examples_count\": 10, \"metrics\": {\"ner_f1\": 100.0, \"ner_token_f1\": 100.0}, \"time_spent\": \"0:37:14\", \"epochs_done\": 3, \"batches_seen\": 4440, \"train_examples_seen\": 44385, \"loss\": 0.022300106311013222}}\n"
          ]
        },
        {
          "output_type": "stream",
          "name": "stderr",
          "text": [
            "2022-05-22 11:15:46.267 INFO in 'deeppavlov.core.trainers.nn_trainer'['nn_trainer'] at line 212: Did not improve on the ner_f1 of 72.1368\n"
          ]
        },
        {
          "output_type": "stream",
          "name": "stdout",
          "text": [
            "{\"valid\": {\"eval_examples_count\": 1522, \"metrics\": {\"ner_f1\": 65.2106, \"ner_token_f1\": 76.105}, \"time_spent\": \"0:37:20\", \"epochs_done\": 3, \"batches_seen\": 4440, \"train_examples_seen\": 44385, \"impatience\": 34, \"patience_limit\": 100}}\n",
            "{\"train\": {\"eval_examples_count\": 10, \"metrics\": {\"ner_f1\": 100.0, \"ner_token_f1\": 100.0}, \"time_spent\": \"0:37:23\", \"epochs_done\": 3, \"batches_seen\": 4460, \"train_examples_seen\": 44585, \"loss\": 0.009751337039051577}}\n"
          ]
        },
        {
          "output_type": "stream",
          "name": "stderr",
          "text": [
            "2022-05-22 11:15:55.12 INFO in 'deeppavlov.core.trainers.nn_trainer'['nn_trainer'] at line 212: Did not improve on the ner_f1 of 72.1368\n"
          ]
        },
        {
          "output_type": "stream",
          "name": "stdout",
          "text": [
            "{\"valid\": {\"eval_examples_count\": 1522, \"metrics\": {\"ner_f1\": 69.6486, \"ner_token_f1\": 77.7461}, \"time_spent\": \"0:37:28\", \"epochs_done\": 3, \"batches_seen\": 4460, \"train_examples_seen\": 44585, \"impatience\": 35, \"patience_limit\": 100}}\n",
            "{\"train\": {\"eval_examples_count\": 10, \"metrics\": {\"ner_f1\": 66.6667, \"ner_token_f1\": 50.0}, \"time_spent\": \"0:37:32\", \"epochs_done\": 3, \"batches_seen\": 4480, \"train_examples_seen\": 44785, \"loss\": 0.01440593650295341}}\n"
          ]
        },
        {
          "output_type": "stream",
          "name": "stderr",
          "text": [
            "2022-05-22 11:16:03.699 INFO in 'deeppavlov.core.trainers.nn_trainer'['nn_trainer'] at line 212: Did not improve on the ner_f1 of 72.1368\n"
          ]
        },
        {
          "output_type": "stream",
          "name": "stdout",
          "text": [
            "{\"valid\": {\"eval_examples_count\": 1522, \"metrics\": {\"ner_f1\": 67.0886, \"ner_token_f1\": 78.8148}, \"time_spent\": \"0:37:37\", \"epochs_done\": 3, \"batches_seen\": 4480, \"train_examples_seen\": 44785, \"impatience\": 36, \"patience_limit\": 100}}\n",
            "{\"train\": {\"eval_examples_count\": 10, \"metrics\": {\"ner_f1\": 100.0, \"ner_token_f1\": 100.0}, \"time_spent\": \"0:37:40\", \"epochs_done\": 3, \"batches_seen\": 4500, \"train_examples_seen\": 44985, \"loss\": 0.010532949628031928}}\n"
          ]
        },
        {
          "output_type": "stream",
          "name": "stderr",
          "text": [
            "2022-05-22 11:16:12.137 INFO in 'deeppavlov.core.trainers.nn_trainer'['nn_trainer'] at line 212: Did not improve on the ner_f1 of 72.1368\n"
          ]
        },
        {
          "output_type": "stream",
          "name": "stdout",
          "text": [
            "{\"valid\": {\"eval_examples_count\": 1522, \"metrics\": {\"ner_f1\": 63.7681, \"ner_token_f1\": 77.8396}, \"time_spent\": \"0:37:46\", \"epochs_done\": 3, \"batches_seen\": 4500, \"train_examples_seen\": 44985, \"impatience\": 37, \"patience_limit\": 100}}\n",
            "{\"train\": {\"eval_examples_count\": 10, \"metrics\": {\"ner_f1\": 100.0, \"ner_token_f1\": 100.0}, \"time_spent\": \"0:37:49\", \"epochs_done\": 3, \"batches_seen\": 4520, \"train_examples_seen\": 45185, \"loss\": 0.0038580951641051797}}\n"
          ]
        },
        {
          "output_type": "stream",
          "name": "stderr",
          "text": [
            "2022-05-22 11:16:20.714 INFO in 'deeppavlov.core.trainers.nn_trainer'['nn_trainer'] at line 212: Did not improve on the ner_f1 of 72.1368\n"
          ]
        },
        {
          "output_type": "stream",
          "name": "stdout",
          "text": [
            "{\"valid\": {\"eval_examples_count\": 1522, \"metrics\": {\"ner_f1\": 65.9758, \"ner_token_f1\": 74.7029}, \"time_spent\": \"0:37:54\", \"epochs_done\": 3, \"batches_seen\": 4520, \"train_examples_seen\": 45185, \"impatience\": 38, \"patience_limit\": 100}}\n",
            "{\"train\": {\"eval_examples_count\": 10, \"metrics\": {\"ner_f1\": 100.0, \"ner_token_f1\": 100.0}, \"time_spent\": \"0:37:57\", \"epochs_done\": 3, \"batches_seen\": 4540, \"train_examples_seen\": 45385, \"loss\": 0.008400318399435492}}\n"
          ]
        },
        {
          "output_type": "stream",
          "name": "stderr",
          "text": [
            "2022-05-22 11:16:29.412 INFO in 'deeppavlov.core.trainers.nn_trainer'['nn_trainer'] at line 212: Did not improve on the ner_f1 of 72.1368\n"
          ]
        },
        {
          "output_type": "stream",
          "name": "stdout",
          "text": [
            "{\"valid\": {\"eval_examples_count\": 1522, \"metrics\": {\"ner_f1\": 67.4783, \"ner_token_f1\": 77.0395}, \"time_spent\": \"0:38:03\", \"epochs_done\": 3, \"batches_seen\": 4540, \"train_examples_seen\": 45385, \"impatience\": 39, \"patience_limit\": 100}}\n",
            "{\"train\": {\"eval_examples_count\": 10, \"metrics\": {\"ner_f1\": 0, \"ner_token_f1\": 0}, \"time_spent\": \"0:38:06\", \"epochs_done\": 3, \"batches_seen\": 4560, \"train_examples_seen\": 45585, \"loss\": 0.00676442437179503}}\n"
          ]
        },
        {
          "output_type": "stream",
          "name": "stderr",
          "text": [
            "2022-05-22 11:16:38.249 INFO in 'deeppavlov.core.trainers.nn_trainer'['nn_trainer'] at line 212: Did not improve on the ner_f1 of 72.1368\n"
          ]
        },
        {
          "output_type": "stream",
          "name": "stdout",
          "text": [
            "{\"valid\": {\"eval_examples_count\": 1522, \"metrics\": {\"ner_f1\": 67.2131, \"ner_token_f1\": 78.3643}, \"time_spent\": \"0:38:12\", \"epochs_done\": 3, \"batches_seen\": 4560, \"train_examples_seen\": 45585, \"impatience\": 40, \"patience_limit\": 100}}\n",
            "{\"train\": {\"eval_examples_count\": 10, \"metrics\": {\"ner_f1\": 100.0, \"ner_token_f1\": 100.0}, \"time_spent\": \"0:38:15\", \"epochs_done\": 3, \"batches_seen\": 4580, \"train_examples_seen\": 45785, \"loss\": 0.008375640105441562}}\n"
          ]
        },
        {
          "output_type": "stream",
          "name": "stderr",
          "text": [
            "2022-05-22 11:16:46.778 INFO in 'deeppavlov.core.trainers.nn_trainer'['nn_trainer'] at line 212: Did not improve on the ner_f1 of 72.1368\n"
          ]
        },
        {
          "output_type": "stream",
          "name": "stdout",
          "text": [
            "{\"valid\": {\"eval_examples_count\": 1522, \"metrics\": {\"ner_f1\": 67.2104, \"ner_token_f1\": 77.898}, \"time_spent\": \"0:38:20\", \"epochs_done\": 3, \"batches_seen\": 4580, \"train_examples_seen\": 45785, \"impatience\": 41, \"patience_limit\": 100}}\n",
            "{\"train\": {\"eval_examples_count\": 10, \"metrics\": {\"ner_f1\": 0, \"ner_token_f1\": 0}, \"time_spent\": \"0:38:24\", \"epochs_done\": 3, \"batches_seen\": 4600, \"train_examples_seen\": 45985, \"loss\": 0.007566259911618545}}\n"
          ]
        },
        {
          "output_type": "stream",
          "name": "stderr",
          "text": [
            "2022-05-22 11:16:55.548 INFO in 'deeppavlov.core.trainers.nn_trainer'['nn_trainer'] at line 212: Did not improve on the ner_f1 of 72.1368\n"
          ]
        },
        {
          "output_type": "stream",
          "name": "stdout",
          "text": [
            "{\"valid\": {\"eval_examples_count\": 1522, \"metrics\": {\"ner_f1\": 68.4298, \"ner_token_f1\": 78.3359}, \"time_spent\": \"0:38:29\", \"epochs_done\": 3, \"batches_seen\": 4600, \"train_examples_seen\": 45985, \"impatience\": 42, \"patience_limit\": 100}}\n",
            "{\"train\": {\"eval_examples_count\": 10, \"metrics\": {\"ner_f1\": 0, \"ner_token_f1\": 0}, \"time_spent\": \"0:38:32\", \"epochs_done\": 3, \"batches_seen\": 4620, \"train_examples_seen\": 46185, \"loss\": 0.011768858092545997}}\n"
          ]
        },
        {
          "output_type": "stream",
          "name": "stderr",
          "text": [
            "2022-05-22 11:17:04.328 INFO in 'deeppavlov.core.trainers.nn_trainer'['nn_trainer'] at line 212: Did not improve on the ner_f1 of 72.1368\n"
          ]
        },
        {
          "output_type": "stream",
          "name": "stdout",
          "text": [
            "{\"valid\": {\"eval_examples_count\": 1522, \"metrics\": {\"ner_f1\": 70.3151, \"ner_token_f1\": 77.3373}, \"time_spent\": \"0:38:38\", \"epochs_done\": 3, \"batches_seen\": 4620, \"train_examples_seen\": 46185, \"impatience\": 43, \"patience_limit\": 100}}\n",
            "{\"train\": {\"eval_examples_count\": 10, \"metrics\": {\"ner_f1\": 0, \"ner_token_f1\": 0}, \"time_spent\": \"0:38:41\", \"epochs_done\": 3, \"batches_seen\": 4640, \"train_examples_seen\": 46385, \"loss\": 0.011007562217491796}}\n"
          ]
        },
        {
          "output_type": "stream",
          "name": "stderr",
          "text": [
            "2022-05-22 11:17:13.788 INFO in 'deeppavlov.core.trainers.nn_trainer'['nn_trainer'] at line 212: Did not improve on the ner_f1 of 72.1368\n"
          ]
        },
        {
          "output_type": "stream",
          "name": "stdout",
          "text": [
            "{\"valid\": {\"eval_examples_count\": 1522, \"metrics\": {\"ner_f1\": 67.7116, \"ner_token_f1\": 78.7344}, \"time_spent\": \"0:38:47\", \"epochs_done\": 3, \"batches_seen\": 4640, \"train_examples_seen\": 46385, \"impatience\": 44, \"patience_limit\": 100}}\n",
            "{\"train\": {\"eval_examples_count\": 10, \"metrics\": {\"ner_f1\": 100.0, \"ner_token_f1\": 100.0}, \"time_spent\": \"0:38:50\", \"epochs_done\": 3, \"batches_seen\": 4660, \"train_examples_seen\": 46585, \"loss\": 0.007338339158741292}}\n"
          ]
        },
        {
          "output_type": "stream",
          "name": "stderr",
          "text": [
            "2022-05-22 11:17:23.62 INFO in 'deeppavlov.core.trainers.nn_trainer'['nn_trainer'] at line 212: Did not improve on the ner_f1 of 72.1368\n"
          ]
        },
        {
          "output_type": "stream",
          "name": "stdout",
          "text": [
            "{\"valid\": {\"eval_examples_count\": 1522, \"metrics\": {\"ner_f1\": 67.6568, \"ner_token_f1\": 78.2123}, \"time_spent\": \"0:38:56\", \"epochs_done\": 3, \"batches_seen\": 4660, \"train_examples_seen\": 46585, \"impatience\": 45, \"patience_limit\": 100}}\n",
            "{\"train\": {\"eval_examples_count\": 10, \"metrics\": {\"ner_f1\": 100.0, \"ner_token_f1\": 100.0}, \"time_spent\": \"0:39:00\", \"epochs_done\": 3, \"batches_seen\": 4680, \"train_examples_seen\": 46785, \"loss\": 0.00415867064439226}}\n"
          ]
        },
        {
          "output_type": "stream",
          "name": "stderr",
          "text": [
            "2022-05-22 11:17:31.898 INFO in 'deeppavlov.core.trainers.nn_trainer'['nn_trainer'] at line 212: Did not improve on the ner_f1 of 72.1368\n"
          ]
        },
        {
          "output_type": "stream",
          "name": "stdout",
          "text": [
            "{\"valid\": {\"eval_examples_count\": 1522, \"metrics\": {\"ner_f1\": 67.4536, \"ner_token_f1\": 77.3463}, \"time_spent\": \"0:39:05\", \"epochs_done\": 3, \"batches_seen\": 4680, \"train_examples_seen\": 46785, \"impatience\": 46, \"patience_limit\": 100}}\n",
            "{\"train\": {\"eval_examples_count\": 10, \"metrics\": {\"ner_f1\": 0, \"ner_token_f1\": 0}, \"time_spent\": \"0:39:09\", \"epochs_done\": 3, \"batches_seen\": 4700, \"train_examples_seen\": 46985, \"loss\": 0.010700669656216633}}\n"
          ]
        },
        {
          "output_type": "stream",
          "name": "stderr",
          "text": [
            "2022-05-22 11:17:40.518 INFO in 'deeppavlov.core.trainers.nn_trainer'['nn_trainer'] at line 212: Did not improve on the ner_f1 of 72.1368\n"
          ]
        },
        {
          "output_type": "stream",
          "name": "stdout",
          "text": [
            "{\"valid\": {\"eval_examples_count\": 1522, \"metrics\": {\"ner_f1\": 68.277, \"ner_token_f1\": 78.8208}, \"time_spent\": \"0:39:14\", \"epochs_done\": 3, \"batches_seen\": 4700, \"train_examples_seen\": 46985, \"impatience\": 47, \"patience_limit\": 100}}\n",
            "{\"train\": {\"eval_examples_count\": 10, \"metrics\": {\"ner_f1\": 66.6667, \"ner_token_f1\": 80.0}, \"time_spent\": \"0:39:18\", \"epochs_done\": 3, \"batches_seen\": 4720, \"train_examples_seen\": 47185, \"loss\": 0.0052693818350235235}}\n"
          ]
        },
        {
          "output_type": "stream",
          "name": "stderr",
          "text": [
            "2022-05-22 11:17:49.508 INFO in 'deeppavlov.core.trainers.nn_trainer'['nn_trainer'] at line 212: Did not improve on the ner_f1 of 72.1368\n"
          ]
        },
        {
          "output_type": "stream",
          "name": "stdout",
          "text": [
            "{\"valid\": {\"eval_examples_count\": 1522, \"metrics\": {\"ner_f1\": 68.9211, \"ner_token_f1\": 78.7219}, \"time_spent\": \"0:39:23\", \"epochs_done\": 3, \"batches_seen\": 4720, \"train_examples_seen\": 47185, \"impatience\": 48, \"patience_limit\": 100}}\n",
            "{\"train\": {\"eval_examples_count\": 10, \"metrics\": {\"ner_f1\": 0, \"ner_token_f1\": 0}, \"time_spent\": \"0:39:26\", \"epochs_done\": 3, \"batches_seen\": 4740, \"train_examples_seen\": 47385, \"loss\": 0.011034707362341578}}\n"
          ]
        },
        {
          "output_type": "stream",
          "name": "stderr",
          "text": [
            "2022-05-22 11:17:58.5 INFO in 'deeppavlov.core.trainers.nn_trainer'['nn_trainer'] at line 212: Did not improve on the ner_f1 of 72.1368\n"
          ]
        },
        {
          "output_type": "stream",
          "name": "stdout",
          "text": [
            "{\"valid\": {\"eval_examples_count\": 1522, \"metrics\": {\"ner_f1\": 67.3139, \"ner_token_f1\": 78.2671}, \"time_spent\": \"0:39:31\", \"epochs_done\": 3, \"batches_seen\": 4740, \"train_examples_seen\": 47385, \"impatience\": 49, \"patience_limit\": 100}}\n",
            "{\"train\": {\"eval_examples_count\": 10, \"metrics\": {\"ner_f1\": 100.0, \"ner_token_f1\": 100.0}, \"time_spent\": \"0:39:35\", \"epochs_done\": 3, \"batches_seen\": 4760, \"train_examples_seen\": 47585, \"loss\": 0.007168136744439835}}\n"
          ]
        },
        {
          "output_type": "stream",
          "name": "stderr",
          "text": [
            "2022-05-22 11:18:06.594 INFO in 'deeppavlov.core.trainers.nn_trainer'['nn_trainer'] at line 212: Did not improve on the ner_f1 of 72.1368\n"
          ]
        },
        {
          "output_type": "stream",
          "name": "stdout",
          "text": [
            "{\"valid\": {\"eval_examples_count\": 1522, \"metrics\": {\"ner_f1\": 67.3108, \"ner_token_f1\": 78.979}, \"time_spent\": \"0:39:40\", \"epochs_done\": 3, \"batches_seen\": 4760, \"train_examples_seen\": 47585, \"impatience\": 50, \"patience_limit\": 100}}\n",
            "{\"train\": {\"eval_examples_count\": 10, \"metrics\": {\"ner_f1\": 100.0, \"ner_token_f1\": 100.0}, \"time_spent\": \"0:39:43\", \"epochs_done\": 3, \"batches_seen\": 4780, \"train_examples_seen\": 47785, \"loss\": 0.011976351693374455}}\n"
          ]
        },
        {
          "output_type": "stream",
          "name": "stderr",
          "text": [
            "2022-05-22 11:18:15.361 INFO in 'deeppavlov.core.trainers.nn_trainer'['nn_trainer'] at line 212: Did not improve on the ner_f1 of 72.1368\n"
          ]
        },
        {
          "output_type": "stream",
          "name": "stdout",
          "text": [
            "{\"valid\": {\"eval_examples_count\": 1522, \"metrics\": {\"ner_f1\": 69.9507, \"ner_token_f1\": 78.9231}, \"time_spent\": \"0:39:49\", \"epochs_done\": 3, \"batches_seen\": 4780, \"train_examples_seen\": 47785, \"impatience\": 51, \"patience_limit\": 100}}\n",
            "{\"train\": {\"eval_examples_count\": 10, \"metrics\": {\"ner_f1\": 0, \"ner_token_f1\": 0}, \"time_spent\": \"0:39:52\", \"epochs_done\": 3, \"batches_seen\": 4800, \"train_examples_seen\": 47985, \"loss\": 0.009400575217296137}}\n"
          ]
        },
        {
          "output_type": "stream",
          "name": "stderr",
          "text": [
            "2022-05-22 11:18:23.998 INFO in 'deeppavlov.core.trainers.nn_trainer'['nn_trainer'] at line 212: Did not improve on the ner_f1 of 72.1368\n"
          ]
        },
        {
          "output_type": "stream",
          "name": "stdout",
          "text": [
            "{\"valid\": {\"eval_examples_count\": 1522, \"metrics\": {\"ner_f1\": 69.8052, \"ner_token_f1\": 78.3844}, \"time_spent\": \"0:39:57\", \"epochs_done\": 3, \"batches_seen\": 4800, \"train_examples_seen\": 47985, \"impatience\": 52, \"patience_limit\": 100}}\n",
            "{\"train\": {\"eval_examples_count\": 10, \"metrics\": {\"ner_f1\": 0, \"ner_token_f1\": 0}, \"time_spent\": \"0:40:01\", \"epochs_done\": 3, \"batches_seen\": 4820, \"train_examples_seen\": 48185, \"loss\": 0.009719206125009806}}\n"
          ]
        },
        {
          "output_type": "stream",
          "name": "stderr",
          "text": [
            "2022-05-22 11:18:32.653 INFO in 'deeppavlov.core.trainers.nn_trainer'['nn_trainer'] at line 212: Did not improve on the ner_f1 of 72.1368\n"
          ]
        },
        {
          "output_type": "stream",
          "name": "stdout",
          "text": [
            "{\"valid\": {\"eval_examples_count\": 1522, \"metrics\": {\"ner_f1\": 68.0342, \"ner_token_f1\": 77.4244}, \"time_spent\": \"0:40:06\", \"epochs_done\": 3, \"batches_seen\": 4820, \"train_examples_seen\": 48185, \"impatience\": 53, \"patience_limit\": 100}}\n",
            "{\"train\": {\"eval_examples_count\": 10, \"metrics\": {\"ner_f1\": 0, \"ner_token_f1\": 0}, \"time_spent\": \"0:40:09\", \"epochs_done\": 3, \"batches_seen\": 4840, \"train_examples_seen\": 48385, \"loss\": 0.005494790037846542}}\n"
          ]
        },
        {
          "output_type": "stream",
          "name": "stderr",
          "text": [
            "2022-05-22 11:18:41.443 INFO in 'deeppavlov.core.trainers.nn_trainer'['nn_trainer'] at line 212: Did not improve on the ner_f1 of 72.1368\n"
          ]
        },
        {
          "output_type": "stream",
          "name": "stdout",
          "text": [
            "{\"valid\": {\"eval_examples_count\": 1522, \"metrics\": {\"ner_f1\": 69.1099, \"ner_token_f1\": 77.4845}, \"time_spent\": \"0:40:15\", \"epochs_done\": 3, \"batches_seen\": 4840, \"train_examples_seen\": 48385, \"impatience\": 54, \"patience_limit\": 100}}\n",
            "{\"train\": {\"eval_examples_count\": 10, \"metrics\": {\"ner_f1\": 100.0, \"ner_token_f1\": 100.0}, \"time_spent\": \"0:40:18\", \"epochs_done\": 3, \"batches_seen\": 4860, \"train_examples_seen\": 48585, \"loss\": 0.010717437767016235}}\n"
          ]
        },
        {
          "output_type": "stream",
          "name": "stderr",
          "text": [
            "2022-05-22 11:18:50.52 INFO in 'deeppavlov.core.trainers.nn_trainer'['nn_trainer'] at line 212: Did not improve on the ner_f1 of 72.1368\n"
          ]
        },
        {
          "output_type": "stream",
          "name": "stdout",
          "text": [
            "{\"valid\": {\"eval_examples_count\": 1522, \"metrics\": {\"ner_f1\": 68.038, \"ner_token_f1\": 77.5972}, \"time_spent\": \"0:40:23\", \"epochs_done\": 3, \"batches_seen\": 4860, \"train_examples_seen\": 48585, \"impatience\": 55, \"patience_limit\": 100}}\n",
            "{\"train\": {\"eval_examples_count\": 10, \"metrics\": {\"ner_f1\": 80.0, \"ner_token_f1\": 85.7143}, \"time_spent\": \"0:40:27\", \"epochs_done\": 3, \"batches_seen\": 4880, \"train_examples_seen\": 48785, \"loss\": 0.019051371533714702}}\n"
          ]
        },
        {
          "output_type": "stream",
          "name": "stderr",
          "text": [
            "2022-05-22 11:18:59.214 INFO in 'deeppavlov.core.trainers.nn_trainer'['nn_trainer'] at line 212: Did not improve on the ner_f1 of 72.1368\n"
          ]
        },
        {
          "output_type": "stream",
          "name": "stdout",
          "text": [
            "{\"valid\": {\"eval_examples_count\": 1522, \"metrics\": {\"ner_f1\": 66.7697, \"ner_token_f1\": 78.0802}, \"time_spent\": \"0:40:33\", \"epochs_done\": 3, \"batches_seen\": 4880, \"train_examples_seen\": 48785, \"impatience\": 56, \"patience_limit\": 100}}\n",
            "{\"train\": {\"eval_examples_count\": 10, \"metrics\": {\"ner_f1\": 100.0, \"ner_token_f1\": 100.0}, \"time_spent\": \"0:40:36\", \"epochs_done\": 3, \"batches_seen\": 4900, \"train_examples_seen\": 48985, \"loss\": 0.012517004393885145}}\n"
          ]
        },
        {
          "output_type": "stream",
          "name": "stderr",
          "text": [
            "2022-05-22 11:19:07.923 INFO in 'deeppavlov.core.trainers.nn_trainer'['nn_trainer'] at line 212: Did not improve on the ner_f1 of 72.1368\n"
          ]
        },
        {
          "output_type": "stream",
          "name": "stdout",
          "text": [
            "{\"valid\": {\"eval_examples_count\": 1522, \"metrics\": {\"ner_f1\": 66.1238, \"ner_token_f1\": 78.0882}, \"time_spent\": \"0:40:41\", \"epochs_done\": 3, \"batches_seen\": 4900, \"train_examples_seen\": 48985, \"impatience\": 57, \"patience_limit\": 100}}\n",
            "{\"train\": {\"eval_examples_count\": 10, \"metrics\": {\"ner_f1\": 80.0, \"ner_token_f1\": 76.9231}, \"time_spent\": \"0:40:45\", \"epochs_done\": 3, \"batches_seen\": 4920, \"train_examples_seen\": 49185, \"loss\": 0.011007361212250544}}\n"
          ]
        },
        {
          "output_type": "stream",
          "name": "stderr",
          "text": [
            "2022-05-22 11:19:16.634 INFO in 'deeppavlov.core.trainers.nn_trainer'['nn_trainer'] at line 212: Did not improve on the ner_f1 of 72.1368\n"
          ]
        },
        {
          "output_type": "stream",
          "name": "stdout",
          "text": [
            "{\"valid\": {\"eval_examples_count\": 1522, \"metrics\": {\"ner_f1\": 66.7791, \"ner_token_f1\": 77.4049}, \"time_spent\": \"0:40:50\", \"epochs_done\": 3, \"batches_seen\": 4920, \"train_examples_seen\": 49185, \"impatience\": 58, \"patience_limit\": 100}}\n",
            "{\"train\": {\"eval_examples_count\": 10, \"metrics\": {\"ner_f1\": 0, \"ner_token_f1\": 0}, \"time_spent\": \"0:40:53\", \"epochs_done\": 3, \"batches_seen\": 4940, \"train_examples_seen\": 49385, \"loss\": 0.005821570371699636}}\n"
          ]
        },
        {
          "output_type": "stream",
          "name": "stderr",
          "text": [
            "2022-05-22 11:19:25.166 INFO in 'deeppavlov.core.trainers.nn_trainer'['nn_trainer'] at line 212: Did not improve on the ner_f1 of 72.1368\n"
          ]
        },
        {
          "output_type": "stream",
          "name": "stdout",
          "text": [
            "{\"valid\": {\"eval_examples_count\": 1522, \"metrics\": {\"ner_f1\": 67.101, \"ner_token_f1\": 77.8022}, \"time_spent\": \"0:40:59\", \"epochs_done\": 3, \"batches_seen\": 4940, \"train_examples_seen\": 49385, \"impatience\": 59, \"patience_limit\": 100}}\n",
            "{\"train\": {\"eval_examples_count\": 10, \"metrics\": {\"ner_f1\": 0, \"ner_token_f1\": 0}, \"time_spent\": \"0:41:02\", \"epochs_done\": 3, \"batches_seen\": 4960, \"train_examples_seen\": 49585, \"loss\": 0.013703645768327988}}\n"
          ]
        },
        {
          "output_type": "stream",
          "name": "stderr",
          "text": [
            "2022-05-22 11:19:33.725 INFO in 'deeppavlov.core.trainers.nn_trainer'['nn_trainer'] at line 212: Did not improve on the ner_f1 of 72.1368\n"
          ]
        },
        {
          "output_type": "stream",
          "name": "stdout",
          "text": [
            "{\"valid\": {\"eval_examples_count\": 1522, \"metrics\": {\"ner_f1\": 68.1529, \"ner_token_f1\": 76.8668}, \"time_spent\": \"0:41:07\", \"epochs_done\": 3, \"batches_seen\": 4960, \"train_examples_seen\": 49585, \"impatience\": 60, \"patience_limit\": 100}}\n",
            "{\"train\": {\"eval_examples_count\": 10, \"metrics\": {\"ner_f1\": 100.0, \"ner_token_f1\": 100.0}, \"time_spent\": \"0:41:11\", \"epochs_done\": 3, \"batches_seen\": 4980, \"train_examples_seen\": 49785, \"loss\": 0.00789733255187457}}\n"
          ]
        },
        {
          "output_type": "stream",
          "name": "stderr",
          "text": [
            "2022-05-22 11:19:43.441 INFO in 'deeppavlov.core.trainers.nn_trainer'['nn_trainer'] at line 212: Did not improve on the ner_f1 of 72.1368\n"
          ]
        },
        {
          "output_type": "stream",
          "name": "stdout",
          "text": [
            "{\"valid\": {\"eval_examples_count\": 1522, \"metrics\": {\"ner_f1\": 66.3537, \"ner_token_f1\": 76.0795}, \"time_spent\": \"0:41:17\", \"epochs_done\": 3, \"batches_seen\": 4980, \"train_examples_seen\": 49785, \"impatience\": 61, \"patience_limit\": 100}}\n",
            "{\"train\": {\"eval_examples_count\": 10, \"metrics\": {\"ner_f1\": 100.0, \"ner_token_f1\": 100.0}, \"time_spent\": \"0:41:21\", \"epochs_done\": 3, \"batches_seen\": 5000, \"train_examples_seen\": 49985, \"loss\": 0.006517021201580065}}\n"
          ]
        },
        {
          "output_type": "stream",
          "name": "stderr",
          "text": [
            "2022-05-22 11:19:53.248 INFO in 'deeppavlov.core.trainers.nn_trainer'['nn_trainer'] at line 212: Did not improve on the ner_f1 of 72.1368\n"
          ]
        },
        {
          "output_type": "stream",
          "name": "stdout",
          "text": [
            "{\"valid\": {\"eval_examples_count\": 1522, \"metrics\": {\"ner_f1\": 69.0671, \"ner_token_f1\": 77.1084}, \"time_spent\": \"0:41:27\", \"epochs_done\": 3, \"batches_seen\": 5000, \"train_examples_seen\": 49985, \"impatience\": 62, \"patience_limit\": 100}}\n",
            "{\"train\": {\"eval_examples_count\": 10, \"metrics\": {\"ner_f1\": 0, \"ner_token_f1\": 0}, \"time_spent\": \"0:41:30\", \"epochs_done\": 3, \"batches_seen\": 5020, \"train_examples_seen\": 50185, \"loss\": 0.008658237428971916}}\n"
          ]
        },
        {
          "output_type": "stream",
          "name": "stderr",
          "text": [
            "2022-05-22 11:20:02.84 INFO in 'deeppavlov.core.trainers.nn_trainer'['nn_trainer'] at line 212: Did not improve on the ner_f1 of 72.1368\n"
          ]
        },
        {
          "output_type": "stream",
          "name": "stdout",
          "text": [
            "{\"valid\": {\"eval_examples_count\": 1522, \"metrics\": {\"ner_f1\": 70.0525, \"ner_token_f1\": 76.4438}, \"time_spent\": \"0:41:35\", \"epochs_done\": 3, \"batches_seen\": 5020, \"train_examples_seen\": 50185, \"impatience\": 63, \"patience_limit\": 100}}\n",
            "{\"train\": {\"eval_examples_count\": 10, \"metrics\": {\"ner_f1\": 100.0, \"ner_token_f1\": 100.0}, \"time_spent\": \"0:41:39\", \"epochs_done\": 3, \"batches_seen\": 5040, \"train_examples_seen\": 50385, \"loss\": 0.0039673852956184415}}\n"
          ]
        },
        {
          "output_type": "stream",
          "name": "stderr",
          "text": [
            "2022-05-22 11:20:10.840 INFO in 'deeppavlov.core.trainers.nn_trainer'['nn_trainer'] at line 212: Did not improve on the ner_f1 of 72.1368\n"
          ]
        },
        {
          "output_type": "stream",
          "name": "stdout",
          "text": [
            "{\"valid\": {\"eval_examples_count\": 1522, \"metrics\": {\"ner_f1\": 69.3603, \"ner_token_f1\": 77.2861}, \"time_spent\": \"0:41:44\", \"epochs_done\": 3, \"batches_seen\": 5040, \"train_examples_seen\": 50385, \"impatience\": 64, \"patience_limit\": 100}}\n",
            "{\"train\": {\"eval_examples_count\": 10, \"metrics\": {\"ner_f1\": 100.0, \"ner_token_f1\": 100.0}, \"time_spent\": \"0:41:47\", \"epochs_done\": 3, \"batches_seen\": 5060, \"train_examples_seen\": 50585, \"loss\": 0.014303209484933178}}\n"
          ]
        },
        {
          "output_type": "stream",
          "name": "stderr",
          "text": [
            "2022-05-22 11:20:19.345 INFO in 'deeppavlov.core.trainers.nn_trainer'['nn_trainer'] at line 212: Did not improve on the ner_f1 of 72.1368\n"
          ]
        },
        {
          "output_type": "stream",
          "name": "stdout",
          "text": [
            "{\"valid\": {\"eval_examples_count\": 1522, \"metrics\": {\"ner_f1\": 68.7285, \"ner_token_f1\": 76.3609}, \"time_spent\": \"0:41:53\", \"epochs_done\": 3, \"batches_seen\": 5060, \"train_examples_seen\": 50585, \"impatience\": 65, \"patience_limit\": 100}}\n",
            "{\"train\": {\"eval_examples_count\": 10, \"metrics\": {\"ner_f1\": 100.0, \"ner_token_f1\": 100.0}, \"time_spent\": \"0:41:56\", \"epochs_done\": 3, \"batches_seen\": 5080, \"train_examples_seen\": 50785, \"loss\": 0.005196673655882477}}\n"
          ]
        },
        {
          "output_type": "stream",
          "name": "stderr",
          "text": [
            "2022-05-22 11:20:28.274 INFO in 'deeppavlov.core.trainers.nn_trainer'['nn_trainer'] at line 212: Did not improve on the ner_f1 of 72.1368\n"
          ]
        },
        {
          "output_type": "stream",
          "name": "stdout",
          "text": [
            "{\"valid\": {\"eval_examples_count\": 1522, \"metrics\": {\"ner_f1\": 71.1033, \"ner_token_f1\": 76.0091}, \"time_spent\": \"0:42:02\", \"epochs_done\": 3, \"batches_seen\": 5080, \"train_examples_seen\": 50785, \"impatience\": 66, \"patience_limit\": 100}}\n",
            "{\"train\": {\"eval_examples_count\": 10, \"metrics\": {\"ner_f1\": 100.0, \"ner_token_f1\": 100.0}, \"time_spent\": \"0:42:05\", \"epochs_done\": 3, \"batches_seen\": 5100, \"train_examples_seen\": 50985, \"loss\": 0.01534450949729944}}\n"
          ]
        },
        {
          "output_type": "stream",
          "name": "stderr",
          "text": [
            "2022-05-22 11:20:36.943 INFO in 'deeppavlov.core.trainers.nn_trainer'['nn_trainer'] at line 212: Did not improve on the ner_f1 of 72.1368\n"
          ]
        },
        {
          "output_type": "stream",
          "name": "stdout",
          "text": [
            "{\"valid\": {\"eval_examples_count\": 1522, \"metrics\": {\"ner_f1\": 70.5686, \"ner_token_f1\": 76.7883}, \"time_spent\": \"0:42:10\", \"epochs_done\": 3, \"batches_seen\": 5100, \"train_examples_seen\": 50985, \"impatience\": 67, \"patience_limit\": 100}}\n",
            "{\"train\": {\"eval_examples_count\": 10, \"metrics\": {\"ner_f1\": 0, \"ner_token_f1\": 0}, \"time_spent\": \"0:42:14\", \"epochs_done\": 3, \"batches_seen\": 5120, \"train_examples_seen\": 51185, \"loss\": 0.0023904675217636395}}\n"
          ]
        },
        {
          "output_type": "stream",
          "name": "stderr",
          "text": [
            "2022-05-22 11:20:45.726 INFO in 'deeppavlov.core.trainers.nn_trainer'['nn_trainer'] at line 212: Did not improve on the ner_f1 of 72.1368\n"
          ]
        },
        {
          "output_type": "stream",
          "name": "stdout",
          "text": [
            "{\"valid\": {\"eval_examples_count\": 1522, \"metrics\": {\"ner_f1\": 66.563, \"ner_token_f1\": 74.7312}, \"time_spent\": \"0:42:19\", \"epochs_done\": 3, \"batches_seen\": 5120, \"train_examples_seen\": 51185, \"impatience\": 68, \"patience_limit\": 100}}\n",
            "{\"train\": {\"eval_examples_count\": 10, \"metrics\": {\"ner_f1\": 100.0, \"ner_token_f1\": 100.0}, \"time_spent\": \"0:42:22\", \"epochs_done\": 3, \"batches_seen\": 5140, \"train_examples_seen\": 51385, \"loss\": 0.010322783059382345}}\n"
          ]
        },
        {
          "output_type": "stream",
          "name": "stderr",
          "text": [
            "2022-05-22 11:20:54.410 INFO in 'deeppavlov.core.trainers.nn_trainer'['nn_trainer'] at line 212: Did not improve on the ner_f1 of 72.1368\n"
          ]
        },
        {
          "output_type": "stream",
          "name": "stdout",
          "text": [
            "{\"valid\": {\"eval_examples_count\": 1522, \"metrics\": {\"ner_f1\": 67.4342, \"ner_token_f1\": 75.2078}, \"time_spent\": \"0:42:28\", \"epochs_done\": 3, \"batches_seen\": 5140, \"train_examples_seen\": 51385, \"impatience\": 69, \"patience_limit\": 100}}\n",
            "{\"train\": {\"eval_examples_count\": 10, \"metrics\": {\"ner_f1\": 0, \"ner_token_f1\": 0}, \"time_spent\": \"0:42:31\", \"epochs_done\": 3, \"batches_seen\": 5160, \"train_examples_seen\": 51585, \"loss\": 0.015379354121978394}}\n"
          ]
        },
        {
          "output_type": "stream",
          "name": "stderr",
          "text": [
            "2022-05-22 11:21:03.266 INFO in 'deeppavlov.core.trainers.nn_trainer'['nn_trainer'] at line 212: Did not improve on the ner_f1 of 72.1368\n"
          ]
        },
        {
          "output_type": "stream",
          "name": "stdout",
          "text": [
            "{\"valid\": {\"eval_examples_count\": 1522, \"metrics\": {\"ner_f1\": 68.5217, \"ner_token_f1\": 76.7766}, \"time_spent\": \"0:42:37\", \"epochs_done\": 3, \"batches_seen\": 5160, \"train_examples_seen\": 51585, \"impatience\": 70, \"patience_limit\": 100}}\n",
            "{\"train\": {\"eval_examples_count\": 10, \"metrics\": {\"ner_f1\": 80.0, \"ner_token_f1\": 87.5}, \"time_spent\": \"0:42:40\", \"epochs_done\": 3, \"batches_seen\": 5180, \"train_examples_seen\": 51785, \"loss\": 0.014375685201957821}}\n"
          ]
        },
        {
          "output_type": "stream",
          "name": "stderr",
          "text": [
            "2022-05-22 11:21:11.928 INFO in 'deeppavlov.core.trainers.nn_trainer'['nn_trainer'] at line 212: Did not improve on the ner_f1 of 72.1368\n"
          ]
        },
        {
          "output_type": "stream",
          "name": "stdout",
          "text": [
            "{\"valid\": {\"eval_examples_count\": 1522, \"metrics\": {\"ner_f1\": 68.3955, \"ner_token_f1\": 77.9184}, \"time_spent\": \"0:42:45\", \"epochs_done\": 3, \"batches_seen\": 5180, \"train_examples_seen\": 51785, \"impatience\": 71, \"patience_limit\": 100}}\n",
            "{\"train\": {\"eval_examples_count\": 10, \"metrics\": {\"ner_f1\": 100.0, \"ner_token_f1\": 100.0}, \"time_spent\": \"0:42:48\", \"epochs_done\": 3, \"batches_seen\": 5200, \"train_examples_seen\": 51985, \"loss\": 0.004513868824506062}}\n"
          ]
        },
        {
          "output_type": "stream",
          "name": "stderr",
          "text": [
            "2022-05-22 11:21:20.422 INFO in 'deeppavlov.core.trainers.nn_trainer'['nn_trainer'] at line 212: Did not improve on the ner_f1 of 72.1368\n"
          ]
        },
        {
          "output_type": "stream",
          "name": "stdout",
          "text": [
            "{\"valid\": {\"eval_examples_count\": 1522, \"metrics\": {\"ner_f1\": 68.6998, \"ner_token_f1\": 77.7385}, \"time_spent\": \"0:42:54\", \"epochs_done\": 3, \"batches_seen\": 5200, \"train_examples_seen\": 51985, \"impatience\": 72, \"patience_limit\": 100}}\n",
            "{\"train\": {\"eval_examples_count\": 10, \"metrics\": {\"ner_f1\": 80.0, \"ner_token_f1\": 85.7143}, \"time_spent\": \"0:42:57\", \"epochs_done\": 3, \"batches_seen\": 5220, \"train_examples_seen\": 52185, \"loss\": 0.008743707670873846}}\n"
          ]
        },
        {
          "output_type": "stream",
          "name": "stderr",
          "text": [
            "2022-05-22 11:21:29.343 INFO in 'deeppavlov.core.trainers.nn_trainer'['nn_trainer'] at line 212: Did not improve on the ner_f1 of 72.1368\n"
          ]
        },
        {
          "output_type": "stream",
          "name": "stdout",
          "text": [
            "{\"valid\": {\"eval_examples_count\": 1522, \"metrics\": {\"ner_f1\": 63.1912, \"ner_token_f1\": 75.233}, \"time_spent\": \"0:43:03\", \"epochs_done\": 3, \"batches_seen\": 5220, \"train_examples_seen\": 52185, \"impatience\": 73, \"patience_limit\": 100}}\n",
            "{\"train\": {\"eval_examples_count\": 10, \"metrics\": {\"ner_f1\": 0, \"ner_token_f1\": 0}, \"time_spent\": \"0:43:06\", \"epochs_done\": 3, \"batches_seen\": 5240, \"train_examples_seen\": 52385, \"loss\": 0.020516030887665692}}\n"
          ]
        },
        {
          "output_type": "stream",
          "name": "stderr",
          "text": [
            "2022-05-22 11:21:38.94 INFO in 'deeppavlov.core.trainers.nn_trainer'['nn_trainer'] at line 212: Did not improve on the ner_f1 of 72.1368\n"
          ]
        },
        {
          "output_type": "stream",
          "name": "stdout",
          "text": [
            "{\"valid\": {\"eval_examples_count\": 1522, \"metrics\": {\"ner_f1\": 68.4211, \"ner_token_f1\": 78.0347}, \"time_spent\": \"0:43:12\", \"epochs_done\": 3, \"batches_seen\": 5240, \"train_examples_seen\": 52385, \"impatience\": 74, \"patience_limit\": 100}}\n",
            "{\"train\": {\"eval_examples_count\": 10, \"metrics\": {\"ner_f1\": 54.5455, \"ner_token_f1\": 97.2973}, \"time_spent\": \"0:43:15\", \"epochs_done\": 3, \"batches_seen\": 5260, \"train_examples_seen\": 52585, \"loss\": 0.016767066681859434}}\n"
          ]
        },
        {
          "output_type": "stream",
          "name": "stderr",
          "text": [
            "2022-05-22 11:21:46.779 INFO in 'deeppavlov.core.trainers.nn_trainer'['nn_trainer'] at line 212: Did not improve on the ner_f1 of 72.1368\n"
          ]
        },
        {
          "output_type": "stream",
          "name": "stdout",
          "text": [
            "{\"valid\": {\"eval_examples_count\": 1522, \"metrics\": {\"ner_f1\": 65.6616, \"ner_token_f1\": 76.7103}, \"time_spent\": \"0:43:20\", \"epochs_done\": 3, \"batches_seen\": 5260, \"train_examples_seen\": 52585, \"impatience\": 75, \"patience_limit\": 100}}\n",
            "{\"train\": {\"eval_examples_count\": 10, \"metrics\": {\"ner_f1\": 100.0, \"ner_token_f1\": 100.0}, \"time_spent\": \"0:43:24\", \"epochs_done\": 3, \"batches_seen\": 5280, \"train_examples_seen\": 52785, \"loss\": 0.008443082716985373}}\n"
          ]
        },
        {
          "output_type": "stream",
          "name": "stderr",
          "text": [
            "2022-05-22 11:21:55.484 INFO in 'deeppavlov.core.trainers.nn_trainer'['nn_trainer'] at line 212: Did not improve on the ner_f1 of 72.1368\n"
          ]
        },
        {
          "output_type": "stream",
          "name": "stdout",
          "text": [
            "{\"valid\": {\"eval_examples_count\": 1522, \"metrics\": {\"ner_f1\": 65.8188, \"ner_token_f1\": 77.1654}, \"time_spent\": \"0:43:29\", \"epochs_done\": 3, \"batches_seen\": 5280, \"train_examples_seen\": 52785, \"impatience\": 76, \"patience_limit\": 100}}\n",
            "{\"train\": {\"eval_examples_count\": 10, \"metrics\": {\"ner_f1\": 0, \"ner_token_f1\": 0}, \"time_spent\": \"0:43:32\", \"epochs_done\": 3, \"batches_seen\": 5300, \"train_examples_seen\": 52985, \"loss\": 0.015431917417299702}}\n"
          ]
        },
        {
          "output_type": "stream",
          "name": "stderr",
          "text": [
            "2022-05-22 11:22:04.197 INFO in 'deeppavlov.core.trainers.nn_trainer'['nn_trainer'] at line 212: Did not improve on the ner_f1 of 72.1368\n"
          ]
        },
        {
          "output_type": "stream",
          "name": "stdout",
          "text": [
            "{\"valid\": {\"eval_examples_count\": 1522, \"metrics\": {\"ner_f1\": 66.1264, \"ner_token_f1\": 77.0022}, \"time_spent\": \"0:43:38\", \"epochs_done\": 3, \"batches_seen\": 5300, \"train_examples_seen\": 52985, \"impatience\": 77, \"patience_limit\": 100}}\n",
            "{\"train\": {\"eval_examples_count\": 10, \"metrics\": {\"ner_f1\": 66.6667, \"ner_token_f1\": 50.0}, \"time_spent\": \"0:43:41\", \"epochs_done\": 4, \"batches_seen\": 5320, \"train_examples_seen\": 53180, \"loss\": 0.0037287991308403434}}\n"
          ]
        },
        {
          "output_type": "stream",
          "name": "stderr",
          "text": [
            "2022-05-22 11:22:14.152 INFO in 'deeppavlov.core.trainers.nn_trainer'['nn_trainer'] at line 212: Did not improve on the ner_f1 of 72.1368\n"
          ]
        },
        {
          "output_type": "stream",
          "name": "stdout",
          "text": [
            "{\"valid\": {\"eval_examples_count\": 1522, \"metrics\": {\"ner_f1\": 65.3061, \"ner_token_f1\": 76.7575}, \"time_spent\": \"0:43:48\", \"epochs_done\": 4, \"batches_seen\": 5320, \"train_examples_seen\": 53180, \"impatience\": 78, \"patience_limit\": 100}}\n",
            "{\"train\": {\"eval_examples_count\": 10, \"metrics\": {\"ner_f1\": 40.0, \"ner_token_f1\": 88.8889}, \"time_spent\": \"0:43:51\", \"epochs_done\": 4, \"batches_seen\": 5340, \"train_examples_seen\": 53380, \"loss\": 0.007168928389728535}}\n"
          ]
        },
        {
          "output_type": "stream",
          "name": "stderr",
          "text": [
            "2022-05-22 11:22:23.707 INFO in 'deeppavlov.core.trainers.nn_trainer'['nn_trainer'] at line 212: Did not improve on the ner_f1 of 72.1368\n"
          ]
        },
        {
          "output_type": "stream",
          "name": "stdout",
          "text": [
            "{\"valid\": {\"eval_examples_count\": 1522, \"metrics\": {\"ner_f1\": 63.9241, \"ner_token_f1\": 77.4056}, \"time_spent\": \"0:43:57\", \"epochs_done\": 4, \"batches_seen\": 5340, \"train_examples_seen\": 53380, \"impatience\": 79, \"patience_limit\": 100}}\n",
            "{\"train\": {\"eval_examples_count\": 10, \"metrics\": {\"ner_f1\": 100.0, \"ner_token_f1\": 100.0}, \"time_spent\": \"0:44:00\", \"epochs_done\": 4, \"batches_seen\": 5360, \"train_examples_seen\": 53580, \"loss\": 0.006764976185877458}}\n"
          ]
        },
        {
          "output_type": "stream",
          "name": "stderr",
          "text": [
            "2022-05-22 11:22:32.252 INFO in 'deeppavlov.core.trainers.nn_trainer'['nn_trainer'] at line 212: Did not improve on the ner_f1 of 72.1368\n"
          ]
        },
        {
          "output_type": "stream",
          "name": "stdout",
          "text": [
            "{\"valid\": {\"eval_examples_count\": 1522, \"metrics\": {\"ner_f1\": 66.6667, \"ner_token_f1\": 76.5747}, \"time_spent\": \"0:44:06\", \"epochs_done\": 4, \"batches_seen\": 5360, \"train_examples_seen\": 53580, \"impatience\": 80, \"patience_limit\": 100}}\n",
            "{\"train\": {\"eval_examples_count\": 10, \"metrics\": {\"ner_f1\": 66.6667, \"ner_token_f1\": 80.0}, \"time_spent\": \"0:44:09\", \"epochs_done\": 4, \"batches_seen\": 5380, \"train_examples_seen\": 53780, \"loss\": 0.005668824600797961}}\n"
          ]
        },
        {
          "output_type": "stream",
          "name": "stderr",
          "text": [
            "2022-05-22 11:22:40.935 INFO in 'deeppavlov.core.trainers.nn_trainer'['nn_trainer'] at line 212: Did not improve on the ner_f1 of 72.1368\n"
          ]
        },
        {
          "output_type": "stream",
          "name": "stdout",
          "text": [
            "{\"valid\": {\"eval_examples_count\": 1522, \"metrics\": {\"ner_f1\": 67.4121, \"ner_token_f1\": 76.4384}, \"time_spent\": \"0:44:14\", \"epochs_done\": 4, \"batches_seen\": 5380, \"train_examples_seen\": 53780, \"impatience\": 81, \"patience_limit\": 100}}\n",
            "{\"train\": {\"eval_examples_count\": 10, \"metrics\": {\"ner_f1\": 88.8889, \"ner_token_f1\": 84.2105}, \"time_spent\": \"0:44:18\", \"epochs_done\": 4, \"batches_seen\": 5400, \"train_examples_seen\": 53980, \"loss\": 0.005601152486269712}}\n"
          ]
        },
        {
          "output_type": "stream",
          "name": "stderr",
          "text": [
            "2022-05-22 11:22:49.743 INFO in 'deeppavlov.core.trainers.nn_trainer'['nn_trainer'] at line 212: Did not improve on the ner_f1 of 72.1368\n"
          ]
        },
        {
          "output_type": "stream",
          "name": "stdout",
          "text": [
            "{\"valid\": {\"eval_examples_count\": 1522, \"metrics\": {\"ner_f1\": 66.5605, \"ner_token_f1\": 75.9919}, \"time_spent\": \"0:44:23\", \"epochs_done\": 4, \"batches_seen\": 5400, \"train_examples_seen\": 53980, \"impatience\": 82, \"patience_limit\": 100}}\n",
            "{\"train\": {\"eval_examples_count\": 10, \"metrics\": {\"ner_f1\": 100.0, \"ner_token_f1\": 100.0}, \"time_spent\": \"0:44:27\", \"epochs_done\": 4, \"batches_seen\": 5420, \"train_examples_seen\": 54180, \"loss\": 0.00517701778189803}}\n"
          ]
        },
        {
          "output_type": "stream",
          "name": "stderr",
          "text": [
            "2022-05-22 11:22:58.470 INFO in 'deeppavlov.core.trainers.nn_trainer'['nn_trainer'] at line 212: Did not improve on the ner_f1 of 72.1368\n"
          ]
        },
        {
          "output_type": "stream",
          "name": "stdout",
          "text": [
            "{\"valid\": {\"eval_examples_count\": 1522, \"metrics\": {\"ner_f1\": 67.9549, \"ner_token_f1\": 76.197}, \"time_spent\": \"0:44:32\", \"epochs_done\": 4, \"batches_seen\": 5420, \"train_examples_seen\": 54180, \"impatience\": 83, \"patience_limit\": 100}}\n",
            "{\"train\": {\"eval_examples_count\": 10, \"metrics\": {\"ner_f1\": 100.0, \"ner_token_f1\": 100.0}, \"time_spent\": \"0:44:36\", \"epochs_done\": 4, \"batches_seen\": 5440, \"train_examples_seen\": 54380, \"loss\": 0.007203432214009808}}\n"
          ]
        },
        {
          "output_type": "stream",
          "name": "stderr",
          "text": [
            "2022-05-22 11:23:07.478 INFO in 'deeppavlov.core.trainers.nn_trainer'['nn_trainer'] at line 212: Did not improve on the ner_f1 of 72.1368\n"
          ]
        },
        {
          "output_type": "stream",
          "name": "stdout",
          "text": [
            "{\"valid\": {\"eval_examples_count\": 1522, \"metrics\": {\"ner_f1\": 68.0251, \"ner_token_f1\": 77.4194}, \"time_spent\": \"0:44:41\", \"epochs_done\": 4, \"batches_seen\": 5440, \"train_examples_seen\": 54380, \"impatience\": 84, \"patience_limit\": 100}}\n",
            "{\"train\": {\"eval_examples_count\": 10, \"metrics\": {\"ner_f1\": 100.0, \"ner_token_f1\": 100.0}, \"time_spent\": \"0:44:44\", \"epochs_done\": 4, \"batches_seen\": 5460, \"train_examples_seen\": 54580, \"loss\": 0.00604792705271393}}\n"
          ]
        },
        {
          "output_type": "stream",
          "name": "stderr",
          "text": [
            "2022-05-22 11:23:16.192 INFO in 'deeppavlov.core.trainers.nn_trainer'['nn_trainer'] at line 212: Did not improve on the ner_f1 of 72.1368\n"
          ]
        },
        {
          "output_type": "stream",
          "name": "stdout",
          "text": [
            "{\"valid\": {\"eval_examples_count\": 1522, \"metrics\": {\"ner_f1\": 69.8206, \"ner_token_f1\": 78.6861}, \"time_spent\": \"0:44:50\", \"epochs_done\": 4, \"batches_seen\": 5460, \"train_examples_seen\": 54580, \"impatience\": 85, \"patience_limit\": 100}}\n",
            "{\"train\": {\"eval_examples_count\": 10, \"metrics\": {\"ner_f1\": 100.0, \"ner_token_f1\": 100.0}, \"time_spent\": \"0:44:53\", \"epochs_done\": 4, \"batches_seen\": 5480, \"train_examples_seen\": 54780, \"loss\": 0.010064067902203534}}\n"
          ]
        },
        {
          "output_type": "stream",
          "name": "stderr",
          "text": [
            "2022-05-22 11:23:24.647 INFO in 'deeppavlov.core.trainers.nn_trainer'['nn_trainer'] at line 212: Did not improve on the ner_f1 of 72.1368\n"
          ]
        },
        {
          "output_type": "stream",
          "name": "stdout",
          "text": [
            "{\"valid\": {\"eval_examples_count\": 1522, \"metrics\": {\"ner_f1\": 67.3267, \"ner_token_f1\": 77.0878}, \"time_spent\": \"0:44:58\", \"epochs_done\": 4, \"batches_seen\": 5480, \"train_examples_seen\": 54780, \"impatience\": 86, \"patience_limit\": 100}}\n",
            "{\"train\": {\"eval_examples_count\": 10, \"metrics\": {\"ner_f1\": 0, \"ner_token_f1\": 0}, \"time_spent\": \"0:45:01\", \"epochs_done\": 4, \"batches_seen\": 5500, \"train_examples_seen\": 54980, \"loss\": 0.005493102772015845}}\n"
          ]
        },
        {
          "output_type": "stream",
          "name": "stderr",
          "text": [
            "2022-05-22 11:23:33.281 INFO in 'deeppavlov.core.trainers.nn_trainer'['nn_trainer'] at line 212: Did not improve on the ner_f1 of 72.1368\n"
          ]
        },
        {
          "output_type": "stream",
          "name": "stdout",
          "text": [
            "{\"valid\": {\"eval_examples_count\": 1522, \"metrics\": {\"ner_f1\": 68.2274, \"ner_token_f1\": 77.8748}, \"time_spent\": \"0:45:07\", \"epochs_done\": 4, \"batches_seen\": 5500, \"train_examples_seen\": 54980, \"impatience\": 87, \"patience_limit\": 100}}\n",
            "{\"train\": {\"eval_examples_count\": 10, \"metrics\": {\"ner_f1\": 100.0, \"ner_token_f1\": 100.0}, \"time_spent\": \"0:45:10\", \"epochs_done\": 4, \"batches_seen\": 5520, \"train_examples_seen\": 55180, \"loss\": 0.01630277597796521}}\n"
          ]
        },
        {
          "output_type": "stream",
          "name": "stderr",
          "text": [
            "2022-05-22 11:23:41.906 INFO in 'deeppavlov.core.trainers.nn_trainer'['nn_trainer'] at line 212: Did not improve on the ner_f1 of 72.1368\n"
          ]
        },
        {
          "output_type": "stream",
          "name": "stdout",
          "text": [
            "{\"valid\": {\"eval_examples_count\": 1522, \"metrics\": {\"ner_f1\": 69.9507, \"ner_token_f1\": 78.3862}, \"time_spent\": \"0:45:15\", \"epochs_done\": 4, \"batches_seen\": 5520, \"train_examples_seen\": 55180, \"impatience\": 88, \"patience_limit\": 100}}\n",
            "{\"train\": {\"eval_examples_count\": 10, \"metrics\": {\"ner_f1\": 0, \"ner_token_f1\": 0}, \"time_spent\": \"0:45:19\", \"epochs_done\": 4, \"batches_seen\": 5540, \"train_examples_seen\": 55380, \"loss\": 0.005399524561653379}}\n"
          ]
        },
        {
          "output_type": "stream",
          "name": "stderr",
          "text": [
            "2022-05-22 11:23:50.855 INFO in 'deeppavlov.core.trainers.nn_trainer'['nn_trainer'] at line 212: Did not improve on the ner_f1 of 72.1368\n"
          ]
        },
        {
          "output_type": "stream",
          "name": "stdout",
          "text": [
            "{\"valid\": {\"eval_examples_count\": 1522, \"metrics\": {\"ner_f1\": 66.1392, \"ner_token_f1\": 77.7385}, \"time_spent\": \"0:45:24\", \"epochs_done\": 4, \"batches_seen\": 5540, \"train_examples_seen\": 55380, \"impatience\": 89, \"patience_limit\": 100}}\n",
            "{\"train\": {\"eval_examples_count\": 10, \"metrics\": {\"ner_f1\": 0, \"ner_token_f1\": 0}, \"time_spent\": \"0:45:28\", \"epochs_done\": 4, \"batches_seen\": 5560, \"train_examples_seen\": 55580, \"loss\": 0.006345485244310112}}\n"
          ]
        },
        {
          "output_type": "stream",
          "name": "stderr",
          "text": [
            "2022-05-22 11:23:59.572 INFO in 'deeppavlov.core.trainers.nn_trainer'['nn_trainer'] at line 212: Did not improve on the ner_f1 of 72.1368\n"
          ]
        },
        {
          "output_type": "stream",
          "name": "stdout",
          "text": [
            "{\"valid\": {\"eval_examples_count\": 1522, \"metrics\": {\"ner_f1\": 65.5172, \"ner_token_f1\": 77.6685}, \"time_spent\": \"0:45:33\", \"epochs_done\": 4, \"batches_seen\": 5560, \"train_examples_seen\": 55580, \"impatience\": 90, \"patience_limit\": 100}}\n",
            "{\"train\": {\"eval_examples_count\": 10, \"metrics\": {\"ner_f1\": 0, \"ner_token_f1\": 0}, \"time_spent\": \"0:45:36\", \"epochs_done\": 4, \"batches_seen\": 5580, \"train_examples_seen\": 55780, \"loss\": 0.0037166365022130777}}\n"
          ]
        },
        {
          "output_type": "stream",
          "name": "stderr",
          "text": [
            "2022-05-22 11:24:08.645 INFO in 'deeppavlov.core.trainers.nn_trainer'['nn_trainer'] at line 212: Did not improve on the ner_f1 of 72.1368\n"
          ]
        },
        {
          "output_type": "stream",
          "name": "stdout",
          "text": [
            "{\"valid\": {\"eval_examples_count\": 1522, \"metrics\": {\"ner_f1\": 68.0851, \"ner_token_f1\": 78.2802}, \"time_spent\": \"0:45:42\", \"epochs_done\": 4, \"batches_seen\": 5580, \"train_examples_seen\": 55780, \"impatience\": 91, \"patience_limit\": 100}}\n",
            "{\"train\": {\"eval_examples_count\": 10, \"metrics\": {\"ner_f1\": 100.0, \"ner_token_f1\": 100.0}, \"time_spent\": \"0:45:45\", \"epochs_done\": 4, \"batches_seen\": 5600, \"train_examples_seen\": 55980, \"loss\": 0.009523327468559727}}\n"
          ]
        },
        {
          "output_type": "stream",
          "name": "stderr",
          "text": [
            "2022-05-22 11:24:17.421 INFO in 'deeppavlov.core.trainers.nn_trainer'['nn_trainer'] at line 212: Did not improve on the ner_f1 of 72.1368\n"
          ]
        },
        {
          "output_type": "stream",
          "name": "stdout",
          "text": [
            "{\"valid\": {\"eval_examples_count\": 1522, \"metrics\": {\"ner_f1\": 68.2432, \"ner_token_f1\": 77.7695}, \"time_spent\": \"0:45:51\", \"epochs_done\": 4, \"batches_seen\": 5600, \"train_examples_seen\": 55980, \"impatience\": 92, \"patience_limit\": 100}}\n",
            "{\"train\": {\"eval_examples_count\": 10, \"metrics\": {\"ner_f1\": 100.0, \"ner_token_f1\": 100.0}, \"time_spent\": \"0:45:54\", \"epochs_done\": 4, \"batches_seen\": 5620, \"train_examples_seen\": 56180, \"loss\": 0.006468817902714363}}\n"
          ]
        },
        {
          "output_type": "stream",
          "name": "stderr",
          "text": [
            "2022-05-22 11:24:26.214 INFO in 'deeppavlov.core.trainers.nn_trainer'['nn_trainer'] at line 212: Did not improve on the ner_f1 of 72.1368\n"
          ]
        },
        {
          "output_type": "stream",
          "name": "stdout",
          "text": [
            "{\"valid\": {\"eval_examples_count\": 1522, \"metrics\": {\"ner_f1\": 69.0846, \"ner_token_f1\": 76.2118}, \"time_spent\": \"0:46:00\", \"epochs_done\": 4, \"batches_seen\": 5620, \"train_examples_seen\": 56180, \"impatience\": 93, \"patience_limit\": 100}}\n",
            "{\"train\": {\"eval_examples_count\": 10, \"metrics\": {\"ner_f1\": 0, \"ner_token_f1\": 0}, \"time_spent\": \"0:46:03\", \"epochs_done\": 4, \"batches_seen\": 5640, \"train_examples_seen\": 56380, \"loss\": 0.011739020331879147}}\n"
          ]
        },
        {
          "output_type": "stream",
          "name": "stderr",
          "text": [
            "2022-05-22 11:24:34.978 INFO in 'deeppavlov.core.trainers.nn_trainer'['nn_trainer'] at line 212: Did not improve on the ner_f1 of 72.1368\n"
          ]
        },
        {
          "output_type": "stream",
          "name": "stdout",
          "text": [
            "{\"valid\": {\"eval_examples_count\": 1522, \"metrics\": {\"ner_f1\": 67.4194, \"ner_token_f1\": 76.6906}, \"time_spent\": \"0:46:08\", \"epochs_done\": 4, \"batches_seen\": 5640, \"train_examples_seen\": 56380, \"impatience\": 94, \"patience_limit\": 100}}\n",
            "{\"train\": {\"eval_examples_count\": 10, \"metrics\": {\"ner_f1\": 80.0, \"ner_token_f1\": 85.7143}, \"time_spent\": \"0:46:12\", \"epochs_done\": 4, \"batches_seen\": 5660, \"train_examples_seen\": 56580, \"loss\": 0.004261545263580047}}\n"
          ]
        },
        {
          "output_type": "stream",
          "name": "stderr",
          "text": [
            "2022-05-22 11:24:44.695 INFO in 'deeppavlov.core.trainers.nn_trainer'['nn_trainer'] at line 212: Did not improve on the ner_f1 of 72.1368\n"
          ]
        },
        {
          "output_type": "stream",
          "name": "stdout",
          "text": [
            "{\"valid\": {\"eval_examples_count\": 1522, \"metrics\": {\"ner_f1\": 66.4537, \"ner_token_f1\": 76.6906}, \"time_spent\": \"0:46:18\", \"epochs_done\": 4, \"batches_seen\": 5660, \"train_examples_seen\": 56580, \"impatience\": 95, \"patience_limit\": 100}}\n",
            "{\"train\": {\"eval_examples_count\": 10, \"metrics\": {\"ner_f1\": 66.6667, \"ner_token_f1\": 80.0}, \"time_spent\": \"0:46:22\", \"epochs_done\": 4, \"batches_seen\": 5680, \"train_examples_seen\": 56780, \"loss\": 0.003484515264426591}}\n"
          ]
        },
        {
          "output_type": "stream",
          "name": "stderr",
          "text": [
            "2022-05-22 11:24:54.155 INFO in 'deeppavlov.core.trainers.nn_trainer'['nn_trainer'] at line 212: Did not improve on the ner_f1 of 72.1368\n"
          ]
        },
        {
          "output_type": "stream",
          "name": "stdout",
          "text": [
            "{\"valid\": {\"eval_examples_count\": 1522, \"metrics\": {\"ner_f1\": 67.8571, \"ner_token_f1\": 77.1242}, \"time_spent\": \"0:46:28\", \"epochs_done\": 4, \"batches_seen\": 5680, \"train_examples_seen\": 56780, \"impatience\": 96, \"patience_limit\": 100}}\n",
            "{\"train\": {\"eval_examples_count\": 10, \"metrics\": {\"ner_f1\": 66.6667, \"ner_token_f1\": 54.5455}, \"time_spent\": \"0:46:31\", \"epochs_done\": 4, \"batches_seen\": 5700, \"train_examples_seen\": 56980, \"loss\": 0.008061581054062118}}\n"
          ]
        },
        {
          "output_type": "stream",
          "name": "stderr",
          "text": [
            "2022-05-22 11:25:03.142 INFO in 'deeppavlov.core.trainers.nn_trainer'['nn_trainer'] at line 212: Did not improve on the ner_f1 of 72.1368\n"
          ]
        },
        {
          "output_type": "stream",
          "name": "stdout",
          "text": [
            "{\"valid\": {\"eval_examples_count\": 1522, \"metrics\": {\"ner_f1\": 69.168, \"ner_token_f1\": 77.0575}, \"time_spent\": \"0:46:37\", \"epochs_done\": 4, \"batches_seen\": 5700, \"train_examples_seen\": 56980, \"impatience\": 97, \"patience_limit\": 100}}\n",
            "{\"train\": {\"eval_examples_count\": 10, \"metrics\": {\"ner_f1\": 0, \"ner_token_f1\": 0}, \"time_spent\": \"0:46:40\", \"epochs_done\": 4, \"batches_seen\": 5720, \"train_examples_seen\": 57180, \"loss\": 0.015620606903758017}}\n"
          ]
        },
        {
          "output_type": "stream",
          "name": "stderr",
          "text": [
            "2022-05-22 11:25:12.56 INFO in 'deeppavlov.core.trainers.nn_trainer'['nn_trainer'] at line 212: Did not improve on the ner_f1 of 72.1368\n"
          ]
        },
        {
          "output_type": "stream",
          "name": "stdout",
          "text": [
            "{\"valid\": {\"eval_examples_count\": 1522, \"metrics\": {\"ner_f1\": 67.2158, \"ner_token_f1\": 75.816}, \"time_spent\": \"0:46:45\", \"epochs_done\": 4, \"batches_seen\": 5720, \"train_examples_seen\": 57180, \"impatience\": 98, \"patience_limit\": 100}}\n",
            "{\"train\": {\"eval_examples_count\": 10, \"metrics\": {\"ner_f1\": 100.0, \"ner_token_f1\": 100.0}, \"time_spent\": \"0:46:49\", \"epochs_done\": 4, \"batches_seen\": 5740, \"train_examples_seen\": 57380, \"loss\": 0.003832233500361326}}\n"
          ]
        },
        {
          "output_type": "stream",
          "name": "stderr",
          "text": [
            "2022-05-22 11:25:20.896 INFO in 'deeppavlov.core.trainers.nn_trainer'['nn_trainer'] at line 212: Did not improve on the ner_f1 of 72.1368\n"
          ]
        },
        {
          "output_type": "stream",
          "name": "stdout",
          "text": [
            "{\"valid\": {\"eval_examples_count\": 1522, \"metrics\": {\"ner_f1\": 65.4545, \"ner_token_f1\": 75.3709}, \"time_spent\": \"0:46:54\", \"epochs_done\": 4, \"batches_seen\": 5740, \"train_examples_seen\": 57380, \"impatience\": 99, \"patience_limit\": 100}}\n",
            "{\"train\": {\"eval_examples_count\": 10, \"metrics\": {\"ner_f1\": 0, \"ner_token_f1\": 0}, \"time_spent\": \"0:46:57\", \"epochs_done\": 4, \"batches_seen\": 5760, \"train_examples_seen\": 57580, \"loss\": 0.003515457734101801}}\n"
          ]
        },
        {
          "output_type": "stream",
          "name": "stderr",
          "text": [
            "2022-05-22 11:25:29.487 INFO in 'deeppavlov.core.trainers.nn_trainer'['nn_trainer'] at line 212: Did not improve on the ner_f1 of 72.1368\n",
            "2022-05-22 11:25:29.488 INFO in 'deeppavlov.core.trainers.nn_trainer'['nn_trainer'] at line 308: Ran out of patience\n"
          ]
        },
        {
          "output_type": "stream",
          "name": "stdout",
          "text": [
            "{\"valid\": {\"eval_examples_count\": 1522, \"metrics\": {\"ner_f1\": 65.6716, \"ner_token_f1\": 75.7196}, \"time_spent\": \"0:47:03\", \"epochs_done\": 4, \"batches_seen\": 5760, \"train_examples_seen\": 57580, \"impatience\": 100, \"patience_limit\": 100}}\n"
          ]
        },
        {
          "output_type": "stream",
          "name": "stderr",
          "text": [
            "2022-05-22 11:25:32.631 INFO in 'deeppavlov.core.data.simple_vocab'['simple_vocab'] at line 115: [loading vocabulary from /content/drive/MyDrive/nlp/project/deep_pavlov/models/ner_ontonotes_bert_mult_torch4/bert-base-multilingual-cased/tag.dict]\n",
            "Some weights of the model checkpoint at bert-base-multilingual-cased were not used when initializing BertForTokenClassification: ['cls.predictions.bias', 'cls.predictions.transform.LayerNorm.bias', 'cls.predictions.transform.LayerNorm.weight', 'cls.seq_relationship.weight', 'cls.predictions.transform.dense.bias', 'cls.predictions.decoder.weight', 'cls.predictions.transform.dense.weight', 'cls.seq_relationship.bias']\n",
            "- This IS expected if you are initializing BertForTokenClassification from the checkpoint of a model trained on another task or with another architecture (e.g. initializing a BertForSequenceClassification model from a BertForPreTraining model).\n",
            "- This IS NOT expected if you are initializing BertForTokenClassification from the checkpoint of a model that you expect to be exactly identical (initializing a BertForSequenceClassification model from a BertForSequenceClassification model).\n",
            "Some weights of BertForTokenClassification were not initialized from the model checkpoint at bert-base-multilingual-cased and are newly initialized: ['classifier.weight', 'classifier.bias']\n",
            "You should probably TRAIN this model on a down-stream task to be able to use it for predictions and inference.\n",
            "2022-05-22 11:25:35.972 INFO in 'deeppavlov.models.torch_bert.torch_transformers_sequence_tagger'['torch_transformers_sequence_tagger'] at line 360: Load path /content/drive/MyDrive/nlp/project/deep_pavlov/models/ner_ontonotes_bert_mult_torch4/bert-base-multilingual-cased/model is given.\n",
            "2022-05-22 11:25:35.975 INFO in 'deeppavlov.models.torch_bert.torch_transformers_sequence_tagger'['torch_transformers_sequence_tagger'] at line 367: Load path /content/drive/MyDrive/nlp/project/deep_pavlov/models/ner_ontonotes_bert_mult_torch4/bert-base-multilingual-cased/model.pth.tar exists.\n",
            "2022-05-22 11:25:35.981 INFO in 'deeppavlov.models.torch_bert.torch_transformers_sequence_tagger'['torch_transformers_sequence_tagger'] at line 368: Initializing `TorchTransformersSequenceTagger` from saved.\n",
            "2022-05-22 11:25:35.983 INFO in 'deeppavlov.models.torch_bert.torch_transformers_sequence_tagger'['torch_transformers_sequence_tagger'] at line 371: Loading weights from /content/drive/MyDrive/nlp/project/deep_pavlov/models/ner_ontonotes_bert_mult_torch4/bert-base-multilingual-cased/model.pth.tar.\n",
            "2022-05-22 11:25:39.309 INFO in 'deeppavlov.core.models.torch_model'['torch_model'] at line 102: Model was successfully initialized! Model summary:\n",
            " BertForTokenClassification(\n",
            "  (bert): BertModel(\n",
            "    (embeddings): BertEmbeddings(\n",
            "      (word_embeddings): Embedding(119547, 768, padding_idx=0)\n",
            "      (position_embeddings): Embedding(512, 768)\n",
            "      (token_type_embeddings): Embedding(2, 768)\n",
            "      (LayerNorm): LayerNorm((768,), eps=1e-12, elementwise_affine=True)\n",
            "      (dropout): Dropout(p=0.1, inplace=False)\n",
            "    )\n",
            "    (encoder): BertEncoder(\n",
            "      (layer): ModuleList(\n",
            "        (0): BertLayer(\n",
            "          (attention): BertAttention(\n",
            "            (self): BertSelfAttention(\n",
            "              (query): Linear(in_features=768, out_features=768, bias=True)\n",
            "              (key): Linear(in_features=768, out_features=768, bias=True)\n",
            "              (value): Linear(in_features=768, out_features=768, bias=True)\n",
            "              (dropout): Dropout(p=0.1, inplace=False)\n",
            "            )\n",
            "            (output): BertSelfOutput(\n",
            "              (dense): Linear(in_features=768, out_features=768, bias=True)\n",
            "              (LayerNorm): LayerNorm((768,), eps=1e-12, elementwise_affine=True)\n",
            "              (dropout): Dropout(p=0.1, inplace=False)\n",
            "            )\n",
            "          )\n",
            "          (intermediate): BertIntermediate(\n",
            "            (dense): Linear(in_features=768, out_features=3072, bias=True)\n",
            "            (intermediate_act_fn): GELUActivation()\n",
            "          )\n",
            "          (output): BertOutput(\n",
            "            (dense): Linear(in_features=3072, out_features=768, bias=True)\n",
            "            (LayerNorm): LayerNorm((768,), eps=1e-12, elementwise_affine=True)\n",
            "            (dropout): Dropout(p=0.1, inplace=False)\n",
            "          )\n",
            "        )\n",
            "        (1): BertLayer(\n",
            "          (attention): BertAttention(\n",
            "            (self): BertSelfAttention(\n",
            "              (query): Linear(in_features=768, out_features=768, bias=True)\n",
            "              (key): Linear(in_features=768, out_features=768, bias=True)\n",
            "              (value): Linear(in_features=768, out_features=768, bias=True)\n",
            "              (dropout): Dropout(p=0.1, inplace=False)\n",
            "            )\n",
            "            (output): BertSelfOutput(\n",
            "              (dense): Linear(in_features=768, out_features=768, bias=True)\n",
            "              (LayerNorm): LayerNorm((768,), eps=1e-12, elementwise_affine=True)\n",
            "              (dropout): Dropout(p=0.1, inplace=False)\n",
            "            )\n",
            "          )\n",
            "          (intermediate): BertIntermediate(\n",
            "            (dense): Linear(in_features=768, out_features=3072, bias=True)\n",
            "            (intermediate_act_fn): GELUActivation()\n",
            "          )\n",
            "          (output): BertOutput(\n",
            "            (dense): Linear(in_features=3072, out_features=768, bias=True)\n",
            "            (LayerNorm): LayerNorm((768,), eps=1e-12, elementwise_affine=True)\n",
            "            (dropout): Dropout(p=0.1, inplace=False)\n",
            "          )\n",
            "        )\n",
            "        (2): BertLayer(\n",
            "          (attention): BertAttention(\n",
            "            (self): BertSelfAttention(\n",
            "              (query): Linear(in_features=768, out_features=768, bias=True)\n",
            "              (key): Linear(in_features=768, out_features=768, bias=True)\n",
            "              (value): Linear(in_features=768, out_features=768, bias=True)\n",
            "              (dropout): Dropout(p=0.1, inplace=False)\n",
            "            )\n",
            "            (output): BertSelfOutput(\n",
            "              (dense): Linear(in_features=768, out_features=768, bias=True)\n",
            "              (LayerNorm): LayerNorm((768,), eps=1e-12, elementwise_affine=True)\n",
            "              (dropout): Dropout(p=0.1, inplace=False)\n",
            "            )\n",
            "          )\n",
            "          (intermediate): BertIntermediate(\n",
            "            (dense): Linear(in_features=768, out_features=3072, bias=True)\n",
            "            (intermediate_act_fn): GELUActivation()\n",
            "          )\n",
            "          (output): BertOutput(\n",
            "            (dense): Linear(in_features=3072, out_features=768, bias=True)\n",
            "            (LayerNorm): LayerNorm((768,), eps=1e-12, elementwise_affine=True)\n",
            "            (dropout): Dropout(p=0.1, inplace=False)\n",
            "          )\n",
            "        )\n",
            "        (3): BertLayer(\n",
            "          (attention): BertAttention(\n",
            "            (self): BertSelfAttention(\n",
            "              (query): Linear(in_features=768, out_features=768, bias=True)\n",
            "              (key): Linear(in_features=768, out_features=768, bias=True)\n",
            "              (value): Linear(in_features=768, out_features=768, bias=True)\n",
            "              (dropout): Dropout(p=0.1, inplace=False)\n",
            "            )\n",
            "            (output): BertSelfOutput(\n",
            "              (dense): Linear(in_features=768, out_features=768, bias=True)\n",
            "              (LayerNorm): LayerNorm((768,), eps=1e-12, elementwise_affine=True)\n",
            "              (dropout): Dropout(p=0.1, inplace=False)\n",
            "            )\n",
            "          )\n",
            "          (intermediate): BertIntermediate(\n",
            "            (dense): Linear(in_features=768, out_features=3072, bias=True)\n",
            "            (intermediate_act_fn): GELUActivation()\n",
            "          )\n",
            "          (output): BertOutput(\n",
            "            (dense): Linear(in_features=3072, out_features=768, bias=True)\n",
            "            (LayerNorm): LayerNorm((768,), eps=1e-12, elementwise_affine=True)\n",
            "            (dropout): Dropout(p=0.1, inplace=False)\n",
            "          )\n",
            "        )\n",
            "        (4): BertLayer(\n",
            "          (attention): BertAttention(\n",
            "            (self): BertSelfAttention(\n",
            "              (query): Linear(in_features=768, out_features=768, bias=True)\n",
            "              (key): Linear(in_features=768, out_features=768, bias=True)\n",
            "              (value): Linear(in_features=768, out_features=768, bias=True)\n",
            "              (dropout): Dropout(p=0.1, inplace=False)\n",
            "            )\n",
            "            (output): BertSelfOutput(\n",
            "              (dense): Linear(in_features=768, out_features=768, bias=True)\n",
            "              (LayerNorm): LayerNorm((768,), eps=1e-12, elementwise_affine=True)\n",
            "              (dropout): Dropout(p=0.1, inplace=False)\n",
            "            )\n",
            "          )\n",
            "          (intermediate): BertIntermediate(\n",
            "            (dense): Linear(in_features=768, out_features=3072, bias=True)\n",
            "            (intermediate_act_fn): GELUActivation()\n",
            "          )\n",
            "          (output): BertOutput(\n",
            "            (dense): Linear(in_features=3072, out_features=768, bias=True)\n",
            "            (LayerNorm): LayerNorm((768,), eps=1e-12, elementwise_affine=True)\n",
            "            (dropout): Dropout(p=0.1, inplace=False)\n",
            "          )\n",
            "        )\n",
            "        (5): BertLayer(\n",
            "          (attention): BertAttention(\n",
            "            (self): BertSelfAttention(\n",
            "              (query): Linear(in_features=768, out_features=768, bias=True)\n",
            "              (key): Linear(in_features=768, out_features=768, bias=True)\n",
            "              (value): Linear(in_features=768, out_features=768, bias=True)\n",
            "              (dropout): Dropout(p=0.1, inplace=False)\n",
            "            )\n",
            "            (output): BertSelfOutput(\n",
            "              (dense): Linear(in_features=768, out_features=768, bias=True)\n",
            "              (LayerNorm): LayerNorm((768,), eps=1e-12, elementwise_affine=True)\n",
            "              (dropout): Dropout(p=0.1, inplace=False)\n",
            "            )\n",
            "          )\n",
            "          (intermediate): BertIntermediate(\n",
            "            (dense): Linear(in_features=768, out_features=3072, bias=True)\n",
            "            (intermediate_act_fn): GELUActivation()\n",
            "          )\n",
            "          (output): BertOutput(\n",
            "            (dense): Linear(in_features=3072, out_features=768, bias=True)\n",
            "            (LayerNorm): LayerNorm((768,), eps=1e-12, elementwise_affine=True)\n",
            "            (dropout): Dropout(p=0.1, inplace=False)\n",
            "          )\n",
            "        )\n",
            "        (6): BertLayer(\n",
            "          (attention): BertAttention(\n",
            "            (self): BertSelfAttention(\n",
            "              (query): Linear(in_features=768, out_features=768, bias=True)\n",
            "              (key): Linear(in_features=768, out_features=768, bias=True)\n",
            "              (value): Linear(in_features=768, out_features=768, bias=True)\n",
            "              (dropout): Dropout(p=0.1, inplace=False)\n",
            "            )\n",
            "            (output): BertSelfOutput(\n",
            "              (dense): Linear(in_features=768, out_features=768, bias=True)\n",
            "              (LayerNorm): LayerNorm((768,), eps=1e-12, elementwise_affine=True)\n",
            "              (dropout): Dropout(p=0.1, inplace=False)\n",
            "            )\n",
            "          )\n",
            "          (intermediate): BertIntermediate(\n",
            "            (dense): Linear(in_features=768, out_features=3072, bias=True)\n",
            "            (intermediate_act_fn): GELUActivation()\n",
            "          )\n",
            "          (output): BertOutput(\n",
            "            (dense): Linear(in_features=3072, out_features=768, bias=True)\n",
            "            (LayerNorm): LayerNorm((768,), eps=1e-12, elementwise_affine=True)\n",
            "            (dropout): Dropout(p=0.1, inplace=False)\n",
            "          )\n",
            "        )\n",
            "        (7): BertLayer(\n",
            "          (attention): BertAttention(\n",
            "            (self): BertSelfAttention(\n",
            "              (query): Linear(in_features=768, out_features=768, bias=True)\n",
            "              (key): Linear(in_features=768, out_features=768, bias=True)\n",
            "              (value): Linear(in_features=768, out_features=768, bias=True)\n",
            "              (dropout): Dropout(p=0.1, inplace=False)\n",
            "            )\n",
            "            (output): BertSelfOutput(\n",
            "              (dense): Linear(in_features=768, out_features=768, bias=True)\n",
            "              (LayerNorm): LayerNorm((768,), eps=1e-12, elementwise_affine=True)\n",
            "              (dropout): Dropout(p=0.1, inplace=False)\n",
            "            )\n",
            "          )\n",
            "          (intermediate): BertIntermediate(\n",
            "            (dense): Linear(in_features=768, out_features=3072, bias=True)\n",
            "            (intermediate_act_fn): GELUActivation()\n",
            "          )\n",
            "          (output): BertOutput(\n",
            "            (dense): Linear(in_features=3072, out_features=768, bias=True)\n",
            "            (LayerNorm): LayerNorm((768,), eps=1e-12, elementwise_affine=True)\n",
            "            (dropout): Dropout(p=0.1, inplace=False)\n",
            "          )\n",
            "        )\n",
            "        (8): BertLayer(\n",
            "          (attention): BertAttention(\n",
            "            (self): BertSelfAttention(\n",
            "              (query): Linear(in_features=768, out_features=768, bias=True)\n",
            "              (key): Linear(in_features=768, out_features=768, bias=True)\n",
            "              (value): Linear(in_features=768, out_features=768, bias=True)\n",
            "              (dropout): Dropout(p=0.1, inplace=False)\n",
            "            )\n",
            "            (output): BertSelfOutput(\n",
            "              (dense): Linear(in_features=768, out_features=768, bias=True)\n",
            "              (LayerNorm): LayerNorm((768,), eps=1e-12, elementwise_affine=True)\n",
            "              (dropout): Dropout(p=0.1, inplace=False)\n",
            "            )\n",
            "          )\n",
            "          (intermediate): BertIntermediate(\n",
            "            (dense): Linear(in_features=768, out_features=3072, bias=True)\n",
            "            (intermediate_act_fn): GELUActivation()\n",
            "          )\n",
            "          (output): BertOutput(\n",
            "            (dense): Linear(in_features=3072, out_features=768, bias=True)\n",
            "            (LayerNorm): LayerNorm((768,), eps=1e-12, elementwise_affine=True)\n",
            "            (dropout): Dropout(p=0.1, inplace=False)\n",
            "          )\n",
            "        )\n",
            "        (9): BertLayer(\n",
            "          (attention): BertAttention(\n",
            "            (self): BertSelfAttention(\n",
            "              (query): Linear(in_features=768, out_features=768, bias=True)\n",
            "              (key): Linear(in_features=768, out_features=768, bias=True)\n",
            "              (value): Linear(in_features=768, out_features=768, bias=True)\n",
            "              (dropout): Dropout(p=0.1, inplace=False)\n",
            "            )\n",
            "            (output): BertSelfOutput(\n",
            "              (dense): Linear(in_features=768, out_features=768, bias=True)\n",
            "              (LayerNorm): LayerNorm((768,), eps=1e-12, elementwise_affine=True)\n",
            "              (dropout): Dropout(p=0.1, inplace=False)\n",
            "            )\n",
            "          )\n",
            "          (intermediate): BertIntermediate(\n",
            "            (dense): Linear(in_features=768, out_features=3072, bias=True)\n",
            "            (intermediate_act_fn): GELUActivation()\n",
            "          )\n",
            "          (output): BertOutput(\n",
            "            (dense): Linear(in_features=3072, out_features=768, bias=True)\n",
            "            (LayerNorm): LayerNorm((768,), eps=1e-12, elementwise_affine=True)\n",
            "            (dropout): Dropout(p=0.1, inplace=False)\n",
            "          )\n",
            "        )\n",
            "        (10): BertLayer(\n",
            "          (attention): BertAttention(\n",
            "            (self): BertSelfAttention(\n",
            "              (query): Linear(in_features=768, out_features=768, bias=True)\n",
            "              (key): Linear(in_features=768, out_features=768, bias=True)\n",
            "              (value): Linear(in_features=768, out_features=768, bias=True)\n",
            "              (dropout): Dropout(p=0.1, inplace=False)\n",
            "            )\n",
            "            (output): BertSelfOutput(\n",
            "              (dense): Linear(in_features=768, out_features=768, bias=True)\n",
            "              (LayerNorm): LayerNorm((768,), eps=1e-12, elementwise_affine=True)\n",
            "              (dropout): Dropout(p=0.1, inplace=False)\n",
            "            )\n",
            "          )\n",
            "          (intermediate): BertIntermediate(\n",
            "            (dense): Linear(in_features=768, out_features=3072, bias=True)\n",
            "            (intermediate_act_fn): GELUActivation()\n",
            "          )\n",
            "          (output): BertOutput(\n",
            "            (dense): Linear(in_features=3072, out_features=768, bias=True)\n",
            "            (LayerNorm): LayerNorm((768,), eps=1e-12, elementwise_affine=True)\n",
            "            (dropout): Dropout(p=0.1, inplace=False)\n",
            "          )\n",
            "        )\n",
            "        (11): BertLayer(\n",
            "          (attention): BertAttention(\n",
            "            (self): BertSelfAttention(\n",
            "              (query): Linear(in_features=768, out_features=768, bias=True)\n",
            "              (key): Linear(in_features=768, out_features=768, bias=True)\n",
            "              (value): Linear(in_features=768, out_features=768, bias=True)\n",
            "              (dropout): Dropout(p=0.1, inplace=False)\n",
            "            )\n",
            "            (output): BertSelfOutput(\n",
            "              (dense): Linear(in_features=768, out_features=768, bias=True)\n",
            "              (LayerNorm): LayerNorm((768,), eps=1e-12, elementwise_affine=True)\n",
            "              (dropout): Dropout(p=0.1, inplace=False)\n",
            "            )\n",
            "          )\n",
            "          (intermediate): BertIntermediate(\n",
            "            (dense): Linear(in_features=768, out_features=3072, bias=True)\n",
            "            (intermediate_act_fn): GELUActivation()\n",
            "          )\n",
            "          (output): BertOutput(\n",
            "            (dense): Linear(in_features=3072, out_features=768, bias=True)\n",
            "            (LayerNorm): LayerNorm((768,), eps=1e-12, elementwise_affine=True)\n",
            "            (dropout): Dropout(p=0.1, inplace=False)\n",
            "          )\n",
            "        )\n",
            "      )\n",
            "    )\n",
            "  )\n",
            "  (dropout): Dropout(p=0.1, inplace=False)\n",
            "  (classifier): Linear(in_features=768, out_features=9, bias=True)\n",
            ")\n"
          ]
        },
        {
          "output_type": "stream",
          "name": "stdout",
          "text": [
            "{\"valid\": {\"eval_examples_count\": 1522, \"metrics\": {\"ner_f1\": 72.1368, \"ner_token_f1\": 76.5612}, \"time_spent\": \"0:00:06\"}}\n",
            "{\"test\": {\"eval_examples_count\": 1627, \"metrics\": {\"ner_f1\": 69.1228, \"ner_token_f1\": 80.35}, \"time_spent\": \"0:00:06\"}}\n"
          ]
        },
        {
          "output_type": "stream",
          "name": "stderr",
          "text": [
            "2022-05-22 11:25:53.391 INFO in 'deeppavlov.core.data.simple_vocab'['simple_vocab'] at line 115: [loading vocabulary from /content/drive/MyDrive/nlp/project/deep_pavlov/models/ner_ontonotes_bert_mult_torch4/bert-base-multilingual-cased/tag.dict]\n",
            "Some weights of the model checkpoint at bert-base-multilingual-cased were not used when initializing BertForTokenClassification: ['cls.predictions.bias', 'cls.predictions.transform.LayerNorm.bias', 'cls.predictions.transform.LayerNorm.weight', 'cls.seq_relationship.weight', 'cls.predictions.transform.dense.bias', 'cls.predictions.decoder.weight', 'cls.predictions.transform.dense.weight', 'cls.seq_relationship.bias']\n",
            "- This IS expected if you are initializing BertForTokenClassification from the checkpoint of a model trained on another task or with another architecture (e.g. initializing a BertForSequenceClassification model from a BertForPreTraining model).\n",
            "- This IS NOT expected if you are initializing BertForTokenClassification from the checkpoint of a model that you expect to be exactly identical (initializing a BertForSequenceClassification model from a BertForSequenceClassification model).\n",
            "Some weights of BertForTokenClassification were not initialized from the model checkpoint at bert-base-multilingual-cased and are newly initialized: ['classifier.weight', 'classifier.bias']\n",
            "You should probably TRAIN this model on a down-stream task to be able to use it for predictions and inference.\n",
            "2022-05-22 11:25:56.397 INFO in 'deeppavlov.models.torch_bert.torch_transformers_sequence_tagger'['torch_transformers_sequence_tagger'] at line 360: Load path /content/drive/MyDrive/nlp/project/deep_pavlov/models/ner_ontonotes_bert_mult_torch4/bert-base-multilingual-cased/model is given.\n",
            "2022-05-22 11:25:56.401 INFO in 'deeppavlov.models.torch_bert.torch_transformers_sequence_tagger'['torch_transformers_sequence_tagger'] at line 367: Load path /content/drive/MyDrive/nlp/project/deep_pavlov/models/ner_ontonotes_bert_mult_torch4/bert-base-multilingual-cased/model.pth.tar exists.\n",
            "2022-05-22 11:25:56.406 INFO in 'deeppavlov.models.torch_bert.torch_transformers_sequence_tagger'['torch_transformers_sequence_tagger'] at line 368: Initializing `TorchTransformersSequenceTagger` from saved.\n",
            "2022-05-22 11:25:56.408 INFO in 'deeppavlov.models.torch_bert.torch_transformers_sequence_tagger'['torch_transformers_sequence_tagger'] at line 371: Loading weights from /content/drive/MyDrive/nlp/project/deep_pavlov/models/ner_ontonotes_bert_mult_torch4/bert-base-multilingual-cased/model.pth.tar.\n",
            "2022-05-22 11:25:59.615 INFO in 'deeppavlov.core.models.torch_model'['torch_model'] at line 102: Model was successfully initialized! Model summary:\n",
            " BertForTokenClassification(\n",
            "  (bert): BertModel(\n",
            "    (embeddings): BertEmbeddings(\n",
            "      (word_embeddings): Embedding(119547, 768, padding_idx=0)\n",
            "      (position_embeddings): Embedding(512, 768)\n",
            "      (token_type_embeddings): Embedding(2, 768)\n",
            "      (LayerNorm): LayerNorm((768,), eps=1e-12, elementwise_affine=True)\n",
            "      (dropout): Dropout(p=0.1, inplace=False)\n",
            "    )\n",
            "    (encoder): BertEncoder(\n",
            "      (layer): ModuleList(\n",
            "        (0): BertLayer(\n",
            "          (attention): BertAttention(\n",
            "            (self): BertSelfAttention(\n",
            "              (query): Linear(in_features=768, out_features=768, bias=True)\n",
            "              (key): Linear(in_features=768, out_features=768, bias=True)\n",
            "              (value): Linear(in_features=768, out_features=768, bias=True)\n",
            "              (dropout): Dropout(p=0.1, inplace=False)\n",
            "            )\n",
            "            (output): BertSelfOutput(\n",
            "              (dense): Linear(in_features=768, out_features=768, bias=True)\n",
            "              (LayerNorm): LayerNorm((768,), eps=1e-12, elementwise_affine=True)\n",
            "              (dropout): Dropout(p=0.1, inplace=False)\n",
            "            )\n",
            "          )\n",
            "          (intermediate): BertIntermediate(\n",
            "            (dense): Linear(in_features=768, out_features=3072, bias=True)\n",
            "            (intermediate_act_fn): GELUActivation()\n",
            "          )\n",
            "          (output): BertOutput(\n",
            "            (dense): Linear(in_features=3072, out_features=768, bias=True)\n",
            "            (LayerNorm): LayerNorm((768,), eps=1e-12, elementwise_affine=True)\n",
            "            (dropout): Dropout(p=0.1, inplace=False)\n",
            "          )\n",
            "        )\n",
            "        (1): BertLayer(\n",
            "          (attention): BertAttention(\n",
            "            (self): BertSelfAttention(\n",
            "              (query): Linear(in_features=768, out_features=768, bias=True)\n",
            "              (key): Linear(in_features=768, out_features=768, bias=True)\n",
            "              (value): Linear(in_features=768, out_features=768, bias=True)\n",
            "              (dropout): Dropout(p=0.1, inplace=False)\n",
            "            )\n",
            "            (output): BertSelfOutput(\n",
            "              (dense): Linear(in_features=768, out_features=768, bias=True)\n",
            "              (LayerNorm): LayerNorm((768,), eps=1e-12, elementwise_affine=True)\n",
            "              (dropout): Dropout(p=0.1, inplace=False)\n",
            "            )\n",
            "          )\n",
            "          (intermediate): BertIntermediate(\n",
            "            (dense): Linear(in_features=768, out_features=3072, bias=True)\n",
            "            (intermediate_act_fn): GELUActivation()\n",
            "          )\n",
            "          (output): BertOutput(\n",
            "            (dense): Linear(in_features=3072, out_features=768, bias=True)\n",
            "            (LayerNorm): LayerNorm((768,), eps=1e-12, elementwise_affine=True)\n",
            "            (dropout): Dropout(p=0.1, inplace=False)\n",
            "          )\n",
            "        )\n",
            "        (2): BertLayer(\n",
            "          (attention): BertAttention(\n",
            "            (self): BertSelfAttention(\n",
            "              (query): Linear(in_features=768, out_features=768, bias=True)\n",
            "              (key): Linear(in_features=768, out_features=768, bias=True)\n",
            "              (value): Linear(in_features=768, out_features=768, bias=True)\n",
            "              (dropout): Dropout(p=0.1, inplace=False)\n",
            "            )\n",
            "            (output): BertSelfOutput(\n",
            "              (dense): Linear(in_features=768, out_features=768, bias=True)\n",
            "              (LayerNorm): LayerNorm((768,), eps=1e-12, elementwise_affine=True)\n",
            "              (dropout): Dropout(p=0.1, inplace=False)\n",
            "            )\n",
            "          )\n",
            "          (intermediate): BertIntermediate(\n",
            "            (dense): Linear(in_features=768, out_features=3072, bias=True)\n",
            "            (intermediate_act_fn): GELUActivation()\n",
            "          )\n",
            "          (output): BertOutput(\n",
            "            (dense): Linear(in_features=3072, out_features=768, bias=True)\n",
            "            (LayerNorm): LayerNorm((768,), eps=1e-12, elementwise_affine=True)\n",
            "            (dropout): Dropout(p=0.1, inplace=False)\n",
            "          )\n",
            "        )\n",
            "        (3): BertLayer(\n",
            "          (attention): BertAttention(\n",
            "            (self): BertSelfAttention(\n",
            "              (query): Linear(in_features=768, out_features=768, bias=True)\n",
            "              (key): Linear(in_features=768, out_features=768, bias=True)\n",
            "              (value): Linear(in_features=768, out_features=768, bias=True)\n",
            "              (dropout): Dropout(p=0.1, inplace=False)\n",
            "            )\n",
            "            (output): BertSelfOutput(\n",
            "              (dense): Linear(in_features=768, out_features=768, bias=True)\n",
            "              (LayerNorm): LayerNorm((768,), eps=1e-12, elementwise_affine=True)\n",
            "              (dropout): Dropout(p=0.1, inplace=False)\n",
            "            )\n",
            "          )\n",
            "          (intermediate): BertIntermediate(\n",
            "            (dense): Linear(in_features=768, out_features=3072, bias=True)\n",
            "            (intermediate_act_fn): GELUActivation()\n",
            "          )\n",
            "          (output): BertOutput(\n",
            "            (dense): Linear(in_features=3072, out_features=768, bias=True)\n",
            "            (LayerNorm): LayerNorm((768,), eps=1e-12, elementwise_affine=True)\n",
            "            (dropout): Dropout(p=0.1, inplace=False)\n",
            "          )\n",
            "        )\n",
            "        (4): BertLayer(\n",
            "          (attention): BertAttention(\n",
            "            (self): BertSelfAttention(\n",
            "              (query): Linear(in_features=768, out_features=768, bias=True)\n",
            "              (key): Linear(in_features=768, out_features=768, bias=True)\n",
            "              (value): Linear(in_features=768, out_features=768, bias=True)\n",
            "              (dropout): Dropout(p=0.1, inplace=False)\n",
            "            )\n",
            "            (output): BertSelfOutput(\n",
            "              (dense): Linear(in_features=768, out_features=768, bias=True)\n",
            "              (LayerNorm): LayerNorm((768,), eps=1e-12, elementwise_affine=True)\n",
            "              (dropout): Dropout(p=0.1, inplace=False)\n",
            "            )\n",
            "          )\n",
            "          (intermediate): BertIntermediate(\n",
            "            (dense): Linear(in_features=768, out_features=3072, bias=True)\n",
            "            (intermediate_act_fn): GELUActivation()\n",
            "          )\n",
            "          (output): BertOutput(\n",
            "            (dense): Linear(in_features=3072, out_features=768, bias=True)\n",
            "            (LayerNorm): LayerNorm((768,), eps=1e-12, elementwise_affine=True)\n",
            "            (dropout): Dropout(p=0.1, inplace=False)\n",
            "          )\n",
            "        )\n",
            "        (5): BertLayer(\n",
            "          (attention): BertAttention(\n",
            "            (self): BertSelfAttention(\n",
            "              (query): Linear(in_features=768, out_features=768, bias=True)\n",
            "              (key): Linear(in_features=768, out_features=768, bias=True)\n",
            "              (value): Linear(in_features=768, out_features=768, bias=True)\n",
            "              (dropout): Dropout(p=0.1, inplace=False)\n",
            "            )\n",
            "            (output): BertSelfOutput(\n",
            "              (dense): Linear(in_features=768, out_features=768, bias=True)\n",
            "              (LayerNorm): LayerNorm((768,), eps=1e-12, elementwise_affine=True)\n",
            "              (dropout): Dropout(p=0.1, inplace=False)\n",
            "            )\n",
            "          )\n",
            "          (intermediate): BertIntermediate(\n",
            "            (dense): Linear(in_features=768, out_features=3072, bias=True)\n",
            "            (intermediate_act_fn): GELUActivation()\n",
            "          )\n",
            "          (output): BertOutput(\n",
            "            (dense): Linear(in_features=3072, out_features=768, bias=True)\n",
            "            (LayerNorm): LayerNorm((768,), eps=1e-12, elementwise_affine=True)\n",
            "            (dropout): Dropout(p=0.1, inplace=False)\n",
            "          )\n",
            "        )\n",
            "        (6): BertLayer(\n",
            "          (attention): BertAttention(\n",
            "            (self): BertSelfAttention(\n",
            "              (query): Linear(in_features=768, out_features=768, bias=True)\n",
            "              (key): Linear(in_features=768, out_features=768, bias=True)\n",
            "              (value): Linear(in_features=768, out_features=768, bias=True)\n",
            "              (dropout): Dropout(p=0.1, inplace=False)\n",
            "            )\n",
            "            (output): BertSelfOutput(\n",
            "              (dense): Linear(in_features=768, out_features=768, bias=True)\n",
            "              (LayerNorm): LayerNorm((768,), eps=1e-12, elementwise_affine=True)\n",
            "              (dropout): Dropout(p=0.1, inplace=False)\n",
            "            )\n",
            "          )\n",
            "          (intermediate): BertIntermediate(\n",
            "            (dense): Linear(in_features=768, out_features=3072, bias=True)\n",
            "            (intermediate_act_fn): GELUActivation()\n",
            "          )\n",
            "          (output): BertOutput(\n",
            "            (dense): Linear(in_features=3072, out_features=768, bias=True)\n",
            "            (LayerNorm): LayerNorm((768,), eps=1e-12, elementwise_affine=True)\n",
            "            (dropout): Dropout(p=0.1, inplace=False)\n",
            "          )\n",
            "        )\n",
            "        (7): BertLayer(\n",
            "          (attention): BertAttention(\n",
            "            (self): BertSelfAttention(\n",
            "              (query): Linear(in_features=768, out_features=768, bias=True)\n",
            "              (key): Linear(in_features=768, out_features=768, bias=True)\n",
            "              (value): Linear(in_features=768, out_features=768, bias=True)\n",
            "              (dropout): Dropout(p=0.1, inplace=False)\n",
            "            )\n",
            "            (output): BertSelfOutput(\n",
            "              (dense): Linear(in_features=768, out_features=768, bias=True)\n",
            "              (LayerNorm): LayerNorm((768,), eps=1e-12, elementwise_affine=True)\n",
            "              (dropout): Dropout(p=0.1, inplace=False)\n",
            "            )\n",
            "          )\n",
            "          (intermediate): BertIntermediate(\n",
            "            (dense): Linear(in_features=768, out_features=3072, bias=True)\n",
            "            (intermediate_act_fn): GELUActivation()\n",
            "          )\n",
            "          (output): BertOutput(\n",
            "            (dense): Linear(in_features=3072, out_features=768, bias=True)\n",
            "            (LayerNorm): LayerNorm((768,), eps=1e-12, elementwise_affine=True)\n",
            "            (dropout): Dropout(p=0.1, inplace=False)\n",
            "          )\n",
            "        )\n",
            "        (8): BertLayer(\n",
            "          (attention): BertAttention(\n",
            "            (self): BertSelfAttention(\n",
            "              (query): Linear(in_features=768, out_features=768, bias=True)\n",
            "              (key): Linear(in_features=768, out_features=768, bias=True)\n",
            "              (value): Linear(in_features=768, out_features=768, bias=True)\n",
            "              (dropout): Dropout(p=0.1, inplace=False)\n",
            "            )\n",
            "            (output): BertSelfOutput(\n",
            "              (dense): Linear(in_features=768, out_features=768, bias=True)\n",
            "              (LayerNorm): LayerNorm((768,), eps=1e-12, elementwise_affine=True)\n",
            "              (dropout): Dropout(p=0.1, inplace=False)\n",
            "            )\n",
            "          )\n",
            "          (intermediate): BertIntermediate(\n",
            "            (dense): Linear(in_features=768, out_features=3072, bias=True)\n",
            "            (intermediate_act_fn): GELUActivation()\n",
            "          )\n",
            "          (output): BertOutput(\n",
            "            (dense): Linear(in_features=3072, out_features=768, bias=True)\n",
            "            (LayerNorm): LayerNorm((768,), eps=1e-12, elementwise_affine=True)\n",
            "            (dropout): Dropout(p=0.1, inplace=False)\n",
            "          )\n",
            "        )\n",
            "        (9): BertLayer(\n",
            "          (attention): BertAttention(\n",
            "            (self): BertSelfAttention(\n",
            "              (query): Linear(in_features=768, out_features=768, bias=True)\n",
            "              (key): Linear(in_features=768, out_features=768, bias=True)\n",
            "              (value): Linear(in_features=768, out_features=768, bias=True)\n",
            "              (dropout): Dropout(p=0.1, inplace=False)\n",
            "            )\n",
            "            (output): BertSelfOutput(\n",
            "              (dense): Linear(in_features=768, out_features=768, bias=True)\n",
            "              (LayerNorm): LayerNorm((768,), eps=1e-12, elementwise_affine=True)\n",
            "              (dropout): Dropout(p=0.1, inplace=False)\n",
            "            )\n",
            "          )\n",
            "          (intermediate): BertIntermediate(\n",
            "            (dense): Linear(in_features=768, out_features=3072, bias=True)\n",
            "            (intermediate_act_fn): GELUActivation()\n",
            "          )\n",
            "          (output): BertOutput(\n",
            "            (dense): Linear(in_features=3072, out_features=768, bias=True)\n",
            "            (LayerNorm): LayerNorm((768,), eps=1e-12, elementwise_affine=True)\n",
            "            (dropout): Dropout(p=0.1, inplace=False)\n",
            "          )\n",
            "        )\n",
            "        (10): BertLayer(\n",
            "          (attention): BertAttention(\n",
            "            (self): BertSelfAttention(\n",
            "              (query): Linear(in_features=768, out_features=768, bias=True)\n",
            "              (key): Linear(in_features=768, out_features=768, bias=True)\n",
            "              (value): Linear(in_features=768, out_features=768, bias=True)\n",
            "              (dropout): Dropout(p=0.1, inplace=False)\n",
            "            )\n",
            "            (output): BertSelfOutput(\n",
            "              (dense): Linear(in_features=768, out_features=768, bias=True)\n",
            "              (LayerNorm): LayerNorm((768,), eps=1e-12, elementwise_affine=True)\n",
            "              (dropout): Dropout(p=0.1, inplace=False)\n",
            "            )\n",
            "          )\n",
            "          (intermediate): BertIntermediate(\n",
            "            (dense): Linear(in_features=768, out_features=3072, bias=True)\n",
            "            (intermediate_act_fn): GELUActivation()\n",
            "          )\n",
            "          (output): BertOutput(\n",
            "            (dense): Linear(in_features=3072, out_features=768, bias=True)\n",
            "            (LayerNorm): LayerNorm((768,), eps=1e-12, elementwise_affine=True)\n",
            "            (dropout): Dropout(p=0.1, inplace=False)\n",
            "          )\n",
            "        )\n",
            "        (11): BertLayer(\n",
            "          (attention): BertAttention(\n",
            "            (self): BertSelfAttention(\n",
            "              (query): Linear(in_features=768, out_features=768, bias=True)\n",
            "              (key): Linear(in_features=768, out_features=768, bias=True)\n",
            "              (value): Linear(in_features=768, out_features=768, bias=True)\n",
            "              (dropout): Dropout(p=0.1, inplace=False)\n",
            "            )\n",
            "            (output): BertSelfOutput(\n",
            "              (dense): Linear(in_features=768, out_features=768, bias=True)\n",
            "              (LayerNorm): LayerNorm((768,), eps=1e-12, elementwise_affine=True)\n",
            "              (dropout): Dropout(p=0.1, inplace=False)\n",
            "            )\n",
            "          )\n",
            "          (intermediate): BertIntermediate(\n",
            "            (dense): Linear(in_features=768, out_features=3072, bias=True)\n",
            "            (intermediate_act_fn): GELUActivation()\n",
            "          )\n",
            "          (output): BertOutput(\n",
            "            (dense): Linear(in_features=3072, out_features=768, bias=True)\n",
            "            (LayerNorm): LayerNorm((768,), eps=1e-12, elementwise_affine=True)\n",
            "            (dropout): Dropout(p=0.1, inplace=False)\n",
            "          )\n",
            "        )\n",
            "      )\n",
            "    )\n",
            "  )\n",
            "  (dropout): Dropout(p=0.1, inplace=False)\n",
            "  (classifier): Linear(in_features=768, out_features=9, bias=True)\n",
            ")\n"
          ]
        }
      ],
      "source": [
        "ner_model = train_model(config_path,download=False)"
      ]
    },
    {
      "cell_type": "code",
      "source": [
        "ner_model(['Привет! ищем к нам DS'])"
      ],
      "metadata": {
        "colab": {
          "base_uri": "https://localhost:8080/"
        },
        "id": "iUeWLZOmscPU",
        "outputId": "6bd36f56-02ba-4466-d6d3-dd02c73f79bf"
      },
      "execution_count": null,
      "outputs": [
        {
          "output_type": "execute_result",
          "data": {
            "text/plain": [
              "[[['Привет', '!', 'ищем', 'к', 'нам', 'DS']],\n",
              " [['O', 'O', 'O', 'O', 'O', 'B-VAC']]]"
            ]
          },
          "metadata": {},
          "execution_count": 9
        }
      ]
    },
    {
      "cell_type": "code",
      "source": [
        "df=pd.read_csv('/content/drive/MyDrive/nlp/project/df_ready_for_model_v4.csv')"
      ],
      "metadata": {
        "id": "RLkx85fbUhq1"
      },
      "execution_count": null,
      "outputs": []
    },
    {
      "cell_type": "code",
      "source": [
        "# delete quatas \n",
        "import ast\n",
        "df['tokens_list'] = df['tokens_list'].apply(lambda x: ast.literal_eval(x))"
      ],
      "metadata": {
        "id": "Nr9W54XOUm1n"
      },
      "execution_count": null,
      "outputs": []
    },
    {
      "cell_type": "code",
      "source": [
        "df['model_result'] = df['tokens_list'].apply(lambda x: ner_model(x))"
      ],
      "metadata": {
        "id": "lm-PPvSqUpGD"
      },
      "execution_count": null,
      "outputs": []
    },
    {
      "cell_type": "code",
      "source": [
        "df.to_csv('/content/drive/MyDrive/nlp/ODS_jobs/model_result_v4.csv')"
      ],
      "metadata": {
        "id": "RyOXvPhNUwhQ"
      },
      "execution_count": null,
      "outputs": []
    }
  ],
  "metadata": {
    "colab": {
      "collapsed_sections": [],
      "name": "DeepPavlovNER model",
      "provenance": []
    },
    "kernelspec": {
      "display_name": "Python 3",
      "name": "python3"
    },
    "language_info": {
      "name": "python"
    },
    "widgets": {
      "application/vnd.jupyter.widget-state+json": {
        "2f22f2be9c77415ab55eb94a1d12925f": {
          "model_module": "@jupyter-widgets/controls",
          "model_name": "HBoxModel",
          "model_module_version": "1.5.0",
          "state": {
            "_dom_classes": [],
            "_model_module": "@jupyter-widgets/controls",
            "_model_module_version": "1.5.0",
            "_model_name": "HBoxModel",
            "_view_count": null,
            "_view_module": "@jupyter-widgets/controls",
            "_view_module_version": "1.5.0",
            "_view_name": "HBoxView",
            "box_style": "",
            "children": [
              "IPY_MODEL_a3c6db2e6cc146d0984b35d8f2710ec4",
              "IPY_MODEL_7141e4d1fe2047d09edef13dcc2da952",
              "IPY_MODEL_fa2e52546c2740f58de0702321df229e"
            ],
            "layout": "IPY_MODEL_307c57ac63644ee397fea038a9b28149"
          }
        },
        "a3c6db2e6cc146d0984b35d8f2710ec4": {
          "model_module": "@jupyter-widgets/controls",
          "model_name": "HTMLModel",
          "model_module_version": "1.5.0",
          "state": {
            "_dom_classes": [],
            "_model_module": "@jupyter-widgets/controls",
            "_model_module_version": "1.5.0",
            "_model_name": "HTMLModel",
            "_view_count": null,
            "_view_module": "@jupyter-widgets/controls",
            "_view_module_version": "1.5.0",
            "_view_name": "HTMLView",
            "description": "",
            "description_tooltip": null,
            "layout": "IPY_MODEL_2910f83f74a2492ebabe878189815266",
            "placeholder": "​",
            "style": "IPY_MODEL_7ddebda2ce8c410e8bbc7a78aa4a5c89",
            "value": "Downloading: 100%"
          }
        },
        "7141e4d1fe2047d09edef13dcc2da952": {
          "model_module": "@jupyter-widgets/controls",
          "model_name": "FloatProgressModel",
          "model_module_version": "1.5.0",
          "state": {
            "_dom_classes": [],
            "_model_module": "@jupyter-widgets/controls",
            "_model_module_version": "1.5.0",
            "_model_name": "FloatProgressModel",
            "_view_count": null,
            "_view_module": "@jupyter-widgets/controls",
            "_view_module_version": "1.5.0",
            "_view_name": "ProgressView",
            "bar_style": "success",
            "description": "",
            "description_tooltip": null,
            "layout": "IPY_MODEL_51152682d190486daa1fae19882c3197",
            "max": 29,
            "min": 0,
            "orientation": "horizontal",
            "style": "IPY_MODEL_10f67d28bb4d44f9b2adb0eaec4f5f44",
            "value": 29
          }
        },
        "fa2e52546c2740f58de0702321df229e": {
          "model_module": "@jupyter-widgets/controls",
          "model_name": "HTMLModel",
          "model_module_version": "1.5.0",
          "state": {
            "_dom_classes": [],
            "_model_module": "@jupyter-widgets/controls",
            "_model_module_version": "1.5.0",
            "_model_name": "HTMLModel",
            "_view_count": null,
            "_view_module": "@jupyter-widgets/controls",
            "_view_module_version": "1.5.0",
            "_view_name": "HTMLView",
            "description": "",
            "description_tooltip": null,
            "layout": "IPY_MODEL_0f543542a78c4d36a4370a8b703f1b0f",
            "placeholder": "​",
            "style": "IPY_MODEL_5ce50fddff2241eeb0da70c5a6b07e87",
            "value": " 29.0/29.0 [00:00&lt;00:00, 685B/s]"
          }
        },
        "307c57ac63644ee397fea038a9b28149": {
          "model_module": "@jupyter-widgets/base",
          "model_name": "LayoutModel",
          "model_module_version": "1.2.0",
          "state": {
            "_model_module": "@jupyter-widgets/base",
            "_model_module_version": "1.2.0",
            "_model_name": "LayoutModel",
            "_view_count": null,
            "_view_module": "@jupyter-widgets/base",
            "_view_module_version": "1.2.0",
            "_view_name": "LayoutView",
            "align_content": null,
            "align_items": null,
            "align_self": null,
            "border": null,
            "bottom": null,
            "display": null,
            "flex": null,
            "flex_flow": null,
            "grid_area": null,
            "grid_auto_columns": null,
            "grid_auto_flow": null,
            "grid_auto_rows": null,
            "grid_column": null,
            "grid_gap": null,
            "grid_row": null,
            "grid_template_areas": null,
            "grid_template_columns": null,
            "grid_template_rows": null,
            "height": null,
            "justify_content": null,
            "justify_items": null,
            "left": null,
            "margin": null,
            "max_height": null,
            "max_width": null,
            "min_height": null,
            "min_width": null,
            "object_fit": null,
            "object_position": null,
            "order": null,
            "overflow": null,
            "overflow_x": null,
            "overflow_y": null,
            "padding": null,
            "right": null,
            "top": null,
            "visibility": null,
            "width": null
          }
        },
        "2910f83f74a2492ebabe878189815266": {
          "model_module": "@jupyter-widgets/base",
          "model_name": "LayoutModel",
          "model_module_version": "1.2.0",
          "state": {
            "_model_module": "@jupyter-widgets/base",
            "_model_module_version": "1.2.0",
            "_model_name": "LayoutModel",
            "_view_count": null,
            "_view_module": "@jupyter-widgets/base",
            "_view_module_version": "1.2.0",
            "_view_name": "LayoutView",
            "align_content": null,
            "align_items": null,
            "align_self": null,
            "border": null,
            "bottom": null,
            "display": null,
            "flex": null,
            "flex_flow": null,
            "grid_area": null,
            "grid_auto_columns": null,
            "grid_auto_flow": null,
            "grid_auto_rows": null,
            "grid_column": null,
            "grid_gap": null,
            "grid_row": null,
            "grid_template_areas": null,
            "grid_template_columns": null,
            "grid_template_rows": null,
            "height": null,
            "justify_content": null,
            "justify_items": null,
            "left": null,
            "margin": null,
            "max_height": null,
            "max_width": null,
            "min_height": null,
            "min_width": null,
            "object_fit": null,
            "object_position": null,
            "order": null,
            "overflow": null,
            "overflow_x": null,
            "overflow_y": null,
            "padding": null,
            "right": null,
            "top": null,
            "visibility": null,
            "width": null
          }
        },
        "7ddebda2ce8c410e8bbc7a78aa4a5c89": {
          "model_module": "@jupyter-widgets/controls",
          "model_name": "DescriptionStyleModel",
          "model_module_version": "1.5.0",
          "state": {
            "_model_module": "@jupyter-widgets/controls",
            "_model_module_version": "1.5.0",
            "_model_name": "DescriptionStyleModel",
            "_view_count": null,
            "_view_module": "@jupyter-widgets/base",
            "_view_module_version": "1.2.0",
            "_view_name": "StyleView",
            "description_width": ""
          }
        },
        "51152682d190486daa1fae19882c3197": {
          "model_module": "@jupyter-widgets/base",
          "model_name": "LayoutModel",
          "model_module_version": "1.2.0",
          "state": {
            "_model_module": "@jupyter-widgets/base",
            "_model_module_version": "1.2.0",
            "_model_name": "LayoutModel",
            "_view_count": null,
            "_view_module": "@jupyter-widgets/base",
            "_view_module_version": "1.2.0",
            "_view_name": "LayoutView",
            "align_content": null,
            "align_items": null,
            "align_self": null,
            "border": null,
            "bottom": null,
            "display": null,
            "flex": null,
            "flex_flow": null,
            "grid_area": null,
            "grid_auto_columns": null,
            "grid_auto_flow": null,
            "grid_auto_rows": null,
            "grid_column": null,
            "grid_gap": null,
            "grid_row": null,
            "grid_template_areas": null,
            "grid_template_columns": null,
            "grid_template_rows": null,
            "height": null,
            "justify_content": null,
            "justify_items": null,
            "left": null,
            "margin": null,
            "max_height": null,
            "max_width": null,
            "min_height": null,
            "min_width": null,
            "object_fit": null,
            "object_position": null,
            "order": null,
            "overflow": null,
            "overflow_x": null,
            "overflow_y": null,
            "padding": null,
            "right": null,
            "top": null,
            "visibility": null,
            "width": null
          }
        },
        "10f67d28bb4d44f9b2adb0eaec4f5f44": {
          "model_module": "@jupyter-widgets/controls",
          "model_name": "ProgressStyleModel",
          "model_module_version": "1.5.0",
          "state": {
            "_model_module": "@jupyter-widgets/controls",
            "_model_module_version": "1.5.0",
            "_model_name": "ProgressStyleModel",
            "_view_count": null,
            "_view_module": "@jupyter-widgets/base",
            "_view_module_version": "1.2.0",
            "_view_name": "StyleView",
            "bar_color": null,
            "description_width": ""
          }
        },
        "0f543542a78c4d36a4370a8b703f1b0f": {
          "model_module": "@jupyter-widgets/base",
          "model_name": "LayoutModel",
          "model_module_version": "1.2.0",
          "state": {
            "_model_module": "@jupyter-widgets/base",
            "_model_module_version": "1.2.0",
            "_model_name": "LayoutModel",
            "_view_count": null,
            "_view_module": "@jupyter-widgets/base",
            "_view_module_version": "1.2.0",
            "_view_name": "LayoutView",
            "align_content": null,
            "align_items": null,
            "align_self": null,
            "border": null,
            "bottom": null,
            "display": null,
            "flex": null,
            "flex_flow": null,
            "grid_area": null,
            "grid_auto_columns": null,
            "grid_auto_flow": null,
            "grid_auto_rows": null,
            "grid_column": null,
            "grid_gap": null,
            "grid_row": null,
            "grid_template_areas": null,
            "grid_template_columns": null,
            "grid_template_rows": null,
            "height": null,
            "justify_content": null,
            "justify_items": null,
            "left": null,
            "margin": null,
            "max_height": null,
            "max_width": null,
            "min_height": null,
            "min_width": null,
            "object_fit": null,
            "object_position": null,
            "order": null,
            "overflow": null,
            "overflow_x": null,
            "overflow_y": null,
            "padding": null,
            "right": null,
            "top": null,
            "visibility": null,
            "width": null
          }
        },
        "5ce50fddff2241eeb0da70c5a6b07e87": {
          "model_module": "@jupyter-widgets/controls",
          "model_name": "DescriptionStyleModel",
          "model_module_version": "1.5.0",
          "state": {
            "_model_module": "@jupyter-widgets/controls",
            "_model_module_version": "1.5.0",
            "_model_name": "DescriptionStyleModel",
            "_view_count": null,
            "_view_module": "@jupyter-widgets/base",
            "_view_module_version": "1.2.0",
            "_view_name": "StyleView",
            "description_width": ""
          }
        },
        "b3f66867beab48f49be5c4b58a477580": {
          "model_module": "@jupyter-widgets/controls",
          "model_name": "HBoxModel",
          "model_module_version": "1.5.0",
          "state": {
            "_dom_classes": [],
            "_model_module": "@jupyter-widgets/controls",
            "_model_module_version": "1.5.0",
            "_model_name": "HBoxModel",
            "_view_count": null,
            "_view_module": "@jupyter-widgets/controls",
            "_view_module_version": "1.5.0",
            "_view_name": "HBoxView",
            "box_style": "",
            "children": [
              "IPY_MODEL_5f503ce9344247508fbbf373d63ef239",
              "IPY_MODEL_130ae85cbebd41b6ae4799b693391d27",
              "IPY_MODEL_236f98b38335403d90109d6fd0257cf9"
            ],
            "layout": "IPY_MODEL_1c6aa1e4fc2c473db90b6a9f96b27438"
          }
        },
        "5f503ce9344247508fbbf373d63ef239": {
          "model_module": "@jupyter-widgets/controls",
          "model_name": "HTMLModel",
          "model_module_version": "1.5.0",
          "state": {
            "_dom_classes": [],
            "_model_module": "@jupyter-widgets/controls",
            "_model_module_version": "1.5.0",
            "_model_name": "HTMLModel",
            "_view_count": null,
            "_view_module": "@jupyter-widgets/controls",
            "_view_module_version": "1.5.0",
            "_view_name": "HTMLView",
            "description": "",
            "description_tooltip": null,
            "layout": "IPY_MODEL_aba961168b04464a83d98da730ca0fb5",
            "placeholder": "​",
            "style": "IPY_MODEL_6a0528c56cfc476bb44490a79189b4f0",
            "value": "Downloading: 100%"
          }
        },
        "130ae85cbebd41b6ae4799b693391d27": {
          "model_module": "@jupyter-widgets/controls",
          "model_name": "FloatProgressModel",
          "model_module_version": "1.5.0",
          "state": {
            "_dom_classes": [],
            "_model_module": "@jupyter-widgets/controls",
            "_model_module_version": "1.5.0",
            "_model_name": "FloatProgressModel",
            "_view_count": null,
            "_view_module": "@jupyter-widgets/controls",
            "_view_module_version": "1.5.0",
            "_view_name": "ProgressView",
            "bar_style": "success",
            "description": "",
            "description_tooltip": null,
            "layout": "IPY_MODEL_b64619c0b8e9491ea6aea88285f3c8e8",
            "max": 625,
            "min": 0,
            "orientation": "horizontal",
            "style": "IPY_MODEL_c035b3f0da8c4864919b26217d45ad14",
            "value": 625
          }
        },
        "236f98b38335403d90109d6fd0257cf9": {
          "model_module": "@jupyter-widgets/controls",
          "model_name": "HTMLModel",
          "model_module_version": "1.5.0",
          "state": {
            "_dom_classes": [],
            "_model_module": "@jupyter-widgets/controls",
            "_model_module_version": "1.5.0",
            "_model_name": "HTMLModel",
            "_view_count": null,
            "_view_module": "@jupyter-widgets/controls",
            "_view_module_version": "1.5.0",
            "_view_name": "HTMLView",
            "description": "",
            "description_tooltip": null,
            "layout": "IPY_MODEL_9778ab664ebd4ed9af7bd9d5a397cd3e",
            "placeholder": "​",
            "style": "IPY_MODEL_b9fdb537c44944a3b607b998205797f5",
            "value": " 625/625 [00:00&lt;00:00, 19.1kB/s]"
          }
        },
        "1c6aa1e4fc2c473db90b6a9f96b27438": {
          "model_module": "@jupyter-widgets/base",
          "model_name": "LayoutModel",
          "model_module_version": "1.2.0",
          "state": {
            "_model_module": "@jupyter-widgets/base",
            "_model_module_version": "1.2.0",
            "_model_name": "LayoutModel",
            "_view_count": null,
            "_view_module": "@jupyter-widgets/base",
            "_view_module_version": "1.2.0",
            "_view_name": "LayoutView",
            "align_content": null,
            "align_items": null,
            "align_self": null,
            "border": null,
            "bottom": null,
            "display": null,
            "flex": null,
            "flex_flow": null,
            "grid_area": null,
            "grid_auto_columns": null,
            "grid_auto_flow": null,
            "grid_auto_rows": null,
            "grid_column": null,
            "grid_gap": null,
            "grid_row": null,
            "grid_template_areas": null,
            "grid_template_columns": null,
            "grid_template_rows": null,
            "height": null,
            "justify_content": null,
            "justify_items": null,
            "left": null,
            "margin": null,
            "max_height": null,
            "max_width": null,
            "min_height": null,
            "min_width": null,
            "object_fit": null,
            "object_position": null,
            "order": null,
            "overflow": null,
            "overflow_x": null,
            "overflow_y": null,
            "padding": null,
            "right": null,
            "top": null,
            "visibility": null,
            "width": null
          }
        },
        "aba961168b04464a83d98da730ca0fb5": {
          "model_module": "@jupyter-widgets/base",
          "model_name": "LayoutModel",
          "model_module_version": "1.2.0",
          "state": {
            "_model_module": "@jupyter-widgets/base",
            "_model_module_version": "1.2.0",
            "_model_name": "LayoutModel",
            "_view_count": null,
            "_view_module": "@jupyter-widgets/base",
            "_view_module_version": "1.2.0",
            "_view_name": "LayoutView",
            "align_content": null,
            "align_items": null,
            "align_self": null,
            "border": null,
            "bottom": null,
            "display": null,
            "flex": null,
            "flex_flow": null,
            "grid_area": null,
            "grid_auto_columns": null,
            "grid_auto_flow": null,
            "grid_auto_rows": null,
            "grid_column": null,
            "grid_gap": null,
            "grid_row": null,
            "grid_template_areas": null,
            "grid_template_columns": null,
            "grid_template_rows": null,
            "height": null,
            "justify_content": null,
            "justify_items": null,
            "left": null,
            "margin": null,
            "max_height": null,
            "max_width": null,
            "min_height": null,
            "min_width": null,
            "object_fit": null,
            "object_position": null,
            "order": null,
            "overflow": null,
            "overflow_x": null,
            "overflow_y": null,
            "padding": null,
            "right": null,
            "top": null,
            "visibility": null,
            "width": null
          }
        },
        "6a0528c56cfc476bb44490a79189b4f0": {
          "model_module": "@jupyter-widgets/controls",
          "model_name": "DescriptionStyleModel",
          "model_module_version": "1.5.0",
          "state": {
            "_model_module": "@jupyter-widgets/controls",
            "_model_module_version": "1.5.0",
            "_model_name": "DescriptionStyleModel",
            "_view_count": null,
            "_view_module": "@jupyter-widgets/base",
            "_view_module_version": "1.2.0",
            "_view_name": "StyleView",
            "description_width": ""
          }
        },
        "b64619c0b8e9491ea6aea88285f3c8e8": {
          "model_module": "@jupyter-widgets/base",
          "model_name": "LayoutModel",
          "model_module_version": "1.2.0",
          "state": {
            "_model_module": "@jupyter-widgets/base",
            "_model_module_version": "1.2.0",
            "_model_name": "LayoutModel",
            "_view_count": null,
            "_view_module": "@jupyter-widgets/base",
            "_view_module_version": "1.2.0",
            "_view_name": "LayoutView",
            "align_content": null,
            "align_items": null,
            "align_self": null,
            "border": null,
            "bottom": null,
            "display": null,
            "flex": null,
            "flex_flow": null,
            "grid_area": null,
            "grid_auto_columns": null,
            "grid_auto_flow": null,
            "grid_auto_rows": null,
            "grid_column": null,
            "grid_gap": null,
            "grid_row": null,
            "grid_template_areas": null,
            "grid_template_columns": null,
            "grid_template_rows": null,
            "height": null,
            "justify_content": null,
            "justify_items": null,
            "left": null,
            "margin": null,
            "max_height": null,
            "max_width": null,
            "min_height": null,
            "min_width": null,
            "object_fit": null,
            "object_position": null,
            "order": null,
            "overflow": null,
            "overflow_x": null,
            "overflow_y": null,
            "padding": null,
            "right": null,
            "top": null,
            "visibility": null,
            "width": null
          }
        },
        "c035b3f0da8c4864919b26217d45ad14": {
          "model_module": "@jupyter-widgets/controls",
          "model_name": "ProgressStyleModel",
          "model_module_version": "1.5.0",
          "state": {
            "_model_module": "@jupyter-widgets/controls",
            "_model_module_version": "1.5.0",
            "_model_name": "ProgressStyleModel",
            "_view_count": null,
            "_view_module": "@jupyter-widgets/base",
            "_view_module_version": "1.2.0",
            "_view_name": "StyleView",
            "bar_color": null,
            "description_width": ""
          }
        },
        "9778ab664ebd4ed9af7bd9d5a397cd3e": {
          "model_module": "@jupyter-widgets/base",
          "model_name": "LayoutModel",
          "model_module_version": "1.2.0",
          "state": {
            "_model_module": "@jupyter-widgets/base",
            "_model_module_version": "1.2.0",
            "_model_name": "LayoutModel",
            "_view_count": null,
            "_view_module": "@jupyter-widgets/base",
            "_view_module_version": "1.2.0",
            "_view_name": "LayoutView",
            "align_content": null,
            "align_items": null,
            "align_self": null,
            "border": null,
            "bottom": null,
            "display": null,
            "flex": null,
            "flex_flow": null,
            "grid_area": null,
            "grid_auto_columns": null,
            "grid_auto_flow": null,
            "grid_auto_rows": null,
            "grid_column": null,
            "grid_gap": null,
            "grid_row": null,
            "grid_template_areas": null,
            "grid_template_columns": null,
            "grid_template_rows": null,
            "height": null,
            "justify_content": null,
            "justify_items": null,
            "left": null,
            "margin": null,
            "max_height": null,
            "max_width": null,
            "min_height": null,
            "min_width": null,
            "object_fit": null,
            "object_position": null,
            "order": null,
            "overflow": null,
            "overflow_x": null,
            "overflow_y": null,
            "padding": null,
            "right": null,
            "top": null,
            "visibility": null,
            "width": null
          }
        },
        "b9fdb537c44944a3b607b998205797f5": {
          "model_module": "@jupyter-widgets/controls",
          "model_name": "DescriptionStyleModel",
          "model_module_version": "1.5.0",
          "state": {
            "_model_module": "@jupyter-widgets/controls",
            "_model_module_version": "1.5.0",
            "_model_name": "DescriptionStyleModel",
            "_view_count": null,
            "_view_module": "@jupyter-widgets/base",
            "_view_module_version": "1.2.0",
            "_view_name": "StyleView",
            "description_width": ""
          }
        },
        "538f2bb10c08469f8e7a9935128f18c2": {
          "model_module": "@jupyter-widgets/controls",
          "model_name": "HBoxModel",
          "model_module_version": "1.5.0",
          "state": {
            "_dom_classes": [],
            "_model_module": "@jupyter-widgets/controls",
            "_model_module_version": "1.5.0",
            "_model_name": "HBoxModel",
            "_view_count": null,
            "_view_module": "@jupyter-widgets/controls",
            "_view_module_version": "1.5.0",
            "_view_name": "HBoxView",
            "box_style": "",
            "children": [
              "IPY_MODEL_5200a901598d452da988673bfc93e823",
              "IPY_MODEL_86697232350b45ae8bfc7ebb05284adf",
              "IPY_MODEL_d2c6a1f6ce9648c7b0ea6531c139bd0e"
            ],
            "layout": "IPY_MODEL_c8540b408a4145aea1ced7e552553809"
          }
        },
        "5200a901598d452da988673bfc93e823": {
          "model_module": "@jupyter-widgets/controls",
          "model_name": "HTMLModel",
          "model_module_version": "1.5.0",
          "state": {
            "_dom_classes": [],
            "_model_module": "@jupyter-widgets/controls",
            "_model_module_version": "1.5.0",
            "_model_name": "HTMLModel",
            "_view_count": null,
            "_view_module": "@jupyter-widgets/controls",
            "_view_module_version": "1.5.0",
            "_view_name": "HTMLView",
            "description": "",
            "description_tooltip": null,
            "layout": "IPY_MODEL_3cf82388d2634c0f8ca3db8eb0eb2f23",
            "placeholder": "​",
            "style": "IPY_MODEL_1a9ae06536844de1831f18493679869a",
            "value": "Downloading: 100%"
          }
        },
        "86697232350b45ae8bfc7ebb05284adf": {
          "model_module": "@jupyter-widgets/controls",
          "model_name": "FloatProgressModel",
          "model_module_version": "1.5.0",
          "state": {
            "_dom_classes": [],
            "_model_module": "@jupyter-widgets/controls",
            "_model_module_version": "1.5.0",
            "_model_name": "FloatProgressModel",
            "_view_count": null,
            "_view_module": "@jupyter-widgets/controls",
            "_view_module_version": "1.5.0",
            "_view_name": "ProgressView",
            "bar_style": "success",
            "description": "",
            "description_tooltip": null,
            "layout": "IPY_MODEL_34415ec63a284cd394a236f4c8e11ace",
            "max": 995526,
            "min": 0,
            "orientation": "horizontal",
            "style": "IPY_MODEL_afcc23ee0d1e4be7981075adee91cd65",
            "value": 995526
          }
        },
        "d2c6a1f6ce9648c7b0ea6531c139bd0e": {
          "model_module": "@jupyter-widgets/controls",
          "model_name": "HTMLModel",
          "model_module_version": "1.5.0",
          "state": {
            "_dom_classes": [],
            "_model_module": "@jupyter-widgets/controls",
            "_model_module_version": "1.5.0",
            "_model_name": "HTMLModel",
            "_view_count": null,
            "_view_module": "@jupyter-widgets/controls",
            "_view_module_version": "1.5.0",
            "_view_name": "HTMLView",
            "description": "",
            "description_tooltip": null,
            "layout": "IPY_MODEL_5652d366276b4840be7ce76b274480e0",
            "placeholder": "​",
            "style": "IPY_MODEL_1d9a2e8dd9584e8eafb76a00702226b8",
            "value": " 972k/972k [00:00&lt;00:00, 2.61MB/s]"
          }
        },
        "c8540b408a4145aea1ced7e552553809": {
          "model_module": "@jupyter-widgets/base",
          "model_name": "LayoutModel",
          "model_module_version": "1.2.0",
          "state": {
            "_model_module": "@jupyter-widgets/base",
            "_model_module_version": "1.2.0",
            "_model_name": "LayoutModel",
            "_view_count": null,
            "_view_module": "@jupyter-widgets/base",
            "_view_module_version": "1.2.0",
            "_view_name": "LayoutView",
            "align_content": null,
            "align_items": null,
            "align_self": null,
            "border": null,
            "bottom": null,
            "display": null,
            "flex": null,
            "flex_flow": null,
            "grid_area": null,
            "grid_auto_columns": null,
            "grid_auto_flow": null,
            "grid_auto_rows": null,
            "grid_column": null,
            "grid_gap": null,
            "grid_row": null,
            "grid_template_areas": null,
            "grid_template_columns": null,
            "grid_template_rows": null,
            "height": null,
            "justify_content": null,
            "justify_items": null,
            "left": null,
            "margin": null,
            "max_height": null,
            "max_width": null,
            "min_height": null,
            "min_width": null,
            "object_fit": null,
            "object_position": null,
            "order": null,
            "overflow": null,
            "overflow_x": null,
            "overflow_y": null,
            "padding": null,
            "right": null,
            "top": null,
            "visibility": null,
            "width": null
          }
        },
        "3cf82388d2634c0f8ca3db8eb0eb2f23": {
          "model_module": "@jupyter-widgets/base",
          "model_name": "LayoutModel",
          "model_module_version": "1.2.0",
          "state": {
            "_model_module": "@jupyter-widgets/base",
            "_model_module_version": "1.2.0",
            "_model_name": "LayoutModel",
            "_view_count": null,
            "_view_module": "@jupyter-widgets/base",
            "_view_module_version": "1.2.0",
            "_view_name": "LayoutView",
            "align_content": null,
            "align_items": null,
            "align_self": null,
            "border": null,
            "bottom": null,
            "display": null,
            "flex": null,
            "flex_flow": null,
            "grid_area": null,
            "grid_auto_columns": null,
            "grid_auto_flow": null,
            "grid_auto_rows": null,
            "grid_column": null,
            "grid_gap": null,
            "grid_row": null,
            "grid_template_areas": null,
            "grid_template_columns": null,
            "grid_template_rows": null,
            "height": null,
            "justify_content": null,
            "justify_items": null,
            "left": null,
            "margin": null,
            "max_height": null,
            "max_width": null,
            "min_height": null,
            "min_width": null,
            "object_fit": null,
            "object_position": null,
            "order": null,
            "overflow": null,
            "overflow_x": null,
            "overflow_y": null,
            "padding": null,
            "right": null,
            "top": null,
            "visibility": null,
            "width": null
          }
        },
        "1a9ae06536844de1831f18493679869a": {
          "model_module": "@jupyter-widgets/controls",
          "model_name": "DescriptionStyleModel",
          "model_module_version": "1.5.0",
          "state": {
            "_model_module": "@jupyter-widgets/controls",
            "_model_module_version": "1.5.0",
            "_model_name": "DescriptionStyleModel",
            "_view_count": null,
            "_view_module": "@jupyter-widgets/base",
            "_view_module_version": "1.2.0",
            "_view_name": "StyleView",
            "description_width": ""
          }
        },
        "34415ec63a284cd394a236f4c8e11ace": {
          "model_module": "@jupyter-widgets/base",
          "model_name": "LayoutModel",
          "model_module_version": "1.2.0",
          "state": {
            "_model_module": "@jupyter-widgets/base",
            "_model_module_version": "1.2.0",
            "_model_name": "LayoutModel",
            "_view_count": null,
            "_view_module": "@jupyter-widgets/base",
            "_view_module_version": "1.2.0",
            "_view_name": "LayoutView",
            "align_content": null,
            "align_items": null,
            "align_self": null,
            "border": null,
            "bottom": null,
            "display": null,
            "flex": null,
            "flex_flow": null,
            "grid_area": null,
            "grid_auto_columns": null,
            "grid_auto_flow": null,
            "grid_auto_rows": null,
            "grid_column": null,
            "grid_gap": null,
            "grid_row": null,
            "grid_template_areas": null,
            "grid_template_columns": null,
            "grid_template_rows": null,
            "height": null,
            "justify_content": null,
            "justify_items": null,
            "left": null,
            "margin": null,
            "max_height": null,
            "max_width": null,
            "min_height": null,
            "min_width": null,
            "object_fit": null,
            "object_position": null,
            "order": null,
            "overflow": null,
            "overflow_x": null,
            "overflow_y": null,
            "padding": null,
            "right": null,
            "top": null,
            "visibility": null,
            "width": null
          }
        },
        "afcc23ee0d1e4be7981075adee91cd65": {
          "model_module": "@jupyter-widgets/controls",
          "model_name": "ProgressStyleModel",
          "model_module_version": "1.5.0",
          "state": {
            "_model_module": "@jupyter-widgets/controls",
            "_model_module_version": "1.5.0",
            "_model_name": "ProgressStyleModel",
            "_view_count": null,
            "_view_module": "@jupyter-widgets/base",
            "_view_module_version": "1.2.0",
            "_view_name": "StyleView",
            "bar_color": null,
            "description_width": ""
          }
        },
        "5652d366276b4840be7ce76b274480e0": {
          "model_module": "@jupyter-widgets/base",
          "model_name": "LayoutModel",
          "model_module_version": "1.2.0",
          "state": {
            "_model_module": "@jupyter-widgets/base",
            "_model_module_version": "1.2.0",
            "_model_name": "LayoutModel",
            "_view_count": null,
            "_view_module": "@jupyter-widgets/base",
            "_view_module_version": "1.2.0",
            "_view_name": "LayoutView",
            "align_content": null,
            "align_items": null,
            "align_self": null,
            "border": null,
            "bottom": null,
            "display": null,
            "flex": null,
            "flex_flow": null,
            "grid_area": null,
            "grid_auto_columns": null,
            "grid_auto_flow": null,
            "grid_auto_rows": null,
            "grid_column": null,
            "grid_gap": null,
            "grid_row": null,
            "grid_template_areas": null,
            "grid_template_columns": null,
            "grid_template_rows": null,
            "height": null,
            "justify_content": null,
            "justify_items": null,
            "left": null,
            "margin": null,
            "max_height": null,
            "max_width": null,
            "min_height": null,
            "min_width": null,
            "object_fit": null,
            "object_position": null,
            "order": null,
            "overflow": null,
            "overflow_x": null,
            "overflow_y": null,
            "padding": null,
            "right": null,
            "top": null,
            "visibility": null,
            "width": null
          }
        },
        "1d9a2e8dd9584e8eafb76a00702226b8": {
          "model_module": "@jupyter-widgets/controls",
          "model_name": "DescriptionStyleModel",
          "model_module_version": "1.5.0",
          "state": {
            "_model_module": "@jupyter-widgets/controls",
            "_model_module_version": "1.5.0",
            "_model_name": "DescriptionStyleModel",
            "_view_count": null,
            "_view_module": "@jupyter-widgets/base",
            "_view_module_version": "1.2.0",
            "_view_name": "StyleView",
            "description_width": ""
          }
        },
        "4a9a0654a77246b89fec4e481c7c2282": {
          "model_module": "@jupyter-widgets/controls",
          "model_name": "HBoxModel",
          "model_module_version": "1.5.0",
          "state": {
            "_dom_classes": [],
            "_model_module": "@jupyter-widgets/controls",
            "_model_module_version": "1.5.0",
            "_model_name": "HBoxModel",
            "_view_count": null,
            "_view_module": "@jupyter-widgets/controls",
            "_view_module_version": "1.5.0",
            "_view_name": "HBoxView",
            "box_style": "",
            "children": [
              "IPY_MODEL_d09151f34c0a4ea4bbd56a4d57cca355",
              "IPY_MODEL_8b65ca3979834379ac7ae56117610de5",
              "IPY_MODEL_6793ee925c07496fababcd207e49e4a0"
            ],
            "layout": "IPY_MODEL_0692c28bd242449b8faff805b375f620"
          }
        },
        "d09151f34c0a4ea4bbd56a4d57cca355": {
          "model_module": "@jupyter-widgets/controls",
          "model_name": "HTMLModel",
          "model_module_version": "1.5.0",
          "state": {
            "_dom_classes": [],
            "_model_module": "@jupyter-widgets/controls",
            "_model_module_version": "1.5.0",
            "_model_name": "HTMLModel",
            "_view_count": null,
            "_view_module": "@jupyter-widgets/controls",
            "_view_module_version": "1.5.0",
            "_view_name": "HTMLView",
            "description": "",
            "description_tooltip": null,
            "layout": "IPY_MODEL_2785bb7b52e5477e978d8834576b080b",
            "placeholder": "​",
            "style": "IPY_MODEL_646d5e3dcf6841c0ac7a0b8bb64d3c89",
            "value": "Downloading: 100%"
          }
        },
        "8b65ca3979834379ac7ae56117610de5": {
          "model_module": "@jupyter-widgets/controls",
          "model_name": "FloatProgressModel",
          "model_module_version": "1.5.0",
          "state": {
            "_dom_classes": [],
            "_model_module": "@jupyter-widgets/controls",
            "_model_module_version": "1.5.0",
            "_model_name": "FloatProgressModel",
            "_view_count": null,
            "_view_module": "@jupyter-widgets/controls",
            "_view_module_version": "1.5.0",
            "_view_name": "ProgressView",
            "bar_style": "success",
            "description": "",
            "description_tooltip": null,
            "layout": "IPY_MODEL_c15ee1e8c9874939817931a7fedb77e7",
            "max": 1961828,
            "min": 0,
            "orientation": "horizontal",
            "style": "IPY_MODEL_431df1acfe7c43b189650565d3c7149a",
            "value": 1961828
          }
        },
        "6793ee925c07496fababcd207e49e4a0": {
          "model_module": "@jupyter-widgets/controls",
          "model_name": "HTMLModel",
          "model_module_version": "1.5.0",
          "state": {
            "_dom_classes": [],
            "_model_module": "@jupyter-widgets/controls",
            "_model_module_version": "1.5.0",
            "_model_name": "HTMLModel",
            "_view_count": null,
            "_view_module": "@jupyter-widgets/controls",
            "_view_module_version": "1.5.0",
            "_view_name": "HTMLView",
            "description": "",
            "description_tooltip": null,
            "layout": "IPY_MODEL_9e5f7aa353054594b41603ee3779c1a1",
            "placeholder": "​",
            "style": "IPY_MODEL_65310b9d5ce74eb8adc25cabb64d44be",
            "value": " 1.87M/1.87M [00:00&lt;00:00, 2.94MB/s]"
          }
        },
        "0692c28bd242449b8faff805b375f620": {
          "model_module": "@jupyter-widgets/base",
          "model_name": "LayoutModel",
          "model_module_version": "1.2.0",
          "state": {
            "_model_module": "@jupyter-widgets/base",
            "_model_module_version": "1.2.0",
            "_model_name": "LayoutModel",
            "_view_count": null,
            "_view_module": "@jupyter-widgets/base",
            "_view_module_version": "1.2.0",
            "_view_name": "LayoutView",
            "align_content": null,
            "align_items": null,
            "align_self": null,
            "border": null,
            "bottom": null,
            "display": null,
            "flex": null,
            "flex_flow": null,
            "grid_area": null,
            "grid_auto_columns": null,
            "grid_auto_flow": null,
            "grid_auto_rows": null,
            "grid_column": null,
            "grid_gap": null,
            "grid_row": null,
            "grid_template_areas": null,
            "grid_template_columns": null,
            "grid_template_rows": null,
            "height": null,
            "justify_content": null,
            "justify_items": null,
            "left": null,
            "margin": null,
            "max_height": null,
            "max_width": null,
            "min_height": null,
            "min_width": null,
            "object_fit": null,
            "object_position": null,
            "order": null,
            "overflow": null,
            "overflow_x": null,
            "overflow_y": null,
            "padding": null,
            "right": null,
            "top": null,
            "visibility": null,
            "width": null
          }
        },
        "2785bb7b52e5477e978d8834576b080b": {
          "model_module": "@jupyter-widgets/base",
          "model_name": "LayoutModel",
          "model_module_version": "1.2.0",
          "state": {
            "_model_module": "@jupyter-widgets/base",
            "_model_module_version": "1.2.0",
            "_model_name": "LayoutModel",
            "_view_count": null,
            "_view_module": "@jupyter-widgets/base",
            "_view_module_version": "1.2.0",
            "_view_name": "LayoutView",
            "align_content": null,
            "align_items": null,
            "align_self": null,
            "border": null,
            "bottom": null,
            "display": null,
            "flex": null,
            "flex_flow": null,
            "grid_area": null,
            "grid_auto_columns": null,
            "grid_auto_flow": null,
            "grid_auto_rows": null,
            "grid_column": null,
            "grid_gap": null,
            "grid_row": null,
            "grid_template_areas": null,
            "grid_template_columns": null,
            "grid_template_rows": null,
            "height": null,
            "justify_content": null,
            "justify_items": null,
            "left": null,
            "margin": null,
            "max_height": null,
            "max_width": null,
            "min_height": null,
            "min_width": null,
            "object_fit": null,
            "object_position": null,
            "order": null,
            "overflow": null,
            "overflow_x": null,
            "overflow_y": null,
            "padding": null,
            "right": null,
            "top": null,
            "visibility": null,
            "width": null
          }
        },
        "646d5e3dcf6841c0ac7a0b8bb64d3c89": {
          "model_module": "@jupyter-widgets/controls",
          "model_name": "DescriptionStyleModel",
          "model_module_version": "1.5.0",
          "state": {
            "_model_module": "@jupyter-widgets/controls",
            "_model_module_version": "1.5.0",
            "_model_name": "DescriptionStyleModel",
            "_view_count": null,
            "_view_module": "@jupyter-widgets/base",
            "_view_module_version": "1.2.0",
            "_view_name": "StyleView",
            "description_width": ""
          }
        },
        "c15ee1e8c9874939817931a7fedb77e7": {
          "model_module": "@jupyter-widgets/base",
          "model_name": "LayoutModel",
          "model_module_version": "1.2.0",
          "state": {
            "_model_module": "@jupyter-widgets/base",
            "_model_module_version": "1.2.0",
            "_model_name": "LayoutModel",
            "_view_count": null,
            "_view_module": "@jupyter-widgets/base",
            "_view_module_version": "1.2.0",
            "_view_name": "LayoutView",
            "align_content": null,
            "align_items": null,
            "align_self": null,
            "border": null,
            "bottom": null,
            "display": null,
            "flex": null,
            "flex_flow": null,
            "grid_area": null,
            "grid_auto_columns": null,
            "grid_auto_flow": null,
            "grid_auto_rows": null,
            "grid_column": null,
            "grid_gap": null,
            "grid_row": null,
            "grid_template_areas": null,
            "grid_template_columns": null,
            "grid_template_rows": null,
            "height": null,
            "justify_content": null,
            "justify_items": null,
            "left": null,
            "margin": null,
            "max_height": null,
            "max_width": null,
            "min_height": null,
            "min_width": null,
            "object_fit": null,
            "object_position": null,
            "order": null,
            "overflow": null,
            "overflow_x": null,
            "overflow_y": null,
            "padding": null,
            "right": null,
            "top": null,
            "visibility": null,
            "width": null
          }
        },
        "431df1acfe7c43b189650565d3c7149a": {
          "model_module": "@jupyter-widgets/controls",
          "model_name": "ProgressStyleModel",
          "model_module_version": "1.5.0",
          "state": {
            "_model_module": "@jupyter-widgets/controls",
            "_model_module_version": "1.5.0",
            "_model_name": "ProgressStyleModel",
            "_view_count": null,
            "_view_module": "@jupyter-widgets/base",
            "_view_module_version": "1.2.0",
            "_view_name": "StyleView",
            "bar_color": null,
            "description_width": ""
          }
        },
        "9e5f7aa353054594b41603ee3779c1a1": {
          "model_module": "@jupyter-widgets/base",
          "model_name": "LayoutModel",
          "model_module_version": "1.2.0",
          "state": {
            "_model_module": "@jupyter-widgets/base",
            "_model_module_version": "1.2.0",
            "_model_name": "LayoutModel",
            "_view_count": null,
            "_view_module": "@jupyter-widgets/base",
            "_view_module_version": "1.2.0",
            "_view_name": "LayoutView",
            "align_content": null,
            "align_items": null,
            "align_self": null,
            "border": null,
            "bottom": null,
            "display": null,
            "flex": null,
            "flex_flow": null,
            "grid_area": null,
            "grid_auto_columns": null,
            "grid_auto_flow": null,
            "grid_auto_rows": null,
            "grid_column": null,
            "grid_gap": null,
            "grid_row": null,
            "grid_template_areas": null,
            "grid_template_columns": null,
            "grid_template_rows": null,
            "height": null,
            "justify_content": null,
            "justify_items": null,
            "left": null,
            "margin": null,
            "max_height": null,
            "max_width": null,
            "min_height": null,
            "min_width": null,
            "object_fit": null,
            "object_position": null,
            "order": null,
            "overflow": null,
            "overflow_x": null,
            "overflow_y": null,
            "padding": null,
            "right": null,
            "top": null,
            "visibility": null,
            "width": null
          }
        },
        "65310b9d5ce74eb8adc25cabb64d44be": {
          "model_module": "@jupyter-widgets/controls",
          "model_name": "DescriptionStyleModel",
          "model_module_version": "1.5.0",
          "state": {
            "_model_module": "@jupyter-widgets/controls",
            "_model_module_version": "1.5.0",
            "_model_name": "DescriptionStyleModel",
            "_view_count": null,
            "_view_module": "@jupyter-widgets/base",
            "_view_module_version": "1.2.0",
            "_view_name": "StyleView",
            "description_width": ""
          }
        },
        "45fc8488d2284e9f89a65ea9b2e9ab8d": {
          "model_module": "@jupyter-widgets/controls",
          "model_name": "HBoxModel",
          "model_module_version": "1.5.0",
          "state": {
            "_dom_classes": [],
            "_model_module": "@jupyter-widgets/controls",
            "_model_module_version": "1.5.0",
            "_model_name": "HBoxModel",
            "_view_count": null,
            "_view_module": "@jupyter-widgets/controls",
            "_view_module_version": "1.5.0",
            "_view_name": "HBoxView",
            "box_style": "",
            "children": [
              "IPY_MODEL_6d702b91259747f5b34b5260f5653077",
              "IPY_MODEL_2a598d09a61a4cb3a31125f50b4fed15",
              "IPY_MODEL_87bfc9e1742b4ec7a2a53a928f574ede"
            ],
            "layout": "IPY_MODEL_9c8f2860d62f41a0bc8207ad9ebc1408"
          }
        },
        "6d702b91259747f5b34b5260f5653077": {
          "model_module": "@jupyter-widgets/controls",
          "model_name": "HTMLModel",
          "model_module_version": "1.5.0",
          "state": {
            "_dom_classes": [],
            "_model_module": "@jupyter-widgets/controls",
            "_model_module_version": "1.5.0",
            "_model_name": "HTMLModel",
            "_view_count": null,
            "_view_module": "@jupyter-widgets/controls",
            "_view_module_version": "1.5.0",
            "_view_name": "HTMLView",
            "description": "",
            "description_tooltip": null,
            "layout": "IPY_MODEL_3f559029638346d4a3912789b5501991",
            "placeholder": "​",
            "style": "IPY_MODEL_aabf8dd58b4147ff95060d567a343151",
            "value": "Downloading: 100%"
          }
        },
        "2a598d09a61a4cb3a31125f50b4fed15": {
          "model_module": "@jupyter-widgets/controls",
          "model_name": "FloatProgressModel",
          "model_module_version": "1.5.0",
          "state": {
            "_dom_classes": [],
            "_model_module": "@jupyter-widgets/controls",
            "_model_module_version": "1.5.0",
            "_model_name": "FloatProgressModel",
            "_view_count": null,
            "_view_module": "@jupyter-widgets/controls",
            "_view_module_version": "1.5.0",
            "_view_name": "ProgressView",
            "bar_style": "success",
            "description": "",
            "description_tooltip": null,
            "layout": "IPY_MODEL_3a2544ada3144439adc5c147a1cecdd7",
            "max": 714314041,
            "min": 0,
            "orientation": "horizontal",
            "style": "IPY_MODEL_fbb2cc4828da4ac188f8bdf17a9dc5ba",
            "value": 714314041
          }
        },
        "87bfc9e1742b4ec7a2a53a928f574ede": {
          "model_module": "@jupyter-widgets/controls",
          "model_name": "HTMLModel",
          "model_module_version": "1.5.0",
          "state": {
            "_dom_classes": [],
            "_model_module": "@jupyter-widgets/controls",
            "_model_module_version": "1.5.0",
            "_model_name": "HTMLModel",
            "_view_count": null,
            "_view_module": "@jupyter-widgets/controls",
            "_view_module_version": "1.5.0",
            "_view_name": "HTMLView",
            "description": "",
            "description_tooltip": null,
            "layout": "IPY_MODEL_567d441750a2419083c7a0a9de3f8959",
            "placeholder": "​",
            "style": "IPY_MODEL_f3b86f152d604d1399e7c53a5e16772e",
            "value": " 681M/681M [00:13&lt;00:00, 54.9MB/s]"
          }
        },
        "9c8f2860d62f41a0bc8207ad9ebc1408": {
          "model_module": "@jupyter-widgets/base",
          "model_name": "LayoutModel",
          "model_module_version": "1.2.0",
          "state": {
            "_model_module": "@jupyter-widgets/base",
            "_model_module_version": "1.2.0",
            "_model_name": "LayoutModel",
            "_view_count": null,
            "_view_module": "@jupyter-widgets/base",
            "_view_module_version": "1.2.0",
            "_view_name": "LayoutView",
            "align_content": null,
            "align_items": null,
            "align_self": null,
            "border": null,
            "bottom": null,
            "display": null,
            "flex": null,
            "flex_flow": null,
            "grid_area": null,
            "grid_auto_columns": null,
            "grid_auto_flow": null,
            "grid_auto_rows": null,
            "grid_column": null,
            "grid_gap": null,
            "grid_row": null,
            "grid_template_areas": null,
            "grid_template_columns": null,
            "grid_template_rows": null,
            "height": null,
            "justify_content": null,
            "justify_items": null,
            "left": null,
            "margin": null,
            "max_height": null,
            "max_width": null,
            "min_height": null,
            "min_width": null,
            "object_fit": null,
            "object_position": null,
            "order": null,
            "overflow": null,
            "overflow_x": null,
            "overflow_y": null,
            "padding": null,
            "right": null,
            "top": null,
            "visibility": null,
            "width": null
          }
        },
        "3f559029638346d4a3912789b5501991": {
          "model_module": "@jupyter-widgets/base",
          "model_name": "LayoutModel",
          "model_module_version": "1.2.0",
          "state": {
            "_model_module": "@jupyter-widgets/base",
            "_model_module_version": "1.2.0",
            "_model_name": "LayoutModel",
            "_view_count": null,
            "_view_module": "@jupyter-widgets/base",
            "_view_module_version": "1.2.0",
            "_view_name": "LayoutView",
            "align_content": null,
            "align_items": null,
            "align_self": null,
            "border": null,
            "bottom": null,
            "display": null,
            "flex": null,
            "flex_flow": null,
            "grid_area": null,
            "grid_auto_columns": null,
            "grid_auto_flow": null,
            "grid_auto_rows": null,
            "grid_column": null,
            "grid_gap": null,
            "grid_row": null,
            "grid_template_areas": null,
            "grid_template_columns": null,
            "grid_template_rows": null,
            "height": null,
            "justify_content": null,
            "justify_items": null,
            "left": null,
            "margin": null,
            "max_height": null,
            "max_width": null,
            "min_height": null,
            "min_width": null,
            "object_fit": null,
            "object_position": null,
            "order": null,
            "overflow": null,
            "overflow_x": null,
            "overflow_y": null,
            "padding": null,
            "right": null,
            "top": null,
            "visibility": null,
            "width": null
          }
        },
        "aabf8dd58b4147ff95060d567a343151": {
          "model_module": "@jupyter-widgets/controls",
          "model_name": "DescriptionStyleModel",
          "model_module_version": "1.5.0",
          "state": {
            "_model_module": "@jupyter-widgets/controls",
            "_model_module_version": "1.5.0",
            "_model_name": "DescriptionStyleModel",
            "_view_count": null,
            "_view_module": "@jupyter-widgets/base",
            "_view_module_version": "1.2.0",
            "_view_name": "StyleView",
            "description_width": ""
          }
        },
        "3a2544ada3144439adc5c147a1cecdd7": {
          "model_module": "@jupyter-widgets/base",
          "model_name": "LayoutModel",
          "model_module_version": "1.2.0",
          "state": {
            "_model_module": "@jupyter-widgets/base",
            "_model_module_version": "1.2.0",
            "_model_name": "LayoutModel",
            "_view_count": null,
            "_view_module": "@jupyter-widgets/base",
            "_view_module_version": "1.2.0",
            "_view_name": "LayoutView",
            "align_content": null,
            "align_items": null,
            "align_self": null,
            "border": null,
            "bottom": null,
            "display": null,
            "flex": null,
            "flex_flow": null,
            "grid_area": null,
            "grid_auto_columns": null,
            "grid_auto_flow": null,
            "grid_auto_rows": null,
            "grid_column": null,
            "grid_gap": null,
            "grid_row": null,
            "grid_template_areas": null,
            "grid_template_columns": null,
            "grid_template_rows": null,
            "height": null,
            "justify_content": null,
            "justify_items": null,
            "left": null,
            "margin": null,
            "max_height": null,
            "max_width": null,
            "min_height": null,
            "min_width": null,
            "object_fit": null,
            "object_position": null,
            "order": null,
            "overflow": null,
            "overflow_x": null,
            "overflow_y": null,
            "padding": null,
            "right": null,
            "top": null,
            "visibility": null,
            "width": null
          }
        },
        "fbb2cc4828da4ac188f8bdf17a9dc5ba": {
          "model_module": "@jupyter-widgets/controls",
          "model_name": "ProgressStyleModel",
          "model_module_version": "1.5.0",
          "state": {
            "_model_module": "@jupyter-widgets/controls",
            "_model_module_version": "1.5.0",
            "_model_name": "ProgressStyleModel",
            "_view_count": null,
            "_view_module": "@jupyter-widgets/base",
            "_view_module_version": "1.2.0",
            "_view_name": "StyleView",
            "bar_color": null,
            "description_width": ""
          }
        },
        "567d441750a2419083c7a0a9de3f8959": {
          "model_module": "@jupyter-widgets/base",
          "model_name": "LayoutModel",
          "model_module_version": "1.2.0",
          "state": {
            "_model_module": "@jupyter-widgets/base",
            "_model_module_version": "1.2.0",
            "_model_name": "LayoutModel",
            "_view_count": null,
            "_view_module": "@jupyter-widgets/base",
            "_view_module_version": "1.2.0",
            "_view_name": "LayoutView",
            "align_content": null,
            "align_items": null,
            "align_self": null,
            "border": null,
            "bottom": null,
            "display": null,
            "flex": null,
            "flex_flow": null,
            "grid_area": null,
            "grid_auto_columns": null,
            "grid_auto_flow": null,
            "grid_auto_rows": null,
            "grid_column": null,
            "grid_gap": null,
            "grid_row": null,
            "grid_template_areas": null,
            "grid_template_columns": null,
            "grid_template_rows": null,
            "height": null,
            "justify_content": null,
            "justify_items": null,
            "left": null,
            "margin": null,
            "max_height": null,
            "max_width": null,
            "min_height": null,
            "min_width": null,
            "object_fit": null,
            "object_position": null,
            "order": null,
            "overflow": null,
            "overflow_x": null,
            "overflow_y": null,
            "padding": null,
            "right": null,
            "top": null,
            "visibility": null,
            "width": null
          }
        },
        "f3b86f152d604d1399e7c53a5e16772e": {
          "model_module": "@jupyter-widgets/controls",
          "model_name": "DescriptionStyleModel",
          "model_module_version": "1.5.0",
          "state": {
            "_model_module": "@jupyter-widgets/controls",
            "_model_module_version": "1.5.0",
            "_model_name": "DescriptionStyleModel",
            "_view_count": null,
            "_view_module": "@jupyter-widgets/base",
            "_view_module_version": "1.2.0",
            "_view_name": "StyleView",
            "description_width": ""
          }
        }
      }
    }
  },
  "nbformat": 4,
  "nbformat_minor": 0
}