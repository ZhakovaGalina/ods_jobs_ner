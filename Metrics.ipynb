{
  "nbformat": 4,
  "nbformat_minor": 0,
  "metadata": {
    "colab": {
      "name": "Metrics.ipynb",
      "provenance": []
    },
    "kernelspec": {
      "name": "python3",
      "display_name": "Python 3"
    },
    "language_info": {
      "name": "python"
    }
  },
  "cells": [
    {
      "cell_type": "code",
      "execution_count": 1,
      "metadata": {
        "id": "KPTrDCr9YF4X",
        "colab": {
          "base_uri": "https://localhost:8080/"
        },
        "outputId": "5fd591af-9f3c-4703-83ac-03845591ff51"
      },
      "outputs": [
        {
          "output_type": "stream",
          "name": "stdout",
          "text": [
            "Drive already mounted at /content/drive; to attempt to forcibly remount, call drive.mount(\"/content/drive\", force_remount=True).\n"
          ]
        }
      ],
      "source": [
        "from google.colab import drive\n",
        "drive.mount('/content/drive')"
      ]
    },
    {
      "cell_type": "code",
      "source": [
        "import pandas as pd\n",
        "import numpy as np"
      ],
      "metadata": {
        "id": "zc_UFWwUYheF"
      },
      "execution_count": 2,
      "outputs": []
    },
    {
      "cell_type": "code",
      "source": [
        "#!change the root path\n",
        "root_path='/content/drive/MyDrive/nlp/project/github'"
      ],
      "metadata": {
        "id": "8_FuERYRaJas"
      },
      "execution_count": 3,
      "outputs": []
    },
    {
      "cell_type": "code",
      "source": [
        "df_result=pd.read_csv(root_path+'/data/model_result.csv')"
      ],
      "metadata": {
        "id": "jBWqYITdZT9t"
      },
      "execution_count": 4,
      "outputs": []
    },
    {
      "cell_type": "code",
      "source": [
        "df_job_title_true=pd.read_csv(root_path+'/data/job_title_true.csv')"
      ],
      "metadata": {
        "id": "XXIeW4r8Z1XY"
      },
      "execution_count": 5,
      "outputs": []
    },
    {
      "cell_type": "code",
      "source": [
        "df_level_true=pd.read_csv(root_path+'/data/level_true.csv')"
      ],
      "metadata": {
        "id": "AvJ8EhcHazzf"
      },
      "execution_count": 6,
      "outputs": []
    },
    {
      "cell_type": "code",
      "source": [
        "df_other_results=pd.read_csv(root_path+'/data/yargy_and_reg_ex_result.csv')"
      ],
      "metadata": {
        "id": "RalFxUoMa5qp"
      },
      "execution_count": 7,
      "outputs": []
    },
    {
      "cell_type": "code",
      "source": [
        "df=pd.merge(df_result,df_job_title_true,how='inner',left_on='Id',right_on='Id')\n",
        "df=pd.merge(df,df_level_true,how='inner',left_on='Id',right_on='Id')\n",
        "df=pd.merge(df,df_other_results,how='inner',left_on='Id',right_on='Id')"
      ],
      "metadata": {
        "id": "_occTsWucW07"
      },
      "execution_count": 9,
      "outputs": []
    },
    {
      "cell_type": "code",
      "source": [
        "df.shape"
      ],
      "metadata": {
        "colab": {
          "base_uri": "https://localhost:8080/"
        },
        "id": "4lBdDnGBcjSz",
        "outputId": "30a6a7a4-a899-472a-d57d-cda5c03463be"
      },
      "execution_count": 10,
      "outputs": [
        {
          "output_type": "execute_result",
          "data": {
            "text/plain": [
              "(500, 89)"
            ]
          },
          "metadata": {},
          "execution_count": 10
        }
      ]
    },
    {
      "cell_type": "code",
      "source": [
        "#delete quatas\n",
        "import ast\n",
        "df['model_result'] = df['model_result'].apply(lambda x: ast.literal_eval(x))\n",
        "df['tags'] = df['tags'].apply(lambda x: ast.literal_eval(x))"
      ],
      "metadata": {
        "id": "6LCrs4fabMpL"
      },
      "execution_count": 11,
      "outputs": []
    },
    {
      "cell_type": "code",
      "source": [
        "def list_extract_f (list_of_lists):\n",
        "  return [item for i in list_of_lists for item in i]"
      ],
      "metadata": {
        "id": "MdxOzX3keEpJ"
      },
      "execution_count": 12,
      "outputs": []
    },
    {
      "cell_type": "code",
      "source": [
        "df['tags1']=df['tags'].apply(lambda x:list_extract_f(x))\n",
        "df['model_result1']= df['model_result'].apply(lambda x:list_extract_f(x[1]))"
      ],
      "metadata": {
        "id": "I6gjZC3KeJPv"
      },
      "execution_count": 13,
      "outputs": []
    },
    {
      "cell_type": "code",
      "source": [
        "from deeppavlov.metrics import fmeasure"
      ],
      "metadata": {
        "id": "dH8WhH3temFo"
      },
      "execution_count": 15,
      "outputs": []
    },
    {
      "cell_type": "code",
      "source": [
        "y_pred_test1=list_extract_f(df[df['data_grp']=='test']['tags1'].values.tolist())\n",
        "y_true_test1=list_extract_f(df[df['data_grp']=='test']['model_result1'].values.tolist())\n",
        "\n",
        "y_pred_test2=df[df['data_grp']=='test']['tags1'].values.tolist()\n",
        "y_true_test2=df[df['data_grp']=='test']['model_result1'].values.tolist()"
      ],
      "metadata": {
        "id": "1wMSRi5eeUuO"
      },
      "execution_count": 16,
      "outputs": []
    },
    {
      "cell_type": "code",
      "source": [
        "print('test_ner_f1=',fmeasure.ner_f1(y_true_test2, y_pred_test2))\n",
        "print('test_ner_token_f1=',fmeasure.ner_token_f1(y_true_test2, y_pred_test2))\n",
        "fmeasure.precision_recall_f1(y_true_test1, y_pred_test1)"
      ],
      "metadata": {
        "colab": {
          "base_uri": "https://localhost:8080/"
        },
        "id": "GwcHJ8rkeYwv",
        "outputId": "5aa50a5b-f65b-4e69-950f-f95254cd6ed1"
      },
      "execution_count": 17,
      "outputs": [
        {
          "output_type": "stream",
          "name": "stdout",
          "text": [
            "test_ner_f1= 69.12280701754386\n",
            "test_ner_token_f1= 80.3500397772474\n"
          ]
        },
        {
          "output_type": "execute_result",
          "data": {
            "text/plain": [
              "OrderedDict([('LOC',\n",
              "              OrderedDict([('precision', 72.5),\n",
              "                           ('recall', 69.04761904761905),\n",
              "                           ('f1', 70.73170731707319),\n",
              "                           ('n_pred', 40),\n",
              "                           ('n_true', 42),\n",
              "                           ('tp', 29),\n",
              "                           ('fn', 13),\n",
              "                           ('fp', 11)])),\n",
              "             ('SAL',\n",
              "              OrderedDict([('precision', 81.81818181818183),\n",
              "                           ('recall', 63.1578947368421),\n",
              "                           ('f1', 71.2871287128713),\n",
              "                           ('n_pred', 44),\n",
              "                           ('n_true', 57),\n",
              "                           ('tp', 36),\n",
              "                           ('fn', 21),\n",
              "                           ('fp', 8)])),\n",
              "             ('VAC',\n",
              "              OrderedDict([('precision', 76.28205128205127),\n",
              "                           ('recall', 63.63636363636363),\n",
              "                           ('f1', 69.38775510204081),\n",
              "                           ('n_pred', 156),\n",
              "                           ('n_true', 187),\n",
              "                           ('tp', 119),\n",
              "                           ('fn', 68),\n",
              "                           ('fp', 37)])),\n",
              "             ('WST',\n",
              "              OrderedDict([('precision', 52.0),\n",
              "                           ('recall', 68.42105263157895),\n",
              "                           ('f1', 59.090909090909086),\n",
              "                           ('n_pred', 25),\n",
              "                           ('n_true', 19),\n",
              "                           ('tp', 13),\n",
              "                           ('fn', 6),\n",
              "                           ('fp', 12)])),\n",
              "             ('__total__',\n",
              "              {'f1': 69.12280701754386,\n",
              "               'n_pred': 265,\n",
              "               'n_predicted_entities': 265,\n",
              "               'n_true': 305,\n",
              "               'n_true_entities': 305,\n",
              "               'precision': 74.33962264150944,\n",
              "               'recall': 64.59016393442623})])"
            ]
          },
          "metadata": {},
          "execution_count": 17
        }
      ]
    },
    {
      "cell_type": "code",
      "source": [
        "#tags extraction\n",
        "def trunc_tags_f(tags_list):\n",
        "  for i, lst in enumerate(tags_list):\n",
        "    for j, tag in enumerate(lst):\n",
        "      if len(tag) >1:\n",
        "        tags_list[i][j]=tag[2:]\n",
        "\n",
        "for i, item in enumerate(df['model_result']):\n",
        "  trunc_tags_f(item[1])\n",
        "\n",
        "def find_tags_in_result_f (tags_list, tag):\n",
        "  index_list=[]\n",
        "  for k, item in enumerate(tags_list[1]):\n",
        "    i=0\n",
        "    while True:\n",
        "      try:\n",
        "        j=item[i:].index(tag)+i\n",
        "        index_list.append([k,j])    \n",
        "        i=j+1\n",
        "      except:\n",
        "        break\n",
        "  word_list=[]\n",
        "  for i in index_list:\n",
        "    word_list.append(tags_list[0][i[0]][i[1]])\n",
        "  return word_list\n",
        "\n",
        "df['Vacancy_res']= np.empty((len(df), 0)).tolist()\n",
        "df['Salary_res']= np.empty((len(df), 0)).tolist()\n",
        "df['Location_res']= np.empty((len(df), 0)).tolist()\n",
        "df['WorkStyle_res']= np.empty((len(df), 0)).tolist()\n",
        "\n",
        "for i, item in enumerate(df['model_result']):\n",
        "  df.at[i,'Vacancy_res']=find_tags_in_result_f (item,'VAC')\n",
        "  df.at[i,'Salary_res']=find_tags_in_result_f (item,'SAL')\n",
        "  df.at[i,'Location_res']=find_tags_in_result_f (item,'LOC')\n",
        "  df.at[i,'WorkStyle_res']=find_tags_in_result_f (item,'WST')"
      ],
      "metadata": {
        "id": "MXLWvCv1fApa"
      },
      "execution_count": 18,
      "outputs": []
    },
    {
      "cell_type": "code",
      "source": [
        "#yargy_parser result preprocessing\n",
        "title_col=['title1','title2','title3','title4','title5','title6','title7','title8','title9','title10','title11','title12','title13','title14','title15','title16','title17']\n",
        "grade_col=['grade1','grade2','grade3','grade4','grade5','grade6','grade7','grade8','grade9','grade10','grade11','grade12','grade13','grade14','grade15','grade16','grade17','grade18']\n",
        "salary_col=['vilka1','vilka2','vilka3','vilka4','vilka5','vilka6']\n",
        "location_col=['city1', 'city2', 'city3', 'city4','city5', 'city6', 'city7',  'city8', 'city9', 'metro1', 'metro2', 'metro3', 'metro4']\n",
        "\n",
        "df['da_flg_yar'] =0\n",
        "df['ds_flg_yar'] =0\n",
        "df['de_flg_yar'] =0\n",
        "df['vac_any_flg_yar'] =0\n",
        "\n",
        "df.loc[df[title_col].eq('DA').any(1),'da_flg_yar']=1\n",
        "df.loc[df[title_col].eq('DS').any(1),'ds_flg_yar']=1\n",
        "df.loc[df[title_col].eq('DE').any(1),'de_flg_yar']=1\n",
        "df.loc[df[title_col].notnull().any(1),'vac_any_flg_yar']=1\n",
        "\n",
        "df['junior_flg_yar'] =0\n",
        "df['middle_flg_yar'] =0\n",
        "df['senior_flg_yar'] =0\n",
        "df['lead_flg_yar'] =0\n",
        "df['vac_level_any_flg_yar'] =0\n",
        "\n",
        "df.loc[df[grade_col].eq('intern').any(1),'junior_flg_yar']=1\n",
        "df.loc[df[grade_col].eq('junior').any(1),'junior_flg_yar']=1\n",
        "df.loc[df[grade_col].eq('middle').any(1),'middle_flg_yar']=1\n",
        "df.loc[df[grade_col].eq('senior').any(1),'senior_flg_yar']=1\n",
        "df.loc[df[grade_col].eq('lead').any(1),'lead_flg_yar']=1\n",
        "df.loc[df[grade_col].notnull().any(1),'vac_level_any_flg_yar']=1\n",
        "\n",
        "df['salary_any_flg_yar'] =0\n",
        "df.loc[df[grade_col].notnull().any(1),'salary_any_flg_yar']=1\n",
        "\n",
        "df['location_any_flg_yar'] =0\n",
        "df.loc[df[location_col].notnull().any(1),'location_any_flg_yar']=1\n"
      ],
      "metadata": {
        "colab": {
          "base_uri": "https://localhost:8080/"
        },
        "id": "4hJvGD2sgNEz",
        "outputId": "3dda5c2a-eae5-4677-e652-454cf58fa85a"
      },
      "execution_count": 19,
      "outputs": [
        {
          "output_type": "stream",
          "name": "stderr",
          "text": [
            "/usr/local/lib/python3.7/dist-packages/pandas/core/ops/__init__.py:1115: FutureWarning: elementwise comparison failed; returning scalar instead, but in the future will perform elementwise comparison\n",
            "  result = method(y)\n"
          ]
        }
      ]
    },
    {
      "cell_type": "code",
      "source": [
        "#reg_expr result preprocessing\n",
        "df['forks'] = df['forks'].apply(lambda x: ast.literal_eval(x))\n",
        "df['salary_reg_expr_flg']=0\n",
        "for i,item in enumerate(df['salary_reg_expr_flg']):\n",
        "  df.at[i,'salary_reg_expr_flg']= 1 if len(df.loc[i,['forks']][0])>0 else 0"
      ],
      "metadata": {
        "id": "vRabELsAhXPZ"
      },
      "execution_count": 20,
      "outputs": []
    },
    {
      "cell_type": "code",
      "source": [
        "#true result preprocessing\n",
        "df['Vacancy_true_any']=0\n",
        "for i,item in enumerate(df['Vacancy_true_any']):\n",
        " df.at[i,'Vacancy_true_any']= 1 if df.loc[i,['da_true','ds_true','de_true','other_true']].sum()>0 else 0\n",
        "\n",
        "df['vac_level_true_any']=0\n",
        "for i,item in enumerate(df['vac_level_true_any']):\n",
        " df.at[i,'vac_level_true_any']= 1 if df.loc[i,['junior_true','middle_true','senior_true','lead_true']].sum()>0 else 0"
      ],
      "metadata": {
        "id": "BaYVAS6FiShs"
      },
      "execution_count": 21,
      "outputs": []
    },
    {
      "cell_type": "code",
      "source": [
        "# model result extraction with regular expression\n",
        "import re\n",
        "\n",
        "da_ex = '(' + '|'.join(['analyst', 'аналит', 'биайщик', '\\Wbi\\W', '\\Wda\\W','Analytic']) + ')'\n",
        "ds_ex = '(' + '|'.join(['scientist', 'сай?е?нтист', 'сатанист', 'исследовател', 'researcher', '\\Wds\\W', '\\Wml\\W'\\\n",
        "                        , 'science','Computer.Vision','CV.Engineer','ML.Engineer','Research.Engineer','DL.developer','CV.developer','AI.Engineer'\n",
        "                        ,'DL.researcher','CV.researcher','распознавание.речи','ML.Инженер'\n",
        "                        , '\\Wds\\W', '\\Wдс\\W', '\\Wds\\W', '\\Wдс\\W','NLP.Engineer','Machine.Learning','\\WCV\\W','\\WNLP\\W','\\WMLE\\W','Deep.Learning','search.engineer','машин.*обуч'\n",
        "                        ,'recommender.system','компьютерному.зрен','\\WDL\\W','ai.specialist','reinforcement.*learning']) + ')'\n",
        "de_ex = '(' + '|'.join(['Data.engineer|architect|архитектор','Data.Инженер','\\Wde\\W','\\Wде\\W','D.engineer','инженер.*данн','ETL','Hadoop','DataEngineer']) + ')'\n",
        "other_ex = '(' + '|'.join(['product.manager','разработчиков.Qlik.Sense','разработчик.Python','владел','software.engineer','iOS','проект','код.ревьюер','DevOps','Python.*Developer']) + ')'\n",
        "\n",
        "df['Vacancy_res_da']=0\n",
        "df['Vacancy_res_de']=0\n",
        "df['Vacancy_res_ds']=0\n",
        "df['Vacancy_res_other']=0\n",
        "\n",
        "for i,item in enumerate(df['Vacancy_res']):\n",
        " df.at[i,'Vacancy_res_da']=1 if len(re.findall(da_ex, ' '+' '.join(item)+' ', re.IGNORECASE))>0 else 0\n",
        " df.at[i,'Vacancy_res_ds']=1 if len(re.findall(ds_ex, ' '+' '.join(item)+' ', re.IGNORECASE))>0 else 0\n",
        " df.at[i,'Vacancy_res_de']=1 if len(re.findall(de_ex, ' '+' '.join(item)+' ', re.IGNORECASE))>0 else 0\n",
        " df.at[i,'Vacancy_res_other']=1 if len(re.findall(other_ex, ' '+' '.join(item)+' ', re.IGNORECASE))>0 else 0\n",
        "\n",
        "df['Vacancy_res_any']=0\n",
        "for i,item in enumerate(df['Vacancy_res']):\n",
        " df.at[i,'Vacancy_res_any']=1 if df.loc[i,['Vacancy_res_da','Vacancy_res_ds','Vacancy_res_de','Vacancy_res_other']].sum()>0 else 0\n",
        "\n",
        "levels_dict = {\n",
        "    'junior': r'(jun|джун|начинающ|стаж[её]р)',\n",
        "    'middle': r'(mid|\\Wмидл|миддл)',\n",
        "    'senior': r'(senior|синьор|сеньор|\\Wстарш)',\n",
        "    'lead': r'(\\Wlead\\W|\\Whead\\W|\\Wлид\\W|\\Wведущ|Chief|руковод)',\n",
        "}\n",
        "\n",
        "df['Vacancy_res_junior']=0\n",
        "df['Vacancy_res_middle']=0\n",
        "df['Vacancy_res_senior']=0\n",
        "df['Vacancy_res_lead']=0\n",
        "\n",
        "for grade in levels_dict.keys():\n",
        "  for i,item in enumerate(df['Vacancy_res']):\n",
        "    #df.at[i,'Vacancy_res_'+grade]=str(re.findall(levels_dict[grade], ' '+' '.join(item)+' ', re.IGNORECASE))\n",
        "    df.at[i,'Vacancy_res_'+grade]=1 if len(re.findall(levels_dict[grade], ' '+' '.join(item)+' ', re.IGNORECASE))>0 else 0\n",
        "\n",
        "df['Salary_res_flg']=0\n",
        "df['Location_res_flg']=0\n",
        "for i,item in enumerate(df['Salary_res']):\n",
        " df.at[i,'Salary_res_flg']=1 if len( df.at[i,'Salary_res'])>0 else 0\n",
        " df.at[i,'Location_res_flg']=1 if len( df.at[i,'Location_res'])>0 else 0"
      ],
      "metadata": {
        "id": "K5L30vxcicZT"
      },
      "execution_count": 22,
      "outputs": []
    },
    {
      "cell_type": "code",
      "source": [
        "from sklearn.metrics import f1_score"
      ],
      "metadata": {
        "id": "YdjfM-JhkbPs"
      },
      "execution_count": 23,
      "outputs": []
    },
    {
      "cell_type": "code",
      "source": [
        "#job title metrics\n",
        "l_true=df[df['data_grp']=='test'][['da_true','ds_true','de_true']].values\n",
        "l_yargy=df[df['data_grp']=='test'][['da_flg_yar','ds_flg_yar','de_flg_yar']].values\n",
        "l_deep=df[df['data_grp']=='test'][['Vacancy_res_da','Vacancy_res_ds','Vacancy_res_de']].values\n",
        "l_regexpr=df[df['data_grp']=='test'][['Data Analyst', 'Data Scientist', 'Data Engineer']].values\n",
        "print('f1_ner=',f1_score(l_true, l_deep, average=None))\n",
        "print('f1_yargy=',f1_score(l_true, l_yargy, average=None))\n",
        "print('f1_reg_expr=',f1_score(l_true, l_regexpr, average=None))\n",
        "\n",
        "print('f1_ner_total=',f1_score(l_true, l_deep, average='micro'))\n",
        "print('f1_yargy_total=',f1_score(l_true, l_yargy, average='micro'))\n",
        "print('f1_reg_expr_total=',f1_score(l_true, l_regexpr, average='micro'))\n",
        "\n",
        "l_true=df[df['data_grp']=='test'][['Vacancy_true_any']].values\n",
        "l_yargy=df[df['data_grp']=='test'][['vac_any_flg_yar']].values\n",
        "l_deep=df[df['data_grp']=='test'][['Vacancy_res_any']].values\n",
        "print('f1_ner_any=',f1_score(l_true, l_deep))\n",
        "print('f1_yargy_any=',f1_score(l_true, l_yargy))\n"
      ],
      "metadata": {
        "colab": {
          "base_uri": "https://localhost:8080/"
        },
        "id": "ILMDOU_3jWfD",
        "outputId": "f8db45a8-e6a5-481e-bca9-8e0ff183b655"
      },
      "execution_count": 24,
      "outputs": [
        {
          "output_type": "stream",
          "name": "stdout",
          "text": [
            "f1_ner= [0.88888889 0.93670886 0.93333333]\n",
            "f1_yargy= [0.75       0.72463768 0.7       ]\n",
            "f1_reg_expr= [0.57142857 0.90909091 0.875     ]\n",
            "f1_ner_total= 0.9320388349514563\n",
            "f1_yargy_total= 0.7216494845360826\n",
            "f1_reg_expr_total= 0.8799999999999999\n",
            "f1_ner_any= 0.9690721649484536\n",
            "f1_yargy_any= 0.9010989010989011\n"
          ]
        }
      ]
    },
    {
      "cell_type": "code",
      "source": [
        "#job level metrics\n",
        "l_true=df[df['data_grp']=='test'][['junior_true','middle_true','senior_true','lead_true']].values\n",
        "l_yargy=df[df['data_grp']=='test'][['junior_flg_yar','middle_flg_yar','senior_flg_yar','lead_flg_yar']].values\n",
        "l_deep=df[df['data_grp']=='test'][['Vacancy_res_junior','Vacancy_res_middle','Vacancy_res_senior','Vacancy_res_lead']].values\n",
        "l_regexpr=df[df['data_grp']=='test'][['Junior', 'Middle', 'Senior','Lead']].values\n",
        "print('f1_ner=',f1_score(l_true, l_deep, average=None))\n",
        "print('f1_yargy=',f1_score(l_true, l_yargy, average=None))\n",
        "print('f1_reg_expr=',f1_score(l_true, l_regexpr, average=None))\n",
        "\n",
        "print('f1_ner_total=',f1_score(l_true, l_deep, average='micro'))\n",
        "print('f1_yargy_total=',f1_score(l_true, l_yargy, average='micro'))\n",
        "print('f1_reg_expr_total=',f1_score(l_true, l_regexpr, average='micro'))\n"
      ],
      "metadata": {
        "colab": {
          "base_uri": "https://localhost:8080/"
        },
        "id": "wRUGaOp7jf2L",
        "outputId": "16f4ab6f-c3a3-42dc-a340-f165f30c1616"
      },
      "execution_count": 25,
      "outputs": [
        {
          "output_type": "stream",
          "name": "stdout",
          "text": [
            "f1_ner= [0.875 0.95  0.95  1.   ]\n",
            "f1_yargy= [0.88888889 0.97560976 0.92682927 0.71428571]\n",
            "f1_reg_expr= [0.94736842 0.95       0.93023256 0.76923077]\n",
            "f1_ner_total= 0.9433962264150945\n",
            "f1_yargy_total= 0.912280701754386\n",
            "f1_reg_expr_total= 0.9217391304347826\n"
          ]
        }
      ]
    },
    {
      "cell_type": "code",
      "source": [
        "#salary metrics\n",
        "df[['data_grp','Salary_res_flg','salary_any_flg_yar','salary_reg_expr_flg']].groupby(by=[\"data_grp\"]).sum()/df[['data_grp','Salary_res_flg','salary_any_flg_yar','salary_reg_expr_flg']].groupby(by=[\"data_grp\"]).count()"
      ],
      "metadata": {
        "colab": {
          "base_uri": "https://localhost:8080/",
          "height": 175
        },
        "id": "x51edwdXonKf",
        "outputId": "659291bf-e1f8-46fa-dd8c-61d2253fcb73"
      },
      "execution_count": 26,
      "outputs": [
        {
          "output_type": "execute_result",
          "data": {
            "text/plain": [
              "          Salary_res_flg  salary_any_flg_yar  salary_reg_expr_flg\n",
              "data_grp                                                         \n",
              "test            0.840000            0.720000             1.000000\n",
              "train           0.920398            0.676617             0.945274\n",
              "valid           0.875000            0.687500             0.958333"
            ],
            "text/html": [
              "\n",
              "  <div id=\"df-447f84cb-6813-4d34-88ec-fd84fb4acf1c\">\n",
              "    <div class=\"colab-df-container\">\n",
              "      <div>\n",
              "<style scoped>\n",
              "    .dataframe tbody tr th:only-of-type {\n",
              "        vertical-align: middle;\n",
              "    }\n",
              "\n",
              "    .dataframe tbody tr th {\n",
              "        vertical-align: top;\n",
              "    }\n",
              "\n",
              "    .dataframe thead th {\n",
              "        text-align: right;\n",
              "    }\n",
              "</style>\n",
              "<table border=\"1\" class=\"dataframe\">\n",
              "  <thead>\n",
              "    <tr style=\"text-align: right;\">\n",
              "      <th></th>\n",
              "      <th>Salary_res_flg</th>\n",
              "      <th>salary_any_flg_yar</th>\n",
              "      <th>salary_reg_expr_flg</th>\n",
              "    </tr>\n",
              "    <tr>\n",
              "      <th>data_grp</th>\n",
              "      <th></th>\n",
              "      <th></th>\n",
              "      <th></th>\n",
              "    </tr>\n",
              "  </thead>\n",
              "  <tbody>\n",
              "    <tr>\n",
              "      <th>test</th>\n",
              "      <td>0.840000</td>\n",
              "      <td>0.720000</td>\n",
              "      <td>1.000000</td>\n",
              "    </tr>\n",
              "    <tr>\n",
              "      <th>train</th>\n",
              "      <td>0.920398</td>\n",
              "      <td>0.676617</td>\n",
              "      <td>0.945274</td>\n",
              "    </tr>\n",
              "    <tr>\n",
              "      <th>valid</th>\n",
              "      <td>0.875000</td>\n",
              "      <td>0.687500</td>\n",
              "      <td>0.958333</td>\n",
              "    </tr>\n",
              "  </tbody>\n",
              "</table>\n",
              "</div>\n",
              "      <button class=\"colab-df-convert\" onclick=\"convertToInteractive('df-447f84cb-6813-4d34-88ec-fd84fb4acf1c')\"\n",
              "              title=\"Convert this dataframe to an interactive table.\"\n",
              "              style=\"display:none;\">\n",
              "        \n",
              "  <svg xmlns=\"http://www.w3.org/2000/svg\" height=\"24px\"viewBox=\"0 0 24 24\"\n",
              "       width=\"24px\">\n",
              "    <path d=\"M0 0h24v24H0V0z\" fill=\"none\"/>\n",
              "    <path d=\"M18.56 5.44l.94 2.06.94-2.06 2.06-.94-2.06-.94-.94-2.06-.94 2.06-2.06.94zm-11 1L8.5 8.5l.94-2.06 2.06-.94-2.06-.94L8.5 2.5l-.94 2.06-2.06.94zm10 10l.94 2.06.94-2.06 2.06-.94-2.06-.94-.94-2.06-.94 2.06-2.06.94z\"/><path d=\"M17.41 7.96l-1.37-1.37c-.4-.4-.92-.59-1.43-.59-.52 0-1.04.2-1.43.59L10.3 9.45l-7.72 7.72c-.78.78-.78 2.05 0 2.83L4 21.41c.39.39.9.59 1.41.59.51 0 1.02-.2 1.41-.59l7.78-7.78 2.81-2.81c.8-.78.8-2.07 0-2.86zM5.41 20L4 18.59l7.72-7.72 1.47 1.35L5.41 20z\"/>\n",
              "  </svg>\n",
              "      </button>\n",
              "      \n",
              "  <style>\n",
              "    .colab-df-container {\n",
              "      display:flex;\n",
              "      flex-wrap:wrap;\n",
              "      gap: 12px;\n",
              "    }\n",
              "\n",
              "    .colab-df-convert {\n",
              "      background-color: #E8F0FE;\n",
              "      border: none;\n",
              "      border-radius: 50%;\n",
              "      cursor: pointer;\n",
              "      display: none;\n",
              "      fill: #1967D2;\n",
              "      height: 32px;\n",
              "      padding: 0 0 0 0;\n",
              "      width: 32px;\n",
              "    }\n",
              "\n",
              "    .colab-df-convert:hover {\n",
              "      background-color: #E2EBFA;\n",
              "      box-shadow: 0px 1px 2px rgba(60, 64, 67, 0.3), 0px 1px 3px 1px rgba(60, 64, 67, 0.15);\n",
              "      fill: #174EA6;\n",
              "    }\n",
              "\n",
              "    [theme=dark] .colab-df-convert {\n",
              "      background-color: #3B4455;\n",
              "      fill: #D2E3FC;\n",
              "    }\n",
              "\n",
              "    [theme=dark] .colab-df-convert:hover {\n",
              "      background-color: #434B5C;\n",
              "      box-shadow: 0px 1px 3px 1px rgba(0, 0, 0, 0.15);\n",
              "      filter: drop-shadow(0px 1px 2px rgba(0, 0, 0, 0.3));\n",
              "      fill: #FFFFFF;\n",
              "    }\n",
              "  </style>\n",
              "\n",
              "      <script>\n",
              "        const buttonEl =\n",
              "          document.querySelector('#df-447f84cb-6813-4d34-88ec-fd84fb4acf1c button.colab-df-convert');\n",
              "        buttonEl.style.display =\n",
              "          google.colab.kernel.accessAllowed ? 'block' : 'none';\n",
              "\n",
              "        async function convertToInteractive(key) {\n",
              "          const element = document.querySelector('#df-447f84cb-6813-4d34-88ec-fd84fb4acf1c');\n",
              "          const dataTable =\n",
              "            await google.colab.kernel.invokeFunction('convertToInteractive',\n",
              "                                                     [key], {});\n",
              "          if (!dataTable) return;\n",
              "\n",
              "          const docLinkHtml = 'Like what you see? Visit the ' +\n",
              "            '<a target=\"_blank\" href=https://colab.research.google.com/notebooks/data_table.ipynb>data table notebook</a>'\n",
              "            + ' to learn more about interactive tables.';\n",
              "          element.innerHTML = '';\n",
              "          dataTable['output_type'] = 'display_data';\n",
              "          await google.colab.output.renderOutput(dataTable, element);\n",
              "          const docLink = document.createElement('div');\n",
              "          docLink.innerHTML = docLinkHtml;\n",
              "          element.appendChild(docLink);\n",
              "        }\n",
              "      </script>\n",
              "    </div>\n",
              "  </div>\n",
              "  "
            ]
          },
          "metadata": {},
          "execution_count": 26
        }
      ]
    },
    {
      "cell_type": "code",
      "source": [
        "#location metrics\n",
        "df[['data_grp','Location_res_flg','location_any_flg_yar']].groupby(by=[\"data_grp\"]).sum()/df[['data_grp','Location_res_flg','location_any_flg_yar']].groupby(by=[\"data_grp\"]).count()"
      ],
      "metadata": {
        "colab": {
          "base_uri": "https://localhost:8080/",
          "height": 175
        },
        "id": "YxNjZpTMpHwU",
        "outputId": "0497987c-6922-4531-d237-e3d023f0e34c"
      },
      "execution_count": 27,
      "outputs": [
        {
          "output_type": "execute_result",
          "data": {
            "text/plain": [
              "          Location_res_flg  location_any_flg_yar\n",
              "data_grp                                        \n",
              "test              0.600000              0.720000\n",
              "train             0.791045              0.771144\n",
              "valid             0.708333              0.687500"
            ],
            "text/html": [
              "\n",
              "  <div id=\"df-6a53a52d-732b-4a7c-896b-967e49943ae5\">\n",
              "    <div class=\"colab-df-container\">\n",
              "      <div>\n",
              "<style scoped>\n",
              "    .dataframe tbody tr th:only-of-type {\n",
              "        vertical-align: middle;\n",
              "    }\n",
              "\n",
              "    .dataframe tbody tr th {\n",
              "        vertical-align: top;\n",
              "    }\n",
              "\n",
              "    .dataframe thead th {\n",
              "        text-align: right;\n",
              "    }\n",
              "</style>\n",
              "<table border=\"1\" class=\"dataframe\">\n",
              "  <thead>\n",
              "    <tr style=\"text-align: right;\">\n",
              "      <th></th>\n",
              "      <th>Location_res_flg</th>\n",
              "      <th>location_any_flg_yar</th>\n",
              "    </tr>\n",
              "    <tr>\n",
              "      <th>data_grp</th>\n",
              "      <th></th>\n",
              "      <th></th>\n",
              "    </tr>\n",
              "  </thead>\n",
              "  <tbody>\n",
              "    <tr>\n",
              "      <th>test</th>\n",
              "      <td>0.600000</td>\n",
              "      <td>0.720000</td>\n",
              "    </tr>\n",
              "    <tr>\n",
              "      <th>train</th>\n",
              "      <td>0.791045</td>\n",
              "      <td>0.771144</td>\n",
              "    </tr>\n",
              "    <tr>\n",
              "      <th>valid</th>\n",
              "      <td>0.708333</td>\n",
              "      <td>0.687500</td>\n",
              "    </tr>\n",
              "  </tbody>\n",
              "</table>\n",
              "</div>\n",
              "      <button class=\"colab-df-convert\" onclick=\"convertToInteractive('df-6a53a52d-732b-4a7c-896b-967e49943ae5')\"\n",
              "              title=\"Convert this dataframe to an interactive table.\"\n",
              "              style=\"display:none;\">\n",
              "        \n",
              "  <svg xmlns=\"http://www.w3.org/2000/svg\" height=\"24px\"viewBox=\"0 0 24 24\"\n",
              "       width=\"24px\">\n",
              "    <path d=\"M0 0h24v24H0V0z\" fill=\"none\"/>\n",
              "    <path d=\"M18.56 5.44l.94 2.06.94-2.06 2.06-.94-2.06-.94-.94-2.06-.94 2.06-2.06.94zm-11 1L8.5 8.5l.94-2.06 2.06-.94-2.06-.94L8.5 2.5l-.94 2.06-2.06.94zm10 10l.94 2.06.94-2.06 2.06-.94-2.06-.94-.94-2.06-.94 2.06-2.06.94z\"/><path d=\"M17.41 7.96l-1.37-1.37c-.4-.4-.92-.59-1.43-.59-.52 0-1.04.2-1.43.59L10.3 9.45l-7.72 7.72c-.78.78-.78 2.05 0 2.83L4 21.41c.39.39.9.59 1.41.59.51 0 1.02-.2 1.41-.59l7.78-7.78 2.81-2.81c.8-.78.8-2.07 0-2.86zM5.41 20L4 18.59l7.72-7.72 1.47 1.35L5.41 20z\"/>\n",
              "  </svg>\n",
              "      </button>\n",
              "      \n",
              "  <style>\n",
              "    .colab-df-container {\n",
              "      display:flex;\n",
              "      flex-wrap:wrap;\n",
              "      gap: 12px;\n",
              "    }\n",
              "\n",
              "    .colab-df-convert {\n",
              "      background-color: #E8F0FE;\n",
              "      border: none;\n",
              "      border-radius: 50%;\n",
              "      cursor: pointer;\n",
              "      display: none;\n",
              "      fill: #1967D2;\n",
              "      height: 32px;\n",
              "      padding: 0 0 0 0;\n",
              "      width: 32px;\n",
              "    }\n",
              "\n",
              "    .colab-df-convert:hover {\n",
              "      background-color: #E2EBFA;\n",
              "      box-shadow: 0px 1px 2px rgba(60, 64, 67, 0.3), 0px 1px 3px 1px rgba(60, 64, 67, 0.15);\n",
              "      fill: #174EA6;\n",
              "    }\n",
              "\n",
              "    [theme=dark] .colab-df-convert {\n",
              "      background-color: #3B4455;\n",
              "      fill: #D2E3FC;\n",
              "    }\n",
              "\n",
              "    [theme=dark] .colab-df-convert:hover {\n",
              "      background-color: #434B5C;\n",
              "      box-shadow: 0px 1px 3px 1px rgba(0, 0, 0, 0.15);\n",
              "      filter: drop-shadow(0px 1px 2px rgba(0, 0, 0, 0.3));\n",
              "      fill: #FFFFFF;\n",
              "    }\n",
              "  </style>\n",
              "\n",
              "      <script>\n",
              "        const buttonEl =\n",
              "          document.querySelector('#df-6a53a52d-732b-4a7c-896b-967e49943ae5 button.colab-df-convert');\n",
              "        buttonEl.style.display =\n",
              "          google.colab.kernel.accessAllowed ? 'block' : 'none';\n",
              "\n",
              "        async function convertToInteractive(key) {\n",
              "          const element = document.querySelector('#df-6a53a52d-732b-4a7c-896b-967e49943ae5');\n",
              "          const dataTable =\n",
              "            await google.colab.kernel.invokeFunction('convertToInteractive',\n",
              "                                                     [key], {});\n",
              "          if (!dataTable) return;\n",
              "\n",
              "          const docLinkHtml = 'Like what you see? Visit the ' +\n",
              "            '<a target=\"_blank\" href=https://colab.research.google.com/notebooks/data_table.ipynb>data table notebook</a>'\n",
              "            + ' to learn more about interactive tables.';\n",
              "          element.innerHTML = '';\n",
              "          dataTable['output_type'] = 'display_data';\n",
              "          await google.colab.output.renderOutput(dataTable, element);\n",
              "          const docLink = document.createElement('div');\n",
              "          docLink.innerHTML = docLinkHtml;\n",
              "          element.appendChild(docLink);\n",
              "        }\n",
              "      </script>\n",
              "    </div>\n",
              "  </div>\n",
              "  "
            ]
          },
          "metadata": {},
          "execution_count": 27
        }
      ]
    },
    {
      "cell_type": "code",
      "source": [
        ""
      ],
      "metadata": {
        "id": "JiUqHP0OpKTE"
      },
      "execution_count": 27,
      "outputs": []
    }
  ]
}